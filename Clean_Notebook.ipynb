{
 "cells": [
  {
   "cell_type": "code",
   "execution_count": 1,
   "metadata": {},
   "outputs": [],
   "source": [
    "# !pip install -r requirements.txt\n",
    "import pandas as pd\n",
    "import matplotlib.pyplot as plt\n",
    "from wordcloud import WordCloud, STOPWORDS\n",
    "import matplotlib\n",
    "import re\n",
    "import nltk\n",
    "import numpy as np\n",
    "from IPython.display import Image\n",
    "import pickle\n",
    "from nltk import word_tokenize\n",
    "from nltk.corpus import stopwords\n",
    "from sklearn.model_selection import train_test_split\n",
    "from sklearn.feature_extraction.text import CountVectorizer\n",
    "from sklearn.naive_bayes import MultinomialNB\n",
    "# nltk.download('punkt')\n",
    "# nltk.download('stopwords')\n",
    "# nltk.download('words')"
   ]
  },
  {
   "cell_type": "code",
   "execution_count": 2,
   "metadata": {},
   "outputs": [
    {
     "name": "stdout",
     "output_type": "stream",
     "text": [
      "dati_aprile shape (650, 3)\n"
     ]
    },
    {
     "data": {
      "text/html": [
       "<div>\n",
       "<style scoped>\n",
       "    .dataframe tbody tr th:only-of-type {\n",
       "        vertical-align: middle;\n",
       "    }\n",
       "\n",
       "    .dataframe tbody tr th {\n",
       "        vertical-align: top;\n",
       "    }\n",
       "\n",
       "    .dataframe thead th {\n",
       "        text-align: right;\n",
       "    }\n",
       "</style>\n",
       "<table border=\"1\" class=\"dataframe\">\n",
       "  <thead>\n",
       "    <tr style=\"text-align: right;\">\n",
       "      <th></th>\n",
       "      <th>Target</th>\n",
       "      <th>Job_Description</th>\n",
       "    </tr>\n",
       "  </thead>\n",
       "  <tbody>\n",
       "    <tr>\n",
       "      <th>26</th>\n",
       "      <td>Elettromeccanici</td>\n",
       "      <td>Il/la candidato/a ideale è in possesso di un d...</td>\n",
       "    </tr>\n",
       "    <tr>\n",
       "      <th>172</th>\n",
       "      <td>Cuochi in alberghi e ristoranti</td>\n",
       "      <td>Gi Group SpA, Agenzia per il Lavoro (Aut. Min....</td>\n",
       "    </tr>\n",
       "    <tr>\n",
       "      <th>359</th>\n",
       "      <td>Tecnici web</td>\n",
       "      <td>Unix-Linux System Administrator Candidati Desc...</td>\n",
       "    </tr>\n",
       "    <tr>\n",
       "      <th>43</th>\n",
       "      <td>Elettromeccanici</td>\n",
       "      <td>Il candidato risponderà direttamente alla Resp...</td>\n",
       "    </tr>\n",
       "    <tr>\n",
       "      <th>440</th>\n",
       "      <td>Camerieri di ristorante</td>\n",
       "      <td>L’Hassler Roma, prestigioso Hotel 5 stelle Lus...</td>\n",
       "    </tr>\n",
       "  </tbody>\n",
       "</table>\n",
       "</div>"
      ],
      "text/plain": [
       "                              Target  \\\n",
       "26                  Elettromeccanici   \n",
       "172  Cuochi in alberghi e ristoranti   \n",
       "359                      Tecnici web   \n",
       "43                  Elettromeccanici   \n",
       "440          Camerieri di ristorante   \n",
       "\n",
       "                                       Job_Description  \n",
       "26   Il/la candidato/a ideale è in possesso di un d...  \n",
       "172  Gi Group SpA, Agenzia per il Lavoro (Aut. Min....  \n",
       "359  Unix-Linux System Administrator Candidati Desc...  \n",
       "43   Il candidato risponderà direttamente alla Resp...  \n",
       "440  L’Hassler Roma, prestigioso Hotel 5 stelle Lus...  "
      ]
     },
     "execution_count": 2,
     "metadata": {},
     "output_type": "execute_result"
    }
   ],
   "source": [
    "professioni = pd.read_csv('data/professioni.csv')\n",
    "dati_aprile = pd.read_csv('Job_vacancies_aprile_completo.csv', skiprows=1, usecols = [1,2,3],\\\n",
    "                          names = ['Target','Sub_Role','Job_Description'])\n",
    "dati_aprile = dati_aprile.reindex(np.random.permutation(dati_aprile.index))\n",
    "print('dati_aprile shape {}'.format(dati_aprile.shape))\n",
    "dati_aprile[['Target','Job_Description']].head() # per facilitare la comprensione dei dati di testo da parte del modello"
   ]
  },
  {
   "cell_type": "code",
   "execution_count": 3,
   "metadata": {},
   "outputs": [
    {
     "data": {
      "text/html": [
       "<div>\n",
       "<style scoped>\n",
       "    .dataframe tbody tr th:only-of-type {\n",
       "        vertical-align: middle;\n",
       "    }\n",
       "\n",
       "    .dataframe tbody tr th {\n",
       "        vertical-align: top;\n",
       "    }\n",
       "\n",
       "    .dataframe thead th {\n",
       "        text-align: right;\n",
       "    }\n",
       "</style>\n",
       "<table border=\"1\" class=\"dataframe\">\n",
       "  <thead>\n",
       "    <tr style=\"text-align: right;\">\n",
       "      <th></th>\n",
       "      <th>Target</th>\n",
       "      <th>Job_Description</th>\n",
       "    </tr>\n",
       "  </thead>\n",
       "  <tbody>\n",
       "    <tr>\n",
       "      <th>26</th>\n",
       "      <td>elettromeccanici</td>\n",
       "      <td>[il, la, candidato, a, ideale, in, possesso, d...</td>\n",
       "    </tr>\n",
       "    <tr>\n",
       "      <th>172</th>\n",
       "      <td>cuochi in alberghi e ristoranti</td>\n",
       "      <td>[gi, group, spa, agenzia, per, il, lavoro, aut...</td>\n",
       "    </tr>\n",
       "    <tr>\n",
       "      <th>359</th>\n",
       "      <td>tecnici web</td>\n",
       "      <td>[unix, linux, system, administrator, candidati...</td>\n",
       "    </tr>\n",
       "    <tr>\n",
       "      <th>43</th>\n",
       "      <td>elettromeccanici</td>\n",
       "      <td>[il, candidato, risponder, direttamente, alla,...</td>\n",
       "    </tr>\n",
       "    <tr>\n",
       "      <th>440</th>\n",
       "      <td>camerieri di ristorante</td>\n",
       "      <td>[l, hassler, roma, prestigioso, hotel, stelle,...</td>\n",
       "    </tr>\n",
       "  </tbody>\n",
       "</table>\n",
       "</div>"
      ],
      "text/plain": [
       "                              Target  \\\n",
       "26                  elettromeccanici   \n",
       "172  cuochi in alberghi e ristoranti   \n",
       "359                      tecnici web   \n",
       "43                  elettromeccanici   \n",
       "440          camerieri di ristorante   \n",
       "\n",
       "                                       Job_Description  \n",
       "26   [il, la, candidato, a, ideale, in, possesso, d...  \n",
       "172  [gi, group, spa, agenzia, per, il, lavoro, aut...  \n",
       "359  [unix, linux, system, administrator, candidati...  \n",
       "43   [il, candidato, risponder, direttamente, alla,...  \n",
       "440  [l, hassler, roma, prestigioso, hotel, stelle,...  "
      ]
     },
     "execution_count": 3,
     "metadata": {},
     "output_type": "execute_result"
    }
   ],
   "source": [
    "# remove punctuation\n",
    "dati_aprile.Job_Description = dati_aprile.Job_Description.apply(lambda x: re.sub('[^a-zA-Z]',' ',x))\n",
    "dati_aprile.Target = dati_aprile.Target.apply(lambda x: x.lower()) #tutte le parole in minuscolo \n",
    "dati_aprile.Job_Description = dati_aprile['Job_Description'].apply(lambda x: word_tokenize(x.lower())) # lowercase each word\n",
    "dati_aprile[['Target','Job_Description']].head()"
   ]
  },
  {
   "cell_type": "code",
   "execution_count": 4,
   "metadata": {},
   "outputs": [
    {
     "data": {
      "text/plain": [
       "26     [candidato, ideale, possesso, diploma, tipo, t...\n",
       "172    [group, spa, agenzia, per, lavoro, aut, min, p...\n",
       "359    [unix, linux, system, administrator, candidati...\n",
       "43     [candidato, risponder, direttamente, alla, res...\n",
       "440    [hassler, roma, prestigioso, hotel, stelle, lu...\n",
       "Name: Job_Description, dtype: object"
      ]
     },
     "execution_count": 4,
     "metadata": {},
     "output_type": "execute_result"
    }
   ],
   "source": [
    "dati_aprile.Job_Description = dati_aprile.Job_Description.apply(lambda x: [i for i in x if len(i) >= 3])\n",
    "dati_aprile.Job_Description.head() # note the word 'vimercate' in row = 0"
   ]
  },
  {
   "cell_type": "code",
   "execution_count": 5,
   "metadata": {},
   "outputs": [
    {
     "data": {
      "text/plain": [
       "26     [candidato, ideale, possesso, diploma, tipo, t...\n",
       "172    [group, per, lavoro, aut, min, prot, ricerca, ...\n",
       "359    [unix, linux, system, administrator, candidati...\n",
       "43     [candidato, risponder, direttamente, alla, res...\n",
       "440    [hassler, roma, prestigioso, hotel, stelle, lu...\n",
       "Name: Job_Description, dtype: object"
      ]
     },
     "execution_count": 5,
     "metadata": {},
     "output_type": "execute_result"
    }
   ],
   "source": [
    "##### remove in 'job_description' words from 'fonte'\n",
    "Fonti = ['randstad', 'monster', 'infojob', 'technical', 'kelly', 'services', 'italia', 'lavoropi',\\\n",
    "             'quanta','adeccp','spa','vimercate','temporary','openjobmetis','agenzia']\n",
    "dati_aprile.Job_Description = dati_aprile.Job_Description.apply(lambda x: [i for i in x if i not in Fonti])\n",
    "dati_aprile.Job_Description.head(5) # compare row 0 and row 2 with previous row 0 and row 2"
   ]
  },
  {
   "cell_type": "code",
   "execution_count": 7,
   "metadata": {},
   "outputs": [
    {
     "data": {
      "text/plain": [
       "26     [candidato, ideale, possesso, diploma, tipo, t...\n",
       "172    [group, lavoro, aut, min, prot, ricerca, prest...\n",
       "359    [unix, linux, system, administrator, candidati...\n",
       "43     [candidato, risponder, direttamente, responsab...\n",
       "440    [hassler, roma, prestigioso, hotel, stelle, lu...\n",
       "Name: Job_Description, dtype: object"
      ]
     },
     "execution_count": 7,
     "metadata": {},
     "output_type": "execute_result"
    }
   ],
   "source": [
    "list_stopwords = list(set(stopwords.words('italian')))\n",
    "dati_aprile.Job_Description = dati_aprile.Job_Description.apply(lambda x: [i for i in x if i not in list_stopwords] )\n",
    "dati_aprile.Job_Description.head(5)"
   ]
  },
  {
   "cell_type": "code",
   "execution_count": 8,
   "metadata": {},
   "outputs": [],
   "source": [
    "# load a text file containing a list of 'Comuni, Provincie, Regioni' italiane\n",
    "geo_data = pd.read_fwf('data/listacomuni.txt')\n",
    "geo_data.to_csv('data/listacomuni.csv')\n",
    "geo_data = pd.read_csv('data/listacomuni.csv', sep=';')\n",
    "comune = [i.lower() for i in geo_data.Comune]\n",
    "geo_data.Provincia = geo_data.Provincia.apply(lambda x: str(x))\n",
    "provincia = [i.lower() for i in geo_data.Provincia]\n",
    "regione = [i.lower() for i in geo_data.Regione] + ['lazio']\n",
    "\n",
    "def remove_comuni(data, column, geo_data):\n",
    "    ''' function to remove geographic noisy'''\n",
    "    comune = [i.lower() for i in geo_data.Comune]\n",
    "    geo_data.Provincia = geo_data.Provincia.apply(lambda x: str(x))\n",
    "    provincia = [i.lower() for i in geo_data.Provincia]\n",
    "    regione = [i.lower() for i in geo_data.Regione]  + ['lazio']\n",
    "    \n",
    "    data[column] = data[column].apply(lambda x: [i for i in x if i not in comune])\n",
    "    data[column] = data[column].apply(lambda x: [i for i in x if i not in provincia])\n",
    "    data[column] = data[column].apply(lambda x: [i for i in x if i not in regione])\n",
    "    \n",
    "    return data"
   ]
  },
  {
   "cell_type": "code",
   "execution_count": 9,
   "metadata": {},
   "outputs": [
    {
     "data": {
      "text/html": [
       "<div>\n",
       "<style scoped>\n",
       "    .dataframe tbody tr th:only-of-type {\n",
       "        vertical-align: middle;\n",
       "    }\n",
       "\n",
       "    .dataframe tbody tr th {\n",
       "        vertical-align: top;\n",
       "    }\n",
       "\n",
       "    .dataframe thead th {\n",
       "        text-align: right;\n",
       "    }\n",
       "</style>\n",
       "<table border=\"1\" class=\"dataframe\">\n",
       "  <thead>\n",
       "    <tr style=\"text-align: right;\">\n",
       "      <th></th>\n",
       "      <th>Target</th>\n",
       "      <th>Job_Description</th>\n",
       "    </tr>\n",
       "  </thead>\n",
       "  <tbody>\n",
       "    <tr>\n",
       "      <th>26</th>\n",
       "      <td>elettromeccanici</td>\n",
       "      <td>[candidato, ideale, possesso, diploma, tipo, t...</td>\n",
       "    </tr>\n",
       "    <tr>\n",
       "      <th>172</th>\n",
       "      <td>cuochi in alberghi e ristoranti</td>\n",
       "      <td>[group, lavoro, aut, min, prot, ricerca, prest...</td>\n",
       "    </tr>\n",
       "    <tr>\n",
       "      <th>359</th>\n",
       "      <td>tecnici web</td>\n",
       "      <td>[unix, linux, system, administrator, candidati...</td>\n",
       "    </tr>\n",
       "    <tr>\n",
       "      <th>43</th>\n",
       "      <td>elettromeccanici</td>\n",
       "      <td>[candidato, risponder, direttamente, responsab...</td>\n",
       "    </tr>\n",
       "    <tr>\n",
       "      <th>440</th>\n",
       "      <td>camerieri di ristorante</td>\n",
       "      <td>[hassler, prestigioso, hotel, stelle, lusso, c...</td>\n",
       "    </tr>\n",
       "  </tbody>\n",
       "</table>\n",
       "</div>"
      ],
      "text/plain": [
       "                              Target  \\\n",
       "26                  elettromeccanici   \n",
       "172  cuochi in alberghi e ristoranti   \n",
       "359                      tecnici web   \n",
       "43                  elettromeccanici   \n",
       "440          camerieri di ristorante   \n",
       "\n",
       "                                       Job_Description  \n",
       "26   [candidato, ideale, possesso, diploma, tipo, t...  \n",
       "172  [group, lavoro, aut, min, prot, ricerca, prest...  \n",
       "359  [unix, linux, system, administrator, candidati...  \n",
       "43   [candidato, risponder, direttamente, responsab...  \n",
       "440  [hassler, prestigioso, hotel, stelle, lusso, c...  "
      ]
     },
     "execution_count": 9,
     "metadata": {},
     "output_type": "execute_result"
    }
   ],
   "source": [
    "dati_aprile = remove_comuni(dati_aprile, 'Job_Description', geo_data)\n",
    "dati_aprile[['Target','Job_Description']].head()"
   ]
  },
  {
   "cell_type": "code",
   "execution_count": 10,
   "metadata": {},
   "outputs": [],
   "source": [
    "italian_vocab = pd.read_fwf('data/660000_parole_italiane.txt', names = ['word'])\n",
    "italian_vocab = set(italian_vocab.word.tolist())\n",
    "english_vocab = sorted(set(w.lower() for w in nltk.corpus.words.words())) # english vocabulary"
   ]
  },
  {
   "cell_type": "code",
   "execution_count": 11,
   "metadata": {},
   "outputs": [],
   "source": [
    "def uncommon_words(data,column, italian_vocab, english_vocab = None):\n",
    "    data[column] = data[column].apply(lambda x: [i for i in x if i in italian_vocab])\n",
    "    return data"
   ]
  },
  {
   "cell_type": "code",
   "execution_count": 12,
   "metadata": {},
   "outputs": [
    {
     "data": {
      "text/html": [
       "<div>\n",
       "<style scoped>\n",
       "    .dataframe tbody tr th:only-of-type {\n",
       "        vertical-align: middle;\n",
       "    }\n",
       "\n",
       "    .dataframe tbody tr th {\n",
       "        vertical-align: top;\n",
       "    }\n",
       "\n",
       "    .dataframe thead th {\n",
       "        text-align: right;\n",
       "    }\n",
       "</style>\n",
       "<table border=\"1\" class=\"dataframe\">\n",
       "  <thead>\n",
       "    <tr style=\"text-align: right;\">\n",
       "      <th></th>\n",
       "      <th>Target</th>\n",
       "      <th>Job_Description</th>\n",
       "    </tr>\n",
       "  </thead>\n",
       "  <tbody>\n",
       "    <tr>\n",
       "      <th>26</th>\n",
       "      <td>elettromeccanici</td>\n",
       "      <td>[candidato, ideale, possesso, diploma, tipo, t...</td>\n",
       "    </tr>\n",
       "    <tr>\n",
       "      <th>172</th>\n",
       "      <td>cuochi in alberghi e ristoranti</td>\n",
       "      <td>[lavoro, ricerca, prestigioso, boutique, hotel...</td>\n",
       "    </tr>\n",
       "    <tr>\n",
       "      <th>359</th>\n",
       "      <td>tecnici web</td>\n",
       "      <td>[candidati, descrizione, azienda, regolarmente...</td>\n",
       "    </tr>\n",
       "    <tr>\n",
       "      <th>43</th>\n",
       "      <td>elettromeccanici</td>\n",
       "      <td>[candidato, direttamente, responsabile, manute...</td>\n",
       "    </tr>\n",
       "    <tr>\n",
       "      <th>440</th>\n",
       "      <td>camerieri di ristorante</td>\n",
       "      <td>[prestigioso, hotel, stelle, lusso, centro, se...</td>\n",
       "    </tr>\n",
       "  </tbody>\n",
       "</table>\n",
       "</div>"
      ],
      "text/plain": [
       "                              Target  \\\n",
       "26                  elettromeccanici   \n",
       "172  cuochi in alberghi e ristoranti   \n",
       "359                      tecnici web   \n",
       "43                  elettromeccanici   \n",
       "440          camerieri di ristorante   \n",
       "\n",
       "                                       Job_Description  \n",
       "26   [candidato, ideale, possesso, diploma, tipo, t...  \n",
       "172  [lavoro, ricerca, prestigioso, boutique, hotel...  \n",
       "359  [candidati, descrizione, azienda, regolarmente...  \n",
       "43   [candidato, direttamente, responsabile, manute...  \n",
       "440  [prestigioso, hotel, stelle, lusso, centro, se...  "
      ]
     },
     "execution_count": 12,
     "metadata": {},
     "output_type": "execute_result"
    }
   ],
   "source": [
    "dati_aprile = uncommon_words(dati_aprile, 'Job_Description', italian_vocab, english_vocab)\n",
    "dati_aprile[['Target','Job_Description']].head()# note that the word 'vimercate' is not present anymore"
   ]
  },
  {
   "cell_type": "code",
   "execution_count": 14,
   "metadata": {},
   "outputs": [
    {
     "data": {
      "text/html": [
       "<div>\n",
       "<style scoped>\n",
       "    .dataframe tbody tr th:only-of-type {\n",
       "        vertical-align: middle;\n",
       "    }\n",
       "\n",
       "    .dataframe tbody tr th {\n",
       "        vertical-align: top;\n",
       "    }\n",
       "\n",
       "    .dataframe thead th {\n",
       "        text-align: right;\n",
       "    }\n",
       "</style>\n",
       "<table border=\"1\" class=\"dataframe\">\n",
       "  <thead>\n",
       "    <tr style=\"text-align: right;\">\n",
       "      <th></th>\n",
       "      <th>Target</th>\n",
       "      <th>Sub_Role</th>\n",
       "      <th>Job_Description</th>\n",
       "    </tr>\n",
       "  </thead>\n",
       "  <tbody>\n",
       "    <tr>\n",
       "      <th>26</th>\n",
       "      <td>elettromeccanici</td>\n",
       "      <td>Manutentore Elettromeccanico</td>\n",
       "      <td>[candid, ideal, possess, diplom, tip, tecnic, ...</td>\n",
       "    </tr>\n",
       "    <tr>\n",
       "      <th>172</th>\n",
       "      <td>cuochi in alberghi e ristoranti</td>\n",
       "      <td>Cuoco</td>\n",
       "      <td>[lavor, ricerc, prestig, boutiqu, hotel, figur...</td>\n",
       "    </tr>\n",
       "    <tr>\n",
       "      <th>359</th>\n",
       "      <td>tecnici web</td>\n",
       "      <td>Amministratore web</td>\n",
       "      <td>[candid, descrizion, azi, regolar, autorizz, m...</td>\n",
       "    </tr>\n",
       "    <tr>\n",
       "      <th>43</th>\n",
       "      <td>elettromeccanici</td>\n",
       "      <td>Manutentore Elettromeccanico</td>\n",
       "      <td>[candid, dirett, respons, manutenzion, manuten...</td>\n",
       "    </tr>\n",
       "    <tr>\n",
       "      <th>440</th>\n",
       "      <td>camerieri di ristorante</td>\n",
       "      <td>Cameriere/a di sala/ristorante extra</td>\n",
       "      <td>[prestig, hotel, stell, luss, centr, selezion,...</td>\n",
       "    </tr>\n",
       "  </tbody>\n",
       "</table>\n",
       "</div>"
      ],
      "text/plain": [
       "                              Target                              Sub_Role  \\\n",
       "26                  elettromeccanici          Manutentore Elettromeccanico   \n",
       "172  cuochi in alberghi e ristoranti                                 Cuoco   \n",
       "359                      tecnici web                    Amministratore web   \n",
       "43                  elettromeccanici          Manutentore Elettromeccanico   \n",
       "440          camerieri di ristorante  Cameriere/a di sala/ristorante extra   \n",
       "\n",
       "                                       Job_Description  \n",
       "26   [candid, ideal, possess, diplom, tip, tecnic, ...  \n",
       "172  [lavor, ricerc, prestig, boutiqu, hotel, figur...  \n",
       "359  [candid, descrizion, azi, regolar, autorizz, m...  \n",
       "43   [candid, dirett, respons, manutenzion, manuten...  \n",
       "440  [prestig, hotel, stell, luss, centr, selezion,...  "
      ]
     },
     "execution_count": 14,
     "metadata": {},
     "output_type": "execute_result"
    }
   ],
   "source": [
    "stemmer = nltk.stem.snowball.ItalianStemmer(ignore_stopwords=False)\n",
    "\n",
    "def stemming(dataset):\n",
    "    ''' stemming a text '''\n",
    "    dataset['Job_Description'] = dataset['Job_Description'].apply(lambda x: [stemmer.stem(i) \\\n",
    "                                                                        for i in x])\n",
    "    return dataset\n",
    "\n",
    "dati_aprile = stemming(dati_aprile)\n",
    "dati_aprile.head()"
   ]
  },
  {
   "cell_type": "code",
   "execution_count": 15,
   "metadata": {},
   "outputs": [
    {
     "data": {
      "text/plain": [
       "26     [candid, ideal, possess, diplom, tip, tecnic, ...\n",
       "172    [lavor, ricerc, prestig, boutiqu, hotel, figur...\n",
       "359    [candid, descrizion, azi, regolar, autorizz, m...\n",
       "43     [candid, dirett, respons, manutenzion, manuten...\n",
       "440    [prestig, hotel, stell, luss, centr, selezion,...\n",
       "Name: Job_Description, dtype: object"
      ]
     },
     "execution_count": 15,
     "metadata": {},
     "output_type": "execute_result"
    }
   ],
   "source": [
    "noisy_words = ['degli','tipi','del','dei','delle','per','nel','dell',\\\n",
    "               'sui','less','sul','che','jsss','teor','dal','della']\n",
    "dati_aprile['Job_Description'] = dati_aprile['Job_Description'].apply(lambda x: [i for i in x if i not in noisy_words])\n",
    "dati_aprile['Job_Description'] .head()"
   ]
  },
  {
   "cell_type": "code",
   "execution_count": 17,
   "metadata": {},
   "outputs": [
    {
     "data": {
      "text/plain": [
       "{'elettromeccanici': 0,\n",
       " 'cuochi in alberghi e ristoranti': 1,\n",
       " 'tecnici web': 2,\n",
       " 'camerieri di ristorante': 3,\n",
       " 'statistici': 4,\n",
       " 'commessi delle vendite al minuto': 5}"
      ]
     },
     "execution_count": 17,
     "metadata": {},
     "output_type": "execute_result"
    }
   ],
   "source": [
    "Role_dictionary = pd.Series(dati_aprile['Target'].unique()).to_dict()\n",
    "Role_dictionary = dict([(value, key) for key, value in Role_dictionary.items()])\n",
    "with open(\"Role_dictionary.pkl\", 'wb') as handle:\n",
    "                pickle.dump(Role_dictionary, handle) \n",
    "Role_dictionary"
   ]
  },
  {
   "cell_type": "code",
   "execution_count": 18,
   "metadata": {},
   "outputs": [
    {
     "data": {
      "text/html": [
       "<div>\n",
       "<style scoped>\n",
       "    .dataframe tbody tr th:only-of-type {\n",
       "        vertical-align: middle;\n",
       "    }\n",
       "\n",
       "    .dataframe tbody tr th {\n",
       "        vertical-align: top;\n",
       "    }\n",
       "\n",
       "    .dataframe thead th {\n",
       "        text-align: right;\n",
       "    }\n",
       "</style>\n",
       "<table border=\"1\" class=\"dataframe\">\n",
       "  <thead>\n",
       "    <tr style=\"text-align: right;\">\n",
       "      <th></th>\n",
       "      <th>Target</th>\n",
       "      <th>Multi_Class</th>\n",
       "      <th>Job_Description</th>\n",
       "    </tr>\n",
       "  </thead>\n",
       "  <tbody>\n",
       "    <tr>\n",
       "      <th>26</th>\n",
       "      <td>elettromeccanici</td>\n",
       "      <td>0</td>\n",
       "      <td>[candid, ideal, possess, diplom, tip, tecnic, ...</td>\n",
       "    </tr>\n",
       "    <tr>\n",
       "      <th>172</th>\n",
       "      <td>cuochi in alberghi e ristoranti</td>\n",
       "      <td>1</td>\n",
       "      <td>[lavor, ricerc, prestig, boutiqu, hotel, figur...</td>\n",
       "    </tr>\n",
       "    <tr>\n",
       "      <th>359</th>\n",
       "      <td>tecnici web</td>\n",
       "      <td>2</td>\n",
       "      <td>[candid, descrizion, azi, regolar, autorizz, m...</td>\n",
       "    </tr>\n",
       "    <tr>\n",
       "      <th>43</th>\n",
       "      <td>elettromeccanici</td>\n",
       "      <td>0</td>\n",
       "      <td>[candid, dirett, respons, manutenzion, manuten...</td>\n",
       "    </tr>\n",
       "    <tr>\n",
       "      <th>440</th>\n",
       "      <td>camerieri di ristorante</td>\n",
       "      <td>3</td>\n",
       "      <td>[prestig, hotel, stell, luss, centr, selezion,...</td>\n",
       "    </tr>\n",
       "    <tr>\n",
       "      <th>...</th>\n",
       "      <td>...</td>\n",
       "      <td>...</td>\n",
       "      <td>...</td>\n",
       "    </tr>\n",
       "    <tr>\n",
       "      <th>580</th>\n",
       "      <td>commessi delle vendite al minuto</td>\n",
       "      <td>5</td>\n",
       "      <td>[import, italian, oper, vend, accessor, ricamb...</td>\n",
       "    </tr>\n",
       "    <tr>\n",
       "      <th>640</th>\n",
       "      <td>commessi delle vendite al minuto</td>\n",
       "      <td>5</td>\n",
       "      <td>[addett, addett, vend, showroom, risors, ricer...</td>\n",
       "    </tr>\n",
       "    <tr>\n",
       "      <th>377</th>\n",
       "      <td>tecnici web</td>\n",
       "      <td>2</td>\n",
       "      <td>[marketing, gestion, web, sit, event, azi, ost...</td>\n",
       "    </tr>\n",
       "    <tr>\n",
       "      <th>271</th>\n",
       "      <td>statistici</td>\n",
       "      <td>4</td>\n",
       "      <td>[lavor, filial, ricerc, client, oper, settor, ...</td>\n",
       "    </tr>\n",
       "    <tr>\n",
       "      <th>360</th>\n",
       "      <td>tecnici web</td>\n",
       "      <td>2</td>\n",
       "      <td>[programm, web, nom, azi, candid, filial, sele...</td>\n",
       "    </tr>\n",
       "  </tbody>\n",
       "</table>\n",
       "<p>650 rows × 3 columns</p>\n",
       "</div>"
      ],
      "text/plain": [
       "                               Target  Multi_Class  \\\n",
       "26                   elettromeccanici            0   \n",
       "172   cuochi in alberghi e ristoranti            1   \n",
       "359                       tecnici web            2   \n",
       "43                   elettromeccanici            0   \n",
       "440           camerieri di ristorante            3   \n",
       "..                                ...          ...   \n",
       "580  commessi delle vendite al minuto            5   \n",
       "640  commessi delle vendite al minuto            5   \n",
       "377                       tecnici web            2   \n",
       "271                        statistici            4   \n",
       "360                       tecnici web            2   \n",
       "\n",
       "                                       Job_Description  \n",
       "26   [candid, ideal, possess, diplom, tip, tecnic, ...  \n",
       "172  [lavor, ricerc, prestig, boutiqu, hotel, figur...  \n",
       "359  [candid, descrizion, azi, regolar, autorizz, m...  \n",
       "43   [candid, dirett, respons, manutenzion, manuten...  \n",
       "440  [prestig, hotel, stell, luss, centr, selezion,...  \n",
       "..                                                 ...  \n",
       "580  [import, italian, oper, vend, accessor, ricamb...  \n",
       "640  [addett, addett, vend, showroom, risors, ricer...  \n",
       "377  [marketing, gestion, web, sit, event, azi, ost...  \n",
       "271  [lavor, filial, ricerc, client, oper, settor, ...  \n",
       "360  [programm, web, nom, azi, candid, filial, sele...  \n",
       "\n",
       "[650 rows x 3 columns]"
      ]
     },
     "execution_count": 18,
     "metadata": {},
     "output_type": "execute_result"
    }
   ],
   "source": [
    "dati_aprile['Multi_Class'] = dati_aprile['Target'].apply(lambda x: Role_dictionary.get(x,'Unknown'))\n",
    "dati_aprile[['Target','Multi_Class','Job_Description']]"
   ]
  },
  {
   "cell_type": "code",
   "execution_count": 19,
   "metadata": {},
   "outputs": [
    {
     "data": {
      "text/plain": [
       "26     candid ideal possess diplom tip tecnic matur e...\n",
       "172    lavor ricerc prestig boutiqu hotel figur cuoc ...\n",
       "359    candid descrizion azi regolar autorizz ministe...\n",
       "43     candid dirett respons manutenzion manutenzion ...\n",
       "440    prestig hotel stell luss centr selezion cameri...\n",
       "Name: Job_Description, dtype: object"
      ]
     },
     "execution_count": 19,
     "metadata": {},
     "output_type": "execute_result"
    }
   ],
   "source": [
    "dati_aprile.Job_Description = dati_aprile.Job_Description.apply(lambda x: ' '.join(x))\n",
    "dati_aprile.Job_Description.head()"
   ]
  },
  {
   "cell_type": "code",
   "execution_count": 20,
   "metadata": {},
   "outputs": [
    {
     "name": "stdout",
     "output_type": "stream",
     "text": [
      "Number of rows in the total set: 650\n",
      "Number of rows in the training set: 520\n",
      "Number of rows in the test set: 130\n"
     ]
    }
   ],
   "source": [
    "X_train, X_test, y_train, y_test = train_test_split(dati_aprile['Job_Description'], \n",
    "                                                    dati_aprile['Multi_Class'],\n",
    "                                                   test_size=0.20, random_state=42)\n",
    "\n",
    "print('Number of rows in the total set: {}'.format(dati_aprile.shape[0]))\n",
    "print('Number of rows in the training set: {}'.format(X_train.shape[0]))\n",
    "print('Number of rows in the test set: {}'.format(X_test.shape[0]))"
   ]
  },
  {
   "cell_type": "code",
   "execution_count": 21,
   "metadata": {},
   "outputs": [
    {
     "data": {
      "text/plain": [
       "CountVectorizer(analyzer='word', binary=False, decode_error='strict',\n",
       "                dtype=<class 'numpy.int64'>, encoding='utf-8', input='content',\n",
       "                lowercase=True, max_df=1.0, max_features=None, min_df=1,\n",
       "                ngram_range=(1, 1), preprocessor=None, stop_words=None,\n",
       "                strip_accents=None, token_pattern='(?u)\\\\b\\\\w\\\\w+\\\\b',\n",
       "                tokenizer=None, vocabulary=None)"
      ]
     },
     "execution_count": 21,
     "metadata": {},
     "output_type": "execute_result"
    }
   ],
   "source": [
    "from sklearn.feature_extraction.text import CountVectorizer\n",
    "count_vector = CountVectorizer()\n",
    "count_vector.fit(X_train)\n",
    "with open(\"count_vector2104.pkl\", 'wb') as handle:\n",
    "                    pickle.dump(count_vector, handle)"
   ]
  },
  {
   "cell_type": "code",
   "execution_count": 22,
   "metadata": {},
   "outputs": [],
   "source": [
    "# Fit the training data and then return the matrix\n",
    "training_data = count_vector.transform(X_train)\n",
    "\n",
    "# Transform testing data and return the matrix. Note we are not fitting the testing data into the CountVectorizer()\n",
    "testing_data = count_vector.transform(X_test)"
   ]
  },
  {
   "cell_type": "code",
   "execution_count": 23,
   "metadata": {},
   "outputs": [
    {
     "name": "stdout",
     "output_type": "stream",
     "text": [
      "training data (520, 2455)\n",
      "testing data (130, 2455)\n"
     ]
    }
   ],
   "source": [
    "print('training data',training_data.shape)\n",
    "print('testing data',testing_data.shape)"
   ]
  },
  {
   "cell_type": "code",
   "execution_count": 24,
   "metadata": {},
   "outputs": [
    {
     "data": {
      "text/plain": [
       "['model2104.sav']"
      ]
     },
     "execution_count": 24,
     "metadata": {},
     "output_type": "execute_result"
    }
   ],
   "source": [
    "naive_bayes = MultinomialNB()\n",
    "naive_bayes.fit(training_data, y_train)\n",
    "import joblib\n",
    "joblib.dump(naive_bayes, 'model2104.sav')"
   ]
  },
  {
   "cell_type": "code",
   "execution_count": 25,
   "metadata": {},
   "outputs": [],
   "source": [
    "def get_key(value, dictionary):\n",
    "    for k,v in dictionary.items():\n",
    "        if value == v:\n",
    "            return k"
   ]
  },
  {
   "cell_type": "code",
   "execution_count": 26,
   "metadata": {},
   "outputs": [],
   "source": [
    "predictions = naive_bayes.predict(testing_data)\n",
    "predictions_keys = []\n",
    "for i in predictions:\n",
    "    predictions_keys.append(get_key(i,Role_dictionary))\n",
    "\n",
    "actual_predictions = []\n",
    "for i in y_test.tolist():\n",
    "    actual_predictions.append(get_key(i,Role_dictionary))"
   ]
  },
  {
   "cell_type": "code",
   "execution_count": 27,
   "metadata": {},
   "outputs": [
    {
     "name": "stdout",
     "output_type": "stream",
     "text": [
      "Accuracy score:  0.9461538461538461\n"
     ]
    }
   ],
   "source": [
    "# check the accuracy of our model\n",
    "from sklearn.metrics import accuracy_score, precision_score, recall_score, f1_score\n",
    "print('Accuracy score: ', format(accuracy_score(y_test,predictions)))"
   ]
  }
 ],
 "metadata": {
  "kernelspec": {
   "display_name": "Python 3",
   "language": "python",
   "name": "python3"
  },
  "language_info": {
   "codemirror_mode": {
    "name": "ipython",
    "version": 3
   },
   "file_extension": ".py",
   "mimetype": "text/x-python",
   "name": "python",
   "nbconvert_exporter": "python",
   "pygments_lexer": "ipython3",
   "version": "3.8.2"
  }
 },
 "nbformat": 4,
 "nbformat_minor": 4
}
