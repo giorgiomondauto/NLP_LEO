{
 "cells": [
  {
   "cell_type": "markdown",
   "metadata": {},
   "source": [
    "### Import/Install Libraries"
   ]
  },
  {
   "cell_type": "code",
   "execution_count": 681,
   "metadata": {},
   "outputs": [],
   "source": [
    "# !pip install -r requirements.txt"
   ]
  },
  {
   "cell_type": "code",
   "execution_count": 714,
   "metadata": {},
   "outputs": [
    {
     "name": "stderr",
     "output_type": "stream",
     "text": [
      "[nltk_data] Downloading package punkt to /Users/gmondaut/nltk_data...\n",
      "[nltk_data]   Package punkt is already up-to-date!\n",
      "[nltk_data] Downloading package stopwords to\n",
      "[nltk_data]     /Users/gmondaut/nltk_data...\n",
      "[nltk_data]   Package stopwords is already up-to-date!\n",
      "[nltk_data] Downloading package words to /Users/gmondaut/nltk_data...\n",
      "[nltk_data]   Package words is already up-to-date!\n"
     ]
    }
   ],
   "source": [
    "import pandas as pd\n",
    "import matplotlib.pyplot as plt\n",
    "from wordcloud import WordCloud, STOPWORDS\n",
    "import matplotlib\n",
    "import re\n",
    "import nltk\n",
    "nltk.download('punkt')\n",
    "nltk.download('stopwords')\n",
    "nltk.download('words')\n",
    "import pickle\n",
    "from nltk import word_tokenize\n",
    "from nltk.corpus import stopwords\n",
    "from sklearn.model_selection import train_test_split\n",
    "from sklearn.feature_extraction.text import CountVectorizer\n",
    "from sklearn.naive_bayes import MultinomialNB"
   ]
  },
  {
   "cell_type": "markdown",
   "metadata": {},
   "source": [
    "### Load the data"
   ]
  },
  {
   "cell_type": "code",
   "execution_count": 715,
   "metadata": {},
   "outputs": [],
   "source": [
    "data = pd.read_csv('train.csv')\n",
    "professioni = pd.read_csv('professioni.csv')"
   ]
  },
  {
   "cell_type": "code",
   "execution_count": 716,
   "metadata": {},
   "outputs": [
    {
     "name": "stdout",
     "output_type": "stream",
     "text": [
      "Job Vacancies\n"
     ]
    },
    {
     "data": {
      "text/html": [
       "<div>\n",
       "<style scoped>\n",
       "    .dataframe tbody tr th:only-of-type {\n",
       "        vertical-align: middle;\n",
       "    }\n",
       "\n",
       "    .dataframe tbody tr th {\n",
       "        vertical-align: top;\n",
       "    }\n",
       "\n",
       "    .dataframe thead th {\n",
       "        text-align: right;\n",
       "    }\n",
       "</style>\n",
       "<table border=\"1\" class=\"dataframe\">\n",
       "  <thead>\n",
       "    <tr style=\"text-align: right;\">\n",
       "      <th></th>\n",
       "      <th>Fonte</th>\n",
       "      <th>Job_Description</th>\n",
       "      <th>Role</th>\n",
       "    </tr>\n",
       "  </thead>\n",
       "  <tbody>\n",
       "    <tr>\n",
       "      <th>0</th>\n",
       "      <td>Randstad Technical</td>\n",
       "      <td>Randstad Technical di Vimercate seleziona un m...</td>\n",
       "      <td>Manutentore elettromeccanico</td>\n",
       "    </tr>\n",
       "    <tr>\n",
       "      <th>1</th>\n",
       "      <td>Monster</td>\n",
       "      <td>Ricerchiamo N. 5 ricerca ADDETTI/E VENDITA per...</td>\n",
       "      <td>Commessa</td>\n",
       "    </tr>\n",
       "    <tr>\n",
       "      <th>2</th>\n",
       "      <td>Monster</td>\n",
       "      <td>Quanta SpA, Filiale di Verona, seleziona per a...</td>\n",
       "      <td>Manutentore elettromeccanico</td>\n",
       "    </tr>\n",
       "    <tr>\n",
       "      <th>3</th>\n",
       "      <td>Monster</td>\n",
       "      <td>Kelly Services, multinazionale americana leade...</td>\n",
       "      <td>Tecnico elettromeccanico</td>\n",
       "    </tr>\n",
       "    <tr>\n",
       "      <th>4</th>\n",
       "      <td>Monster</td>\n",
       "      <td>ADHR Filiale di Torino ricerca per azienda cli...</td>\n",
       "      <td>Data Scientist</td>\n",
       "    </tr>\n",
       "  </tbody>\n",
       "</table>\n",
       "</div>"
      ],
      "text/plain": [
       "                 Fonte                                    Job_Description  \\\n",
       "0  Randstad Technical   Randstad Technical di Vimercate seleziona un m...   \n",
       "1              Monster  Ricerchiamo N. 5 ricerca ADDETTI/E VENDITA per...   \n",
       "2              Monster  Quanta SpA, Filiale di Verona, seleziona per a...   \n",
       "3              Monster  Kelly Services, multinazionale americana leade...   \n",
       "4              Monster  ADHR Filiale di Torino ricerca per azienda cli...   \n",
       "\n",
       "                           Role  \n",
       "0  Manutentore elettromeccanico  \n",
       "1                      Commessa  \n",
       "2  Manutentore elettromeccanico  \n",
       "3      Tecnico elettromeccanico  \n",
       "4               Data Scientist   "
      ]
     },
     "execution_count": 716,
     "metadata": {},
     "output_type": "execute_result"
    }
   ],
   "source": [
    "print('Job Vacancies')\n",
    "data.head()"
   ]
  },
  {
   "cell_type": "code",
   "execution_count": 717,
   "metadata": {},
   "outputs": [
    {
     "name": "stdout",
     "output_type": "stream",
     "text": [
      "Professioni\n"
     ]
    },
    {
     "data": {
      "text/html": [
       "<div>\n",
       "<style scoped>\n",
       "    .dataframe tbody tr th:only-of-type {\n",
       "        vertical-align: middle;\n",
       "    }\n",
       "\n",
       "    .dataframe tbody tr th {\n",
       "        vertical-align: top;\n",
       "    }\n",
       "\n",
       "    .dataframe thead th {\n",
       "        text-align: right;\n",
       "    }\n",
       "</style>\n",
       "<table border=\"1\" class=\"dataframe\">\n",
       "  <thead>\n",
       "    <tr style=\"text-align: right;\">\n",
       "      <th></th>\n",
       "      <th>Group</th>\n",
       "      <th>Subgroup</th>\n",
       "      <th>Descrizione_professione</th>\n",
       "      <th>Descrizione_professione2</th>\n",
       "      <th>subgroup1</th>\n",
       "      <th>subgroup2</th>\n",
       "      <th>Esco_Abilit_compet_essenz</th>\n",
       "      <th>Esco_conoscenze_essenz</th>\n",
       "      <th>Esco_Abilit_compet_opz</th>\n",
       "      <th>Conoscenze</th>\n",
       "    </tr>\n",
       "  </thead>\n",
       "  <tbody>\n",
       "    <tr>\n",
       "      <th>0</th>\n",
       "      <td>Statistici</td>\n",
       "      <td>Attuario\\nData scientist\\nEsperto in ricerca o...</td>\n",
       "      <td>Accertamenti tecnici per la valutazione delle ...</td>\n",
       "      <td>Elaborare piani tecnici per la trasformazione ...</td>\n",
       "      <td>consulente attuariale\\ndemografo demografa\\nsp...</td>\n",
       "      <td>consulente attuariale\\ndemografo demografa\\nsp...</td>\n",
       "      <td>correggere i dati\\ncostruire sistemi di raccom...</td>\n",
       "      <td>classificazione delle informazioni\\nelaborazio...</td>\n",
       "      <td>creare modelli di dati\\ndefinire criteri di qu...</td>\n",
       "      <td>LDAP\\nLINQ\\nMDX\\nN1QL\\nSPARQL\\nXQuery\\nbusines...</td>\n",
       "    </tr>\n",
       "    <tr>\n",
       "      <th>1</th>\n",
       "      <td>Cuochi in alberghi e ristoranti</td>\n",
       "      <td>Aiuto cuoco\\nAiuto cuoco di ristorante\\nAntipa...</td>\n",
       "      <td>Allestimento dei piatti\\nApplicazione delle pr...</td>\n",
       "      <td>Effettuare la preparazione dell'impasto da piz...</td>\n",
       "      <td>capo chef pasticcere capo chef pasticcera\\nche...</td>\n",
       "      <td>addetta alla preparazione degli alimenti\\ncuoc...</td>\n",
       "      <td>consegnare la zona di preparazione di alimenti...</td>\n",
       "      <td>legislazione in materia di salute, sicurezza e...</td>\n",
       "      <td>NaN</td>\n",
       "      <td>NaN</td>\n",
       "    </tr>\n",
       "    <tr>\n",
       "      <th>2</th>\n",
       "      <td>Commessi alle vendite al minuto</td>\n",
       "      <td>Addetto al banco vendita di macelleria\\nAddett...</td>\n",
       "      <td>Allestimento degli scaffali e delle isole prom...</td>\n",
       "      <td>Allestire e rifornire gli scaffali e le isole ...</td>\n",
       "      <td>commesso di negozio di abbigliamento commessa ...</td>\n",
       "      <td>commessa di negozio di abbigliamento uomo donn...</td>\n",
       "      <td>applicare le competenze matematiche\\nconsiglia...</td>\n",
       "      <td>argomentazione di vendita\\ncaratteristiche dei...</td>\n",
       "      <td>eseguire piccoli interventi di sartoria</td>\n",
       "      <td>industria dell'abbigliamento</td>\n",
       "    </tr>\n",
       "    <tr>\n",
       "      <th>3</th>\n",
       "      <td>Elettromeccanici</td>\n",
       "      <td>Aggiustatore elettromeccanico\\nAvvolgitore di ...</td>\n",
       "      <td>Cablatura dell'impianto elettrico\\nCollaudo de...</td>\n",
       "      <td>Effettuare la diagnosi tecnica (strumentale e ...</td>\n",
       "      <td>manutentore elettromeccanico manutentrice elet...</td>\n",
       "      <td>elettricista a bordo macchina\\nelettricista-me...</td>\n",
       "      <td>adattare le attrezzature meccanizzate\\napplica...</td>\n",
       "      <td>elettricità\\nelettromeccanica\\nelettronica\\nme...</td>\n",
       "      <td>applicare un rivestimento alle apparecchiature...</td>\n",
       "      <td>accessori per cavi elettrici\\ncomponenti di ba...</td>\n",
       "    </tr>\n",
       "  </tbody>\n",
       "</table>\n",
       "</div>"
      ],
      "text/plain": [
       "                             Group  \\\n",
       "0                       Statistici   \n",
       "1  Cuochi in alberghi e ristoranti   \n",
       "2  Commessi alle vendite al minuto   \n",
       "3                 Elettromeccanici   \n",
       "\n",
       "                                            Subgroup  \\\n",
       "0  Attuario\\nData scientist\\nEsperto in ricerca o...   \n",
       "1  Aiuto cuoco\\nAiuto cuoco di ristorante\\nAntipa...   \n",
       "2  Addetto al banco vendita di macelleria\\nAddett...   \n",
       "3  Aggiustatore elettromeccanico\\nAvvolgitore di ...   \n",
       "\n",
       "                             Descrizione_professione  \\\n",
       "0  Accertamenti tecnici per la valutazione delle ...   \n",
       "1  Allestimento dei piatti\\nApplicazione delle pr...   \n",
       "2  Allestimento degli scaffali e delle isole prom...   \n",
       "3  Cablatura dell'impianto elettrico\\nCollaudo de...   \n",
       "\n",
       "                            Descrizione_professione2  \\\n",
       "0  Elaborare piani tecnici per la trasformazione ...   \n",
       "1  Effettuare la preparazione dell'impasto da piz...   \n",
       "2  Allestire e rifornire gli scaffali e le isole ...   \n",
       "3  Effettuare la diagnosi tecnica (strumentale e ...   \n",
       "\n",
       "                                           subgroup1  \\\n",
       "0  consulente attuariale\\ndemografo demografa\\nsp...   \n",
       "1  capo chef pasticcere capo chef pasticcera\\nche...   \n",
       "2  commesso di negozio di abbigliamento commessa ...   \n",
       "3  manutentore elettromeccanico manutentrice elet...   \n",
       "\n",
       "                                           subgroup2  \\\n",
       "0  consulente attuariale\\ndemografo demografa\\nsp...   \n",
       "1  addetta alla preparazione degli alimenti\\ncuoc...   \n",
       "2  commessa di negozio di abbigliamento uomo donn...   \n",
       "3  elettricista a bordo macchina\\nelettricista-me...   \n",
       "\n",
       "                           Esco_Abilit_compet_essenz  \\\n",
       "0  correggere i dati\\ncostruire sistemi di raccom...   \n",
       "1  consegnare la zona di preparazione di alimenti...   \n",
       "2  applicare le competenze matematiche\\nconsiglia...   \n",
       "3  adattare le attrezzature meccanizzate\\napplica...   \n",
       "\n",
       "                              Esco_conoscenze_essenz  \\\n",
       "0  classificazione delle informazioni\\nelaborazio...   \n",
       "1  legislazione in materia di salute, sicurezza e...   \n",
       "2  argomentazione di vendita\\ncaratteristiche dei...   \n",
       "3  elettricità\\nelettromeccanica\\nelettronica\\nme...   \n",
       "\n",
       "                              Esco_Abilit_compet_opz  \\\n",
       "0  creare modelli di dati\\ndefinire criteri di qu...   \n",
       "1                                                NaN   \n",
       "2            eseguire piccoli interventi di sartoria   \n",
       "3  applicare un rivestimento alle apparecchiature...   \n",
       "\n",
       "                                          Conoscenze  \n",
       "0  LDAP\\nLINQ\\nMDX\\nN1QL\\nSPARQL\\nXQuery\\nbusines...  \n",
       "1                                                NaN  \n",
       "2                       industria dell'abbigliamento  \n",
       "3  accessori per cavi elettrici\\ncomponenti di ba...  "
      ]
     },
     "execution_count": 717,
     "metadata": {},
     "output_type": "execute_result"
    }
   ],
   "source": [
    "print('Professioni')\n",
    "professioni.head()"
   ]
  },
  {
   "cell_type": "markdown",
   "metadata": {},
   "source": [
    "### Text Preprocessing on Professioni csv"
   ]
  },
  {
   "cell_type": "code",
   "execution_count": 718,
   "metadata": {},
   "outputs": [],
   "source": [
    "# professoni.Subgroup = professioni.Subgroup.apply(lambda x: re.sub(\"[^a-zA-Z]\", \"\", x))\n",
    "# letters = re.sub(\"[^a-zA-Z]\", \"\", x)\n",
    "# letters = letters.lower()\n",
    "professioni.Subgroup = professioni.Subgroup.apply(lambda x: x.lower().split('\\n'))\n",
    "professioni.subgroup1 = professioni.subgroup1.apply(lambda x: x.lower().split('\\n'))\n",
    "professioni.subgroup2 = professioni.subgroup2.apply(lambda x: x.lower().split('\\n'))\n",
    "professioni.Subgroup = professioni.Subgroup + professioni.subgroup1 + professioni.subgroup2\n",
    "professioni.Subgroup = professioni.Subgroup.apply(lambda x: list(set(x)))\n",
    "\n",
    "# professioni.Subgroup_add_info = professioni.Subgroup.apply(lambda x: [word_tokenize(i) for i in x])\n",
    "# # professioni.Subgroup_add_info = professioni.Subgroup.apply(lambda x: set([i for t in x for i in t]))\n",
    "# professioni.Subgroup = professioni.Subgroup + professioni.Subgroup_add_info"
   ]
  },
  {
   "cell_type": "markdown",
   "metadata": {},
   "source": [
    "### Create a dictionary for professioni. e.g. \n",
    "{Statistici : ['attuario', 'data scientist', 'esperto in ricerca operativa',..... ]}"
   ]
  },
  {
   "cell_type": "code",
   "execution_count": 719,
   "metadata": {},
   "outputs": [],
   "source": [
    "professioni_dictionary = pd.Series(professioni.Subgroup.values,index=professioni.Group).to_dict()\n",
    "# to remove empty space from the subgroup list of values\n",
    "for i in range(0,professioni.Subgroup.shape[0]):\n",
    "    while(\"\" in professioni.Subgroup.iloc[i]) : \n",
    "        professioni.Subgroup.iloc[i].remove(\"\") "
   ]
  },
  {
   "cell_type": "code",
   "execution_count": 720,
   "metadata": {},
   "outputs": [
    {
     "data": {
      "text/plain": [
       "{'Statistici': ['esperto in ricerca operativa',\n",
       "  'demografo demografa',\n",
       "  'statistico statistica',\n",
       "  'statistico',\n",
       "  'consulente attuariale',\n",
       "  'statistico esperto in controlli di qualità',\n",
       "  'data scientist',\n",
       "  'statistico economico',\n",
       "  'statistico metodologico',\n",
       "  'statistico applicato',\n",
       "  'specialista in biometria',\n",
       "  'statistici',\n",
       "  'esperto ricerca operativa',\n",
       "  'attuario'],\n",
       " 'Cuochi in alberghi e ristoranti': ['chef privato',\n",
       "  'cuoco cuoca',\n",
       "  'cuoco di partita di zuppe',\n",
       "  'addetto alla preparazione della pizza',\n",
       "  'cuochi in alberghi e ristoranti',\n",
       "  ' cuoco gelatiere',\n",
       "  'cuoco al frigorifero',\n",
       "  'cuoco specializzato in cucina dietetica',\n",
       "  'cuoco',\n",
       "  'addetto alla preparazione degli alimenti',\n",
       "  'cuoco di partita di pesce cuoca di partita di pesce',\n",
       "  'pasticcera',\n",
       "  'cuoco esperto in dietetica',\n",
       "  'pizzaiola',\n",
       "  'cuoca di partita di pesce',\n",
       "  'cuoca in dietetica',\n",
       "  'aiuto cuoco',\n",
       "  'cuoco specializzato in cucina di pesce',\n",
       "  'cuoco di ristorante',\n",
       "  'cuoca',\n",
       "  'capo pasticcere',\n",
       "  'addetta alla preparazione della pizza',\n",
       "  'capo chef pasticcere',\n",
       "  ' salsiere',\n",
       "  'cuoco antipastiere',\n",
       "  'cuoca-grigliera',\n",
       "  'grigliere',\n",
       "  'cuoco pasticciere',\n",
       "  'pasticcere',\n",
       "  'grigliera',\n",
       "  'cuoco di partita di pesce',\n",
       "  'chef',\n",
       "  'cuoca privata',\n",
       "  'commis di cucina',\n",
       "  'cuoco di partita di rosticceria',\n",
       "  'cuoco pizzaiolo',\n",
       "  'cuoco-grigliere',\n",
       "  'cuoco in dietetica',\n",
       "  'capo pasticcera',\n",
       "  'cuoca esperta in dietetica',\n",
       "  'cuoco di bordo',\n",
       "  'cuoca esperta in pesce',\n",
       "  'pizzaiolo pizzaiola',\n",
       "  'cuoco di albergo',\n",
       "  'cuoco di partita di salse',\n",
       "  'cuoco di partita di legumi',\n",
       "  'cuoco-grigliere cuoca-grigliera',\n",
       "  'addetta alla preparazione degli alimenti',\n",
       "  'cuoco di partita di camera fredda',\n",
       "  'capo chef pasticcera',\n",
       "  'cuoca addetta alla griglia',\n",
       "  'cuoco gastronomo',\n",
       "  'cuoca specializzata in cucina dietetica',\n",
       "  'capo chef pasticcere capo chef pasticcera',\n",
       "  'cuoca specializzata in cucina di pesce',\n",
       "  'pizzaiolo',\n",
       "  'chef privato chef privata',\n",
       "  'cuoco capo partita',\n",
       "  'cuoco addetto alla griglia',\n",
       "  'cuoco privato',\n",
       "  'cuoco specializzato in cucina dietetica cuoca specializzata in cucina dietetica',\n",
       "  'chef privata',\n",
       "  'antipastiere',\n",
       "  'aiuto cuoco di ristorante',\n",
       "  'cuoco esperto in pesce'],\n",
       " 'Commessi alle vendite al minuto': ['addetto al banco vendita di panetteria',\n",
       "  'ausiliario di vendita',\n",
       "  'pratico di farmacia',\n",
       "  'commesso di negozio di abbigliamento uomo donna',\n",
       "  'addetto al banco vendita di salumi',\n",
       "  'commesso di negozio di abbigliamento sportivo',\n",
       "  'commesso di negozio di moda',\n",
       "  'addetto vendita di prodotti gastronomici',\n",
       "  'addetto alle vendite nella grande distribuzione',\n",
       "  'commessa di negozio di abbigliamento uomo donna',\n",
       "  'venditore di cartelle del bingo',\n",
       "  'commessa di negozio di abiti da sposa',\n",
       "  'commessa di negozio di abbigliamento sportivo',\n",
       "  'addetto alla vendita di ricambi per auto e moto',\n",
       "  'commessa di negozio di abiti da cerimonia',\n",
       "  'commesso di negozio di abiti da cerimonia',\n",
       "  'commessa di negozio di moda',\n",
       "  'commesso di negozio di abbigliamento per bambini',\n",
       "  'aiuto commesso',\n",
       "  'addetto al rifornimento degli scaffali negli esercizi commerciali',\n",
       "  'operatore di vendita',\n",
       "  'addetto al noleggio',\n",
       "  'addetto al banco vendita di macelleria',\n",
       "  'addetto vendita diretta (aziende agricole)',\n",
       "  'addetto vendita di prodotti caseari',\n",
       "  'commesso di libreria',\n",
       "  'commessa di negozio di abbigliamento per bambini',\n",
       "  'addetto alla vendita di frutta e verdura',\n",
       "  'addetto vendita di prodotti ittici',\n",
       "  'addetto vendite al minuto negli spacci industriali',\n",
       "  'addetto alla vendita di autoveicoli',\n",
       "  'commesso di banco',\n",
       "  'commesso di negozio di abbigliamento commessa di negozio di abbigliamento',\n",
       "  'commesso di negozio',\n",
       "  'commessa di negozio di abbigliamento',\n",
       "  'addetto alla applicazione dei prezzi',\n",
       "  'commesso specializzato',\n",
       "  'assistente alla vendita',\n",
       "  'addetto alle vendite nei banchi di mercato',\n",
       "  'commesso di gioielleria',\n",
       "  'commesso di vendita',\n",
       "  'commessi delle vendite al minuto',\n",
       "  'commesso di negozio di abiti da sposa',\n",
       "  'commesso di negozio di abbigliamento',\n",
       "  'addetto alla vendita di prodotti informatici'],\n",
       " 'Elettromeccanici': ['installatore di impianti elettromeccanici ed elettronici nautici',\n",
       "  'manutentore elettromeccanico manutentrice elettromeccanica',\n",
       "  'elettricista-meccanico',\n",
       "  'elettromeccanico',\n",
       "  'collettorista',\n",
       "  'bobinatore di piccoli apparecchi elettrici',\n",
       "  'elettromeccanico di bordo',\n",
       "  'elettricista a bordo macchina',\n",
       "  'manutentrice elettromeccanica',\n",
       "  'avvolgitore di trasformatori',\n",
       "  'elettromeccanici',\n",
       "  'aggiustatore elettromeccanico',\n",
       "  'manutentore elettromeccanico',\n",
       "  'riavvolgitore di motori elettrici',\n",
       "  'collaudatore di apparecchi elettrici']}"
      ]
     },
     "execution_count": 720,
     "metadata": {},
     "output_type": "execute_result"
    }
   ],
   "source": [
    "professioni_dictionary # prefessioni dictionary"
   ]
  },
  {
   "cell_type": "code",
   "execution_count": 721,
   "metadata": {},
   "outputs": [
    {
     "data": {
      "text/plain": [
       "{'esperto in ricerca operativa': 'Statistici',\n",
       " 'demografo demografa': 'Statistici',\n",
       " 'statistico statistica': 'Statistici',\n",
       " 'statistico': 'Statistici',\n",
       " 'consulente attuariale': 'Statistici',\n",
       " 'statistico esperto in controlli di qualità': 'Statistici',\n",
       " 'data scientist': 'Statistici',\n",
       " 'statistico economico': 'Statistici',\n",
       " 'statistico metodologico': 'Statistici',\n",
       " 'statistico applicato': 'Statistici',\n",
       " 'specialista in biometria': 'Statistici',\n",
       " 'statistici': 'Statistici',\n",
       " 'esperto ricerca operativa': 'Statistici',\n",
       " 'attuario': 'Statistici',\n",
       " 'chef privato': 'Cuochi in alberghi e ristoranti',\n",
       " 'cuoco cuoca': 'Cuochi in alberghi e ristoranti',\n",
       " 'cuoco di partita di zuppe': 'Cuochi in alberghi e ristoranti',\n",
       " 'addetto alla preparazione della pizza': 'Cuochi in alberghi e ristoranti',\n",
       " 'cuochi in alberghi e ristoranti': 'Cuochi in alberghi e ristoranti',\n",
       " ' cuoco gelatiere': 'Cuochi in alberghi e ristoranti',\n",
       " 'cuoco al frigorifero': 'Cuochi in alberghi e ristoranti',\n",
       " 'cuoco specializzato in cucina dietetica': 'Cuochi in alberghi e ristoranti',\n",
       " 'cuoco': 'Cuochi in alberghi e ristoranti',\n",
       " 'addetto alla preparazione degli alimenti': 'Cuochi in alberghi e ristoranti',\n",
       " 'cuoco di partita di pesce cuoca di partita di pesce': 'Cuochi in alberghi e ristoranti',\n",
       " 'pasticcera': 'Cuochi in alberghi e ristoranti',\n",
       " 'cuoco esperto in dietetica': 'Cuochi in alberghi e ristoranti',\n",
       " 'pizzaiola': 'Cuochi in alberghi e ristoranti',\n",
       " 'cuoca di partita di pesce': 'Cuochi in alberghi e ristoranti',\n",
       " 'cuoca in dietetica': 'Cuochi in alberghi e ristoranti',\n",
       " 'aiuto cuoco': 'Cuochi in alberghi e ristoranti',\n",
       " 'cuoco specializzato in cucina di pesce': 'Cuochi in alberghi e ristoranti',\n",
       " 'cuoco di ristorante': 'Cuochi in alberghi e ristoranti',\n",
       " 'cuoca': 'Cuochi in alberghi e ristoranti',\n",
       " 'capo pasticcere': 'Cuochi in alberghi e ristoranti',\n",
       " 'addetta alla preparazione della pizza': 'Cuochi in alberghi e ristoranti',\n",
       " 'capo chef pasticcere': 'Cuochi in alberghi e ristoranti',\n",
       " ' salsiere': 'Cuochi in alberghi e ristoranti',\n",
       " 'cuoco antipastiere': 'Cuochi in alberghi e ristoranti',\n",
       " 'cuoca-grigliera': 'Cuochi in alberghi e ristoranti',\n",
       " 'grigliere': 'Cuochi in alberghi e ristoranti',\n",
       " 'cuoco pasticciere': 'Cuochi in alberghi e ristoranti',\n",
       " 'pasticcere': 'Cuochi in alberghi e ristoranti',\n",
       " 'grigliera': 'Cuochi in alberghi e ristoranti',\n",
       " 'cuoco di partita di pesce': 'Cuochi in alberghi e ristoranti',\n",
       " 'chef': 'Cuochi in alberghi e ristoranti',\n",
       " 'cuoca privata': 'Cuochi in alberghi e ristoranti',\n",
       " 'commis di cucina': 'Cuochi in alberghi e ristoranti',\n",
       " 'cuoco di partita di rosticceria': 'Cuochi in alberghi e ristoranti',\n",
       " 'cuoco pizzaiolo': 'Cuochi in alberghi e ristoranti',\n",
       " 'cuoco-grigliere': 'Cuochi in alberghi e ristoranti',\n",
       " 'cuoco in dietetica': 'Cuochi in alberghi e ristoranti',\n",
       " 'capo pasticcera': 'Cuochi in alberghi e ristoranti',\n",
       " 'cuoca esperta in dietetica': 'Cuochi in alberghi e ristoranti',\n",
       " 'cuoco di bordo': 'Cuochi in alberghi e ristoranti',\n",
       " 'cuoca esperta in pesce': 'Cuochi in alberghi e ristoranti',\n",
       " 'pizzaiolo pizzaiola': 'Cuochi in alberghi e ristoranti',\n",
       " 'cuoco di albergo': 'Cuochi in alberghi e ristoranti',\n",
       " 'cuoco di partita di salse': 'Cuochi in alberghi e ristoranti',\n",
       " 'cuoco di partita di legumi': 'Cuochi in alberghi e ristoranti',\n",
       " 'cuoco-grigliere cuoca-grigliera': 'Cuochi in alberghi e ristoranti',\n",
       " 'addetta alla preparazione degli alimenti': 'Cuochi in alberghi e ristoranti',\n",
       " 'cuoco di partita di camera fredda': 'Cuochi in alberghi e ristoranti',\n",
       " 'capo chef pasticcera': 'Cuochi in alberghi e ristoranti',\n",
       " 'cuoca addetta alla griglia': 'Cuochi in alberghi e ristoranti',\n",
       " 'cuoco gastronomo': 'Cuochi in alberghi e ristoranti',\n",
       " 'cuoca specializzata in cucina dietetica': 'Cuochi in alberghi e ristoranti',\n",
       " 'capo chef pasticcere capo chef pasticcera': 'Cuochi in alberghi e ristoranti',\n",
       " 'cuoca specializzata in cucina di pesce': 'Cuochi in alberghi e ristoranti',\n",
       " 'pizzaiolo': 'Cuochi in alberghi e ristoranti',\n",
       " 'chef privato chef privata': 'Cuochi in alberghi e ristoranti',\n",
       " 'cuoco capo partita': 'Cuochi in alberghi e ristoranti',\n",
       " 'cuoco addetto alla griglia': 'Cuochi in alberghi e ristoranti',\n",
       " 'cuoco privato': 'Cuochi in alberghi e ristoranti',\n",
       " 'cuoco specializzato in cucina dietetica cuoca specializzata in cucina dietetica': 'Cuochi in alberghi e ristoranti',\n",
       " 'chef privata': 'Cuochi in alberghi e ristoranti',\n",
       " 'antipastiere': 'Cuochi in alberghi e ristoranti',\n",
       " 'aiuto cuoco di ristorante': 'Cuochi in alberghi e ristoranti',\n",
       " 'cuoco esperto in pesce': 'Cuochi in alberghi e ristoranti',\n",
       " 'addetto al banco vendita di panetteria': 'Commessi alle vendite al minuto',\n",
       " 'ausiliario di vendita': 'Commessi alle vendite al minuto',\n",
       " 'pratico di farmacia': 'Commessi alle vendite al minuto',\n",
       " 'commesso di negozio di abbigliamento uomo donna': 'Commessi alle vendite al minuto',\n",
       " 'addetto al banco vendita di salumi': 'Commessi alle vendite al minuto',\n",
       " 'commesso di negozio di abbigliamento sportivo': 'Commessi alle vendite al minuto',\n",
       " 'commesso di negozio di moda': 'Commessi alle vendite al minuto',\n",
       " 'addetto vendita di prodotti gastronomici': 'Commessi alle vendite al minuto',\n",
       " 'addetto alle vendite nella grande distribuzione': 'Commessi alle vendite al minuto',\n",
       " 'commessa di negozio di abbigliamento uomo donna': 'Commessi alle vendite al minuto',\n",
       " 'venditore di cartelle del bingo': 'Commessi alle vendite al minuto',\n",
       " 'commessa di negozio di abiti da sposa': 'Commessi alle vendite al minuto',\n",
       " 'commessa di negozio di abbigliamento sportivo': 'Commessi alle vendite al minuto',\n",
       " 'addetto alla vendita di ricambi per auto e moto': 'Commessi alle vendite al minuto',\n",
       " 'commessa di negozio di abiti da cerimonia': 'Commessi alle vendite al minuto',\n",
       " 'commesso di negozio di abiti da cerimonia': 'Commessi alle vendite al minuto',\n",
       " 'commessa di negozio di moda': 'Commessi alle vendite al minuto',\n",
       " 'commesso di negozio di abbigliamento per bambini': 'Commessi alle vendite al minuto',\n",
       " 'aiuto commesso': 'Commessi alle vendite al minuto',\n",
       " 'addetto al rifornimento degli scaffali negli esercizi commerciali': 'Commessi alle vendite al minuto',\n",
       " 'operatore di vendita': 'Commessi alle vendite al minuto',\n",
       " 'addetto al noleggio': 'Commessi alle vendite al minuto',\n",
       " 'addetto al banco vendita di macelleria': 'Commessi alle vendite al minuto',\n",
       " 'addetto vendita diretta (aziende agricole)': 'Commessi alle vendite al minuto',\n",
       " 'addetto vendita di prodotti caseari': 'Commessi alle vendite al minuto',\n",
       " 'commesso di libreria': 'Commessi alle vendite al minuto',\n",
       " 'commessa di negozio di abbigliamento per bambini': 'Commessi alle vendite al minuto',\n",
       " 'addetto alla vendita di frutta e verdura': 'Commessi alle vendite al minuto',\n",
       " 'addetto vendita di prodotti ittici': 'Commessi alle vendite al minuto',\n",
       " 'addetto vendite al minuto negli spacci industriali': 'Commessi alle vendite al minuto',\n",
       " 'addetto alla vendita di autoveicoli': 'Commessi alle vendite al minuto',\n",
       " 'commesso di banco': 'Commessi alle vendite al minuto',\n",
       " 'commesso di negozio di abbigliamento commessa di negozio di abbigliamento': 'Commessi alle vendite al minuto',\n",
       " 'commesso di negozio': 'Commessi alle vendite al minuto',\n",
       " 'commessa di negozio di abbigliamento': 'Commessi alle vendite al minuto',\n",
       " 'addetto alla applicazione dei prezzi': 'Commessi alle vendite al minuto',\n",
       " 'commesso specializzato': 'Commessi alle vendite al minuto',\n",
       " 'assistente alla vendita': 'Commessi alle vendite al minuto',\n",
       " 'addetto alle vendite nei banchi di mercato': 'Commessi alle vendite al minuto',\n",
       " 'commesso di gioielleria': 'Commessi alle vendite al minuto',\n",
       " 'commesso di vendita': 'Commessi alle vendite al minuto',\n",
       " 'commessi delle vendite al minuto': 'Commessi alle vendite al minuto',\n",
       " 'commesso di negozio di abiti da sposa': 'Commessi alle vendite al minuto',\n",
       " 'commesso di negozio di abbigliamento': 'Commessi alle vendite al minuto',\n",
       " 'addetto alla vendita di prodotti informatici': 'Commessi alle vendite al minuto',\n",
       " 'installatore di impianti elettromeccanici ed elettronici nautici': 'Elettromeccanici',\n",
       " 'manutentore elettromeccanico manutentrice elettromeccanica': 'Elettromeccanici',\n",
       " 'elettricista-meccanico': 'Elettromeccanici',\n",
       " 'elettromeccanico': 'Elettromeccanici',\n",
       " 'collettorista': 'Elettromeccanici',\n",
       " 'bobinatore di piccoli apparecchi elettrici': 'Elettromeccanici',\n",
       " 'elettromeccanico di bordo': 'Elettromeccanici',\n",
       " 'elettricista a bordo macchina': 'Elettromeccanici',\n",
       " 'manutentrice elettromeccanica': 'Elettromeccanici',\n",
       " 'avvolgitore di trasformatori': 'Elettromeccanici',\n",
       " 'elettromeccanici': 'Elettromeccanici',\n",
       " 'aggiustatore elettromeccanico': 'Elettromeccanici',\n",
       " 'manutentore elettromeccanico': 'Elettromeccanici',\n",
       " 'riavvolgitore di motori elettrici': 'Elettromeccanici',\n",
       " 'collaudatore di apparecchi elettrici': 'Elettromeccanici'}"
      ]
     },
     "execution_count": 721,
     "metadata": {},
     "output_type": "execute_result"
    }
   ],
   "source": [
    "subgroup_dict = {}\n",
    "for group, subgroups in professioni_dictionary.items():\n",
    "    for subgroup in subgroups:\n",
    "        subgroup_dict[subgroup] = group\n",
    "subgroup_dict"
   ]
  },
  {
   "cell_type": "code",
   "execution_count": 722,
   "metadata": {},
   "outputs": [
    {
     "data": {
      "text/html": [
       "<div>\n",
       "<style scoped>\n",
       "    .dataframe tbody tr th:only-of-type {\n",
       "        vertical-align: middle;\n",
       "    }\n",
       "\n",
       "    .dataframe tbody tr th {\n",
       "        vertical-align: top;\n",
       "    }\n",
       "\n",
       "    .dataframe thead th {\n",
       "        text-align: right;\n",
       "    }\n",
       "</style>\n",
       "<table border=\"1\" class=\"dataframe\">\n",
       "  <thead>\n",
       "    <tr style=\"text-align: right;\">\n",
       "      <th></th>\n",
       "      <th>Group</th>\n",
       "      <th>Subgroup</th>\n",
       "      <th>Descrizione_professione</th>\n",
       "      <th>Descrizione_professione2</th>\n",
       "      <th>subgroup1</th>\n",
       "      <th>subgroup2</th>\n",
       "      <th>Esco_Abilit_compet_essenz</th>\n",
       "      <th>Esco_conoscenze_essenz</th>\n",
       "      <th>Esco_Abilit_compet_opz</th>\n",
       "      <th>Conoscenze</th>\n",
       "    </tr>\n",
       "  </thead>\n",
       "  <tbody>\n",
       "    <tr>\n",
       "      <th>0</th>\n",
       "      <td>Statistici</td>\n",
       "      <td>[esperto in ricerca operativa, demografo demog...</td>\n",
       "      <td>Accertamenti tecnici per la valutazione delle ...</td>\n",
       "      <td>Elaborare piani tecnici per la trasformazione ...</td>\n",
       "      <td>[consulente attuariale, demografo demografa, s...</td>\n",
       "      <td>[consulente attuariale, demografo demografa, s...</td>\n",
       "      <td>correggere i dati\\ncostruire sistemi di raccom...</td>\n",
       "      <td>classificazione delle informazioni\\nelaborazio...</td>\n",
       "      <td>creare modelli di dati\\ndefinire criteri di qu...</td>\n",
       "      <td>LDAP\\nLINQ\\nMDX\\nN1QL\\nSPARQL\\nXQuery\\nbusines...</td>\n",
       "    </tr>\n",
       "    <tr>\n",
       "      <th>1</th>\n",
       "      <td>Cuochi in alberghi e ristoranti</td>\n",
       "      <td>[chef privato, cuoco cuoca, cuoco di partita d...</td>\n",
       "      <td>Allestimento dei piatti\\nApplicazione delle pr...</td>\n",
       "      <td>Effettuare la preparazione dell'impasto da piz...</td>\n",
       "      <td>[capo chef pasticcere capo chef pasticcera, ch...</td>\n",
       "      <td>[addetta alla preparazione degli alimenti, cuo...</td>\n",
       "      <td>consegnare la zona di preparazione di alimenti...</td>\n",
       "      <td>legislazione in materia di salute, sicurezza e...</td>\n",
       "      <td>NaN</td>\n",
       "      <td>NaN</td>\n",
       "    </tr>\n",
       "    <tr>\n",
       "      <th>2</th>\n",
       "      <td>Commessi alle vendite al minuto</td>\n",
       "      <td>[addetto al banco vendita di panetteria, ausil...</td>\n",
       "      <td>Allestimento degli scaffali e delle isole prom...</td>\n",
       "      <td>Allestire e rifornire gli scaffali e le isole ...</td>\n",
       "      <td>[commesso di negozio di abbigliamento commessa...</td>\n",
       "      <td>[commessa di negozio di abbigliamento uomo don...</td>\n",
       "      <td>applicare le competenze matematiche\\nconsiglia...</td>\n",
       "      <td>argomentazione di vendita\\ncaratteristiche dei...</td>\n",
       "      <td>eseguire piccoli interventi di sartoria</td>\n",
       "      <td>industria dell'abbigliamento</td>\n",
       "    </tr>\n",
       "    <tr>\n",
       "      <th>3</th>\n",
       "      <td>Elettromeccanici</td>\n",
       "      <td>[installatore di impianti elettromeccanici ed ...</td>\n",
       "      <td>Cablatura dell'impianto elettrico\\nCollaudo de...</td>\n",
       "      <td>Effettuare la diagnosi tecnica (strumentale e ...</td>\n",
       "      <td>[manutentore elettromeccanico manutentrice ele...</td>\n",
       "      <td>[elettricista a bordo macchina, elettricista-m...</td>\n",
       "      <td>adattare le attrezzature meccanizzate\\napplica...</td>\n",
       "      <td>elettricità\\nelettromeccanica\\nelettronica\\nme...</td>\n",
       "      <td>applicare un rivestimento alle apparecchiature...</td>\n",
       "      <td>accessori per cavi elettrici\\ncomponenti di ba...</td>\n",
       "    </tr>\n",
       "  </tbody>\n",
       "</table>\n",
       "</div>"
      ],
      "text/plain": [
       "                             Group  \\\n",
       "0                       Statistici   \n",
       "1  Cuochi in alberghi e ristoranti   \n",
       "2  Commessi alle vendite al minuto   \n",
       "3                 Elettromeccanici   \n",
       "\n",
       "                                            Subgroup  \\\n",
       "0  [esperto in ricerca operativa, demografo demog...   \n",
       "1  [chef privato, cuoco cuoca, cuoco di partita d...   \n",
       "2  [addetto al banco vendita di panetteria, ausil...   \n",
       "3  [installatore di impianti elettromeccanici ed ...   \n",
       "\n",
       "                             Descrizione_professione  \\\n",
       "0  Accertamenti tecnici per la valutazione delle ...   \n",
       "1  Allestimento dei piatti\\nApplicazione delle pr...   \n",
       "2  Allestimento degli scaffali e delle isole prom...   \n",
       "3  Cablatura dell'impianto elettrico\\nCollaudo de...   \n",
       "\n",
       "                            Descrizione_professione2  \\\n",
       "0  Elaborare piani tecnici per la trasformazione ...   \n",
       "1  Effettuare la preparazione dell'impasto da piz...   \n",
       "2  Allestire e rifornire gli scaffali e le isole ...   \n",
       "3  Effettuare la diagnosi tecnica (strumentale e ...   \n",
       "\n",
       "                                           subgroup1  \\\n",
       "0  [consulente attuariale, demografo demografa, s...   \n",
       "1  [capo chef pasticcere capo chef pasticcera, ch...   \n",
       "2  [commesso di negozio di abbigliamento commessa...   \n",
       "3  [manutentore elettromeccanico manutentrice ele...   \n",
       "\n",
       "                                           subgroup2  \\\n",
       "0  [consulente attuariale, demografo demografa, s...   \n",
       "1  [addetta alla preparazione degli alimenti, cuo...   \n",
       "2  [commessa di negozio di abbigliamento uomo don...   \n",
       "3  [elettricista a bordo macchina, elettricista-m...   \n",
       "\n",
       "                           Esco_Abilit_compet_essenz  \\\n",
       "0  correggere i dati\\ncostruire sistemi di raccom...   \n",
       "1  consegnare la zona di preparazione di alimenti...   \n",
       "2  applicare le competenze matematiche\\nconsiglia...   \n",
       "3  adattare le attrezzature meccanizzate\\napplica...   \n",
       "\n",
       "                              Esco_conoscenze_essenz  \\\n",
       "0  classificazione delle informazioni\\nelaborazio...   \n",
       "1  legislazione in materia di salute, sicurezza e...   \n",
       "2  argomentazione di vendita\\ncaratteristiche dei...   \n",
       "3  elettricità\\nelettromeccanica\\nelettronica\\nme...   \n",
       "\n",
       "                              Esco_Abilit_compet_opz  \\\n",
       "0  creare modelli di dati\\ndefinire criteri di qu...   \n",
       "1                                                NaN   \n",
       "2            eseguire piccoli interventi di sartoria   \n",
       "3  applicare un rivestimento alle apparecchiature...   \n",
       "\n",
       "                                          Conoscenze  \n",
       "0  LDAP\\nLINQ\\nMDX\\nN1QL\\nSPARQL\\nXQuery\\nbusines...  \n",
       "1                                                NaN  \n",
       "2                       industria dell'abbigliamento  \n",
       "3  accessori per cavi elettrici\\ncomponenti di ba...  "
      ]
     },
     "execution_count": 722,
     "metadata": {},
     "output_type": "execute_result"
    }
   ],
   "source": [
    "# example of subgroup roles\n",
    "professioni"
   ]
  },
  {
   "cell_type": "code",
   "execution_count": 723,
   "metadata": {},
   "outputs": [
    {
     "data": {
      "text/html": [
       "<div>\n",
       "<style scoped>\n",
       "    .dataframe tbody tr th:only-of-type {\n",
       "        vertical-align: middle;\n",
       "    }\n",
       "\n",
       "    .dataframe tbody tr th {\n",
       "        vertical-align: top;\n",
       "    }\n",
       "\n",
       "    .dataframe thead th {\n",
       "        text-align: right;\n",
       "    }\n",
       "</style>\n",
       "<table border=\"1\" class=\"dataframe\">\n",
       "  <thead>\n",
       "    <tr style=\"text-align: right;\">\n",
       "      <th></th>\n",
       "      <th>Fonte</th>\n",
       "      <th>Job_Description</th>\n",
       "      <th>Role</th>\n",
       "      <th>Target</th>\n",
       "    </tr>\n",
       "  </thead>\n",
       "  <tbody>\n",
       "    <tr>\n",
       "      <th>0</th>\n",
       "      <td>Randstad Technical</td>\n",
       "      <td>Randstad Technical di Vimercate seleziona un m...</td>\n",
       "      <td>Manutentore elettromeccanico</td>\n",
       "      <td>Elettromeccanici</td>\n",
       "    </tr>\n",
       "    <tr>\n",
       "      <th>1</th>\n",
       "      <td>Monster</td>\n",
       "      <td>Ricerchiamo N. 5 ricerca ADDETTI/E VENDITA per...</td>\n",
       "      <td>Commessa</td>\n",
       "      <td>Unknown</td>\n",
       "    </tr>\n",
       "    <tr>\n",
       "      <th>2</th>\n",
       "      <td>Monster</td>\n",
       "      <td>Quanta SpA, Filiale di Verona, seleziona per a...</td>\n",
       "      <td>Manutentore elettromeccanico</td>\n",
       "      <td>Elettromeccanici</td>\n",
       "    </tr>\n",
       "    <tr>\n",
       "      <th>3</th>\n",
       "      <td>Monster</td>\n",
       "      <td>Kelly Services, multinazionale americana leade...</td>\n",
       "      <td>Tecnico elettromeccanico</td>\n",
       "      <td>Unknown</td>\n",
       "    </tr>\n",
       "    <tr>\n",
       "      <th>4</th>\n",
       "      <td>Monster</td>\n",
       "      <td>ADHR Filiale di Torino ricerca per azienda cli...</td>\n",
       "      <td>Data Scientist</td>\n",
       "      <td>Statistici</td>\n",
       "    </tr>\n",
       "  </tbody>\n",
       "</table>\n",
       "</div>"
      ],
      "text/plain": [
       "                 Fonte                                    Job_Description  \\\n",
       "0  Randstad Technical   Randstad Technical di Vimercate seleziona un m...   \n",
       "1              Monster  Ricerchiamo N. 5 ricerca ADDETTI/E VENDITA per...   \n",
       "2              Monster  Quanta SpA, Filiale di Verona, seleziona per a...   \n",
       "3              Monster  Kelly Services, multinazionale americana leade...   \n",
       "4              Monster  ADHR Filiale di Torino ricerca per azienda cli...   \n",
       "\n",
       "                           Role            Target  \n",
       "0  Manutentore elettromeccanico  Elettromeccanici  \n",
       "1                      Commessa           Unknown  \n",
       "2  Manutentore elettromeccanico  Elettromeccanici  \n",
       "3      Tecnico elettromeccanico           Unknown  \n",
       "4               Data Scientist         Statistici  "
      ]
     },
     "execution_count": 723,
     "metadata": {},
     "output_type": "execute_result"
    }
   ],
   "source": [
    "data['Target'] = data['Role'].apply(lambda x: subgroup_dict.get(x.lower().strip(),'Unknown'))\n",
    "data.head()"
   ]
  },
  {
   "cell_type": "markdown",
   "metadata": {},
   "source": [
    "### Text Preprocessing on Job Descripion column"
   ]
  },
  {
   "cell_type": "markdown",
   "metadata": {},
   "source": [
    "##### Tokenization\n",
    "split the text into words"
   ]
  },
  {
   "cell_type": "code",
   "execution_count": 724,
   "metadata": {},
   "outputs": [
    {
     "data": {
      "text/html": [
       "<div>\n",
       "<style scoped>\n",
       "    .dataframe tbody tr th:only-of-type {\n",
       "        vertical-align: middle;\n",
       "    }\n",
       "\n",
       "    .dataframe tbody tr th {\n",
       "        vertical-align: top;\n",
       "    }\n",
       "\n",
       "    .dataframe thead th {\n",
       "        text-align: right;\n",
       "    }\n",
       "</style>\n",
       "<table border=\"1\" class=\"dataframe\">\n",
       "  <thead>\n",
       "    <tr style=\"text-align: right;\">\n",
       "      <th></th>\n",
       "      <th>Fonte</th>\n",
       "      <th>Job_Description</th>\n",
       "      <th>Role</th>\n",
       "      <th>Target</th>\n",
       "    </tr>\n",
       "  </thead>\n",
       "  <tbody>\n",
       "    <tr>\n",
       "      <th>0</th>\n",
       "      <td>Randstad Technical</td>\n",
       "      <td>[randstad, technical, di, vimercate, seleziona...</td>\n",
       "      <td>Manutentore elettromeccanico</td>\n",
       "      <td>elettromeccanici</td>\n",
       "    </tr>\n",
       "    <tr>\n",
       "      <th>1</th>\n",
       "      <td>Monster</td>\n",
       "      <td>[ricerchiamo, n, ricerca, addetti, e, vendita,...</td>\n",
       "      <td>Commessa</td>\n",
       "      <td>unknown</td>\n",
       "    </tr>\n",
       "    <tr>\n",
       "      <th>2</th>\n",
       "      <td>Monster</td>\n",
       "      <td>[quanta, spa, filiale, di, verona, seleziona, ...</td>\n",
       "      <td>Manutentore elettromeccanico</td>\n",
       "      <td>elettromeccanici</td>\n",
       "    </tr>\n",
       "    <tr>\n",
       "      <th>3</th>\n",
       "      <td>Monster</td>\n",
       "      <td>[kelly, services, multinazionale, americana, l...</td>\n",
       "      <td>Tecnico elettromeccanico</td>\n",
       "      <td>unknown</td>\n",
       "    </tr>\n",
       "    <tr>\n",
       "      <th>4</th>\n",
       "      <td>Monster</td>\n",
       "      <td>[adhr, filiale, di, torino, ricerca, per, azie...</td>\n",
       "      <td>Data Scientist</td>\n",
       "      <td>statistici</td>\n",
       "    </tr>\n",
       "  </tbody>\n",
       "</table>\n",
       "</div>"
      ],
      "text/plain": [
       "                 Fonte                                    Job_Description  \\\n",
       "0  Randstad Technical   [randstad, technical, di, vimercate, seleziona...   \n",
       "1              Monster  [ricerchiamo, n, ricerca, addetti, e, vendita,...   \n",
       "2              Monster  [quanta, spa, filiale, di, verona, seleziona, ...   \n",
       "3              Monster  [kelly, services, multinazionale, americana, l...   \n",
       "4              Monster  [adhr, filiale, di, torino, ricerca, per, azie...   \n",
       "\n",
       "                           Role            Target  \n",
       "0  Manutentore elettromeccanico  elettromeccanici  \n",
       "1                      Commessa           unknown  \n",
       "2  Manutentore elettromeccanico  elettromeccanici  \n",
       "3      Tecnico elettromeccanico           unknown  \n",
       "4               Data Scientist         statistici  "
      ]
     },
     "execution_count": 724,
     "metadata": {},
     "output_type": "execute_result"
    }
   ],
   "source": [
    "# remove punctuation\n",
    "data.Job_Description = data.Job_Description.apply(lambda x: re.sub('[^a-zA-Z]',' ',x))\n",
    "data.Target = data.Target.apply(lambda x: x.lower())\n",
    "data.Job_Description = data['Job_Description'].apply(lambda x: word_tokenize(x.lower())) # lowercase each word\n",
    "data.head()"
   ]
  },
  {
   "cell_type": "markdown",
   "metadata": {},
   "source": [
    "##### remove words with lenght < 3 (e.g. numbers and not meaningful words)"
   ]
  },
  {
   "cell_type": "code",
   "execution_count": 725,
   "metadata": {},
   "outputs": [
    {
     "data": {
      "text/plain": [
       "0    [randstad, technical, vimercate, seleziona, ma...\n",
       "1    [ricerchiamo, ricerca, addetti, vendita, punto...\n",
       "2    [quanta, filiale, verona, seleziona, azienda, ...\n",
       "3    [kelly, services, multinazionale, americana, l...\n",
       "4    [adhr, filiale, torino, ricerca, azienda, clie...\n",
       "Name: Job_Description, dtype: object"
      ]
     },
     "execution_count": 725,
     "metadata": {},
     "output_type": "execute_result"
    }
   ],
   "source": [
    "data.Job_Description = data.Job_Description.apply(lambda x: [i for i in x if len(i) >3])\n",
    "data.Job_Description.head() # note the word 'vimercate' in row = 0"
   ]
  },
  {
   "cell_type": "markdown",
   "metadata": {},
   "source": [
    "#### Stemming / Lemmatization \n",
    "\n",
    "Stemming: Stemming algorithms work by cutting off the end of the word, and in some cases also the beginning while looking for the root. This indiscriminate cutting can be successful in some occasions, but not always, that is why we affirm that this an approach that offers some limitations. ex) studying -> study, studied -> studi \n",
    "\n",
    "Lemmatization: Lemmatization is the process of converting the words of a sentence to its dictionary form. For example, given the words amusement, amusing, and amused, the lemma for each and all would be amuse. ex) studying -> study, studied -> study. Lemmatization also discerns the meaning of the word by understanding the context of a passage. For example, if a \"meet\" is used as a noun then it will print out a \"meeting\"; however, if it is used as a verb then it will print out \"meet\".\n"
   ]
  },
  {
   "cell_type": "code",
   "execution_count": 605,
   "metadata": {},
   "outputs": [],
   "source": [
    "# decide if to use this or not\n",
    "# stemmer = nltk.stem.snowball.ItalianStemmer(ignore_stopwords=False)"
   ]
  },
  {
   "cell_type": "code",
   "execution_count": 606,
   "metadata": {},
   "outputs": [
    {
     "name": "stdout",
     "output_type": "stream",
     "text": [
      "ricercare --> ricerc\n",
      "ricerca --> ricerc\n"
     ]
    }
   ],
   "source": [
    "# example:\n",
    "# print('ricercare -->',stemmer.stem('ricercare'))\n",
    "# print('ricerca -->', stemmer.stem('ricerca'))"
   ]
  },
  {
   "cell_type": "code",
   "execution_count": 712,
   "metadata": {},
   "outputs": [
    {
     "data": {
      "text/plain": [
       "0    [turn, nell, meccan, gomm, manutentor, randsta...\n",
       "1    [preferibil, arezz, ricerc, disponibilit, nell...\n",
       "2    [turn, luog, manutentor, settor, lavor, richie...\n",
       "3    [automun, livell, offert, tratter, lavor, scor...\n",
       "4    [inoltr, settor, lavor, machin, gestion, dat, ...\n",
       "Name: Job_Description, dtype: object"
      ]
     },
     "execution_count": 712,
     "metadata": {},
     "output_type": "execute_result"
    }
   ],
   "source": [
    "# data.Job_Description = data.Job_Description.apply(lambda x: list(set([stemmer.stem(i) for i in x])))\n",
    "# data.Job_Description.head()"
   ]
  },
  {
   "cell_type": "markdown",
   "metadata": {},
   "source": [
    "### Remove Noisy"
   ]
  },
  {
   "cell_type": "code",
   "execution_count": 726,
   "metadata": {},
   "outputs": [
    {
     "data": {
      "text/plain": [
       "{'infojob', 'monster', 'randstad', 'technical'}"
      ]
     },
     "execution_count": 726,
     "metadata": {},
     "output_type": "execute_result"
    }
   ],
   "source": [
    "##### remove in 'job_description' words from 'fonte'\n",
    "data.Fonte = data.Fonte.apply(lambda x: word_tokenize(x))\n",
    "source = set([i.lower() for x in data.Fonte for i in x])\n",
    "data = data.drop('Fonte', axis = 1)\n",
    "source"
   ]
  },
  {
   "cell_type": "code",
   "execution_count": 728,
   "metadata": {},
   "outputs": [
    {
     "data": {
      "text/plain": [
       "0    [vimercate, seleziona, manutentore, inseriment...\n",
       "1    [ricerchiamo, ricerca, addetti, vendita, punto...\n",
       "2    [quanta, filiale, verona, seleziona, azienda, ...\n",
       "3    [kelly, services, multinazionale, americana, l...\n",
       "4    [adhr, filiale, torino, ricerca, azienda, clie...\n",
       "Name: Job_Description, dtype: object"
      ]
     },
     "execution_count": 728,
     "metadata": {},
     "output_type": "execute_result"
    }
   ],
   "source": [
    "data.Job_Description = data.Job_Description.apply(lambda x: [i for i in x if i not in source])\n",
    "data.Job_Description.head(5) # compare row 0 with previous row"
   ]
  },
  {
   "cell_type": "markdown",
   "metadata": {},
   "source": [
    "##### Stopwords\n",
    "Stopwords are words generally not relevant to a text; thereby we get rid of them"
   ]
  },
  {
   "cell_type": "code",
   "execution_count": 729,
   "metadata": {},
   "outputs": [
    {
     "name": "stdout",
     "output_type": "stream",
     "text": [
      "Example of stopwords: ['sulle', 'agl', 'c', 'ebbi', 'sarebbero', 'fossi', 'essendo', 'quello', 'avreste', 'stavo', 'avemmo', 'sono', 'stava', 'quella', 'loro', 'o', 'li', 'stavi', 'ma', 'di']\n",
      "%%%%%%%%%%\n",
      "lenth of stopwords: 279\n"
     ]
    }
   ],
   "source": [
    "list_stopwords = list(set(stopwords.words('italian')))\n",
    "print('Example of stopwords:',list_stopwords[:20])\n",
    "print(10 * '%')\n",
    "print('lenth of stopwords: {}'.format(len(list_stopwords)))"
   ]
  },
  {
   "cell_type": "code",
   "execution_count": 730,
   "metadata": {},
   "outputs": [
    {
     "data": {
      "text/plain": [
       "0    [vimercate, seleziona, manutentore, inseriment...\n",
       "1    [ricerchiamo, ricerca, addetti, vendita, punto...\n",
       "2    [filiale, verona, seleziona, azienda, cliente,...\n",
       "3    [kelly, services, multinazionale, americana, l...\n",
       "4    [adhr, filiale, torino, ricerca, azienda, clie...\n",
       "Name: Job_Description, dtype: object"
      ]
     },
     "execution_count": 730,
     "metadata": {},
     "output_type": "execute_result"
    }
   ],
   "source": [
    "data.Job_Description = data.Job_Description.apply(lambda x: [i for i in x if i not in list_stopwords] )\n",
    "data.Job_Description.head(5)\n"
   ]
  },
  {
   "cell_type": "markdown",
   "metadata": {},
   "source": [
    "###### Get a list of uniquewords"
   ]
  },
  {
   "cell_type": "code",
   "execution_count": 731,
   "metadata": {},
   "outputs": [],
   "source": [
    "words = []\n",
    "for i in data.Job_Description:\n",
    "    words.append(i)\n",
    "word_list = set([i for x in words for i in x])"
   ]
  },
  {
   "cell_type": "code",
   "execution_count": 732,
   "metadata": {},
   "outputs": [
    {
     "data": {
      "text/plain": [
       "[('abbigliamento', 1),\n",
       " ('abruzzo', 1),\n",
       " ('accessori', 1),\n",
       " ('acquisizione', 1),\n",
       " ('addetti', 1),\n",
       " ('adhr', 1),\n",
       " ('advanced', 1),\n",
       " ('affini', 1),\n",
       " ('agenzia', 1),\n",
       " ('aiutare', 1),\n",
       " ('aiuto', 1),\n",
       " ('alcune', 1),\n",
       " ('alcuni', 1),\n",
       " ('alimentare', 1),\n",
       " ('alloggio', 1),\n",
       " ('almeno', 1),\n",
       " ('ambito', 1),\n",
       " ('ambiziose', 1),\n",
       " ('americana', 1),\n",
       " ('analisi', 1)]"
      ]
     },
     "execution_count": 732,
     "metadata": {},
     "output_type": "execute_result"
    }
   ],
   "source": [
    "# check the frequence distribution of words\n",
    "fdist = nltk.FreqDist(word_list)\n",
    "sorted(fdist.items())[:20]"
   ]
  },
  {
   "cell_type": "code",
   "execution_count": 733,
   "metadata": {},
   "outputs": [],
   "source": [
    "# wordcloud of main words\n",
    "def cloud(data,backgroundcolor = 'white', width = 800, height = 600):\n",
    "    wordcloud = WordCloud(stopwords = STOPWORDS, background_color = backgroundcolor,\n",
    "                         width = width, height = height).generate(data)\n",
    "    plt.figure(figsize = (15, 10))\n",
    "    plt.imshow(wordcloud)\n",
    "    plt.axis(\"off\")\n",
    "    plt.show()"
   ]
  },
  {
   "cell_type": "code",
   "execution_count": 746,
   "metadata": {},
   "outputs": [
    {
     "data": {
      "text/plain": [
       "0    vimercate seleziona manutentore inserimento so...\n",
       "1    ricerchiamo ricerca addetti vendita punto vend...\n",
       "Name: Job_Description, dtype: object"
      ]
     },
     "execution_count": 746,
     "metadata": {},
     "output_type": "execute_result"
    }
   ],
   "source": [
    "job_description = data['Job_Description'].apply(lambda x: ' '.join(x))\n",
    "job_description.head(2)"
   ]
  },
  {
   "cell_type": "code",
   "execution_count": 747,
   "metadata": {},
   "outputs": [
    {
     "data": {
      "image/png": "[encoded data removed]",
      "text/plain": [
       "<Figure size 1080x720 with 1 Axes>"
      ]
     },
     "metadata": {},
     "output_type": "display_data"
    }
   ],
   "source": [
    "cloud(' '.join(job_description))"
   ]
  },
  {
   "cell_type": "markdown",
   "metadata": {},
   "source": [
    "#### Remove words referring to: Comuni, Provincie, Regioni"
   ]
  },
  {
   "cell_type": "code",
   "execution_count": 748,
   "metadata": {},
   "outputs": [
    {
     "data": {
      "text/html": [
       "<div>\n",
       "<style scoped>\n",
       "    .dataframe tbody tr th:only-of-type {\n",
       "        vertical-align: middle;\n",
       "    }\n",
       "\n",
       "    .dataframe tbody tr th {\n",
       "        vertical-align: top;\n",
       "    }\n",
       "\n",
       "    .dataframe thead th {\n",
       "        text-align: right;\n",
       "    }\n",
       "</style>\n",
       "<table border=\"1\" class=\"dataframe\">\n",
       "  <thead>\n",
       "    <tr style=\"text-align: right;\">\n",
       "      <th></th>\n",
       "      <th>,Istat</th>\n",
       "      <th>Comune</th>\n",
       "      <th>Provincia</th>\n",
       "      <th>Regione</th>\n",
       "      <th>Prefisso</th>\n",
       "      <th>CAP</th>\n",
       "      <th>CodFisco</th>\n",
       "      <th>Abitanti</th>\n",
       "      <th>Link</th>\n",
       "    </tr>\n",
       "  </thead>\n",
       "  <tbody>\n",
       "    <tr>\n",
       "      <th>0</th>\n",
       "      <td>0,028001</td>\n",
       "      <td>Abano Terme</td>\n",
       "      <td>PD</td>\n",
       "      <td>VEN</td>\n",
       "      <td>49</td>\n",
       "      <td>35031</td>\n",
       "      <td>A001</td>\n",
       "      <td>19726</td>\n",
       "      <td>http://www.comuni-italiani.it/028/001/</td>\n",
       "    </tr>\n",
       "    <tr>\n",
       "      <th>1</th>\n",
       "      <td>1,098001</td>\n",
       "      <td>Abbadia Cerreto</td>\n",
       "      <td>LO</td>\n",
       "      <td>LOM</td>\n",
       "      <td>371</td>\n",
       "      <td>26834</td>\n",
       "      <td>A004</td>\n",
       "      <td>293</td>\n",
       "      <td>http://www.comuni-italiani.it/098/001/</td>\n",
       "    </tr>\n",
       "    <tr>\n",
       "      <th>2</th>\n",
       "      <td>2,097001</td>\n",
       "      <td>Abbadia Lariana</td>\n",
       "      <td>LC</td>\n",
       "      <td>LOM</td>\n",
       "      <td>341</td>\n",
       "      <td>23821</td>\n",
       "      <td>A005</td>\n",
       "      <td>3305</td>\n",
       "      <td>http://www.comuni-italiani.it/097/001/</td>\n",
       "    </tr>\n",
       "    <tr>\n",
       "      <th>3</th>\n",
       "      <td>3,052001</td>\n",
       "      <td>Abbadia San Salvatore</td>\n",
       "      <td>SI</td>\n",
       "      <td>TOS</td>\n",
       "      <td>577</td>\n",
       "      <td>53021</td>\n",
       "      <td>A006</td>\n",
       "      <td>6722</td>\n",
       "      <td>http://www.comuni-italiani.it/052/001/</td>\n",
       "    </tr>\n",
       "    <tr>\n",
       "      <th>4</th>\n",
       "      <td>4,095001</td>\n",
       "      <td>Abbasanta</td>\n",
       "      <td>OR</td>\n",
       "      <td>SAR</td>\n",
       "      <td>785</td>\n",
       "      <td>09071</td>\n",
       "      <td>A007</td>\n",
       "      <td>2872</td>\n",
       "      <td>http://www.comuni-italiani.it/095/001/</td>\n",
       "    </tr>\n",
       "  </tbody>\n",
       "</table>\n",
       "</div>"
      ],
      "text/plain": [
       "     ,Istat                 Comune Provincia Regione  Prefisso    CAP  \\\n",
       "0  0,028001            Abano Terme        PD     VEN        49  35031   \n",
       "1  1,098001        Abbadia Cerreto        LO     LOM       371  26834   \n",
       "2  2,097001        Abbadia Lariana        LC     LOM       341  23821   \n",
       "3  3,052001  Abbadia San Salvatore        SI     TOS       577  53021   \n",
       "4  4,095001              Abbasanta        OR     SAR       785  09071   \n",
       "\n",
       "  CodFisco  Abitanti                                    Link  \n",
       "0     A001     19726  http://www.comuni-italiani.it/028/001/  \n",
       "1     A004       293  http://www.comuni-italiani.it/098/001/  \n",
       "2     A005      3305  http://www.comuni-italiani.it/097/001/  \n",
       "3     A006      6722  http://www.comuni-italiani.it/052/001/  \n",
       "4     A007      2872  http://www.comuni-italiani.it/095/001/  "
      ]
     },
     "execution_count": 748,
     "metadata": {},
     "output_type": "execute_result"
    }
   ],
   "source": [
    "# load a text file containing a list of 'Comuni, Provincie, Regioni' italiane\n",
    "geo_data = pd.read_fwf('listacomuni.txt')\n",
    "geo_data.to_csv('listacomuni.csv')\n",
    "geo_data = pd.read_csv('listacomuni.csv', sep=';')\n",
    "geo_data.head()"
   ]
  },
  {
   "cell_type": "code",
   "execution_count": 749,
   "metadata": {},
   "outputs": [
    {
     "name": "stdout",
     "output_type": "stream",
     "text": [
      "Comuni samples: ['abano terme', 'abbadia cerreto', 'abbadia lariana', 'abbadia san salvatore', 'abbasanta', 'abbateggio', 'abbiategrasso', 'abetone', 'abriola', 'acate']\n",
      "%%%%%%%%%%%%%%%%%%%%\n",
      "Provincia samples: ['pd', 'lo', 'lc', 'si', 'or', 'pe', 'mi', 'pt', 'pz', 'rg']\n",
      "%%%%%%%%%%%%%%%%%%%%\n",
      "Regione samples: ['ven', 'lom', 'lom', 'tos', 'sar', 'abr', 'lom', 'tos', 'bas', 'sic']\n"
     ]
    }
   ],
   "source": [
    "comune = [i.lower() for i in geo_data.Comune]\n",
    "geo_data.Provincia = geo_data.Provincia.apply(lambda x: str(x))\n",
    "provincia = [i.lower() for i in geo_data.Provincia]\n",
    "regione = [i.lower() for i in geo_data.Regione]\n",
    "print('Comuni samples:',comune[:10])\n",
    "print(20*'%')\n",
    "print('Provincia samples:',provincia[:10])\n",
    "print(20*'%')\n",
    "print('Regione samples:',regione[:10])"
   ]
  },
  {
   "cell_type": "code",
   "execution_count": 750,
   "metadata": {},
   "outputs": [
    {
     "name": "stdout",
     "output_type": "stream",
     "text": [
      "True\n",
      "True\n",
      "False\n"
     ]
    }
   ],
   "source": [
    "# example\n",
    "print('verona' in comune)\n",
    "print('trieste' in comune)\n",
    "print('dublino' in comune)"
   ]
  },
  {
   "cell_type": "markdown",
   "metadata": {},
   "source": [
    "##### Wrap previous commands into below function"
   ]
  },
  {
   "cell_type": "code",
   "execution_count": 751,
   "metadata": {},
   "outputs": [],
   "source": [
    "def remove_comuni(data, column, geo_data):\n",
    "    ''' function to remove geographic noisy'''\n",
    "    comune = [i.lower() for i in geo_data.Comune]\n",
    "    geo_data.Provincia = geo_data.Provincia.apply(lambda x: str(x))\n",
    "    provincia = [i.lower() for i in geo_data.Provincia]\n",
    "    regione = [i.lower() for i in geo_data.Regione]\n",
    "    \n",
    "    data[column] = data[column].apply(lambda x: [i for i in x if i not in comune])\n",
    "    data[column] = data[column].apply(lambda x: [i for i in x if i not in provincia])\n",
    "    data[column] = data[column].apply(lambda x: [i for i in x if i not in regione])\n",
    "    \n",
    "    return data\n"
   ]
  },
  {
   "cell_type": "code",
   "execution_count": 752,
   "metadata": {},
   "outputs": [
    {
     "data": {
      "text/html": [
       "<div>\n",
       "<style scoped>\n",
       "    .dataframe tbody tr th:only-of-type {\n",
       "        vertical-align: middle;\n",
       "    }\n",
       "\n",
       "    .dataframe tbody tr th {\n",
       "        vertical-align: top;\n",
       "    }\n",
       "\n",
       "    .dataframe thead th {\n",
       "        text-align: right;\n",
       "    }\n",
       "</style>\n",
       "<table border=\"1\" class=\"dataframe\">\n",
       "  <thead>\n",
       "    <tr style=\"text-align: right;\">\n",
       "      <th></th>\n",
       "      <th>Job_Description</th>\n",
       "      <th>Role</th>\n",
       "      <th>Target</th>\n",
       "    </tr>\n",
       "  </thead>\n",
       "  <tbody>\n",
       "    <tr>\n",
       "      <th>0</th>\n",
       "      <td>[seleziona, manutentore, inserimento, somminis...</td>\n",
       "      <td>Manutentore elettromeccanico</td>\n",
       "      <td>elettromeccanici</td>\n",
       "    </tr>\n",
       "    <tr>\n",
       "      <th>1</th>\n",
       "      <td>[ricerchiamo, ricerca, addetti, vendita, punto...</td>\n",
       "      <td>Commessa</td>\n",
       "      <td>unknown</td>\n",
       "    </tr>\n",
       "    <tr>\n",
       "      <th>2</th>\n",
       "      <td>[filiale, seleziona, azienda, cliente, settore...</td>\n",
       "      <td>Manutentore elettromeccanico</td>\n",
       "      <td>elettromeccanici</td>\n",
       "    </tr>\n",
       "    <tr>\n",
       "      <th>3</th>\n",
       "      <td>[kelly, services, multinazionale, americana, l...</td>\n",
       "      <td>Tecnico elettromeccanico</td>\n",
       "      <td>unknown</td>\n",
       "    </tr>\n",
       "    <tr>\n",
       "      <th>4</th>\n",
       "      <td>[adhr, filiale, ricerca, azienda, cliente, set...</td>\n",
       "      <td>Data Scientist</td>\n",
       "      <td>statistici</td>\n",
       "    </tr>\n",
       "  </tbody>\n",
       "</table>\n",
       "</div>"
      ],
      "text/plain": [
       "                                     Job_Description  \\\n",
       "0  [seleziona, manutentore, inserimento, somminis...   \n",
       "1  [ricerchiamo, ricerca, addetti, vendita, punto...   \n",
       "2  [filiale, seleziona, azienda, cliente, settore...   \n",
       "3  [kelly, services, multinazionale, americana, l...   \n",
       "4  [adhr, filiale, ricerca, azienda, cliente, set...   \n",
       "\n",
       "                           Role            Target  \n",
       "0  Manutentore elettromeccanico  elettromeccanici  \n",
       "1                      Commessa           unknown  \n",
       "2  Manutentore elettromeccanico  elettromeccanici  \n",
       "3      Tecnico elettromeccanico           unknown  \n",
       "4               Data Scientist         statistici  "
      ]
     },
     "execution_count": 752,
     "metadata": {},
     "output_type": "execute_result"
    }
   ],
   "source": [
    "data = remove_comuni(data, 'Job_Description', geo_data)\n",
    "data.head(5)"
   ]
  },
  {
   "cell_type": "markdown",
   "metadata": {},
   "source": [
    "##### Get rid of unusual_words : misspelled words - uncommon words¶"
   ]
  },
  {
   "cell_type": "code",
   "execution_count": 753,
   "metadata": {},
   "outputs": [],
   "source": [
    "italian_vocab = pd.read_fwf('660000_parole_italiane.txt', names = ['word'])\n",
    "italian_vocab = set(italian_vocab.word.tolist())\n",
    "english_vocab = sorted(set(w.lower() for w in nltk.corpus.words.words())) # english vocabulary"
   ]
  },
  {
   "cell_type": "code",
   "execution_count": 754,
   "metadata": {},
   "outputs": [],
   "source": [
    "def uncommon_words(data,column, italian_vocab, english_vocab = None):\n",
    "    data[column] = data[column].apply(lambda x: [i for i in x if i in italian_vocab])\n",
    "    return data"
   ]
  },
  {
   "cell_type": "code",
   "execution_count": 755,
   "metadata": {},
   "outputs": [
    {
     "data": {
      "text/html": [
       "<div>\n",
       "<style scoped>\n",
       "    .dataframe tbody tr th:only-of-type {\n",
       "        vertical-align: middle;\n",
       "    }\n",
       "\n",
       "    .dataframe tbody tr th {\n",
       "        vertical-align: top;\n",
       "    }\n",
       "\n",
       "    .dataframe thead th {\n",
       "        text-align: right;\n",
       "    }\n",
       "</style>\n",
       "<table border=\"1\" class=\"dataframe\">\n",
       "  <thead>\n",
       "    <tr style=\"text-align: right;\">\n",
       "      <th></th>\n",
       "      <th>Job_Description</th>\n",
       "      <th>Role</th>\n",
       "      <th>Target</th>\n",
       "    </tr>\n",
       "  </thead>\n",
       "  <tbody>\n",
       "    <tr>\n",
       "      <th>0</th>\n",
       "      <td>[seleziona, manutentore, inserimento, presso, ...</td>\n",
       "      <td>Manutentore elettromeccanico</td>\n",
       "      <td>elettromeccanici</td>\n",
       "    </tr>\n",
       "    <tr>\n",
       "      <th>1</th>\n",
       "      <td>[ricerchiamo, ricerca, addetti, vendita, punto...</td>\n",
       "      <td>Commessa</td>\n",
       "      <td>unknown</td>\n",
       "    </tr>\n",
       "    <tr>\n",
       "      <th>2</th>\n",
       "      <td>[filiale, seleziona, azienda, cliente, settore...</td>\n",
       "      <td>Manutentore elettromeccanico</td>\n",
       "      <td>elettromeccanici</td>\n",
       "    </tr>\n",
       "    <tr>\n",
       "      <th>3</th>\n",
       "      <td>[multinazionale, americana, leader, risorse, u...</td>\n",
       "      <td>Tecnico elettromeccanico</td>\n",
       "      <td>unknown</td>\n",
       "    </tr>\n",
       "    <tr>\n",
       "      <th>4</th>\n",
       "      <td>[filiale, ricerca, azienda, cliente, settore, ...</td>\n",
       "      <td>Data Scientist</td>\n",
       "      <td>statistici</td>\n",
       "    </tr>\n",
       "    <tr>\n",
       "      <th>5</th>\n",
       "      <td>[cercando, data, esperto, appassionato, unisca...</td>\n",
       "      <td>Data Scientist</td>\n",
       "      <td>statistici</td>\n",
       "    </tr>\n",
       "    <tr>\n",
       "      <th>6</th>\n",
       "      <td>[elea, ricerca, azienda, cliente, figura, prof...</td>\n",
       "      <td>Pizzaiolo</td>\n",
       "      <td>cuochi in alberghi e ristoranti</td>\n",
       "    </tr>\n",
       "    <tr>\n",
       "      <th>7</th>\n",
       "      <td>[ricerca, propri, resort, puglia, chef, cuoco,...</td>\n",
       "      <td>Pizzaiolo Pasticcere Macellaio</td>\n",
       "      <td>unknown</td>\n",
       "    </tr>\n",
       "    <tr>\n",
       "      <th>8</th>\n",
       "      <td>[esclusiva, boutique, sita, isola, isole, eoli...</td>\n",
       "      <td>Commessa</td>\n",
       "      <td>unknown</td>\n",
       "    </tr>\n",
       "    <tr>\n",
       "      <th>9</th>\n",
       "      <td>[cliente, guelfo, ricerca, commesso, abbigliam...</td>\n",
       "      <td>Commessa</td>\n",
       "      <td>unknown</td>\n",
       "    </tr>\n",
       "    <tr>\n",
       "      <th>10</th>\n",
       "      <td>[divisione, specializzata, ricerca, selezione,...</td>\n",
       "      <td>Manutentore elettromeccanico</td>\n",
       "      <td>elettromeccanici</td>\n",
       "    </tr>\n",
       "    <tr>\n",
       "      <th>11</th>\n",
       "      <td>[agenzia, lavoro, ricerca, azienda, cliente, s...</td>\n",
       "      <td>Data Scientist</td>\n",
       "      <td>statistici</td>\n",
       "    </tr>\n",
       "    <tr>\n",
       "      <th>12</th>\n",
       "      <td>[descrizione, azienda, filiale, divisione, spe...</td>\n",
       "      <td>Pizzaiolo</td>\n",
       "      <td>cuochi in alberghi e ristoranti</td>\n",
       "    </tr>\n",
       "    <tr>\n",
       "      <th>13</th>\n",
       "      <td>[filiale, crostolo, ricerca, aiuto, pizzaiolo,...</td>\n",
       "      <td>Pizzaiolo</td>\n",
       "      <td>cuochi in alberghi e ristoranti</td>\n",
       "    </tr>\n",
       "  </tbody>\n",
       "</table>\n",
       "</div>"
      ],
      "text/plain": [
       "                                      Job_Description  \\\n",
       "0   [seleziona, manutentore, inserimento, presso, ...   \n",
       "1   [ricerchiamo, ricerca, addetti, vendita, punto...   \n",
       "2   [filiale, seleziona, azienda, cliente, settore...   \n",
       "3   [multinazionale, americana, leader, risorse, u...   \n",
       "4   [filiale, ricerca, azienda, cliente, settore, ...   \n",
       "5   [cercando, data, esperto, appassionato, unisca...   \n",
       "6   [elea, ricerca, azienda, cliente, figura, prof...   \n",
       "7   [ricerca, propri, resort, puglia, chef, cuoco,...   \n",
       "8   [esclusiva, boutique, sita, isola, isole, eoli...   \n",
       "9   [cliente, guelfo, ricerca, commesso, abbigliam...   \n",
       "10  [divisione, specializzata, ricerca, selezione,...   \n",
       "11  [agenzia, lavoro, ricerca, azienda, cliente, s...   \n",
       "12  [descrizione, azienda, filiale, divisione, spe...   \n",
       "13  [filiale, crostolo, ricerca, aiuto, pizzaiolo,...   \n",
       "\n",
       "                              Role                           Target  \n",
       "0     Manutentore elettromeccanico                 elettromeccanici  \n",
       "1                         Commessa                          unknown  \n",
       "2     Manutentore elettromeccanico                 elettromeccanici  \n",
       "3         Tecnico elettromeccanico                          unknown  \n",
       "4                  Data Scientist                        statistici  \n",
       "5                  Data Scientist                        statistici  \n",
       "6                        Pizzaiolo  cuochi in alberghi e ristoranti  \n",
       "7   Pizzaiolo Pasticcere Macellaio                          unknown  \n",
       "8                         Commessa                          unknown  \n",
       "9                         Commessa                          unknown  \n",
       "10    Manutentore elettromeccanico                 elettromeccanici  \n",
       "11                 Data Scientist                        statistici  \n",
       "12                       Pizzaiolo  cuochi in alberghi e ristoranti  \n",
       "13                       Pizzaiolo  cuochi in alberghi e ristoranti  "
      ]
     },
     "execution_count": 755,
     "metadata": {},
     "output_type": "execute_result"
    }
   ],
   "source": [
    "data = uncommon_words(data, 'Job_Description', italian_vocab, english_vocab)\n",
    "data # note that the word 'vimercate' is not present anymore "
   ]
  },
  {
   "cell_type": "code",
   "execution_count": 758,
   "metadata": {
    "scrolled": true
   },
   "outputs": [
    {
     "name": "stdout",
     "output_type": "stream",
     "text": [
      "                              Frequency\n",
      "MANUTENTORE ELETTROMECCANICO           \n",
      "settore                               6\n",
      "manutentore                           5\n",
      "manutenzione                          5\n",
      "esperienza                            5\n",
      "impianti                              4\n",
      "%%%%%%%%%%%%%%%%%%%%%%%%%%%%%%%%%%%%%%%%%%%%%%%%%%%%%%%%%%%%%%%%%%%%%%%%%%%%%%%%%%%%%%%%%%%%%%%%%%%%\n",
      "               Frequency\n",
      "COMMESSA                \n",
      "vendita                4\n",
      "abbigliamento          4\n",
      "ricerca                2\n",
      "esperienza             2\n",
      "settore                2\n",
      "%%%%%%%%%%%%%%%%%%%%%%%%%%%%%%%%%%%%%%%%%%%%%%%%%%%%%%%%%%%%%%%%%%%%%%%%%%%%%%%%%%%%%%%%%%%%%%%%%%%%\n",
      "                          Frequency\n",
      "TECNICO ELETTROMECCANICO           \n",
      "anni                              3\n",
      "oltre                             2\n",
      "servizi                           2\n",
      "ricerca                           2\n",
      "almeno                            2\n",
      "%%%%%%%%%%%%%%%%%%%%%%%%%%%%%%%%%%%%%%%%%%%%%%%%%%%%%%%%%%%%%%%%%%%%%%%%%%%%%%%%%%%%%%%%%%%%%%%%%%%%\n",
      "                 Frequency\n",
      "DATA SCIENTIST            \n",
      "data                    10\n",
      "dati                    10\n",
      "analisi                  6\n",
      "principali               5\n",
      "lavoro                   5\n",
      "%%%%%%%%%%%%%%%%%%%%%%%%%%%%%%%%%%%%%%%%%%%%%%%%%%%%%%%%%%%%%%%%%%%%%%%%%%%%%%%%%%%%%%%%%%%%%%%%%%%%\n",
      "              Frequency\n",
      "PIZZAIOLO              \n",
      "lavoro                6\n",
      "ricerca               4\n",
      "pizzaiolo             4\n",
      "requisiti             4\n",
      "preparazione          4\n",
      "%%%%%%%%%%%%%%%%%%%%%%%%%%%%%%%%%%%%%%%%%%%%%%%%%%%%%%%%%%%%%%%%%%%%%%%%%%%%%%%%%%%%%%%%%%%%%%%%%%%%\n",
      "                                Frequency\n",
      "PIZZAIOLO PASTICCERE MACELLAIO           \n",
      "chef                                    2\n",
      "ricerca                                 1\n",
      "propri                                  1\n",
      "resort                                  1\n",
      "puglia                                  1\n",
      "%%%%%%%%%%%%%%%%%%%%%%%%%%%%%%%%%%%%%%%%%%%%%%%%%%%%%%%%%%%%%%%%%%%%%%%%%%%%%%%%%%%%%%%%%%%%%%%%%%%%\n"
     ]
    },
    {
     "data": {
      "image/png": "[encoded data removed]",
      "text/plain": [
       "<Figure size 432x288 with 1 Axes>"
      ]
     },
     "metadata": {},
     "output_type": "display_data"
    },
    {
     "data": {
      "image/png": "[encoded data removed]",
      "text/plain": [
       "<Figure size 432x288 with 1 Axes>"
      ]
     },
     "metadata": {},
     "output_type": "display_data"
    },
    {
     "data": {
      "image/png": "[encoded data removed]",
      "text/plain": [
       "<Figure size 432x288 with 1 Axes>"
      ]
     },
     "metadata": {},
     "output_type": "display_data"
    },
    {
     "data": {
      "image/png": "[encoded data removed]",
      "text/plain": [
       "<Figure size 432x288 with 1 Axes>"
      ]
     },
     "metadata": {},
     "output_type": "display_data"
    },
    {
     "data": {
      "image/png": "[encoded data removed]",
      "text/plain": [
       "<Figure size 432x288 with 1 Axes>"
      ]
     },
     "metadata": {},
     "output_type": "display_data"
    },
    {
     "data": {
      "image/png": "[encoded data removed]",
      "text/plain": [
       "<Figure size 432x288 with 1 Axes>"
      ]
     },
     "metadata": {},
     "output_type": "display_data"
    }
   ],
   "source": [
    "%matplotlib inline\n",
    "matplotlib.style.use('ggplot')\n",
    "field = \"Job_Description\"\n",
    "Role = list(data.Role.unique())\n",
    "for i in Role:\n",
    "    txt = data[data['Role']==i][field]\n",
    "    txt = [i for x in txt.tolist() for i in x]\n",
    "    words_except_stop_dist = nltk.FreqDist(w for w in txt) \n",
    "    words_except_stop_dist\n",
    "    rslt = pd.DataFrame(words_except_stop_dist.most_common(5),\n",
    "                            columns=[i.upper(), 'Frequency']).set_index(i.upper())\n",
    "    print(rslt)\n",
    "    matplotlib.style.use('ggplot')\n",
    "    rslt.plot.bar(rot=0)\n",
    "    print(100 *'%')"
   ]
  },
  {
   "cell_type": "markdown",
   "metadata": {},
   "source": [
    "##### Create Role dictionary and encode the column Role"
   ]
  },
  {
   "cell_type": "code",
   "execution_count": 773,
   "metadata": {},
   "outputs": [],
   "source": [
    "Role_dictionary = pd.Series(data['Target'].unique()).to_dict()\n",
    "Role_dictionary = dict([(value, key) for key, value in Role_dictionary.items()])"
   ]
  },
  {
   "cell_type": "code",
   "execution_count": 774,
   "metadata": {},
   "outputs": [
    {
     "data": {
      "text/plain": [
       "{'elettromeccanici': 0,\n",
       " 'unknown': 1,\n",
       " 'statistici': 2,\n",
       " 'cuochi in alberghi e ristoranti': 3}"
      ]
     },
     "execution_count": 774,
     "metadata": {},
     "output_type": "execute_result"
    }
   ],
   "source": [
    "Role_dictionary"
   ]
  },
  {
   "cell_type": "code",
   "execution_count": 775,
   "metadata": {},
   "outputs": [],
   "source": [
    "# save role dictionary as picke file\n",
    "with open('Role_dictionary.pickle', 'wb') as handle:\n",
    "    pickle.dump(Role_dictionary, handle, protocol=pickle.HIGHEST_PROTOCOL)\n",
    "\n",
    "with open('Role_dictionary.pickle', 'rb') as handle:\n",
    "    b = pickle.load(handle)"
   ]
  },
  {
   "cell_type": "code",
   "execution_count": 778,
   "metadata": {},
   "outputs": [],
   "source": [
    "role_encoded = []\n",
    "for i in data.Target:\n",
    "    role_encoded.append(Role_dictionary.get(i, None))"
   ]
  },
  {
   "cell_type": "code",
   "execution_count": 779,
   "metadata": {},
   "outputs": [
    {
     "name": "stdout",
     "output_type": "stream",
     "text": [
      "[0, 1, 0, 1, 2, 2, 3, 1, 1, 1, 0, 2, 3, 3]\n",
      "%%%%%%%%%%\n",
      "['Manutentore elettromeccanico', 'Commessa', 'Manutentore elettromeccanico', 'Tecnico elettromeccanico', 'Data Scientist ', 'Data Scientist ', 'Pizzaiolo', 'Pizzaiolo Pasticcere Macellaio', 'Commessa', 'Commessa', 'Manutentore elettromeccanico', 'Data Scientist ', 'Pizzaiolo', 'Pizzaiolo']\n"
     ]
    }
   ],
   "source": [
    "print(role_encoded)\n",
    "print(10 *'%')\n",
    "print(data.Role.tolist())"
   ]
  },
  {
   "cell_type": "code",
   "execution_count": 780,
   "metadata": {},
   "outputs": [],
   "source": [
    "##### replace old role values with new values\n",
    "data.Role = role_encoded"
   ]
  },
  {
   "cell_type": "code",
   "execution_count": 781,
   "metadata": {},
   "outputs": [
    {
     "data": {
      "text/html": [
       "<div>\n",
       "<style scoped>\n",
       "    .dataframe tbody tr th:only-of-type {\n",
       "        vertical-align: middle;\n",
       "    }\n",
       "\n",
       "    .dataframe tbody tr th {\n",
       "        vertical-align: top;\n",
       "    }\n",
       "\n",
       "    .dataframe thead th {\n",
       "        text-align: right;\n",
       "    }\n",
       "</style>\n",
       "<table border=\"1\" class=\"dataframe\">\n",
       "  <thead>\n",
       "    <tr style=\"text-align: right;\">\n",
       "      <th></th>\n",
       "      <th>Job_Description</th>\n",
       "      <th>Role</th>\n",
       "      <th>Target</th>\n",
       "    </tr>\n",
       "  </thead>\n",
       "  <tbody>\n",
       "    <tr>\n",
       "      <th>0</th>\n",
       "      <td>[seleziona, manutentore, inserimento, presso, ...</td>\n",
       "      <td>0</td>\n",
       "      <td>elettromeccanici</td>\n",
       "    </tr>\n",
       "    <tr>\n",
       "      <th>1</th>\n",
       "      <td>[ricerchiamo, ricerca, addetti, vendita, punto...</td>\n",
       "      <td>1</td>\n",
       "      <td>unknown</td>\n",
       "    </tr>\n",
       "    <tr>\n",
       "      <th>2</th>\n",
       "      <td>[filiale, seleziona, azienda, cliente, settore...</td>\n",
       "      <td>0</td>\n",
       "      <td>elettromeccanici</td>\n",
       "    </tr>\n",
       "    <tr>\n",
       "      <th>3</th>\n",
       "      <td>[multinazionale, americana, leader, risorse, u...</td>\n",
       "      <td>1</td>\n",
       "      <td>unknown</td>\n",
       "    </tr>\n",
       "    <tr>\n",
       "      <th>4</th>\n",
       "      <td>[filiale, ricerca, azienda, cliente, settore, ...</td>\n",
       "      <td>2</td>\n",
       "      <td>statistici</td>\n",
       "    </tr>\n",
       "  </tbody>\n",
       "</table>\n",
       "</div>"
      ],
      "text/plain": [
       "                                     Job_Description  Role            Target\n",
       "0  [seleziona, manutentore, inserimento, presso, ...     0  elettromeccanici\n",
       "1  [ricerchiamo, ricerca, addetti, vendita, punto...     1           unknown\n",
       "2  [filiale, seleziona, azienda, cliente, settore...     0  elettromeccanici\n",
       "3  [multinazionale, americana, leader, risorse, u...     1           unknown\n",
       "4  [filiale, ricerca, azienda, cliente, settore, ...     2        statistici"
      ]
     },
     "execution_count": 781,
     "metadata": {},
     "output_type": "execute_result"
    }
   ],
   "source": [
    "data.head()"
   ]
  },
  {
   "cell_type": "markdown",
   "metadata": {},
   "source": [
    "#### have a look at bigrams"
   ]
  },
  {
   "cell_type": "code",
   "execution_count": 782,
   "metadata": {},
   "outputs": [
    {
     "data": {
      "text/plain": [
       "0     [seleziona, manutentore, inserimento, presso, ...\n",
       "1     [ricerchiamo, ricerca, addetti, vendita, punto...\n",
       "2     [filiale, seleziona, azienda, cliente, settore...\n",
       "3     [multinazionale, americana, leader, risorse, u...\n",
       "4     [filiale, ricerca, azienda, cliente, settore, ...\n",
       "5     [cercando, data, esperto, appassionato, unisca...\n",
       "6     [elea, ricerca, azienda, cliente, figura, prof...\n",
       "7     [ricerca, propri, resort, puglia, chef, cuoco,...\n",
       "8     [esclusiva, boutique, sita, isola, isole, eoli...\n",
       "9     [cliente, guelfo, ricerca, commesso, abbigliam...\n",
       "10    [divisione, specializzata, ricerca, selezione,...\n",
       "11    [agenzia, lavoro, ricerca, azienda, cliente, s...\n",
       "12    [descrizione, azienda, filiale, divisione, spe...\n",
       "13    [filiale, crostolo, ricerca, aiuto, pizzaiolo,...\n",
       "Name: Job_Description, dtype: object"
      ]
     },
     "execution_count": 782,
     "metadata": {},
     "output_type": "execute_result"
    }
   ],
   "source": [
    "data.Job_Description"
   ]
  },
  {
   "cell_type": "code",
   "execution_count": 783,
   "metadata": {},
   "outputs": [
    {
     "data": {
      "text/plain": [
       "[('ricerchiamo', 'ricerca'),\n",
       " ('ricerca', 'addetti'),\n",
       " ('addetti', 'vendita'),\n",
       " ('vendita', 'punto'),\n",
       " ('punto', 'vendita'),\n",
       " ('vendita', 'abbigliamento')]"
      ]
     },
     "execution_count": 783,
     "metadata": {},
     "output_type": "execute_result"
    }
   ],
   "source": [
    "from nltk import bigrams, collocations\n",
    "Text = data.Job_Description.iloc[1]\n",
    "bigrams_from_text = bigrams(Text)\n",
    "list(bigrams_from_text)[:6]"
   ]
  },
  {
   "cell_type": "code",
   "execution_count": 784,
   "metadata": {},
   "outputs": [
    {
     "data": {
      "text/plain": [
       "[(('ricerchiamo', 'ricerca'), 1),\n",
       " (('ricerca', 'addetti'), 1),\n",
       " (('addetti', 'vendita'), 1),\n",
       " (('vendita', 'punto'), 1),\n",
       " (('punto', 'vendita'), 1),\n",
       " (('vendita', 'abbigliamento'), 1)]"
      ]
     },
     "execution_count": 784,
     "metadata": {},
     "output_type": "execute_result"
    }
   ],
   "source": [
    "bigrams_from_text = bigrams(Text)\n",
    "list(iter(dict(nltk.FreqDist(i for i in list(bigrams_from_text))).items()))[:6]"
   ]
  },
  {
   "cell_type": "markdown",
   "metadata": {},
   "source": [
    "##### convert each word tokenized into a string of words"
   ]
  },
  {
   "cell_type": "code",
   "execution_count": 788,
   "metadata": {},
   "outputs": [],
   "source": [
    "#### to avoid problems with plurals/gender\n",
    "# data.Job_Description.apply(lambda x: [i[:-1] for i in x] )"
   ]
  },
  {
   "cell_type": "code",
   "execution_count": 789,
   "metadata": {},
   "outputs": [
    {
     "data": {
      "text/plain": [
       "0    seleziona manutentore inserimento presso azien...\n",
       "1    ricerchiamo ricerca addetti vendita punto vend...\n",
       "2    filiale seleziona azienda cliente settore meta...\n",
       "3    multinazionale americana leader risorse umane ...\n",
       "4    filiale ricerca azienda cliente settore inform...\n",
       "Name: Job_Description, dtype: object"
      ]
     },
     "execution_count": 789,
     "metadata": {},
     "output_type": "execute_result"
    }
   ],
   "source": [
    "data.Job_Description = data.Job_Description.apply(lambda x: ' '.join(x))\n",
    "data.Job_Description.head()"
   ]
  },
  {
   "cell_type": "markdown",
   "metadata": {},
   "source": [
    "### Data Split "
   ]
  },
  {
   "cell_type": "code",
   "execution_count": 791,
   "metadata": {},
   "outputs": [
    {
     "name": "stdout",
     "output_type": "stream",
     "text": [
      "Number of rows in the total set: 14\n",
      "Number of rows in the training set: 10\n",
      "Number of rows in the test set: 4\n"
     ]
    }
   ],
   "source": [
    "X_train, X_test, y_train, y_test = train_test_split(data['Job_Description'], \n",
    "                                                    data['Role'])\n",
    "\n",
    "print('Number of rows in the total set: {}'.format(data.shape[0]))\n",
    "print('Number of rows in the training set: {}'.format(X_train.shape[0]))\n",
    "print('Number of rows in the test set: {}'.format(X_test.shape[0]))"
   ]
  },
  {
   "cell_type": "markdown",
   "metadata": {},
   "source": [
    "### Bag of Words processing to our dataset"
   ]
  },
  {
   "cell_type": "code",
   "execution_count": 792,
   "metadata": {},
   "outputs": [],
   "source": [
    "from sklearn.feature_extraction.text import CountVectorizer\n",
    "count_vector = CountVectorizer()\n",
    "\n",
    "# Fit the training data and then return the matrix\n",
    "training_data = count_vector.fit_transform(X_train)\n",
    "\n",
    "# Transform testing data and return the matrix. Note we are not fitting the testing data into the CountVectorizer()\n",
    "testing_data = count_vector.transform(X_test)"
   ]
  },
  {
   "cell_type": "code",
   "execution_count": 793,
   "metadata": {},
   "outputs": [
    {
     "data": {
      "text/plain": [
       "(10, 382)"
      ]
     },
     "execution_count": 793,
     "metadata": {},
     "output_type": "execute_result"
    }
   ],
   "source": [
    "training_data.toarray().shape"
   ]
  },
  {
   "cell_type": "code",
   "execution_count": 794,
   "metadata": {},
   "outputs": [
    {
     "name": "stdout",
     "output_type": "stream",
     "text": [
      "training data (10, 382)\n",
      "testing data (4, 382)\n"
     ]
    }
   ],
   "source": [
    "print('training data',training_data.shape)\n",
    "print('testing data',testing_data.shape)"
   ]
  },
  {
   "cell_type": "markdown",
   "metadata": {},
   "source": [
    "### Naive Bayes implementation"
   ]
  },
  {
   "cell_type": "code",
   "execution_count": 795,
   "metadata": {},
   "outputs": [
    {
     "data": {
      "text/plain": [
       "MultinomialNB(alpha=1.0, class_prior=None, fit_prior=True)"
      ]
     },
     "execution_count": 795,
     "metadata": {},
     "output_type": "execute_result"
    }
   ],
   "source": [
    "naive_bayes = MultinomialNB()\n",
    "naive_bayes.fit(training_data, y_train)"
   ]
  },
  {
   "cell_type": "code",
   "execution_count": 796,
   "metadata": {},
   "outputs": [],
   "source": [
    "def get_key(value, dictionary):\n",
    "    for k,v in dictionary.items():\n",
    "        if value == v:\n",
    "            return k"
   ]
  },
  {
   "cell_type": "code",
   "execution_count": 797,
   "metadata": {},
   "outputs": [
    {
     "name": "stdout",
     "output_type": "stream",
     "text": [
      "Prediction for rows [0, 2, 4, 13] are \n",
      " ['elettromeccanici', 'cuochi in alberghi e ristoranti', 'statistici', 'cuochi in alberghi e ristoranti']\n",
      "%%%%%%%%%%%%%%%%%%%%%%%%%%%%%%%%%%%%%%%%%%%%%%%%%%%%%%%%%%%%%%%%%%%%%%%%%%%%%%%%%%%%%%%%%%%%%%%%%%%%\n",
      "actual predictions are: \n",
      " ['elettromeccanici', 'elettromeccanici', 'statistici', 'cuochi in alberghi e ristoranti']\n"
     ]
    }
   ],
   "source": [
    "predictions = naive_bayes.predict(testing_data)\n",
    "predictions_keys = []\n",
    "for i in predictions:\n",
    "    predictions_keys.append(get_key(i,Role_dictionary))\n",
    "print('Prediction for rows {} are \\n {}'.format(X_test.index.tolist(),predictions_keys))\n",
    "\n",
    "print(100*'%')\n",
    "actual_predictions = []\n",
    "for i in y_test.tolist():\n",
    "    actual_predictions.append(get_key(i,Role_dictionary))\n",
    "print('actual predictions are: \\n {}'.format(actual_predictions))"
   ]
  },
  {
   "cell_type": "code",
   "execution_count": 798,
   "metadata": {},
   "outputs": [
    {
     "name": "stdout",
     "output_type": "stream",
     "text": [
      "Accuracy score:  0.75\n"
     ]
    }
   ],
   "source": [
    "# check the accuracy of our model\n",
    "from sklearn.metrics import accuracy_score, precision_score, recall_score, f1_score\n",
    "print('Accuracy score: ', format(accuracy_score(y_test,predictions)))"
   ]
  },
  {
   "cell_type": "code",
   "execution_count": null,
   "metadata": {},
   "outputs": [],
   "source": []
  }
 ],
 "metadata": {
  "kernelspec": {
   "display_name": "Python 3",
   "language": "python",
   "name": "python3"
  },
  "language_info": {
   "codemirror_mode": {
    "name": "ipython",
    "version": 3
   },
   "file_extension": ".py",
   "mimetype": "text/x-python",
   "name": "python",
   "nbconvert_exporter": "python",
   "pygments_lexer": "ipython3",
   "version": "3.6.10"
  }
 },
 "nbformat": 4,
 "nbformat_minor": 2
}
