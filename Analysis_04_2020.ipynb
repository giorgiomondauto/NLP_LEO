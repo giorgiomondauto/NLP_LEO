{
 "cells": [
  {
   "cell_type": "markdown",
   "metadata": {},
   "source": [
    "#### GOAL: \n",
    "Create a model which predicts a Role given a Job Description\n",
    "    \n",
    "##### Input Example: \n",
    "'Randstad Technical di Vimercate seleziona un manutentore per inserimento in somministrazione presso azienda del settore gomma plastica. La risorsa si occuperà della manutenzione ordinaria e straordinaria di presse a iniezione idrauliche  ed elettriche, di attrezzature elettromeccaniche e degli impianti del plant produttivo. Requisiti: diploma o qualifica in ambito meccanico o elettromeccanico; esperienza nella mansione di almeno 3 anni; disponibilità al lavoro sia a giornata che su tre turni; flessibilità, precisione, capacità organizzative, proattività'\n",
    "\n",
    "##### Model outputs:\n",
    "'Elettromeccanici'"
   ]
  },
  {
   "cell_type": "markdown",
   "metadata": {},
   "source": [
    "### Import dependencies"
   ]
  },
  {
   "cell_type": "code",
   "execution_count": 26,
   "metadata": {},
   "outputs": [
    {
     "name": "stderr",
     "output_type": "stream",
     "text": [
      "[nltk_data] Downloading package punkt to\n",
      "[nltk_data]     /Users/giorgiomondauto/nltk_data...\n",
      "[nltk_data]   Package punkt is already up-to-date!\n",
      "[nltk_data] Downloading package stopwords to\n",
      "[nltk_data]     /Users/giorgiomondauto/nltk_data...\n",
      "[nltk_data]   Package stopwords is already up-to-date!\n",
      "[nltk_data] Downloading package words to\n",
      "[nltk_data]     /Users/giorgiomondauto/nltk_data...\n",
      "[nltk_data]   Unzipping corpora/words.zip.\n"
     ]
    }
   ],
   "source": [
    "# !pip install -r requirements.txt\n",
    "import pandas as pd\n",
    "import matplotlib.pyplot as plt\n",
    "from wordcloud import WordCloud, STOPWORDS\n",
    "import matplotlib\n",
    "import re\n",
    "import nltk\n",
    "nltk.download('punkt')\n",
    "nltk.download('stopwords')\n",
    "nltk.download('words')\n",
    "import numpy as np\n",
    "from IPython.display import Image\n",
    "import pickle\n",
    "from nltk import word_tokenize\n",
    "from nltk.corpus import stopwords\n",
    "from sklearn.model_selection import train_test_split\n",
    "from sklearn.feature_extraction.text import CountVectorizer\n",
    "from sklearn.naive_bayes import MultinomialNB\n",
    "# nltk.download('punkt')\n",
    "# nltk.download('stopwords')\n",
    "# nltk.download('words')"
   ]
  },
  {
   "cell_type": "markdown",
   "metadata": {},
   "source": [
    "### Load the data"
   ]
  },
  {
   "cell_type": "code",
   "execution_count": 2,
   "metadata": {},
   "outputs": [
    {
     "name": "stdout",
     "output_type": "stream",
     "text": [
      "dati_aprile shape (650, 3)\n"
     ]
    },
    {
     "data": {
      "text/html": [
       "<div>\n",
       "<style scoped>\n",
       "    .dataframe tbody tr th:only-of-type {\n",
       "        vertical-align: middle;\n",
       "    }\n",
       "\n",
       "    .dataframe tbody tr th {\n",
       "        vertical-align: top;\n",
       "    }\n",
       "\n",
       "    .dataframe thead th {\n",
       "        text-align: right;\n",
       "    }\n",
       "</style>\n",
       "<table border=\"1\" class=\"dataframe\">\n",
       "  <thead>\n",
       "    <tr style=\"text-align: right;\">\n",
       "      <th></th>\n",
       "      <th>Target</th>\n",
       "      <th>Job_Description</th>\n",
       "    </tr>\n",
       "  </thead>\n",
       "  <tbody>\n",
       "    <tr>\n",
       "      <th>107</th>\n",
       "      <td>Cuochi in alberghi e ristoranti</td>\n",
       "      <td>La risorsa, inserita nel dinamico team di cuci...</td>\n",
       "    </tr>\n",
       "    <tr>\n",
       "      <th>268</th>\n",
       "      <td>Statistici</td>\n",
       "      <td>I candidati ideali hanno conseguito la laurea ...</td>\n",
       "    </tr>\n",
       "    <tr>\n",
       "      <th>323</th>\n",
       "      <td>Tecnici web</td>\n",
       "      <td>Web master Esperienza minima: 3 anni Tipo di c...</td>\n",
       "    </tr>\n",
       "    <tr>\n",
       "      <th>385</th>\n",
       "      <td>Tecnici web</td>\n",
       "      <td>Programmatore Web Ravenna, Descrizione Selezio...</td>\n",
       "    </tr>\n",
       "    <tr>\n",
       "      <th>29</th>\n",
       "      <td>Elettromeccanici</td>\n",
       "      <td>La risorsa verra' inserita in un contesto molt...</td>\n",
       "    </tr>\n",
       "  </tbody>\n",
       "</table>\n",
       "</div>"
      ],
      "text/plain": [
       "                              Target  \\\n",
       "107  Cuochi in alberghi e ristoranti   \n",
       "268                       Statistici   \n",
       "323                      Tecnici web   \n",
       "385                      Tecnici web   \n",
       "29                  Elettromeccanici   \n",
       "\n",
       "                                       Job_Description  \n",
       "107  La risorsa, inserita nel dinamico team di cuci...  \n",
       "268  I candidati ideali hanno conseguito la laurea ...  \n",
       "323  Web master Esperienza minima: 3 anni Tipo di c...  \n",
       "385  Programmatore Web Ravenna, Descrizione Selezio...  \n",
       "29   La risorsa verra' inserita in un contesto molt...  "
      ]
     },
     "execution_count": 2,
     "metadata": {},
     "output_type": "execute_result"
    }
   ],
   "source": [
    "professioni = pd.read_csv('data/professioni.csv')\n",
    "dati_aprile = pd.read_csv('Job_vacancies_aprile_completo.csv', skiprows=1, usecols = [1,2,3],\\\n",
    "                          names = ['Target','Sub_Role','Job_Description'])\n",
    "dati_aprile = dati_aprile.reindex(np.random.permutation(dati_aprile.index))\n",
    "print('dati_aprile shape {}'.format(dati_aprile.shape))\n",
    "dati_aprile[['Target','Job_Description']].head() # per facilitare la comprensione dei dati di testo da parte del modello"
   ]
  },
  {
   "cell_type": "code",
   "execution_count": 3,
   "metadata": {
    "scrolled": true
   },
   "outputs": [
    {
     "data": {
      "text/plain": [
       "Commessi delle vendite al minuto    149\n",
       "Statistici                          104\n",
       "Camerieri di ristorante             100\n",
       "Cuochi in alberghi e ristoranti     100\n",
       "Elettromeccanici                     99\n",
       "Tecnici web                          98\n",
       "Name: Target, dtype: int64"
      ]
     },
     "execution_count": 3,
     "metadata": {},
     "output_type": "execute_result"
    }
   ],
   "source": [
    "dati_aprile.Target.value_counts()"
   ]
  },
  {
   "cell_type": "markdown",
   "metadata": {},
   "source": [
    "### Text Preprocessing on Professioni csv"
   ]
  },
  {
   "cell_type": "code",
   "execution_count": 4,
   "metadata": {},
   "outputs": [],
   "source": [
    "# professioni.Subgroup = professioni.Subgroup.apply(lambda x: x.lower().split('\\n'))\n",
    "# professioni.subgroup1 = professioni.subgroup1.apply(lambda x: x.lower().split('\\n'))\n",
    "# professioni.subgroup2 = professioni.subgroup2.apply(lambda x: x.lower().split('\\n'))\n",
    "# professioni.Subgroup = professioni.Subgroup + professioni.subgroup1 + professioni.subgroup2\n",
    "# professioni.Subgroup = professioni.Subgroup.apply(lambda x: list(set(x)))"
   ]
  },
  {
   "cell_type": "code",
   "execution_count": 5,
   "metadata": {},
   "outputs": [],
   "source": [
    "# professioni.head()"
   ]
  },
  {
   "cell_type": "markdown",
   "metadata": {},
   "source": [
    "### Create a dictionary for professioni. e.g. \n",
    "{Statistici : ['attuario', 'data scientist', 'esperto in ricerca operativa',..... ]}"
   ]
  },
  {
   "cell_type": "code",
   "execution_count": 6,
   "metadata": {},
   "outputs": [],
   "source": [
    "# professioni_dictionary = pd.Series(professioni.Subgroup.values,index=professioni.Group).to_dict()\n",
    "# # to remove empty space from the subgroup list of values\n",
    "# for i in range(0,professioni.Subgroup.shape[0]):\n",
    "#     while(\"\" in professioni.Subgroup.iloc[i]) : \n",
    "#         professioni.Subgroup.iloc[i].remove(\"\") "
   ]
  },
  {
   "cell_type": "code",
   "execution_count": 7,
   "metadata": {},
   "outputs": [],
   "source": [
    "# professioni_dictionary"
   ]
  },
  {
   "cell_type": "code",
   "execution_count": 8,
   "metadata": {},
   "outputs": [],
   "source": [
    "# # I need this step to convert back\n",
    "# subgroup_dict = {}\n",
    "# for group, subgroups in professioni_dictionary.items():\n",
    "#     for subgroup in subgroups:\n",
    "#         subgroup_dict[subgroup] = group\n",
    "# subgroup_dict"
   ]
  },
  {
   "cell_type": "markdown",
   "metadata": {},
   "source": [
    "### Text Preprocessing on Job Descripion column"
   ]
  },
  {
   "cell_type": "markdown",
   "metadata": {},
   "source": [
    "#### Tokenization\n",
    "split the text into words"
   ]
  },
  {
   "cell_type": "code",
   "execution_count": 11,
   "metadata": {},
   "outputs": [
    {
     "data": {
      "text/html": [
       "<div>\n",
       "<style scoped>\n",
       "    .dataframe tbody tr th:only-of-type {\n",
       "        vertical-align: middle;\n",
       "    }\n",
       "\n",
       "    .dataframe tbody tr th {\n",
       "        vertical-align: top;\n",
       "    }\n",
       "\n",
       "    .dataframe thead th {\n",
       "        text-align: right;\n",
       "    }\n",
       "</style>\n",
       "<table border=\"1\" class=\"dataframe\">\n",
       "  <thead>\n",
       "    <tr style=\"text-align: right;\">\n",
       "      <th></th>\n",
       "      <th>Target</th>\n",
       "      <th>Job_Description</th>\n",
       "    </tr>\n",
       "  </thead>\n",
       "  <tbody>\n",
       "    <tr>\n",
       "      <th>107</th>\n",
       "      <td>cuochi in alberghi e ristoranti</td>\n",
       "      <td>[la, risorsa, inserita, nel, dinamico, team, d...</td>\n",
       "    </tr>\n",
       "    <tr>\n",
       "      <th>268</th>\n",
       "      <td>statistici</td>\n",
       "      <td>[i, candidati, ideali, hanno, conseguito, la, ...</td>\n",
       "    </tr>\n",
       "    <tr>\n",
       "      <th>323</th>\n",
       "      <td>tecnici web</td>\n",
       "      <td>[web, master, esperienza, minima, anni, tipo, ...</td>\n",
       "    </tr>\n",
       "    <tr>\n",
       "      <th>385</th>\n",
       "      <td>tecnici web</td>\n",
       "      <td>[programmatore, web, ravenna, descrizione, sel...</td>\n",
       "    </tr>\n",
       "    <tr>\n",
       "      <th>29</th>\n",
       "      <td>elettromeccanici</td>\n",
       "      <td>[la, risorsa, verra, inserita, in, un, contest...</td>\n",
       "    </tr>\n",
       "  </tbody>\n",
       "</table>\n",
       "</div>"
      ],
      "text/plain": [
       "                              Target  \\\n",
       "107  cuochi in alberghi e ristoranti   \n",
       "268                       statistici   \n",
       "323                      tecnici web   \n",
       "385                      tecnici web   \n",
       "29                  elettromeccanici   \n",
       "\n",
       "                                       Job_Description  \n",
       "107  [la, risorsa, inserita, nel, dinamico, team, d...  \n",
       "268  [i, candidati, ideali, hanno, conseguito, la, ...  \n",
       "323  [web, master, esperienza, minima, anni, tipo, ...  \n",
       "385  [programmatore, web, ravenna, descrizione, sel...  \n",
       "29   [la, risorsa, verra, inserita, in, un, contest...  "
      ]
     },
     "execution_count": 11,
     "metadata": {},
     "output_type": "execute_result"
    }
   ],
   "source": [
    "# remove punctuation\n",
    "dati_aprile.Job_Description = dati_aprile.Job_Description.apply(lambda x: re.sub('[^a-zA-Z]',' ',x))\n",
    "dati_aprile.Target = dati_aprile.Target.apply(lambda x: x.lower()) #tutte le parole in minuscolo \n",
    "dati_aprile.Job_Description = dati_aprile['Job_Description'].apply(lambda x: word_tokenize(x.lower())) # lowercase each word\n",
    "dati_aprile[['Target','Job_Description']].head()"
   ]
  },
  {
   "cell_type": "markdown",
   "metadata": {},
   "source": [
    "remove words with lenght < 3 (e.g. numbers and not meaningful words)"
   ]
  },
  {
   "cell_type": "code",
   "execution_count": 12,
   "metadata": {},
   "outputs": [
    {
     "data": {
      "text/plain": [
       "107    [risorsa, inserita, nel, dinamico, team, cucin...\n",
       "268    [candidati, ideali, hanno, conseguito, laurea,...\n",
       "323    [web, master, esperienza, minima, anni, tipo, ...\n",
       "385    [programmatore, web, ravenna, descrizione, sel...\n",
       "29     [risorsa, verra, inserita, contesto, molto, am...\n",
       "Name: Job_Description, dtype: object"
      ]
     },
     "execution_count": 12,
     "metadata": {},
     "output_type": "execute_result"
    }
   ],
   "source": [
    "dati_aprile.Job_Description = dati_aprile.Job_Description.apply(lambda x: [i for i in x if len(i) >= 3])\n",
    "dati_aprile.Job_Description.head() # note the word 'vimercate' in row = 0"
   ]
  },
  {
   "cell_type": "code",
   "execution_count": 13,
   "metadata": {},
   "outputs": [
    {
     "data": {
      "text/plain": [
       "107    [risorsa, inserita, nel, dinamico, team, cucin...\n",
       "268    [candidati, ideali, hanno, conseguito, laurea,...\n",
       "323    [web, master, esperienza, minima, anni, tipo, ...\n",
       "385    [programmatore, web, ravenna, descrizione, sel...\n",
       "29     [risorsa, verra, inserita, contesto, molto, am...\n",
       "Name: Job_Description, dtype: object"
      ]
     },
     "execution_count": 13,
     "metadata": {},
     "output_type": "execute_result"
    }
   ],
   "source": [
    "##### remove in 'job_description' words from 'fonte'\n",
    "Fonti = ['randstad', 'monster', 'infojob', 'technical', 'kelly', 'services', 'italia', 'lavoropi',\\\n",
    "             'quanta','adeccp','spa','vimercate','temporary','openjobmetis','agenzia']\n",
    "dati_aprile.Job_Description = dati_aprile.Job_Description.apply(lambda x: [i for i in x if i not in Fonti])\n",
    "dati_aprile.Job_Description.head(5) # compare row 0 and row 2 with previous row 0 and row 2"
   ]
  },
  {
   "cell_type": "markdown",
   "metadata": {},
   "source": [
    "#### Stopwords\n",
    "Stopwords are words generally not relevant to a text; thereby we get rid of them"
   ]
  },
  {
   "cell_type": "code",
   "execution_count": 17,
   "metadata": {},
   "outputs": [
    {
     "name": "stdout",
     "output_type": "stream",
     "text": [
      "Example of stopwords: ['sarebbero', 'vostri', 'fareste', 'faceva', 'dallo', 'chi', 'stette', 'era', 'farebbero', 'agl', 'tua', 'questo', 'ebbero', 'sarà', 'su', 'voi', 'ai', 'abbiate', 'da', 'sarai']\n",
      "%%%%%%%%%%\n",
      "lenth of stopwords: 279\n"
     ]
    }
   ],
   "source": [
    "list_stopwords = list(set(stopwords.words('italian')))\n",
    "print('Example of stopwords:',list_stopwords[:20])\n",
    "print(10 * '%')\n",
    "print('lenth of stopwords: {}'.format(len(list_stopwords)))\n",
    "# molte sono state tagliate nel passaggio precedente when i len < 4"
   ]
  },
  {
   "cell_type": "code",
   "execution_count": 18,
   "metadata": {},
   "outputs": [
    {
     "data": {
      "text/plain": [
       "107    [risorsa, inserita, dinamico, team, cucina, oc...\n",
       "268    [candidati, ideali, conseguito, laurea, specia...\n",
       "323    [web, master, esperienza, minima, anni, tipo, ...\n",
       "385    [programmatore, web, ravenna, descrizione, sel...\n",
       "29     [risorsa, verra, inserita, contesto, molto, am...\n",
       "Name: Job_Description, dtype: object"
      ]
     },
     "execution_count": 18,
     "metadata": {},
     "output_type": "execute_result"
    }
   ],
   "source": [
    "dati_aprile.Job_Description = dati_aprile.Job_Description.apply(lambda x: [i for i in x if i not in list_stopwords] )\n",
    "dati_aprile.Job_Description.head(5)"
   ]
  },
  {
   "cell_type": "code",
   "execution_count": 19,
   "metadata": {},
   "outputs": [],
   "source": [
    "# wordcloud of main words\n",
    "# def cloud(data,backgroundcolor = 'white', width = 800, height = 600):\n",
    "#     wordcloud = WordCloud(stopwords = STOPWORDS, background_color = backgroundcolor,\n",
    "#                          width = width, height = height).generate(data)\n",
    "#     plt.figure(figsize = (15, 10))\n",
    "#     plt.imshow(wordcloud)\n",
    "#     plt.axis(\"off\")\n",
    "#     plt.show()"
   ]
  },
  {
   "cell_type": "code",
   "execution_count": 20,
   "metadata": {},
   "outputs": [],
   "source": [
    "# job_description = dati_aprile['Job_Description'].apply(lambda x: ' '.join(x))\n",
    "# cloud(' '.join(job_description)) # most common words"
   ]
  },
  {
   "cell_type": "markdown",
   "metadata": {},
   "source": [
    "#### Remove words referring to: Comuni, Provincie, Regioni"
   ]
  },
  {
   "cell_type": "code",
   "execution_count": 21,
   "metadata": {},
   "outputs": [],
   "source": [
    "# load a text file containing a list of 'Comuni, Provincie, Regioni' italiane\n",
    "geo_data = pd.read_fwf('data/listacomuni.txt')\n",
    "geo_data.to_csv('data/listacomuni.csv')\n",
    "geo_data = pd.read_csv('data/listacomuni.csv', sep=';')\n",
    "comune = [i.lower() for i in geo_data.Comune]\n",
    "geo_data.Provincia = geo_data.Provincia.apply(lambda x: str(x))\n",
    "provincia = [i.lower() for i in geo_data.Provincia]\n",
    "regione = [i.lower() for i in geo_data.Regione] + ['lazio']\n",
    "# print('Comuni samples:',comune[:10])\n",
    "# print(20*'%')\n",
    "# print('Provincia samples:',provincia[:10])\n",
    "# print(20*'%')\n",
    "# print('Regione samples:',regione[:10])"
   ]
  },
  {
   "cell_type": "code",
   "execution_count": 22,
   "metadata": {},
   "outputs": [],
   "source": [
    "def remove_comuni(data, column, geo_data):\n",
    "    ''' function to remove geographic noisy'''\n",
    "    comune = [i.lower() for i in geo_data.Comune]\n",
    "    geo_data.Provincia = geo_data.Provincia.apply(lambda x: str(x))\n",
    "    provincia = [i.lower() for i in geo_data.Provincia]\n",
    "    regione = [i.lower() for i in geo_data.Regione]  + ['lazio']\n",
    "    \n",
    "    data[column] = data[column].apply(lambda x: [i for i in x if i not in comune])\n",
    "    data[column] = data[column].apply(lambda x: [i for i in x if i not in provincia])\n",
    "    data[column] = data[column].apply(lambda x: [i for i in x if i not in regione])\n",
    "    \n",
    "    return data"
   ]
  },
  {
   "cell_type": "code",
   "execution_count": 23,
   "metadata": {},
   "outputs": [
    {
     "data": {
      "text/html": [
       "<div>\n",
       "<style scoped>\n",
       "    .dataframe tbody tr th:only-of-type {\n",
       "        vertical-align: middle;\n",
       "    }\n",
       "\n",
       "    .dataframe tbody tr th {\n",
       "        vertical-align: top;\n",
       "    }\n",
       "\n",
       "    .dataframe thead th {\n",
       "        text-align: right;\n",
       "    }\n",
       "</style>\n",
       "<table border=\"1\" class=\"dataframe\">\n",
       "  <thead>\n",
       "    <tr style=\"text-align: right;\">\n",
       "      <th></th>\n",
       "      <th>Target</th>\n",
       "      <th>Job_Description</th>\n",
       "    </tr>\n",
       "  </thead>\n",
       "  <tbody>\n",
       "    <tr>\n",
       "      <th>107</th>\n",
       "      <td>cuochi in alberghi e ristoranti</td>\n",
       "      <td>[risorsa, inserita, dinamico, team, cucina, oc...</td>\n",
       "    </tr>\n",
       "    <tr>\n",
       "      <th>268</th>\n",
       "      <td>statistici</td>\n",
       "      <td>[candidati, ideali, conseguito, laurea, specia...</td>\n",
       "    </tr>\n",
       "    <tr>\n",
       "      <th>323</th>\n",
       "      <td>tecnici web</td>\n",
       "      <td>[web, master, esperienza, minima, anni, tipo, ...</td>\n",
       "    </tr>\n",
       "    <tr>\n",
       "      <th>385</th>\n",
       "      <td>tecnici web</td>\n",
       "      <td>[programmatore, web, ravenna, descrizione, sel...</td>\n",
       "    </tr>\n",
       "    <tr>\n",
       "      <th>29</th>\n",
       "      <td>elettromeccanici</td>\n",
       "      <td>[risorsa, verra, inserita, contesto, molto, am...</td>\n",
       "    </tr>\n",
       "  </tbody>\n",
       "</table>\n",
       "</div>"
      ],
      "text/plain": [
       "                              Target  \\\n",
       "107  cuochi in alberghi e ristoranti   \n",
       "268                       statistici   \n",
       "323                      tecnici web   \n",
       "385                      tecnici web   \n",
       "29                  elettromeccanici   \n",
       "\n",
       "                                       Job_Description  \n",
       "107  [risorsa, inserita, dinamico, team, cucina, oc...  \n",
       "268  [candidati, ideali, conseguito, laurea, specia...  \n",
       "323  [web, master, esperienza, minima, anni, tipo, ...  \n",
       "385  [programmatore, web, ravenna, descrizione, sel...  \n",
       "29   [risorsa, verra, inserita, contesto, molto, am...  "
      ]
     },
     "execution_count": 23,
     "metadata": {},
     "output_type": "execute_result"
    }
   ],
   "source": [
    "dati_aprile[['Target','Job_Description']].head()"
   ]
  },
  {
   "cell_type": "code",
   "execution_count": 24,
   "metadata": {},
   "outputs": [
    {
     "data": {
      "text/html": [
       "<div>\n",
       "<style scoped>\n",
       "    .dataframe tbody tr th:only-of-type {\n",
       "        vertical-align: middle;\n",
       "    }\n",
       "\n",
       "    .dataframe tbody tr th {\n",
       "        vertical-align: top;\n",
       "    }\n",
       "\n",
       "    .dataframe thead th {\n",
       "        text-align: right;\n",
       "    }\n",
       "</style>\n",
       "<table border=\"1\" class=\"dataframe\">\n",
       "  <thead>\n",
       "    <tr style=\"text-align: right;\">\n",
       "      <th></th>\n",
       "      <th>Target</th>\n",
       "      <th>Job_Description</th>\n",
       "    </tr>\n",
       "  </thead>\n",
       "  <tbody>\n",
       "    <tr>\n",
       "      <th>107</th>\n",
       "      <td>cuochi in alberghi e ristoranti</td>\n",
       "      <td>[risorsa, inserita, dinamico, team, cucina, oc...</td>\n",
       "    </tr>\n",
       "    <tr>\n",
       "      <th>268</th>\n",
       "      <td>statistici</td>\n",
       "      <td>[candidati, ideali, conseguito, laurea, specia...</td>\n",
       "    </tr>\n",
       "    <tr>\n",
       "      <th>323</th>\n",
       "      <td>tecnici web</td>\n",
       "      <td>[web, master, esperienza, minima, anni, tipo, ...</td>\n",
       "    </tr>\n",
       "    <tr>\n",
       "      <th>385</th>\n",
       "      <td>tecnici web</td>\n",
       "      <td>[programmatore, web, descrizione, selezioniamo...</td>\n",
       "    </tr>\n",
       "    <tr>\n",
       "      <th>29</th>\n",
       "      <td>elettromeccanici</td>\n",
       "      <td>[risorsa, verra, inserita, contesto, molto, am...</td>\n",
       "    </tr>\n",
       "  </tbody>\n",
       "</table>\n",
       "</div>"
      ],
      "text/plain": [
       "                              Target  \\\n",
       "107  cuochi in alberghi e ristoranti   \n",
       "268                       statistici   \n",
       "323                      tecnici web   \n",
       "385                      tecnici web   \n",
       "29                  elettromeccanici   \n",
       "\n",
       "                                       Job_Description  \n",
       "107  [risorsa, inserita, dinamico, team, cucina, oc...  \n",
       "268  [candidati, ideali, conseguito, laurea, specia...  \n",
       "323  [web, master, esperienza, minima, anni, tipo, ...  \n",
       "385  [programmatore, web, descrizione, selezioniamo...  \n",
       "29   [risorsa, verra, inserita, contesto, molto, am...  "
      ]
     },
     "execution_count": 24,
     "metadata": {},
     "output_type": "execute_result"
    }
   ],
   "source": [
    "dati_aprile = remove_comuni(dati_aprile, 'Job_Description', geo_data)\n",
    "dati_aprile[['Target','Job_Description']].head()"
   ]
  },
  {
   "cell_type": "markdown",
   "metadata": {},
   "source": [
    "##### Get rid of unusual_words : misspelled words - uncommon words¶"
   ]
  },
  {
   "cell_type": "code",
   "execution_count": 27,
   "metadata": {},
   "outputs": [],
   "source": [
    "italian_vocab = pd.read_fwf('data/660000_parole_italiane.txt', names = ['word'])\n",
    "italian_vocab = set(italian_vocab.word.tolist())\n",
    "english_vocab = sorted(set(w.lower() for w in nltk.corpus.words.words())) # english vocabulary"
   ]
  },
  {
   "cell_type": "code",
   "execution_count": 28,
   "metadata": {},
   "outputs": [],
   "source": [
    "def uncommon_words(data,column, italian_vocab, english_vocab = None):\n",
    "    data[column] = data[column].apply(lambda x: [i for i in x if i in italian_vocab])\n",
    "    return data"
   ]
  },
  {
   "cell_type": "code",
   "execution_count": 29,
   "metadata": {},
   "outputs": [
    {
     "data": {
      "text/html": [
       "<div>\n",
       "<style scoped>\n",
       "    .dataframe tbody tr th:only-of-type {\n",
       "        vertical-align: middle;\n",
       "    }\n",
       "\n",
       "    .dataframe tbody tr th {\n",
       "        vertical-align: top;\n",
       "    }\n",
       "\n",
       "    .dataframe thead th {\n",
       "        text-align: right;\n",
       "    }\n",
       "</style>\n",
       "<table border=\"1\" class=\"dataframe\">\n",
       "  <thead>\n",
       "    <tr style=\"text-align: right;\">\n",
       "      <th></th>\n",
       "      <th>Target</th>\n",
       "      <th>Job_Description</th>\n",
       "    </tr>\n",
       "  </thead>\n",
       "  <tbody>\n",
       "    <tr>\n",
       "      <th>107</th>\n",
       "      <td>cuochi in alberghi e ristoranti</td>\n",
       "      <td>[risorsa, inserita, dinamico, team, cucina, pr...</td>\n",
       "    </tr>\n",
       "    <tr>\n",
       "      <th>268</th>\n",
       "      <td>statistici</td>\n",
       "      <td>[candidati, ideali, conseguito, laurea, specia...</td>\n",
       "    </tr>\n",
       "    <tr>\n",
       "      <th>323</th>\n",
       "      <td>tecnici web</td>\n",
       "      <td>[web, master, esperienza, minima, anni, tipo, ...</td>\n",
       "    </tr>\n",
       "    <tr>\n",
       "      <th>385</th>\n",
       "      <td>tecnici web</td>\n",
       "      <td>[programmatore, web, descrizione, selezioniamo...</td>\n",
       "    </tr>\n",
       "    <tr>\n",
       "      <th>29</th>\n",
       "      <td>elettromeccanici</td>\n",
       "      <td>[risorsa, verra, inserita, contesto, molto, am...</td>\n",
       "    </tr>\n",
       "  </tbody>\n",
       "</table>\n",
       "</div>"
      ],
      "text/plain": [
       "                              Target  \\\n",
       "107  cuochi in alberghi e ristoranti   \n",
       "268                       statistici   \n",
       "323                      tecnici web   \n",
       "385                      tecnici web   \n",
       "29                  elettromeccanici   \n",
       "\n",
       "                                       Job_Description  \n",
       "107  [risorsa, inserita, dinamico, team, cucina, pr...  \n",
       "268  [candidati, ideali, conseguito, laurea, specia...  \n",
       "323  [web, master, esperienza, minima, anni, tipo, ...  \n",
       "385  [programmatore, web, descrizione, selezioniamo...  \n",
       "29   [risorsa, verra, inserita, contesto, molto, am...  "
      ]
     },
     "execution_count": 29,
     "metadata": {},
     "output_type": "execute_result"
    }
   ],
   "source": [
    "dati_aprile = uncommon_words(dati_aprile, 'Job_Description', italian_vocab, english_vocab)\n",
    "dati_aprile[['Target','Job_Description']].head()# note that the word 'vimercate' is not present anymore"
   ]
  },
  {
   "cell_type": "code",
   "execution_count": 30,
   "metadata": {},
   "outputs": [],
   "source": [
    "stemmer = nltk.stem.snowball.ItalianStemmer(ignore_stopwords=True)\n",
    "\n",
    "def stemming(dataset):\n",
    "    ''' stemming a text '''\n",
    "    stemmer = nltk.stem.snowball.ItalianStemmer(ignore_stopwords=False)\n",
    "    dataset['Job_Description'] = dataset['Job_Description'].apply(lambda x: [stemmer.stem(i) \\\n",
    "                                                                        for i in x])\n",
    "    return dataset\n",
    "\n",
    "dati_aprile = stemming(dati_aprile)"
   ]
  },
  {
   "cell_type": "code",
   "execution_count": 31,
   "metadata": {},
   "outputs": [
    {
     "data": {
      "text/html": [
       "<div>\n",
       "<style scoped>\n",
       "    .dataframe tbody tr th:only-of-type {\n",
       "        vertical-align: middle;\n",
       "    }\n",
       "\n",
       "    .dataframe tbody tr th {\n",
       "        vertical-align: top;\n",
       "    }\n",
       "\n",
       "    .dataframe thead th {\n",
       "        text-align: right;\n",
       "    }\n",
       "</style>\n",
       "<table border=\"1\" class=\"dataframe\">\n",
       "  <thead>\n",
       "    <tr style=\"text-align: right;\">\n",
       "      <th></th>\n",
       "      <th>Target</th>\n",
       "      <th>Sub_Role</th>\n",
       "      <th>Job_Description</th>\n",
       "    </tr>\n",
       "  </thead>\n",
       "  <tbody>\n",
       "    <tr>\n",
       "      <th>107</th>\n",
       "      <td>cuochi in alberghi e ristoranti</td>\n",
       "      <td>cuoco-grigliere/cuoca-grigliera</td>\n",
       "      <td>[risors, inser, dinam, team, cucin, principal,...</td>\n",
       "    </tr>\n",
       "    <tr>\n",
       "      <th>268</th>\n",
       "      <td>statistici</td>\n",
       "      <td>DATA SCIENTISTS / MACHINE LEARNING ENGINEERS</td>\n",
       "      <td>[candid, ideal, consegu, laure, specialist, di...</td>\n",
       "    </tr>\n",
       "    <tr>\n",
       "      <th>323</th>\n",
       "      <td>tecnici web</td>\n",
       "      <td>Web master</td>\n",
       "      <td>[web, master, esperit, minim, anni, tip, contr...</td>\n",
       "    </tr>\n",
       "    <tr>\n",
       "      <th>385</th>\n",
       "      <td>tecnici web</td>\n",
       "      <td>programmatore web</td>\n",
       "      <td>[programm, web, descrizion, selezion, azi, cli...</td>\n",
       "    </tr>\n",
       "    <tr>\n",
       "      <th>29</th>\n",
       "      <td>elettromeccanici</td>\n",
       "      <td>Avvolgitore motori elettrici</td>\n",
       "      <td>[risors, verr, inser, contest, molt, ampi, str...</td>\n",
       "    </tr>\n",
       "  </tbody>\n",
       "</table>\n",
       "</div>"
      ],
      "text/plain": [
       "                              Target  \\\n",
       "107  cuochi in alberghi e ristoranti   \n",
       "268                       statistici   \n",
       "323                      tecnici web   \n",
       "385                      tecnici web   \n",
       "29                  elettromeccanici   \n",
       "\n",
       "                                         Sub_Role  \\\n",
       "107               cuoco-grigliere/cuoca-grigliera   \n",
       "268  DATA SCIENTISTS / MACHINE LEARNING ENGINEERS   \n",
       "323                                    Web master   \n",
       "385                             programmatore web   \n",
       "29                   Avvolgitore motori elettrici   \n",
       "\n",
       "                                       Job_Description  \n",
       "107  [risors, inser, dinam, team, cucin, principal,...  \n",
       "268  [candid, ideal, consegu, laure, specialist, di...  \n",
       "323  [web, master, esperit, minim, anni, tip, contr...  \n",
       "385  [programm, web, descrizion, selezion, azi, cli...  \n",
       "29   [risors, verr, inser, contest, molt, ampi, str...  "
      ]
     },
     "execution_count": 31,
     "metadata": {},
     "output_type": "execute_result"
    }
   ],
   "source": [
    "dati_aprile.head()"
   ]
  },
  {
   "cell_type": "code",
   "execution_count": 32,
   "metadata": {},
   "outputs": [
    {
     "data": {
      "text/plain": [
       "107    [risors, inser, dinam, team, cucin, principal,...\n",
       "268    [candid, ideal, consegu, laure, specialist, di...\n",
       "323    [web, master, esperit, minim, anni, tip, contr...\n",
       "385    [programm, web, descrizion, selezion, azi, cli...\n",
       "29     [risors, verr, inser, contest, molt, ampi, str...\n",
       "Name: Job_Description, dtype: object"
      ]
     },
     "execution_count": 32,
     "metadata": {},
     "output_type": "execute_result"
    }
   ],
   "source": [
    "noisy_words = ['degli','tipi','del','dei','delle','per','nel','dell',\\\n",
    "               'sui','less','sul','che','jsss','teor','dal','della']\n",
    "dati_aprile['Job_Description'] = dati_aprile['Job_Description'].apply(lambda x: [i for i in x if i not in noisy_words])\n",
    "dati_aprile['Job_Description'] .head()"
   ]
  },
  {
   "cell_type": "code",
   "execution_count": 33,
   "metadata": {},
   "outputs": [],
   "source": [
    "# %matplotlib inline\n",
    "# matplotlib.style.use('ggplot')\n",
    "# field = \"Job_Description\"\n",
    "# Role = list(dati_aprile.Target.unique())\n",
    "# for i in Role:\n",
    "#     txt = dati_aprile[dati_aprile['Target']==i][field]\n",
    "#     txt = [i for x in txt.tolist() for i in x]\n",
    "#     words_except_stop_dist = nltk.FreqDist(w for w in txt) \n",
    "#     words_except_stop_dist\n",
    "#     rslt = pd.DataFrame(words_except_stop_dist.most_common(35),\n",
    "#                             columns=[i.upper(), 'Frequency']).set_index(i.upper())\n",
    "#     print(rslt)\n",
    "#     matplotlib.style.use('ggplot')\n",
    "#     rslt.plot.bar(rot=0)\n",
    "#     print(100 *'%')"
   ]
  },
  {
   "cell_type": "code",
   "execution_count": 34,
   "metadata": {},
   "outputs": [],
   "source": [
    "# %matplotlib inline\n",
    "# matplotlib.style.use('ggplot')\n",
    "# field = \"Job_Description\"\n",
    "# Role = list(dati_aprile.Target.unique())\n",
    "# wordcount = []\n",
    "# for i in Role:\n",
    "#     txt = dati_aprile[dati_aprile['Target']==i][field]\n",
    "#     txt = [i for x in txt.tolist() for i in x]\n",
    "#     words_except_stop_dist = nltk.FreqDist(w for w in txt) \n",
    "    \n",
    "#     wordcount.append(pd.DataFrame(words_except_stop_dist.most_common(10),\n",
    "#                             columns=[i.upper(), 'Frequency']).set_index(i.upper()))"
   ]
  },
  {
   "cell_type": "code",
   "execution_count": 35,
   "metadata": {},
   "outputs": [],
   "source": [
    "# dati = pd.concat(wordcount,axis = 0)\n",
    "# dati['parola'] = dati.index\n",
    "# ruolo = []\n",
    "# for i in Role:\n",
    "#     ruolo.append([i] * 10)\n",
    "# dati['ruolo'] = [i for x in ruolo for i in x]"
   ]
  },
  {
   "cell_type": "code",
   "execution_count": 36,
   "metadata": {},
   "outputs": [],
   "source": [
    "# dati.to_csv('../dati_tableau_text.csv')"
   ]
  },
  {
   "cell_type": "markdown",
   "metadata": {},
   "source": [
    "##### Create Role dictionary and encode the column Role"
   ]
  },
  {
   "cell_type": "code",
   "execution_count": 37,
   "metadata": {},
   "outputs": [
    {
     "data": {
      "text/plain": [
       "{'cuochi in alberghi e ristoranti': 0,\n",
       " 'statistici': 1,\n",
       " 'tecnici web': 2,\n",
       " 'elettromeccanici': 3,\n",
       " 'commessi delle vendite al minuto': 4,\n",
       " 'camerieri di ristorante': 5}"
      ]
     },
     "execution_count": 37,
     "metadata": {},
     "output_type": "execute_result"
    }
   ],
   "source": [
    "Role_dictionary = pd.Series(dati_aprile['Target'].unique()).to_dict()\n",
    "Role_dictionary = dict([(value, key) for key, value in Role_dictionary.items()])\n",
    "Role_dictionary"
   ]
  },
  {
   "cell_type": "code",
   "execution_count": null,
   "metadata": {},
   "outputs": [],
   "source": [
    "dati_aprile['Multi_Class'] = dati_aprile['Target'].apply(lambda x: Role_dictionary.get(x,'Unknown'))\n",
    "dati_aprile[['Target','Multi_Class','Job_Description']]"
   ]
  },
  {
   "cell_type": "markdown",
   "metadata": {},
   "source": [
    "#### Have a look at bigrams"
   ]
  },
  {
   "cell_type": "code",
   "execution_count": 89,
   "metadata": {},
   "outputs": [],
   "source": [
    "# from nltk import bigrams, collocations\n",
    "# Text = dati_aprile.Job_Description.iloc[1]\n",
    "# bigrams_from_text = bigrams(Text)\n",
    "# list(bigrams_from_text)[:6]"
   ]
  },
  {
   "cell_type": "code",
   "execution_count": 90,
   "metadata": {},
   "outputs": [],
   "source": [
    "# bigrams_from_text = bigrams(Text)\n",
    "\n",
    "# list(iter(dict(nltk.FreqDist(i for i in list(bigrams_from_text))).items()))[:6]"
   ]
  },
  {
   "cell_type": "code",
   "execution_count": 33,
   "metadata": {},
   "outputs": [
    {
     "data": {
      "text/plain": [
       "539    addett banc salum risors verrann inser contrat...\n",
       "341    webmaster azi titol stud diplom matur settor e...\n",
       "504    risors vend assistt client manten banc pul ord...\n",
       "169    lavor filial ricerc struttur sanitar aiut cuoc...\n",
       "602    addett banc pescher principal mansion occup ri...\n",
       "Name: Job_Description, dtype: object"
      ]
     },
     "execution_count": 33,
     "metadata": {},
     "output_type": "execute_result"
    }
   ],
   "source": [
    "dati_aprile.Job_Description = dati_aprile.Job_Description.apply(lambda x: ' '.join(x))\n",
    "dati_aprile.Job_Description.head()"
   ]
  },
  {
   "cell_type": "markdown",
   "metadata": {},
   "source": [
    "### Data Split"
   ]
  },
  {
   "cell_type": "code",
   "execution_count": 43,
   "metadata": {},
   "outputs": [
    {
     "name": "stdout",
     "output_type": "stream",
     "text": [
      "Number of rows in the total set: 650\n",
      "Number of rows in the training set: 520\n",
      "Number of rows in the test set: 130\n"
     ]
    }
   ],
   "source": [
    "X_train, X_test, y_train, y_test = train_test_split(dati_aprile['Job_Description'], \n",
    "                                                    dati_aprile['Multi_Class'],\n",
    "                                                   test_size=0.20, random_state=42)\n",
    "\n",
    "print('Number of rows in the total set: {}'.format(dati_aprile.shape[0]))\n",
    "print('Number of rows in the training set: {}'.format(X_train.shape[0]))\n",
    "print('Number of rows in the test set: {}'.format(X_test.shape[0]))"
   ]
  },
  {
   "cell_type": "markdown",
   "metadata": {},
   "source": [
    "### Bag of Words processing to our dataset"
   ]
  },
  {
   "cell_type": "code",
   "execution_count": 44,
   "metadata": {},
   "outputs": [],
   "source": [
    "# # list of text documents\n",
    "# text = ['Io ho esperienza come cuoco in ristoranti e alberghi. Vorrei candidarmi come cuoco o aiuto cuoco']\n",
    "# print(text)\n",
    "# print(10*'#')\n",
    "# vectorizer = CountVectorizer()\n",
    "# # tokenize and build vocab\n",
    "# vectorizer.fit(text)\n",
    "# vectorizer.vocabulary_['solo'] = max(vectorizer.vocabulary_.values()) + 1\n",
    "# print(vectorizer.vocabulary_)\n",
    "\n",
    "# # encode document\n",
    "# vector = vectorizer.transform(text)\n",
    "# # summarize encoded vector\n",
    "# print(10*'#')\n",
    "# print('Le parole uniche sono: ',vector.shape[1])\n",
    "# print(10*'#')\n",
    "# print(vector.toarray())"
   ]
  },
  {
   "cell_type": "code",
   "execution_count": 45,
   "metadata": {},
   "outputs": [],
   "source": [
    "# from sklearn.feature_extraction.text import CountVectorizer\n",
    "# count_vector = CountVectorizer()\n",
    "\n",
    "# count_vector.fit(X_train)\n",
    "# # # Fit the training data and then return the matrix\n",
    "# training_data = count_vector.transform(X_train)\n",
    "# with open(\"count_vector.pkl\", 'wb') as handle:\n",
    "#                     pickle.dump(count_vector, handle)\n",
    "        \n",
    "# with open(\"Role_dictionary.pkl\", 'wb') as handle:\n",
    "#                 pickle.dump(Role_dictionary, handle)       \n",
    "\n",
    "# # Transform testing data and return the matrix. Note we are not fitting the testing data into the CountVectorizer()\n",
    "# testing_data = count_vector.transform(X_test)"
   ]
  },
  {
   "cell_type": "code",
   "execution_count": 46,
   "metadata": {},
   "outputs": [
    {
     "data": {
      "text/plain": [
       "CountVectorizer(analyzer='word', binary=False, decode_error='strict',\n",
       "                dtype=<class 'numpy.int64'>, encoding='utf-8', input='content',\n",
       "                lowercase=True, max_df=1.0, max_features=None, min_df=1,\n",
       "                ngram_range=(1, 1), preprocessor=None, stop_words=None,\n",
       "                strip_accents=None, token_pattern='(?u)\\\\b\\\\w\\\\w+\\\\b',\n",
       "                tokenizer=None, vocabulary=None)"
      ]
     },
     "execution_count": 46,
     "metadata": {},
     "output_type": "execute_result"
    }
   ],
   "source": [
    "from sklearn.feature_extraction.text import CountVectorizer\n",
    "count_vector = CountVectorizer()\n",
    "count_vector.fit(X_train)"
   ]
  },
  {
   "cell_type": "code",
   "execution_count": 47,
   "metadata": {},
   "outputs": [],
   "source": [
    "with open('lista_skills.pkl', 'rb') as handle:\n",
    "    lista = pickle.load(handle)"
   ]
  },
  {
   "cell_type": "code",
   "execution_count": 48,
   "metadata": {},
   "outputs": [
    {
     "data": {
      "text/plain": [
       "['attiv',\n",
       " 'vend',\n",
       " 'scienz',\n",
       " 'vinicol',\n",
       " 'assicur',\n",
       " 'settor',\n",
       " 'rivest',\n",
       " 'mural',\n",
       " 'rivest',\n",
       " 'pav',\n",
       " 'specif',\n",
       " 'softw',\n",
       " 'ingegner',\n",
       " 'elettr',\n",
       " 'specif',\n",
       " 'uva',\n",
       " 'smalltalk',\n",
       " 'programm',\n",
       " 'informat',\n",
       " 'norm',\n",
       " 'prodott',\n",
       " 'origin',\n",
       " 'animal',\n",
       " 'istruzion',\n",
       " 'fabbric',\n",
       " 'material',\n",
       " 'audiovis',\n",
       " 'anatom',\n",
       " 'pesc',\n",
       " 'teor',\n",
       " 'insiem',\n",
       " 'stamp',\n",
       " 'scritt',\n",
       " 'apl',\n",
       " 'common',\n",
       " 'lisp',\n",
       " 'event',\n",
       " 'sport',\n",
       " 'norm',\n",
       " 'mater',\n",
       " 'apparecchiatur',\n",
       " 'elettr',\n",
       " 'biotecnolog',\n",
       " 'psicolog',\n",
       " 'cognit',\n",
       " 'floricoltur',\n",
       " 'attiv',\n",
       " 'ricreat',\n",
       " 'softw',\n",
       " 'uffic',\n",
       " 'metod',\n",
       " 'analis',\n",
       " 'prestazion',\n",
       " 'tic',\n",
       " 'ajax',\n",
       " 'process',\n",
       " 'birrif',\n",
       " 'utensil',\n",
       " 'meccan',\n",
       " 'caratterist',\n",
       " 'serviz',\n",
       " 'vin',\n",
       " 'frizzant',\n",
       " 'strateg',\n",
       " 'commercializz',\n",
       " 'conten',\n",
       " 'process',\n",
       " 'controll',\n",
       " 'cred',\n",
       " 'indagin',\n",
       " 'opinion',\n",
       " 'attiv',\n",
       " 'promozional',\n",
       " 'reazion',\n",
       " 'allerg',\n",
       " 'cosmet',\n",
       " 'adob',\n",
       " 'illustrator',\n",
       " 'ingegner',\n",
       " 'meccan',\n",
       " 'elettr',\n",
       " 'prolog',\n",
       " 'programm',\n",
       " 'informat',\n",
       " 'nutrient',\n",
       " 'dolcium',\n",
       " 'acust',\n",
       " 'metodolog',\n",
       " 'ricerc',\n",
       " 'scientif',\n",
       " 'pascal',\n",
       " 'programm',\n",
       " 'informat',\n",
       " 'farmacocinet',\n",
       " 'biometr',\n",
       " 'sas',\n",
       " 'languag',\n",
       " 'tagl',\n",
       " 'articol',\n",
       " 'abbigl',\n",
       " 'variet',\n",
       " 'birr',\n",
       " 'attiv',\n",
       " 'bancar',\n",
       " 'elettromeccan',\n",
       " 'ricerc',\n",
       " 'merc',\n",
       " 'process',\n",
       " 'maltazion',\n",
       " 'urbanist',\n",
       " 'riservatezz',\n",
       " 'inform',\n",
       " 'igien',\n",
       " 'ambient',\n",
       " 'assistt',\n",
       " 'sanitar',\n",
       " 'programm',\n",
       " 'informat',\n",
       " 'sistem',\n",
       " 'commerc',\n",
       " 'elettron',\n",
       " 'linguagg',\n",
       " 'fogl',\n",
       " 'stil',\n",
       " 'tecnic',\n",
       " 'decor',\n",
       " 'cas',\n",
       " 'prodott',\n",
       " 'floreal',\n",
       " 'piant',\n",
       " 'caten',\n",
       " 'fredd',\n",
       " 'princip',\n",
       " 'ingegner',\n",
       " 'meccan',\n",
       " 'ediliz',\n",
       " 'strateg',\n",
       " 'mater',\n",
       " 'sicurezz',\n",
       " 'inform',\n",
       " 'visual',\n",
       " 'matlab',\n",
       " 'material',\n",
       " 'calzatur',\n",
       " 'normat',\n",
       " 'sicurezz',\n",
       " 'elettr',\n",
       " 'istruzion',\n",
       " 'fabbric',\n",
       " 'gli',\n",
       " 'elettrodomest',\n",
       " 'utilizz',\n",
       " 'attrezzatur',\n",
       " 'sportiv',\n",
       " 'microprocessor',\n",
       " 'argoment',\n",
       " 'vend',\n",
       " 'tecnic',\n",
       " 'promozion',\n",
       " 'vend',\n",
       " 'regim',\n",
       " 'alimentar',\n",
       " 'leg',\n",
       " 'motiv',\n",
       " 'relig',\n",
       " 'cultural',\n",
       " 'allerg',\n",
       " 'scratc',\n",
       " 'programm',\n",
       " 'informat',\n",
       " 'requis',\n",
       " 'giurid',\n",
       " 'oper',\n",
       " 'settor',\n",
       " 'vend',\n",
       " 'dettagl',\n",
       " 'automobil',\n",
       " 'meccatron',\n",
       " 'regol',\n",
       " 'contabil',\n",
       " 'arred',\n",
       " 'openedg',\n",
       " 'advanced',\n",
       " 'languag',\n",
       " 'princip',\n",
       " 'controll',\n",
       " 'esport',\n",
       " 'abap',\n",
       " 'process',\n",
       " 'ferment',\n",
       " 'bevand',\n",
       " 'gener',\n",
       " 'musical',\n",
       " 'material',\n",
       " 'giocattol',\n",
       " 'prodott',\n",
       " 'cur',\n",
       " 'piant',\n",
       " 'normat',\n",
       " 'beness',\n",
       " 'animal',\n",
       " 'comprension',\n",
       " 'prodott',\n",
       " 'polit',\n",
       " 'aziendal',\n",
       " 'raccomand',\n",
       " 'sicurezz',\n",
       " 'mater',\n",
       " 'gioc',\n",
       " 'giocattol',\n",
       " 'world',\n",
       " 'wid',\n",
       " 'consortium',\n",
       " 'settor',\n",
       " 'articol',\n",
       " 'ortoped',\n",
       " 'schem',\n",
       " 'impiant',\n",
       " 'elettr',\n",
       " 'strateg',\n",
       " 'editorial',\n",
       " 'industr',\n",
       " 'tessil',\n",
       " 'apparecchiatur',\n",
       " 'audiolog',\n",
       " 'scienz',\n",
       " 'attuarial',\n",
       " 'autom',\n",
       " 'costitu',\n",
       " 'chimic',\n",
       " 'haskell',\n",
       " 'geograf',\n",
       " 'prodott',\n",
       " 'ittic',\n",
       " 'crostace',\n",
       " 'mollusc',\n",
       " 'caratterist',\n",
       " 'metall',\n",
       " 'prezios',\n",
       " 'gestion',\n",
       " 'caten',\n",
       " 'approvvigion',\n",
       " 'biolog',\n",
       " 'softw',\n",
       " 'tratt',\n",
       " 'vall',\n",
       " 'birr',\n",
       " 'metodolog',\n",
       " 'assicur',\n",
       " 'qualit',\n",
       " 'variet',\n",
       " 'ittic',\n",
       " 'malatt',\n",
       " 'origin',\n",
       " 'aliment',\n",
       " 'prezz',\n",
       " 'consigl',\n",
       " 'fabbric',\n",
       " 'inform',\n",
       " 'recension',\n",
       " 'libr',\n",
       " 'algoritm',\n",
       " 'softw',\n",
       " 'authoring',\n",
       " 'metod',\n",
       " 'collaud',\n",
       " 'elettr',\n",
       " 'pian',\n",
       " 'cablagg',\n",
       " 'elettr',\n",
       " 'marc',\n",
       " 'tabacc',\n",
       " 'assembly',\n",
       " 'programm',\n",
       " 'informat',\n",
       " 'tess',\n",
       " 'norm',\n",
       " 'relat',\n",
       " 'alle',\n",
       " 'munizion',\n",
       " 'css',\n",
       " 'norm',\n",
       " 'sulle',\n",
       " 'apparecchiatur',\n",
       " 'elettron',\n",
       " 'inform',\n",
       " 'mater',\n",
       " 'competizion',\n",
       " 'sportiv',\n",
       " 'funzional',\n",
       " 'videogioc',\n",
       " 'softw',\n",
       " 'cae',\n",
       " 'norm',\n",
       " 'gestion',\n",
       " 'giacenz',\n",
       " 'veicol',\n",
       " 'disegn',\n",
       " 'progett',\n",
       " 'tecnolog',\n",
       " 'jav',\n",
       " 'programm',\n",
       " 'informat',\n",
       " 'scal',\n",
       " 'proxy',\n",
       " 'caratterist',\n",
       " 'piant',\n",
       " 'disegn',\n",
       " 'part',\n",
       " 'autoveicol',\n",
       " 'conserv',\n",
       " 'cib',\n",
       " 'pension',\n",
       " 'accessor',\n",
       " 'cav',\n",
       " 'elettr',\n",
       " 'buon',\n",
       " 'pratic',\n",
       " 'sistem',\n",
       " 'caratterist',\n",
       " 'prodott',\n",
       " 'c++',\n",
       " 'prodott',\n",
       " 'finanziar',\n",
       " 'tendenz',\n",
       " 'mod',\n",
       " 'modell',\n",
       " 'scientif',\n",
       " 'tendenz',\n",
       " 'settor',\n",
       " 'videogioc',\n",
       " 'sistem',\n",
       " 'difes',\n",
       " 'caratterist',\n",
       " 'diamant',\n",
       " 'statist',\n",
       " 'nutrizion',\n",
       " 'meccan',\n",
       " 'nuov',\n",
       " 'veicol',\n",
       " 'merc',\n",
       " 'legisl',\n",
       " 'aliment',\n",
       " 'valut',\n",
       " 'qualit',\n",
       " 'dat',\n",
       " 'demograf',\n",
       " 'ingredient',\n",
       " 'cosmet',\n",
       " 'vin',\n",
       " 'caratterist',\n",
       " 'volt',\n",
       " 'javascript',\n",
       " 'are',\n",
       " 'region',\n",
       " 'offert',\n",
       " 'turist',\n",
       " 'erlang',\n",
       " 'disc',\n",
       " 'vinil',\n",
       " 'asp.net',\n",
       " 'matemat',\n",
       " 'objective-c',\n",
       " 'struttur',\n",
       " 'settor',\n",
       " 'telecomun',\n",
       " 'softw',\n",
       " 'sistem',\n",
       " 'analis',\n",
       " 'statist',\n",
       " 'industr',\n",
       " 'meccan',\n",
       " 'imbarc',\n",
       " 'microsoft',\n",
       " 'visual',\n",
       " 'c++',\n",
       " 'lisp',\n",
       " 'vbscript',\n",
       " 'sketchbook',\n",
       " 'requis',\n",
       " 'legal',\n",
       " 'prodott',\n",
       " 'tic',\n",
       " 'nutrizion',\n",
       " 'sport',\n",
       " 'legg',\n",
       " 'disciplin',\n",
       " 'somministr',\n",
       " 'alcol',\n",
       " 'cib',\n",
       " 'bevand',\n",
       " 'elettron',\n",
       " 'macchin',\n",
       " 'moviment',\n",
       " 'material',\n",
       " 'costruzion',\n",
       " 'motor',\n",
       " 'veicol',\n",
       " 'strument',\n",
       " 'tic',\n",
       " 'anatom',\n",
       " 'uman',\n",
       " 'sociolog',\n",
       " 'controllor',\n",
       " 'logic',\n",
       " 'programm',\n",
       " 'industr',\n",
       " 'calzaturier',\n",
       " 'sched',\n",
       " 'circu',\n",
       " 'stamp',\n",
       " 'tecnic',\n",
       " 'recuper',\n",
       " 'dat',\n",
       " 'tic',\n",
       " 'categor',\n",
       " 'prodott',\n",
       " 'gioieller',\n",
       " 'arte',\n",
       " 'programm',\n",
       " 'informat',\n",
       " 'ruby',\n",
       " 'programm',\n",
       " 'informat',\n",
       " 'tendenz',\n",
       " 'settor',\n",
       " 'caratterist',\n",
       " 'attrezzatur',\n",
       " 'sportiv',\n",
       " 'fornitur',\n",
       " 'ortoped',\n",
       " 'composizion',\n",
       " 'diet',\n",
       " 'orzo',\n",
       " 'malatt',\n",
       " 'animal',\n",
       " 'affezion',\n",
       " 'merc',\n",
       " 'assicur',\n",
       " 'groovy',\n",
       " 'medicinal',\n",
       " 'softw',\n",
       " 'grafic',\n",
       " 'industr',\n",
       " 'cosmet',\n",
       " 'ingegner',\n",
       " 'potenz',\n",
       " 'synfig',\n",
       " 'controll',\n",
       " 'aut',\n",
       " 'munizion',\n",
       " 'tecnolog',\n",
       " 'intrecc',\n",
       " 'elettron',\n",
       " 'potenz',\n",
       " 'tecnic',\n",
       " 'pubblicitar',\n",
       " 'categor',\n",
       " 'gioc',\n",
       " 'giocattol',\n",
       " 'modell',\n",
       " 'dat',\n",
       " 'sistem',\n",
       " 'cred',\n",
       " 'modern',\n",
       " 'teor',\n",
       " 'portafogl',\n",
       " 'nutrizion',\n",
       " 'animal',\n",
       " 'cobol',\n",
       " 'swift',\n",
       " 'programm',\n",
       " 'informat',\n",
       " 'sistem',\n",
       " 'birrif',\n",
       " 'modern',\n",
       " 'determin',\n",
       " 'prezz',\n",
       " 'part',\n",
       " 'caratterist',\n",
       " 'vin',\n",
       " 'material',\n",
       " 'progett',\n",
       " 'intern',\n",
       " 'gestion',\n",
       " 'rif',\n",
       " 'past',\n",
       " 'pront',\n",
       " 'abbigl',\n",
       " 'serviz',\n",
       " 'client',\n",
       " 'color',\n",
       " 'alimentar',\n",
       " 'process',\n",
       " 'gioieller',\n",
       " 'component',\n",
       " 'calzatur',\n",
       " 'motor',\n",
       " 'elettr',\n",
       " 'sass',\n",
       " 'python',\n",
       " 'programm',\n",
       " 'informat',\n",
       " 'chimic',\n",
       " 'farmaceut',\n",
       " 'elabor',\n",
       " 'analit',\n",
       " 'onlin',\n",
       " 'sistem',\n",
       " 'multimedial',\n",
       " 'php',\n",
       " 'perl',\n",
       " 'adob',\n",
       " 'photoshop',\n",
       " 'princip',\n",
       " 'funzion',\n",
       " 'disposit',\n",
       " 'elettron',\n",
       " 'process',\n",
       " 'svilupp',\n",
       " 'conten',\n",
       " 'azion',\n",
       " 'elettr',\n",
       " 'tecnic',\n",
       " 'brasatur',\n",
       " 'sicurezz',\n",
       " 'informat',\n",
       " 'normat',\n",
       " 'sulla',\n",
       " 'sicurezz',\n",
       " 'nell',\n",
       " 'ambit',\n",
       " 'energ',\n",
       " 'elettr',\n",
       " 'industr',\n",
       " 'articol',\n",
       " 'ferrament',\n",
       " 'tecnic',\n",
       " 'composizion',\n",
       " 'floreal',\n",
       " 'progett',\n",
       " 'cultural',\n",
       " 'schem',\n",
       " 'circuital',\n",
       " 'misur',\n",
       " 'tessil',\n",
       " 'settor',\n",
       " 'component',\n",
       " 'batter',\n",
       " 'tecnolog',\n",
       " 'informat',\n",
       " 'diritt',\n",
       " 'commercial',\n",
       " 'specif',\n",
       " 'stoccagg',\n",
       " 'cib',\n",
       " 'tendenz',\n",
       " 'settor',\n",
       " 'gioc',\n",
       " 'giocattol',\n",
       " 'bevand',\n",
       " 'alcol',\n",
       " 'orolog',\n",
       " 'allerg',\n",
       " 'alimentar',\n",
       " 'process',\n",
       " 'ferment',\n",
       " 'vin',\n",
       " 'circu',\n",
       " 'integr',\n",
       " 'gimp',\n",
       " 'softw',\n",
       " 'grafic',\n",
       " 'stor',\n",
       " 'princip',\n",
       " 'assicur',\n",
       " 'omeopat',\n",
       " 'gener',\n",
       " 'elettr',\n",
       " 'princip',\n",
       " 'lavor',\n",
       " 'grupp',\n",
       " 'manutenzion',\n",
       " 'prodott',\n",
       " 'pell',\n",
       " 'appalt',\n",
       " 'elettron',\n",
       " 'analis',\n",
       " 'dat',\n",
       " 'ingredient',\n",
       " 'produzion',\n",
       " 'birr',\n",
       " 'post-tratt',\n",
       " 'aliment',\n",
       " 'parol',\n",
       " 'chiav',\n",
       " 'conten',\n",
       " 'digital',\n",
       " 'elettron',\n",
       " 'hardw',\n",
       " 'typescript',\n",
       " 'diritt',\n",
       " 'assicur',\n",
       " 'microsoft',\n",
       " 'vis',\n",
       " 'medicinal',\n",
       " 'automed',\n",
       " 'programm',\n",
       " 'tendenz',\n",
       " 'settor',\n",
       " 'tessil',\n",
       " 'macchin',\n",
       " 'elettr',\n",
       " 'termin',\n",
       " 'cancell',\n",
       " 'fornitor',\n",
       " 'serviz',\n",
       " 'prepar',\n",
       " 'pesc',\n",
       " 'frutt',\n",
       " 'mar',\n",
       " 'coffeescript',\n",
       " 'identif',\n",
       " 'classif',\n",
       " 'pesc',\n",
       " 'nav',\n",
       " 'marittim',\n",
       " 'composizion',\n",
       " 'prodott',\n",
       " 'panetter',\n",
       " 'variet',\n",
       " 'uva',\n",
       " 'prest',\n",
       " 'alle',\n",
       " 'impres',\n",
       " 'fitoterap',\n",
       " 'legisl',\n",
       " 'mater',\n",
       " 'sal',\n",
       " 'sicurezz',\n",
       " 'igien']"
      ]
     },
     "execution_count": 48,
     "metadata": {},
     "output_type": "execute_result"
    }
   ],
   "source": [
    "noisy_words = ['degli','tipi','del','dei','delle','per','nel','dell',\\\n",
    "               'sui','less','sul','che','jsss','teor','dal','della']\n",
    "lista_skills = [word_tokenize(i) for i in list(lista)]\n",
    "lista_skills = [i for x in lista_skills for i in x if i not in noisy_words and  len(i) >2]\n",
    "lista_skills = [stemmer.stem(i) for i in lista_skills if i not in count_vector.vocabulary_.keys()]\n",
    "lista_skills "
   ]
  },
  {
   "cell_type": "code",
   "execution_count": 49,
   "metadata": {},
   "outputs": [],
   "source": [
    "# to create a new dictionary starting from a 'x' value\n",
    "new_dict = dict((v,k) for k,v in enumerate(set(lista_skills),max(count_vector.vocabulary_.values()) + 1 )) # instead of max(  ) + 1 we can type any number\n",
    "count_vector.vocabulary_.update(new_dict)"
   ]
  },
  {
   "cell_type": "code",
   "execution_count": 50,
   "metadata": {},
   "outputs": [],
   "source": [
    "# Fit the training data and then return the matrix\n",
    "training_data = count_vector.transform(X_train)\n",
    "with open(\"count_vector2104.pkl\", 'wb') as handle:\n",
    "                    pickle.dump(count_vector, handle)\n",
    "        \n",
    "with open(\"Role_dictionary.pkl\", 'wb') as handle:\n",
    "                pickle.dump(Role_dictionary, handle)       \n",
    "\n",
    "# Transform testing data and return the matrix. Note we are not fitting the testing data into the CountVectorizer()\n",
    "testing_data = count_vector.transform(X_test)"
   ]
  },
  {
   "cell_type": "code",
   "execution_count": 51,
   "metadata": {},
   "outputs": [],
   "source": [
    "# from scipy import sparse\n",
    "# sparse.save_npz(\"training_data.npz\", training_data)\n",
    "# sparse.save_npz(\"testing_data.npz\", testing_data)\n",
    "\n",
    "# training_data = sparse.load_npz(\"training_data.npz\")\n",
    "# testing_data = sparse.load_npz(\"testing_data.npz\")"
   ]
  },
  {
   "cell_type": "code",
   "execution_count": 52,
   "metadata": {},
   "outputs": [
    {
     "name": "stdout",
     "output_type": "stream",
     "text": [
      "training data (520, 2582)\n",
      "testing data (130, 2582)\n"
     ]
    }
   ],
   "source": [
    "print('training data',training_data.shape)\n",
    "print('testing data',testing_data.shape)"
   ]
  },
  {
   "cell_type": "markdown",
   "metadata": {},
   "source": [
    "### Naive Bayes implementation"
   ]
  },
  {
   "cell_type": "code",
   "execution_count": 53,
   "metadata": {},
   "outputs": [],
   "source": [
    "# # y_train.to_csv('y_train.csv')\n",
    "# import pandas as pd\n",
    "# y_train = pd.read_csv('y_train.csv',usecols= ['Multi_Class'])\n",
    "# y_train = y_train.Multi_Class\n",
    "# y_train"
   ]
  },
  {
   "cell_type": "code",
   "execution_count": 54,
   "metadata": {},
   "outputs": [
    {
     "data": {
      "text/plain": [
       "['model2104.sav']"
      ]
     },
     "execution_count": 54,
     "metadata": {},
     "output_type": "execute_result"
    }
   ],
   "source": [
    "naive_bayes = MultinomialNB()\n",
    "naive_bayes.fit(training_data, y_train)\n",
    "import joblib\n",
    "joblib.dump(naive_bayes, 'model2104.sav')"
   ]
  },
  {
   "cell_type": "code",
   "execution_count": 55,
   "metadata": {},
   "outputs": [],
   "source": [
    "# Image(filename =\"Naive.png\", width=1000, height=300)"
   ]
  },
  {
   "cell_type": "markdown",
   "metadata": {},
   "source": [
    "## P(Statistico|    Words = [dati, matematica, analisi, …...., inglese] )"
   ]
  },
  {
   "cell_type": "code",
   "execution_count": 56,
   "metadata": {},
   "outputs": [],
   "source": [
    "def get_key(value, dictionary):\n",
    "    for k,v in dictionary.items():\n",
    "        if value == v:\n",
    "            return k"
   ]
  },
  {
   "cell_type": "code",
   "execution_count": 57,
   "metadata": {},
   "outputs": [
    {
     "name": "stdout",
     "output_type": "stream",
     "text": [
      "Prediction for rows [436, 429, 154, 234, 482, 115, 530, 130, 199, 549] are \n",
      " ['camerieri di ristorante', 'camerieri di ristorante', 'cuochi in alberghi e ristoranti', 'statistici', 'camerieri di ristorante', 'cuochi in alberghi e ristoranti', 'commessi delle vendite al minuto', 'cuochi in alberghi e ristoranti', 'statistici', 'commessi delle vendite al minuto']\n",
      "%%%%%%%%%%%%%%%%%%%%%%%%%%%%%%%%%%%%%%%%%%%%%%%%%%%%%%%%%%%%%%%%%%%%%%%%%%%%%%%%%%%%%%%%%%%%%%%%%%%%\n",
      "actual predictions are: \n",
      " ['camerieri di ristorante', 'camerieri di ristorante', 'cuochi in alberghi e ristoranti', 'statistici', 'camerieri di ristorante', 'cuochi in alberghi e ristoranti', 'commessi delle vendite al minuto', 'cuochi in alberghi e ristoranti', 'statistici', 'commessi delle vendite al minuto']\n"
     ]
    }
   ],
   "source": [
    "predictions = naive_bayes.predict(testing_data)\n",
    "predictions_keys = []\n",
    "for i in predictions:\n",
    "    predictions_keys.append(get_key(i,Role_dictionary))\n",
    "print('Prediction for rows {} are \\n {}'.format(X_test.index.tolist()[:10],predictions_keys[:10]))\n",
    "\n",
    "print(100*'%')\n",
    "actual_predictions = []\n",
    "for i in y_test.tolist():\n",
    "    actual_predictions.append(get_key(i,Role_dictionary))\n",
    "print('actual predictions are: \\n {}'.format(actual_predictions[:10]))"
   ]
  },
  {
   "cell_type": "code",
   "execution_count": 58,
   "metadata": {},
   "outputs": [
    {
     "name": "stdout",
     "output_type": "stream",
     "text": [
      "Accuracy score:  0.9230769230769231\n"
     ]
    }
   ],
   "source": [
    "# check the accuracy of our model\n",
    "from sklearn.metrics import accuracy_score, precision_score, recall_score, f1_score\n",
    "print('Accuracy score: ', format(accuracy_score(y_test,predictions)))"
   ]
  },
  {
   "cell_type": "code",
   "execution_count": null,
   "metadata": {},
   "outputs": [],
   "source": []
  }
 ],
 "metadata": {
  "kernelspec": {
   "display_name": "Python 3",
   "language": "python",
   "name": "python3"
  },
  "language_info": {
   "codemirror_mode": {
    "name": "ipython",
    "version": 3
   },
   "file_extension": ".py",
   "mimetype": "text/x-python",
   "name": "python",
   "nbconvert_exporter": "python",
   "pygments_lexer": "ipython3",
   "version": "3.6.13"
  }
 },
 "nbformat": 4,
 "nbformat_minor": 4
}
