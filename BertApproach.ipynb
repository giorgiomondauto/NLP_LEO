{
 "cells": [
  {
   "cell_type": "code",
   "execution_count": 31,
   "metadata": {},
   "outputs": [
    {
     "name": "stderr",
     "output_type": "stream",
     "text": [
      "[nltk_data] Downloading package punkt to\n",
      "[nltk_data]     /Users/giorgiomondauto/nltk_data...\n",
      "[nltk_data]   Package punkt is already up-to-date!\n",
      "[nltk_data] Downloading package stopwords to\n",
      "[nltk_data]     /Users/giorgiomondauto/nltk_data...\n",
      "[nltk_data]   Package stopwords is already up-to-date!\n",
      "[nltk_data] Downloading package words to\n",
      "[nltk_data]     /Users/giorgiomondauto/nltk_data...\n",
      "[nltk_data]   Package words is already up-to-date!\n"
     ]
    }
   ],
   "source": [
    "import pandas as pd\n",
    "import matplotlib.pyplot as plt\n",
    "from wordcloud import WordCloud, STOPWORDS\n",
    "import matplotlib\n",
    "import re\n",
    "import nltk\n",
    "nltk.download('punkt')\n",
    "nltk.download('stopwords')\n",
    "nltk.download('words')\n",
    "import pickle\n",
    "from nltk import word_tokenize\n",
    "from nltk.corpus import stopwords\n",
    "from sklearn.model_selection import train_test_split\n",
    "from sklearn.feature_extraction.text import CountVectorizer\n",
    "from sklearn.naive_bayes import MultinomialNB"
   ]
  },
  {
   "cell_type": "code",
   "execution_count": 34,
   "metadata": {},
   "outputs": [
    {
     "name": "stdout",
     "output_type": "stream",
     "text": [
      "dati_aprile shape (650, 2)\n"
     ]
    },
    {
     "data": {
      "text/html": [
       "<div>\n",
       "<style scoped>\n",
       "    .dataframe tbody tr th:only-of-type {\n",
       "        vertical-align: middle;\n",
       "    }\n",
       "\n",
       "    .dataframe tbody tr th {\n",
       "        vertical-align: top;\n",
       "    }\n",
       "\n",
       "    .dataframe thead th {\n",
       "        text-align: right;\n",
       "    }\n",
       "</style>\n",
       "<table border=\"1\" class=\"dataframe\">\n",
       "  <thead>\n",
       "    <tr style=\"text-align: right;\">\n",
       "      <th></th>\n",
       "      <th>Target</th>\n",
       "      <th>Job_Description</th>\n",
       "    </tr>\n",
       "  </thead>\n",
       "  <tbody>\n",
       "    <tr>\n",
       "      <th>0</th>\n",
       "      <td>Elettromeccanici</td>\n",
       "      <td>Randstad Technical di Vimercate seleziona un m...</td>\n",
       "    </tr>\n",
       "    <tr>\n",
       "      <th>1</th>\n",
       "      <td>Elettromeccanici</td>\n",
       "      <td>Quanta SpA, Filiale di Verona, seleziona per a...</td>\n",
       "    </tr>\n",
       "    <tr>\n",
       "      <th>2</th>\n",
       "      <td>Elettromeccanici</td>\n",
       "      <td>Kelly Services, multinazionale americana leade...</td>\n",
       "    </tr>\n",
       "    <tr>\n",
       "      <th>3</th>\n",
       "      <td>Elettromeccanici</td>\n",
       "      <td>Lavoropiù Everywhere, la divisione di Lavoropi...</td>\n",
       "    </tr>\n",
       "    <tr>\n",
       "      <th>4</th>\n",
       "      <td>Elettromeccanici</td>\n",
       "      <td>Randstad Italia filiale di Foligno ricerca per...</td>\n",
       "    </tr>\n",
       "  </tbody>\n",
       "</table>\n",
       "</div>"
      ],
      "text/plain": [
       "             Target                                    Job_Description\n",
       "0  Elettromeccanici  Randstad Technical di Vimercate seleziona un m...\n",
       "1  Elettromeccanici  Quanta SpA, Filiale di Verona, seleziona per a...\n",
       "2  Elettromeccanici  Kelly Services, multinazionale americana leade...\n",
       "3  Elettromeccanici  Lavoropiù Everywhere, la divisione di Lavoropi...\n",
       "4  Elettromeccanici  Randstad Italia filiale di Foligno ricerca per..."
      ]
     },
     "execution_count": 34,
     "metadata": {},
     "output_type": "execute_result"
    }
   ],
   "source": [
    "dati_aprile = pd.read_csv('../Job_vacancies_aprile_completo.csv', skiprows=1, usecols = [1,3],\\\n",
    "                          names = ['Target','Job_Description'])\n",
    "print('dati_aprile shape {}'.format(dati_aprile.shape))\n",
    "dati_aprile.head()"
   ]
  },
  {
   "cell_type": "code",
   "execution_count": 35,
   "metadata": {},
   "outputs": [
    {
     "data": {
      "text/plain": [
       "{'Elettromeccanici': 0,\n",
       " 'Cuochi in alberghi e ristoranti': 1,\n",
       " 'Statistici': 2,\n",
       " 'Tecnici web': 3,\n",
       " 'Camerieri di ristorante': 4,\n",
       " 'Commessi delle vendite al minuto': 5}"
      ]
     },
     "execution_count": 35,
     "metadata": {},
     "output_type": "execute_result"
    }
   ],
   "source": [
    "Role_dictionary = pd.Series(dati_aprile['Target'].unique()).to_dict()\n",
    "Role_dictionary = dict([(value, key) for key, value in Role_dictionary.items()])\n",
    "Role_dictionary"
   ]
  },
  {
   "cell_type": "code",
   "execution_count": 36,
   "metadata": {},
   "outputs": [
    {
     "data": {
      "text/html": [
       "<div>\n",
       "<style scoped>\n",
       "    .dataframe tbody tr th:only-of-type {\n",
       "        vertical-align: middle;\n",
       "    }\n",
       "\n",
       "    .dataframe tbody tr th {\n",
       "        vertical-align: top;\n",
       "    }\n",
       "\n",
       "    .dataframe thead th {\n",
       "        text-align: right;\n",
       "    }\n",
       "</style>\n",
       "<table border=\"1\" class=\"dataframe\">\n",
       "  <thead>\n",
       "    <tr style=\"text-align: right;\">\n",
       "      <th></th>\n",
       "      <th>Target</th>\n",
       "      <th>Job_Description</th>\n",
       "      <th>Y</th>\n",
       "    </tr>\n",
       "  </thead>\n",
       "  <tbody>\n",
       "    <tr>\n",
       "      <th>0</th>\n",
       "      <td>Elettromeccanici</td>\n",
       "      <td>Randstad Technical di Vimercate seleziona un m...</td>\n",
       "      <td>0</td>\n",
       "    </tr>\n",
       "    <tr>\n",
       "      <th>1</th>\n",
       "      <td>Elettromeccanici</td>\n",
       "      <td>Quanta SpA, Filiale di Verona, seleziona per a...</td>\n",
       "      <td>0</td>\n",
       "    </tr>\n",
       "    <tr>\n",
       "      <th>2</th>\n",
       "      <td>Elettromeccanici</td>\n",
       "      <td>Kelly Services, multinazionale americana leade...</td>\n",
       "      <td>0</td>\n",
       "    </tr>\n",
       "    <tr>\n",
       "      <th>3</th>\n",
       "      <td>Elettromeccanici</td>\n",
       "      <td>Lavoropiù Everywhere, la divisione di Lavoropi...</td>\n",
       "      <td>0</td>\n",
       "    </tr>\n",
       "    <tr>\n",
       "      <th>4</th>\n",
       "      <td>Elettromeccanici</td>\n",
       "      <td>Randstad Italia filiale di Foligno ricerca per...</td>\n",
       "      <td>0</td>\n",
       "    </tr>\n",
       "  </tbody>\n",
       "</table>\n",
       "</div>"
      ],
      "text/plain": [
       "             Target                                    Job_Description  Y\n",
       "0  Elettromeccanici  Randstad Technical di Vimercate seleziona un m...  0\n",
       "1  Elettromeccanici  Quanta SpA, Filiale di Verona, seleziona per a...  0\n",
       "2  Elettromeccanici  Kelly Services, multinazionale americana leade...  0\n",
       "3  Elettromeccanici  Lavoropiù Everywhere, la divisione di Lavoropi...  0\n",
       "4  Elettromeccanici  Randstad Italia filiale di Foligno ricerca per...  0"
      ]
     },
     "execution_count": 36,
     "metadata": {},
     "output_type": "execute_result"
    }
   ],
   "source": [
    "dati_aprile['Y'] = dati_aprile['Target'].apply(lambda x: Role_dictionary.get(x,'Unknown'))\n",
    "dati_aprile.head()"
   ]
  },
  {
   "cell_type": "code",
   "execution_count": 41,
   "metadata": {},
   "outputs": [
    {
     "name": "stderr",
     "output_type": "stream",
     "text": [
      "WARNING: pip is being invoked by an old script wrapper. This will fail in a future version of pip.\n",
      "Please see https://github.com/pypa/pip/issues/5599 for advice on fixing the underlying issue.\n",
      "To avoid this problem you can invoke Python with '-m pip' instead of running pip directly.\n"
     ]
    },
    {
     "name": "stdout",
     "output_type": "stream",
     "text": [
      "Processing /Users/giorgiomondauto/Library/Caches/pip/wheels/1e/36/c7/477ab8220745f8d1f84b56de0ab88544b410f80a830f6feee6/ekphrasis-0.5.1-py3-none-any.whl\n",
      "Requirement already satisfied: numpy in /opt/anaconda3/envs/giorgio/lib/python3.8/site-packages (from ekphrasis) (1.18.2)\n",
      "Collecting colorama\n",
      "  Using cached colorama-0.4.3-py2.py3-none-any.whl (15 kB)\n",
      "Requirement already satisfied: tqdm in /opt/anaconda3/envs/giorgio/lib/python3.8/site-packages (from ekphrasis) (4.44.1)\n",
      "Processing /Users/giorgiomondauto/Library/Caches/pip/wheels/43/29/1b/9aa8cc272c54ad80e72942c00402b28b79b0effcb4ae314fc0/ujson-2.0.3-cp38-cp38-macosx_10_9_x86_64.whl\n",
      "Requirement already satisfied: ftfy in /opt/anaconda3/envs/giorgio/lib/python3.8/site-packages (from ekphrasis) (5.7)\n",
      "Requirement already satisfied: termcolor in /opt/anaconda3/envs/giorgio/lib/python3.8/site-packages (from ekphrasis) (1.1.0)\n",
      "Requirement already satisfied: nltk in /opt/anaconda3/envs/giorgio/lib/python3.8/site-packages (from ekphrasis) (3.4.5)\n",
      "Requirement already satisfied: matplotlib in /opt/anaconda3/envs/giorgio/lib/python3.8/site-packages (from ekphrasis) (3.2.1)\n",
      "Requirement already satisfied: wcwidth in /opt/anaconda3/envs/giorgio/lib/python3.8/site-packages (from ftfy->ekphrasis) (0.1.9)\n",
      "Requirement already satisfied: six in /opt/anaconda3/envs/giorgio/lib/python3.8/site-packages (from nltk->ekphrasis) (1.12.0)\n",
      "Requirement already satisfied: kiwisolver>=1.0.1 in /opt/anaconda3/envs/giorgio/lib/python3.8/site-packages (from matplotlib->ekphrasis) (1.2.0)\n",
      "Requirement already satisfied: pyparsing!=2.0.4,!=2.1.2,!=2.1.6,>=2.0.1 in /opt/anaconda3/envs/giorgio/lib/python3.8/site-packages (from matplotlib->ekphrasis) (2.4.6)\n",
      "Requirement already satisfied: python-dateutil>=2.1 in /opt/anaconda3/envs/giorgio/lib/python3.8/site-packages (from matplotlib->ekphrasis) (2.8.1)\n",
      "Requirement already satisfied: cycler>=0.10 in /opt/anaconda3/envs/giorgio/lib/python3.8/site-packages (from matplotlib->ekphrasis) (0.10.0)\n",
      "Installing collected packages: colorama, ujson, ekphrasis\n",
      "Successfully installed colorama-0.4.3 ekphrasis-0.5.1 ujson-2.0.3\n"
     ]
    },
    {
     "ename": "ModuleNotFoundError",
     "evalue": "No module named 'ekphrasis'",
     "output_type": "error",
     "traceback": [
      "\u001b[0;31m---------------------------------------------------------------------------\u001b[0m",
      "\u001b[0;31mModuleNotFoundError\u001b[0m                       Traceback (most recent call last)",
      "\u001b[0;32m~/Desktop/NLP_LEO/AlBERTo-it/tokenizer.py\u001b[0m in \u001b[0;36m<module>\u001b[0;34m\u001b[0m\n\u001b[1;32m     24\u001b[0m \u001b[0;32mtry\u001b[0m\u001b[0;34m:\u001b[0m\u001b[0;34m\u001b[0m\u001b[0;34m\u001b[0m\u001b[0m\n\u001b[0;32m---> 25\u001b[0;31m     \u001b[0;32mfrom\u001b[0m \u001b[0mekphrasis\u001b[0m\u001b[0;34m.\u001b[0m\u001b[0mclasses\u001b[0m\u001b[0;34m.\u001b[0m\u001b[0mpreprocessor\u001b[0m \u001b[0;32mimport\u001b[0m \u001b[0mTextPreProcessor\u001b[0m\u001b[0;34m\u001b[0m\u001b[0;34m\u001b[0m\u001b[0m\n\u001b[0m\u001b[1;32m     26\u001b[0m     \u001b[0;32mfrom\u001b[0m \u001b[0mekphrasis\u001b[0m\u001b[0;34m.\u001b[0m\u001b[0mclasses\u001b[0m\u001b[0;34m.\u001b[0m\u001b[0mtokenizer\u001b[0m \u001b[0;32mimport\u001b[0m \u001b[0mSocialTokenizer\u001b[0m\u001b[0;34m\u001b[0m\u001b[0;34m\u001b[0m\u001b[0m\n",
      "\u001b[0;31mModuleNotFoundError\u001b[0m: No module named 'ekphrasis'",
      "\nDuring handling of the above exception, another exception occurred:\n",
      "\u001b[0;31mModuleNotFoundError\u001b[0m                       Traceback (most recent call last)",
      "\u001b[0;32m<ipython-input-41-55cbbf802834>\u001b[0m in \u001b[0;36m<module>\u001b[0;34m\u001b[0m\n\u001b[0;32m----> 1\u001b[0;31m \u001b[0;32mfrom\u001b[0m \u001b[0mtokenizer\u001b[0m \u001b[0;32mimport\u001b[0m \u001b[0;34m*\u001b[0m\u001b[0;34m\u001b[0m\u001b[0;34m\u001b[0m\u001b[0m\n\u001b[0m\u001b[1;32m      2\u001b[0m \u001b[0;32mfrom\u001b[0m \u001b[0mtransformers\u001b[0m \u001b[0;32mimport\u001b[0m \u001b[0mAutoTokenizer\u001b[0m\u001b[0;34m,\u001b[0m \u001b[0mAutoModel\u001b[0m\u001b[0;34m\u001b[0m\u001b[0;34m\u001b[0m\u001b[0m\n",
      "\u001b[0;32m~/Desktop/NLP_LEO/AlBERTo-it/tokenizer.py\u001b[0m in \u001b[0;36m<module>\u001b[0;34m\u001b[0m\n\u001b[1;32m     33\u001b[0m     \u001b[0;32mfrom\u001b[0m \u001b[0mpip\u001b[0m\u001b[0;34m.\u001b[0m\u001b[0m_internal\u001b[0m \u001b[0;32mimport\u001b[0m \u001b[0mmain\u001b[0m \u001b[0;32mas\u001b[0m \u001b[0mpip\u001b[0m\u001b[0;34m\u001b[0m\u001b[0;34m\u001b[0m\u001b[0m\n\u001b[1;32m     34\u001b[0m     \u001b[0mpip\u001b[0m\u001b[0;34m(\u001b[0m\u001b[0;34m[\u001b[0m\u001b[0;34m'install'\u001b[0m\u001b[0;34m,\u001b[0m \u001b[0;34m'--user'\u001b[0m\u001b[0;34m,\u001b[0m \u001b[0;34m'ekphrasis'\u001b[0m\u001b[0;34m]\u001b[0m\u001b[0;34m)\u001b[0m\u001b[0;34m\u001b[0m\u001b[0;34m\u001b[0m\u001b[0m\n\u001b[0;32m---> 35\u001b[0;31m     \u001b[0;32mfrom\u001b[0m \u001b[0mekphrasis\u001b[0m\u001b[0;34m.\u001b[0m\u001b[0mclasses\u001b[0m\u001b[0;34m.\u001b[0m\u001b[0mpreprocessor\u001b[0m \u001b[0;32mimport\u001b[0m \u001b[0mTextPreProcessor\u001b[0m\u001b[0;34m\u001b[0m\u001b[0;34m\u001b[0m\u001b[0m\n\u001b[0m\u001b[1;32m     36\u001b[0m     \u001b[0;32mfrom\u001b[0m \u001b[0mekphrasis\u001b[0m\u001b[0;34m.\u001b[0m\u001b[0mclasses\u001b[0m\u001b[0;34m.\u001b[0m\u001b[0mtokenizer\u001b[0m \u001b[0;32mimport\u001b[0m \u001b[0mSocialTokenizer\u001b[0m\u001b[0;34m\u001b[0m\u001b[0;34m\u001b[0m\u001b[0m\n\u001b[1;32m     37\u001b[0m     \u001b[0;32mfrom\u001b[0m \u001b[0mekphrasis\u001b[0m\u001b[0;34m.\u001b[0m\u001b[0mdicts\u001b[0m\u001b[0;34m.\u001b[0m\u001b[0memoticons\u001b[0m \u001b[0;32mimport\u001b[0m \u001b[0memoticons\u001b[0m\u001b[0;34m\u001b[0m\u001b[0;34m\u001b[0m\u001b[0m\n",
      "\u001b[0;31mModuleNotFoundError\u001b[0m: No module named 'ekphrasis'"
     ]
    }
   ],
   "source": [
    "from tokenizer import *\n",
    "from transformers import AutoTokenizer, AutoModel"
   ]
  },
  {
   "cell_type": "code",
   "execution_count": 29,
   "metadata": {},
   "outputs": [
    {
     "name": "stdout",
     "output_type": "stream",
     "text": [
      "Requirement already satisfied: ekphrasis in /Users/giorgiomondauto/.local/lib/python3.8/site-packages (0.5.1)\n",
      "Requirement already satisfied: colorama in /Users/giorgiomondauto/.local/lib/python3.8/site-packages (from ekphrasis) (0.4.3)\n",
      "Requirement already satisfied: termcolor in /opt/anaconda3/envs/giorgio/lib/python3.8/site-packages (from ekphrasis) (1.1.0)\n",
      "Requirement already satisfied: nltk in /opt/anaconda3/envs/giorgio/lib/python3.8/site-packages (from ekphrasis) (3.4.5)\n",
      "Requirement already satisfied: ftfy in /opt/anaconda3/envs/giorgio/lib/python3.8/site-packages (from ekphrasis) (5.7)\n",
      "Requirement already satisfied: ujson in /Users/giorgiomondauto/.local/lib/python3.8/site-packages (from ekphrasis) (2.0.3)\n",
      "Requirement already satisfied: matplotlib in /opt/anaconda3/envs/giorgio/lib/python3.8/site-packages (from ekphrasis) (3.2.1)\n",
      "Requirement already satisfied: tqdm in /opt/anaconda3/envs/giorgio/lib/python3.8/site-packages (from ekphrasis) (4.44.1)\n",
      "Requirement already satisfied: numpy in /opt/anaconda3/envs/giorgio/lib/python3.8/site-packages (from ekphrasis) (1.18.2)\n",
      "Requirement already satisfied: six in /opt/anaconda3/envs/giorgio/lib/python3.8/site-packages (from nltk->ekphrasis) (1.12.0)\n",
      "Requirement already satisfied: wcwidth in /opt/anaconda3/envs/giorgio/lib/python3.8/site-packages (from ftfy->ekphrasis) (0.1.9)\n",
      "Requirement already satisfied: python-dateutil>=2.1 in /opt/anaconda3/envs/giorgio/lib/python3.8/site-packages (from matplotlib->ekphrasis) (2.8.1)\n",
      "Requirement already satisfied: kiwisolver>=1.0.1 in /opt/anaconda3/envs/giorgio/lib/python3.8/site-packages (from matplotlib->ekphrasis) (1.2.0)\n",
      "Requirement already satisfied: pyparsing!=2.0.4,!=2.1.2,!=2.1.6,>=2.0.1 in /opt/anaconda3/envs/giorgio/lib/python3.8/site-packages (from matplotlib->ekphrasis) (2.4.6)\n",
      "Requirement already satisfied: cycler>=0.10 in /opt/anaconda3/envs/giorgio/lib/python3.8/site-packages (from matplotlib->ekphrasis) (0.10.0)\n"
     ]
    }
   ],
   "source": [
    "!pip install ekphrasis"
   ]
  },
  {
   "cell_type": "code",
   "execution_count": null,
   "metadata": {},
   "outputs": [],
   "source": []
  }
 ],
 "metadata": {
  "kernelspec": {
   "display_name": "Python 3",
   "language": "python",
   "name": "python3"
  },
  "language_info": {
   "codemirror_mode": {
    "name": "ipython",
    "version": 3
   },
   "file_extension": ".py",
   "mimetype": "text/x-python",
   "name": "python",
   "nbconvert_exporter": "python",
   "pygments_lexer": "ipython3",
   "version": "3.8.2"
  }
 },
 "nbformat": 4,
 "nbformat_minor": 4
}
