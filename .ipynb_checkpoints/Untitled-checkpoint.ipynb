{
 "cells": [
  {
   "cell_type": "markdown",
   "metadata": {},
   "source": [
    "### Load the data"
   ]
  },
  {
   "cell_type": "code",
   "execution_count": 67,
   "metadata": {},
   "outputs": [
    {
     "name": "stdout",
     "output_type": "stream",
     "text": [
      "                                     Job_Description  \\\n",
      "0  Randstad Technical di Vimercate seleziona un m...   \n",
      "1  Ricerchiamo N. 5 ricerca ADDETTI/E VENDITA per...   \n",
      "2  Quanta SpA, Filiale di Verona, seleziona per a...   \n",
      "3  Kelly Services, multinazionale americana leade...   \n",
      "4  ADHR Filiale di Torino ricerca per azienda cli...   \n",
      "\n",
      "                           role  \n",
      "0  Manutentore elettromeccanico  \n",
      "1                      Commessa  \n",
      "2  Manutentore elettromeccanico  \n",
      "3      Tecnico elettromeccanico  \n",
      "4               Data Scientist   \n"
     ]
    }
   ],
   "source": [
    "import pandas as pd\n",
    "data = pd.read_csv('train.csv')\n",
    "print(data.head())"
   ]
  },
  {
   "cell_type": "markdown",
   "metadata": {},
   "source": [
    "### Text Preprocessing on Job Descripion column"
   ]
  },
  {
   "cell_type": "markdown",
   "metadata": {},
   "source": [
    "##### Tokenization\n",
    "split the text into words"
   ]
  },
  {
   "cell_type": "code",
   "execution_count": 69,
   "metadata": {},
   "outputs": [
    {
     "name": "stdout",
     "output_type": "stream",
     "text": [
      "0    [randstad, technical, di, vimercate, seleziona...\n",
      "1    [ricerchiamo, n, 5, ricerca, addettie, vendita...\n",
      "2    [quanta, spa, filiale, di, verona, seleziona, ...\n",
      "3    [kelly, services, multinazionale, americana, l...\n",
      "4    [adhr, filiale, di, torino, ricerca, per, azie...\n",
      "Name: Job_Description, dtype: object\n"
     ]
    }
   ],
   "source": [
    "import nltk\n",
    "from nltk import word_tokenize\n",
    "from nltk.corpus import stopwords\n",
    "import re\n",
    "# remove punctuation\n",
    "data.Job_Description = data.Job_Description.apply(lambda x: re.sub(r'[^\\w\\s]','',x))\n",
    "data.Job_Description = data['Job_Description'].apply(lambda x: word_tokenize(x.lower())) # lowercase each word\n",
    "print(data.Job_Description.head(5))"
   ]
  },
  {
   "cell_type": "markdown",
   "metadata": {},
   "source": [
    "### Remove Noisy"
   ]
  },
  {
   "cell_type": "markdown",
   "metadata": {},
   "source": [
    "##### Stopwords\n",
    "Stopwords are words generally not relevant to a text; thereby we get rid of them"
   ]
  },
  {
   "cell_type": "code",
   "execution_count": 70,
   "metadata": {},
   "outputs": [
    {
     "name": "stdout",
     "output_type": "stream",
     "text": [
      "Example of stopwords: ['sarà', 'avessi', 'eravamo', 'sarai', 'mia', 'avuti', 'allo', 'il', 'nei', 'fu', 'aveva', 'fanno', 'stiamo', 'dello', 'stavate', 'facevano', 'vi', 'eri', 'ci', 'fareste']\n",
      "%%%%%%%%%%\n",
      "lenth of stopwords: 279\n"
     ]
    }
   ],
   "source": [
    "list_stopwords = list(set(stopwords.words('italian')))\n",
    "print('Example of stopwords:',list_stopwords[:20])\n",
    "print(10 * '%')\n",
    "print('lenth of stopwords: {}'.format(len(list_stopwords)))"
   ]
  },
  {
   "cell_type": "code",
   "execution_count": 71,
   "metadata": {},
   "outputs": [
    {
     "data": {
      "text/plain": [
       "0    [randstad, technical, vimercate, seleziona, ma...\n",
       "1    [ricerchiamo, n, 5, ricerca, addettie, vendita...\n",
       "2    [spa, filiale, verona, seleziona, azienda, cli...\n",
       "3    [kelly, services, multinazionale, americana, l...\n",
       "4    [adhr, filiale, torino, ricerca, azienda, clie...\n",
       "Name: Job_Description, dtype: object"
      ]
     },
     "execution_count": 71,
     "metadata": {},
     "output_type": "execute_result"
    }
   ],
   "source": [
    "data.Job_Description = data.Job_Description.apply(lambda x: [i for i in x if i not in list_stopwords and i !='.'] )\n",
    "data.Job_Description.head(5)\n"
   ]
  },
  {
   "cell_type": "code",
   "execution_count": 83,
   "metadata": {},
   "outputs": [],
   "source": [
    "# let's have a look at the list of words with len < 4\n",
    "\n",
    "# 1) get a list of uniquewords\n",
    "words = []\n",
    "for i in data.Job_Description:\n",
    "    words.append(i)\n",
    "word_list = set([i for x in words for i in x])"
   ]
  },
  {
   "cell_type": "code",
   "execution_count": 92,
   "metadata": {},
   "outputs": [
    {
     "data": {
      "text/plain": [
       "[('1', 1),\n",
       " ('2', 1),\n",
       " ('3', 1),\n",
       " ('30', 1),\n",
       " ('300', 1),\n",
       " ('4', 1),\n",
       " ('5', 1),\n",
       " ('6', 1),\n",
       " ('60', 1),\n",
       " ('abbigliamento', 1),\n",
       " ('abruzzo', 1),\n",
       " ('accessori', 1),\n",
       " ('addettie', 1),\n",
       " ('adhr', 1),\n",
       " ('advanced', 1),\n",
       " ('affini', 1),\n",
       " ('agenzia', 1),\n",
       " ('aiutare', 1),\n",
       " ('aiuto', 1),\n",
       " ('alcune', 1)]"
      ]
     },
     "execution_count": 92,
     "metadata": {},
     "output_type": "execute_result"
    }
   ],
   "source": [
    "# check the frequence distribution of words\n",
    "fdist = nltk.FreqDist(word_list)\n",
    "sorted(fdist.items())[:20] # in this case does not make sense since we have small data --> word frequency = 1"
   ]
  },
  {
   "cell_type": "markdown",
   "metadata": {},
   "source": [
    "##### remove words with lenght <3\n"
   ]
  },
  {
   "cell_type": "code",
   "execution_count": 206,
   "metadata": {},
   "outputs": [
    {
     "data": {
      "text/plain": [
       "0    [randstad, technical, seleziona, manutentore, ...\n",
       "1    [ricerchiamo, ricerca, addettie, vendita, punt...\n",
       "2    [filiale, seleziona, azienda, cliente, settore...\n",
       "3    [kelly, services, multinazionale, americana, l...\n",
       "4    [adhr, filiale, ricerca, azienda, cliente, set...\n",
       "Name: Job_Description, dtype: object"
      ]
     },
     "execution_count": 206,
     "metadata": {},
     "output_type": "execute_result"
    }
   ],
   "source": [
    "data.Job_Description = data.Job_Description.apply(lambda x: [i for i in x if len(i) >3])\n",
    "data.Job_Description.head()"
   ]
  },
  {
   "cell_type": "markdown",
   "metadata": {},
   "source": [
    "#### Remove words referring to: Comuni, Provincie, Regioni"
   ]
  },
  {
   "cell_type": "code",
   "execution_count": 199,
   "metadata": {},
   "outputs": [
    {
     "data": {
      "text/html": [
       "<div>\n",
       "<style scoped>\n",
       "    .dataframe tbody tr th:only-of-type {\n",
       "        vertical-align: middle;\n",
       "    }\n",
       "\n",
       "    .dataframe tbody tr th {\n",
       "        vertical-align: top;\n",
       "    }\n",
       "\n",
       "    .dataframe thead th {\n",
       "        text-align: right;\n",
       "    }\n",
       "</style>\n",
       "<table border=\"1\" class=\"dataframe\">\n",
       "  <thead>\n",
       "    <tr style=\"text-align: right;\">\n",
       "      <th></th>\n",
       "      <th>,Istat</th>\n",
       "      <th>Comune</th>\n",
       "      <th>Provincia</th>\n",
       "      <th>Regione</th>\n",
       "      <th>Prefisso</th>\n",
       "      <th>CAP</th>\n",
       "      <th>CodFisco</th>\n",
       "      <th>Abitanti</th>\n",
       "      <th>Link</th>\n",
       "    </tr>\n",
       "  </thead>\n",
       "  <tbody>\n",
       "    <tr>\n",
       "      <th>0</th>\n",
       "      <td>0,028001</td>\n",
       "      <td>Abano Terme</td>\n",
       "      <td>PD</td>\n",
       "      <td>VEN</td>\n",
       "      <td>49</td>\n",
       "      <td>35031</td>\n",
       "      <td>A001</td>\n",
       "      <td>19726</td>\n",
       "      <td>http://www.comuni-italiani.it/028/001/</td>\n",
       "    </tr>\n",
       "    <tr>\n",
       "      <th>1</th>\n",
       "      <td>1,098001</td>\n",
       "      <td>Abbadia Cerreto</td>\n",
       "      <td>LO</td>\n",
       "      <td>LOM</td>\n",
       "      <td>371</td>\n",
       "      <td>26834</td>\n",
       "      <td>A004</td>\n",
       "      <td>293</td>\n",
       "      <td>http://www.comuni-italiani.it/098/001/</td>\n",
       "    </tr>\n",
       "    <tr>\n",
       "      <th>2</th>\n",
       "      <td>2,097001</td>\n",
       "      <td>Abbadia Lariana</td>\n",
       "      <td>LC</td>\n",
       "      <td>LOM</td>\n",
       "      <td>341</td>\n",
       "      <td>23821</td>\n",
       "      <td>A005</td>\n",
       "      <td>3305</td>\n",
       "      <td>http://www.comuni-italiani.it/097/001/</td>\n",
       "    </tr>\n",
       "    <tr>\n",
       "      <th>3</th>\n",
       "      <td>3,052001</td>\n",
       "      <td>Abbadia San Salvatore</td>\n",
       "      <td>SI</td>\n",
       "      <td>TOS</td>\n",
       "      <td>577</td>\n",
       "      <td>53021</td>\n",
       "      <td>A006</td>\n",
       "      <td>6722</td>\n",
       "      <td>http://www.comuni-italiani.it/052/001/</td>\n",
       "    </tr>\n",
       "    <tr>\n",
       "      <th>4</th>\n",
       "      <td>4,095001</td>\n",
       "      <td>Abbasanta</td>\n",
       "      <td>OR</td>\n",
       "      <td>SAR</td>\n",
       "      <td>785</td>\n",
       "      <td>09071</td>\n",
       "      <td>A007</td>\n",
       "      <td>2872</td>\n",
       "      <td>http://www.comuni-italiani.it/095/001/</td>\n",
       "    </tr>\n",
       "  </tbody>\n",
       "</table>\n",
       "</div>"
      ],
      "text/plain": [
       "     ,Istat                 Comune Provincia Regione  Prefisso    CAP  \\\n",
       "0  0,028001            Abano Terme        PD     VEN        49  35031   \n",
       "1  1,098001        Abbadia Cerreto        LO     LOM       371  26834   \n",
       "2  2,097001        Abbadia Lariana        LC     LOM       341  23821   \n",
       "3  3,052001  Abbadia San Salvatore        SI     TOS       577  53021   \n",
       "4  4,095001              Abbasanta        OR     SAR       785  09071   \n",
       "\n",
       "  CodFisco  Abitanti                                    Link  \n",
       "0     A001     19726  http://www.comuni-italiani.it/028/001/  \n",
       "1     A004       293  http://www.comuni-italiani.it/098/001/  \n",
       "2     A005      3305  http://www.comuni-italiani.it/097/001/  \n",
       "3     A006      6722  http://www.comuni-italiani.it/052/001/  \n",
       "4     A007      2872  http://www.comuni-italiani.it/095/001/  "
      ]
     },
     "execution_count": 199,
     "metadata": {},
     "output_type": "execute_result"
    }
   ],
   "source": [
    "# load a text file containing a list of 'Comuni, Provincie, Regioni' italiane\n",
    "geo_data = pd.read_fwf('listacomuni.txt')\n",
    "geo_data.to_csv('listacomuni.csv')\n",
    "geo_data = pd.read_csv('listacomuni.csv', sep=';')\n",
    "geo_data.head()"
   ]
  },
  {
   "cell_type": "code",
   "execution_count": 187,
   "metadata": {},
   "outputs": [
    {
     "name": "stdout",
     "output_type": "stream",
     "text": [
      "Comuni samples: ['abano terme', 'abbadia cerreto', 'abbadia lariana', 'abbadia san salvatore', 'abbasanta', 'abbateggio', 'abbiategrasso', 'abetone', 'abriola', 'acate']\n",
      "%%%%%%%%%%%%%%%%%%%%\n",
      "Provincia samples: ['pd', 'lo', 'lc', 'si', 'or', 'pe', 'mi', 'pt', 'pz', 'rg']\n",
      "%%%%%%%%%%%%%%%%%%%%\n",
      "Regione samples: ['ven', 'lom', 'lom', 'tos', 'sar', 'abr', 'lom', 'tos', 'bas', 'sic']\n"
     ]
    }
   ],
   "source": [
    "comune = [i.lower() for i in df.Comune]\n",
    "df.Provincia = df.Provincia.apply(lambda x: str(x))\n",
    "provincia = [i.lower() for i in df.Provincia]\n",
    "regione = [i.lower() for i in df.Regione]\n",
    "print('Comuni samples:',comune[:10])\n",
    "print(20*'%')\n",
    "print('Provincia samples:',provincia[:10])\n",
    "print(20*'%')\n",
    "print('Regione samples:',regione[:10])"
   ]
  },
  {
   "cell_type": "code",
   "execution_count": 192,
   "metadata": {},
   "outputs": [
    {
     "name": "stdout",
     "output_type": "stream",
     "text": [
      "True\n",
      "True\n",
      "False\n"
     ]
    }
   ],
   "source": [
    "# example\n",
    "print('verona' in comune)\n",
    "print('trieste' in comune)\n",
    "print('dublino' in comune)"
   ]
  },
  {
   "cell_type": "markdown",
   "metadata": {},
   "source": [
    "##### wrap previous commands into below function"
   ]
  },
  {
   "cell_type": "code",
   "execution_count": 201,
   "metadata": {},
   "outputs": [],
   "source": [
    "def remove_comuni(data, column, geo_data):\n",
    "    ''' function to remove geographic noisy'''\n",
    "    comune = [i.lower() for i in geo_data.Comune]\n",
    "    geo_data.Provincia = geo_data.Provincia.apply(lambda x: str(x))\n",
    "    provincia = [i.lower() for i in geo_data.Provincia]\n",
    "    regione = [i.lower() for i in geo_data.Regione]\n",
    "    \n",
    "    data[column] = data[column].apply(lambda x: [i for i in x if i not in comune])\n",
    "    data[column] = data[column].apply(lambda x: [i for i in x if i not in provincia])\n",
    "    data[column] = data[column].apply(lambda x: [i for i in x if i not in regione])\n",
    "    \n",
    "    return data\n"
   ]
  },
  {
   "cell_type": "code",
   "execution_count": 202,
   "metadata": {},
   "outputs": [
    {
     "data": {
      "text/html": [
       "<div>\n",
       "<style scoped>\n",
       "    .dataframe tbody tr th:only-of-type {\n",
       "        vertical-align: middle;\n",
       "    }\n",
       "\n",
       "    .dataframe tbody tr th {\n",
       "        vertical-align: top;\n",
       "    }\n",
       "\n",
       "    .dataframe thead th {\n",
       "        text-align: right;\n",
       "    }\n",
       "</style>\n",
       "<table border=\"1\" class=\"dataframe\">\n",
       "  <thead>\n",
       "    <tr style=\"text-align: right;\">\n",
       "      <th></th>\n",
       "      <th>Job_Description</th>\n",
       "      <th>role</th>\n",
       "    </tr>\n",
       "  </thead>\n",
       "  <tbody>\n",
       "    <tr>\n",
       "      <th>0</th>\n",
       "      <td>[randstad, technical, seleziona, manutentore, ...</td>\n",
       "      <td>Manutentore elettromeccanico</td>\n",
       "    </tr>\n",
       "    <tr>\n",
       "      <th>1</th>\n",
       "      <td>[ricerchiamo, n, 5, ricerca, addettie, vendita...</td>\n",
       "      <td>Commessa</td>\n",
       "    </tr>\n",
       "    <tr>\n",
       "      <th>2</th>\n",
       "      <td>[spa, filiale, seleziona, azienda, cliente, se...</td>\n",
       "      <td>Manutentore elettromeccanico</td>\n",
       "    </tr>\n",
       "    <tr>\n",
       "      <th>3</th>\n",
       "      <td>[kelly, services, multinazionale, americana, l...</td>\n",
       "      <td>Tecnico elettromeccanico</td>\n",
       "    </tr>\n",
       "    <tr>\n",
       "      <th>4</th>\n",
       "      <td>[adhr, filiale, ricerca, azienda, cliente, set...</td>\n",
       "      <td>Data Scientist</td>\n",
       "    </tr>\n",
       "    <tr>\n",
       "      <th>5</th>\n",
       "      <td>[cercando, data, scientist, esperto, appassion...</td>\n",
       "      <td>Data Scientist</td>\n",
       "    </tr>\n",
       "    <tr>\n",
       "      <th>6</th>\n",
       "      <td>[infor, elea, ricerca, azienda, cliente, figur...</td>\n",
       "      <td>Pizzaiolo</td>\n",
       "    </tr>\n",
       "    <tr>\n",
       "      <th>7</th>\n",
       "      <td>[bluserena, ricerca, propri, resort, abruzzo, ...</td>\n",
       "      <td>Pizzaiolo Pasticcere Macellaio</td>\n",
       "    </tr>\n",
       "    <tr>\n",
       "      <th>8</th>\n",
       "      <td>[esclusiva, boutique, multibrand, sita, sullis...</td>\n",
       "      <td>Commessa</td>\n",
       "    </tr>\n",
       "    <tr>\n",
       "      <th>9</th>\n",
       "      <td>[cliente, castel, guelfo, ricerca, ununa, comm...</td>\n",
       "      <td>Commessa</td>\n",
       "    </tr>\n",
       "    <tr>\n",
       "      <th>10</th>\n",
       "      <td>[lavoropiù, everywhere, divisione, lavoropiù, ...</td>\n",
       "      <td>Manutentore elettromeccanico</td>\n",
       "    </tr>\n",
       "    <tr>\n",
       "      <th>11</th>\n",
       "      <td>[gi, group, spa, agenzia, lavoro, ricerca, azi...</td>\n",
       "      <td>Data Scientist</td>\n",
       "    </tr>\n",
       "    <tr>\n",
       "      <th>12</th>\n",
       "      <td>[descrizione, azienda, synergie, italia, spa, ...</td>\n",
       "      <td>Pizzaiolo</td>\n",
       "    </tr>\n",
       "    <tr>\n",
       "      <th>13</th>\n",
       "      <td>[lavoropiù, spa, filiale, crostolo, ricerca, a...</td>\n",
       "      <td>Pizzaiolo</td>\n",
       "    </tr>\n",
       "  </tbody>\n",
       "</table>\n",
       "</div>"
      ],
      "text/plain": [
       "                                      Job_Description  \\\n",
       "0   [randstad, technical, seleziona, manutentore, ...   \n",
       "1   [ricerchiamo, n, 5, ricerca, addettie, vendita...   \n",
       "2   [spa, filiale, seleziona, azienda, cliente, se...   \n",
       "3   [kelly, services, multinazionale, americana, l...   \n",
       "4   [adhr, filiale, ricerca, azienda, cliente, set...   \n",
       "5   [cercando, data, scientist, esperto, appassion...   \n",
       "6   [infor, elea, ricerca, azienda, cliente, figur...   \n",
       "7   [bluserena, ricerca, propri, resort, abruzzo, ...   \n",
       "8   [esclusiva, boutique, multibrand, sita, sullis...   \n",
       "9   [cliente, castel, guelfo, ricerca, ununa, comm...   \n",
       "10  [lavoropiù, everywhere, divisione, lavoropiù, ...   \n",
       "11  [gi, group, spa, agenzia, lavoro, ricerca, azi...   \n",
       "12  [descrizione, azienda, synergie, italia, spa, ...   \n",
       "13  [lavoropiù, spa, filiale, crostolo, ricerca, a...   \n",
       "\n",
       "                              role  \n",
       "0     Manutentore elettromeccanico  \n",
       "1                         Commessa  \n",
       "2     Manutentore elettromeccanico  \n",
       "3         Tecnico elettromeccanico  \n",
       "4                  Data Scientist   \n",
       "5                  Data Scientist   \n",
       "6                        Pizzaiolo  \n",
       "7   Pizzaiolo Pasticcere Macellaio  \n",
       "8                         Commessa  \n",
       "9                         Commessa  \n",
       "10    Manutentore elettromeccanico  \n",
       "11                 Data Scientist   \n",
       "12                       Pizzaiolo  \n",
       "13                       Pizzaiolo  "
      ]
     },
     "execution_count": 202,
     "metadata": {},
     "output_type": "execute_result"
    }
   ],
   "source": [
    "data = remove_comuni(data, 'Job_Description', geo_data)"
   ]
  },
  {
   "cell_type": "code",
   "execution_count": null,
   "metadata": {},
   "outputs": [],
   "source": [
    "####"
   ]
  }
 ],
 "metadata": {
  "kernelspec": {
   "display_name": "Python 3",
   "language": "python",
   "name": "python3"
  },
  "language_info": {
   "codemirror_mode": {
    "name": "ipython",
    "version": 3
   },
   "file_extension": ".py",
   "mimetype": "text/x-python",
   "name": "python",
   "nbconvert_exporter": "python",
   "pygments_lexer": "ipython3",
   "version": "3.6.4"
  }
 },
 "nbformat": 4,
 "nbformat_minor": 2
}
