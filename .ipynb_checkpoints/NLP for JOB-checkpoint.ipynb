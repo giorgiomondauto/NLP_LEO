{
 "cells": [
  {
   "cell_type": "markdown",
   "metadata": {},
   "source": [
    "### Import Libraries"
   ]
  },
  {
   "cell_type": "code",
   "execution_count": 877,
   "metadata": {},
   "outputs": [],
   "source": [
    "import pandas as pd\n",
    "import matplotlib\n",
    "import re\n",
    "import nltk\n",
    "import pickle\n",
    "from nltk import word_tokenize\n",
    "from nltk.corpus import stopwords\n",
    "from sklearn.model_selection import train_test_split\n",
    "from sklearn.feature_extraction.text import CountVectorizer\n",
    "from sklearn.naive_bayes import MultinomialNB"
   ]
  },
  {
   "cell_type": "markdown",
   "metadata": {},
   "source": [
    "### Load the data"
   ]
  },
  {
   "cell_type": "code",
   "execution_count": 878,
   "metadata": {},
   "outputs": [],
   "source": [
    "data = pd.read_csv('train.csv')\n",
    "professioni = pd.read_csv('professioni.csv')"
   ]
  },
  {
   "cell_type": "code",
   "execution_count": 879,
   "metadata": {},
   "outputs": [
    {
     "name": "stdout",
     "output_type": "stream",
     "text": [
      "Job Vacancies\n"
     ]
    },
    {
     "data": {
      "text/html": [
       "<div>\n",
       "<style scoped>\n",
       "    .dataframe tbody tr th:only-of-type {\n",
       "        vertical-align: middle;\n",
       "    }\n",
       "\n",
       "    .dataframe tbody tr th {\n",
       "        vertical-align: top;\n",
       "    }\n",
       "\n",
       "    .dataframe thead th {\n",
       "        text-align: right;\n",
       "    }\n",
       "</style>\n",
       "<table border=\"1\" class=\"dataframe\">\n",
       "  <thead>\n",
       "    <tr style=\"text-align: right;\">\n",
       "      <th></th>\n",
       "      <th>Fonte</th>\n",
       "      <th>Job_Description</th>\n",
       "      <th>Role</th>\n",
       "    </tr>\n",
       "  </thead>\n",
       "  <tbody>\n",
       "    <tr>\n",
       "      <th>0</th>\n",
       "      <td>Randstad Technical</td>\n",
       "      <td>Randstad Technical di Vimercate seleziona un m...</td>\n",
       "      <td>Manutentore elettromeccanico</td>\n",
       "    </tr>\n",
       "    <tr>\n",
       "      <th>1</th>\n",
       "      <td>Monster</td>\n",
       "      <td>Ricerchiamo N. 5 ricerca ADDETTI/E VENDITA per...</td>\n",
       "      <td>Commessa</td>\n",
       "    </tr>\n",
       "    <tr>\n",
       "      <th>2</th>\n",
       "      <td>Monster</td>\n",
       "      <td>Quanta SpA, Filiale di Verona, seleziona per a...</td>\n",
       "      <td>Manutentore elettromeccanico</td>\n",
       "    </tr>\n",
       "    <tr>\n",
       "      <th>3</th>\n",
       "      <td>Monster</td>\n",
       "      <td>Kelly Services, multinazionale americana leade...</td>\n",
       "      <td>Tecnico elettromeccanico</td>\n",
       "    </tr>\n",
       "    <tr>\n",
       "      <th>4</th>\n",
       "      <td>Monster</td>\n",
       "      <td>ADHR Filiale di Torino ricerca per azienda cli...</td>\n",
       "      <td>Data Scientist</td>\n",
       "    </tr>\n",
       "  </tbody>\n",
       "</table>\n",
       "</div>"
      ],
      "text/plain": [
       "                 Fonte                                    Job_Description  \\\n",
       "0  Randstad Technical   Randstad Technical di Vimercate seleziona un m...   \n",
       "1              Monster  Ricerchiamo N. 5 ricerca ADDETTI/E VENDITA per...   \n",
       "2              Monster  Quanta SpA, Filiale di Verona, seleziona per a...   \n",
       "3              Monster  Kelly Services, multinazionale americana leade...   \n",
       "4              Monster  ADHR Filiale di Torino ricerca per azienda cli...   \n",
       "\n",
       "                           Role  \n",
       "0  Manutentore elettromeccanico  \n",
       "1                      Commessa  \n",
       "2  Manutentore elettromeccanico  \n",
       "3      Tecnico elettromeccanico  \n",
       "4               Data Scientist   "
      ]
     },
     "execution_count": 879,
     "metadata": {},
     "output_type": "execute_result"
    }
   ],
   "source": [
    "print('Job Vacancies')\n",
    "data.head()"
   ]
  },
  {
   "cell_type": "code",
   "execution_count": 880,
   "metadata": {},
   "outputs": [
    {
     "name": "stdout",
     "output_type": "stream",
     "text": [
      "Professioni\n"
     ]
    },
    {
     "data": {
      "text/html": [
       "<div>\n",
       "<style scoped>\n",
       "    .dataframe tbody tr th:only-of-type {\n",
       "        vertical-align: middle;\n",
       "    }\n",
       "\n",
       "    .dataframe tbody tr th {\n",
       "        vertical-align: top;\n",
       "    }\n",
       "\n",
       "    .dataframe thead th {\n",
       "        text-align: right;\n",
       "    }\n",
       "</style>\n",
       "<table border=\"1\" class=\"dataframe\">\n",
       "  <thead>\n",
       "    <tr style=\"text-align: right;\">\n",
       "      <th></th>\n",
       "      <th>Group</th>\n",
       "      <th>Subgroup</th>\n",
       "      <th>Descrizione_professione</th>\n",
       "      <th>Descrizione_professione2</th>\n",
       "      <th>subgroup1</th>\n",
       "      <th>subgroup2</th>\n",
       "      <th>Esco_Abilit_compet_essenz</th>\n",
       "      <th>Esco_conoscenze_essenz</th>\n",
       "      <th>Esco_Abilit_compet_opz</th>\n",
       "      <th>Conoscenze</th>\n",
       "    </tr>\n",
       "  </thead>\n",
       "  <tbody>\n",
       "    <tr>\n",
       "      <th>0</th>\n",
       "      <td>Statistici</td>\n",
       "      <td>Attuario\\nData scientist\\nEsperto in ricerca o...</td>\n",
       "      <td>Accertamenti tecnici per la valutazione delle ...</td>\n",
       "      <td>Elaborare piani tecnici per la trasformazione ...</td>\n",
       "      <td>consulente attuariale\\ndemografo demografa\\nsp...</td>\n",
       "      <td>consulente attuariale\\ndemografo demografa\\nsp...</td>\n",
       "      <td>correggere i dati\\ncostruire sistemi di raccom...</td>\n",
       "      <td>classificazione delle informazioni\\nelaborazio...</td>\n",
       "      <td>creare modelli di dati\\ndefinire criteri di qu...</td>\n",
       "      <td>LDAP\\nLINQ\\nMDX\\nN1QL\\nSPARQL\\nXQuery\\nbusines...</td>\n",
       "    </tr>\n",
       "    <tr>\n",
       "      <th>1</th>\n",
       "      <td>Cuochi in alberghi e ristoranti</td>\n",
       "      <td>Aiuto cuoco\\nAiuto cuoco di ristorante\\nAntipa...</td>\n",
       "      <td>Allestimento dei piatti\\nApplicazione delle pr...</td>\n",
       "      <td>Effettuare la preparazione dell'impasto da piz...</td>\n",
       "      <td>capo chef pasticcere capo chef pasticcera\\nche...</td>\n",
       "      <td>addetta alla preparazione degli alimenti\\ncuoc...</td>\n",
       "      <td>consegnare la zona di preparazione di alimenti...</td>\n",
       "      <td>legislazione in materia di salute, sicurezza e...</td>\n",
       "      <td>NaN</td>\n",
       "      <td>NaN</td>\n",
       "    </tr>\n",
       "    <tr>\n",
       "      <th>2</th>\n",
       "      <td>Commessi alle vendite al minuto</td>\n",
       "      <td>Addetto al banco vendita di macelleria\\nAddett...</td>\n",
       "      <td>Allestimento degli scaffali e delle isole prom...</td>\n",
       "      <td>Allestire e rifornire gli scaffali e le isole ...</td>\n",
       "      <td>commesso di negozio di abbigliamento commessa ...</td>\n",
       "      <td>commessa di negozio di abbigliamento uomo donn...</td>\n",
       "      <td>applicare le competenze matematiche\\nconsiglia...</td>\n",
       "      <td>argomentazione di vendita\\ncaratteristiche dei...</td>\n",
       "      <td>eseguire piccoli interventi di sartoria</td>\n",
       "      <td>industria dell'abbigliamento</td>\n",
       "    </tr>\n",
       "    <tr>\n",
       "      <th>3</th>\n",
       "      <td>Elettromeccanici</td>\n",
       "      <td>Aggiustatore elettromeccanico\\nAvvolgitore di ...</td>\n",
       "      <td>Cablatura dell'impianto elettrico\\nCollaudo de...</td>\n",
       "      <td>Effettuare la diagnosi tecnica (strumentale e ...</td>\n",
       "      <td>manutentore elettromeccanico manutentrice elet...</td>\n",
       "      <td>elettricista a bordo macchina\\nelettricista-me...</td>\n",
       "      <td>adattare le attrezzature meccanizzate\\napplica...</td>\n",
       "      <td>elettricità\\nelettromeccanica\\nelettronica\\nme...</td>\n",
       "      <td>applicare un rivestimento alle apparecchiature...</td>\n",
       "      <td>accessori per cavi elettrici\\ncomponenti di ba...</td>\n",
       "    </tr>\n",
       "  </tbody>\n",
       "</table>\n",
       "</div>"
      ],
      "text/plain": [
       "                             Group  \\\n",
       "0                       Statistici   \n",
       "1  Cuochi in alberghi e ristoranti   \n",
       "2  Commessi alle vendite al minuto   \n",
       "3                 Elettromeccanici   \n",
       "\n",
       "                                            Subgroup  \\\n",
       "0  Attuario\\nData scientist\\nEsperto in ricerca o...   \n",
       "1  Aiuto cuoco\\nAiuto cuoco di ristorante\\nAntipa...   \n",
       "2  Addetto al banco vendita di macelleria\\nAddett...   \n",
       "3  Aggiustatore elettromeccanico\\nAvvolgitore di ...   \n",
       "\n",
       "                             Descrizione_professione  \\\n",
       "0  Accertamenti tecnici per la valutazione delle ...   \n",
       "1  Allestimento dei piatti\\nApplicazione delle pr...   \n",
       "2  Allestimento degli scaffali e delle isole prom...   \n",
       "3  Cablatura dell'impianto elettrico\\nCollaudo de...   \n",
       "\n",
       "                            Descrizione_professione2  \\\n",
       "0  Elaborare piani tecnici per la trasformazione ...   \n",
       "1  Effettuare la preparazione dell'impasto da piz...   \n",
       "2  Allestire e rifornire gli scaffali e le isole ...   \n",
       "3  Effettuare la diagnosi tecnica (strumentale e ...   \n",
       "\n",
       "                                           subgroup1  \\\n",
       "0  consulente attuariale\\ndemografo demografa\\nsp...   \n",
       "1  capo chef pasticcere capo chef pasticcera\\nche...   \n",
       "2  commesso di negozio di abbigliamento commessa ...   \n",
       "3  manutentore elettromeccanico manutentrice elet...   \n",
       "\n",
       "                                           subgroup2  \\\n",
       "0  consulente attuariale\\ndemografo demografa\\nsp...   \n",
       "1  addetta alla preparazione degli alimenti\\ncuoc...   \n",
       "2  commessa di negozio di abbigliamento uomo donn...   \n",
       "3  elettricista a bordo macchina\\nelettricista-me...   \n",
       "\n",
       "                           Esco_Abilit_compet_essenz  \\\n",
       "0  correggere i dati\\ncostruire sistemi di raccom...   \n",
       "1  consegnare la zona di preparazione di alimenti...   \n",
       "2  applicare le competenze matematiche\\nconsiglia...   \n",
       "3  adattare le attrezzature meccanizzate\\napplica...   \n",
       "\n",
       "                              Esco_conoscenze_essenz  \\\n",
       "0  classificazione delle informazioni\\nelaborazio...   \n",
       "1  legislazione in materia di salute, sicurezza e...   \n",
       "2  argomentazione di vendita\\ncaratteristiche dei...   \n",
       "3  elettricità\\nelettromeccanica\\nelettronica\\nme...   \n",
       "\n",
       "                              Esco_Abilit_compet_opz  \\\n",
       "0  creare modelli di dati\\ndefinire criteri di qu...   \n",
       "1                                                NaN   \n",
       "2            eseguire piccoli interventi di sartoria   \n",
       "3  applicare un rivestimento alle apparecchiature...   \n",
       "\n",
       "                                          Conoscenze  \n",
       "0  LDAP\\nLINQ\\nMDX\\nN1QL\\nSPARQL\\nXQuery\\nbusines...  \n",
       "1                                                NaN  \n",
       "2                       industria dell'abbigliamento  \n",
       "3  accessori per cavi elettrici\\ncomponenti di ba...  "
      ]
     },
     "execution_count": 880,
     "metadata": {},
     "output_type": "execute_result"
    }
   ],
   "source": [
    "print('Professioni')\n",
    "professioni.head()"
   ]
  },
  {
   "cell_type": "markdown",
   "metadata": {},
   "source": [
    "### Text Preprocessing on Professioni csv"
   ]
  },
  {
   "cell_type": "markdown",
   "metadata": {},
   "source": [
    "#### create a dictionary for professioni. e.g. \n",
    "{Statistici : ['attuario', 'data scientist', 'esperto in ricerca operativa',..... ]}"
   ]
  },
  {
   "cell_type": "code",
   "execution_count": 882,
   "metadata": {},
   "outputs": [
    {
     "ename": "TypeError",
     "evalue": "expected string or bytes-like object",
     "output_type": "error",
     "traceback": [
      "\u001b[0;31m---------------------------------------------------------------------------\u001b[0m",
      "\u001b[0;31mTypeError\u001b[0m                                 Traceback (most recent call last)",
      "\u001b[0;32m<ipython-input-882-df76fa946fad>\u001b[0m in \u001b[0;36m<module>\u001b[0;34m\u001b[0m\n\u001b[0;32m----> 1\u001b[0;31m \u001b[0mprofessioni\u001b[0m\u001b[0;34m.\u001b[0m\u001b[0mSubgroup\u001b[0m \u001b[0;34m=\u001b[0m \u001b[0mprofessioni\u001b[0m\u001b[0;34m.\u001b[0m\u001b[0mSubgroup\u001b[0m\u001b[0;34m.\u001b[0m\u001b[0mapply\u001b[0m\u001b[0;34m(\u001b[0m\u001b[0;32mlambda\u001b[0m \u001b[0mx\u001b[0m\u001b[0;34m:\u001b[0m \u001b[0mre\u001b[0m\u001b[0;34m.\u001b[0m\u001b[0msub\u001b[0m\u001b[0;34m(\u001b[0m\u001b[0;34mr'[^\\w\\s]'\u001b[0m\u001b[0;34m,\u001b[0m\u001b[0;34m''\u001b[0m\u001b[0;34m,\u001b[0m\u001b[0mx\u001b[0m\u001b[0;34m)\u001b[0m\u001b[0;34m)\u001b[0m\u001b[0;34m\u001b[0m\u001b[0m\n\u001b[0m\u001b[1;32m      2\u001b[0m \u001b[0mprofessioni\u001b[0m\u001b[0;34m.\u001b[0m\u001b[0mSubgroup\u001b[0m \u001b[0;34m=\u001b[0m \u001b[0mprofessioni\u001b[0m\u001b[0;34m.\u001b[0m\u001b[0mSubgroup\u001b[0m\u001b[0;34m.\u001b[0m\u001b[0mapply\u001b[0m\u001b[0;34m(\u001b[0m\u001b[0;32mlambda\u001b[0m \u001b[0mx\u001b[0m\u001b[0;34m:\u001b[0m \u001b[0mx\u001b[0m\u001b[0;34m.\u001b[0m\u001b[0mlower\u001b[0m\u001b[0;34m(\u001b[0m\u001b[0;34m)\u001b[0m\u001b[0;34m.\u001b[0m\u001b[0msplit\u001b[0m\u001b[0;34m(\u001b[0m\u001b[0;34m'\\n'\u001b[0m\u001b[0;34m)\u001b[0m\u001b[0;34m)\u001b[0m\u001b[0;34m\u001b[0m\u001b[0m\n\u001b[1;32m      3\u001b[0m \u001b[0mprofessioni\u001b[0m\u001b[0;34m.\u001b[0m\u001b[0msubgroup1\u001b[0m \u001b[0;34m=\u001b[0m \u001b[0mprofessioni\u001b[0m\u001b[0;34m.\u001b[0m\u001b[0msubgroup1\u001b[0m\u001b[0;34m.\u001b[0m\u001b[0mapply\u001b[0m\u001b[0;34m(\u001b[0m\u001b[0;32mlambda\u001b[0m \u001b[0mx\u001b[0m\u001b[0;34m:\u001b[0m \u001b[0mx\u001b[0m\u001b[0;34m.\u001b[0m\u001b[0mlower\u001b[0m\u001b[0;34m(\u001b[0m\u001b[0;34m)\u001b[0m\u001b[0;34m.\u001b[0m\u001b[0msplit\u001b[0m\u001b[0;34m(\u001b[0m\u001b[0;34m'\\n'\u001b[0m\u001b[0;34m)\u001b[0m\u001b[0;34m)\u001b[0m\u001b[0;34m\u001b[0m\u001b[0m\n\u001b[1;32m      4\u001b[0m \u001b[0mprofessioni\u001b[0m\u001b[0;34m.\u001b[0m\u001b[0msubgroup2\u001b[0m \u001b[0;34m=\u001b[0m \u001b[0mprofessioni\u001b[0m\u001b[0;34m.\u001b[0m\u001b[0msubgroup2\u001b[0m\u001b[0;34m.\u001b[0m\u001b[0mapply\u001b[0m\u001b[0;34m(\u001b[0m\u001b[0;32mlambda\u001b[0m \u001b[0mx\u001b[0m\u001b[0;34m:\u001b[0m \u001b[0mx\u001b[0m\u001b[0;34m.\u001b[0m\u001b[0mlower\u001b[0m\u001b[0;34m(\u001b[0m\u001b[0;34m)\u001b[0m\u001b[0;34m.\u001b[0m\u001b[0msplit\u001b[0m\u001b[0;34m(\u001b[0m\u001b[0;34m'\\n'\u001b[0m\u001b[0;34m)\u001b[0m\u001b[0;34m)\u001b[0m\u001b[0;34m\u001b[0m\u001b[0m\n\u001b[1;32m      5\u001b[0m \u001b[0;34m\u001b[0m\u001b[0m\n",
      "\u001b[0;32m/anaconda2/envs/nanodegree/lib/python3.6/site-packages/pandas/core/series.py\u001b[0m in \u001b[0;36mapply\u001b[0;34m(self, func, convert_dtype, args, **kwds)\u001b[0m\n\u001b[1;32m   3192\u001b[0m             \u001b[0;32melse\u001b[0m\u001b[0;34m:\u001b[0m\u001b[0;34m\u001b[0m\u001b[0m\n\u001b[1;32m   3193\u001b[0m                 \u001b[0mvalues\u001b[0m \u001b[0;34m=\u001b[0m \u001b[0mself\u001b[0m\u001b[0;34m.\u001b[0m\u001b[0mastype\u001b[0m\u001b[0;34m(\u001b[0m\u001b[0mobject\u001b[0m\u001b[0;34m)\u001b[0m\u001b[0;34m.\u001b[0m\u001b[0mvalues\u001b[0m\u001b[0;34m\u001b[0m\u001b[0m\n\u001b[0;32m-> 3194\u001b[0;31m                 \u001b[0mmapped\u001b[0m \u001b[0;34m=\u001b[0m \u001b[0mlib\u001b[0m\u001b[0;34m.\u001b[0m\u001b[0mmap_infer\u001b[0m\u001b[0;34m(\u001b[0m\u001b[0mvalues\u001b[0m\u001b[0;34m,\u001b[0m \u001b[0mf\u001b[0m\u001b[0;34m,\u001b[0m \u001b[0mconvert\u001b[0m\u001b[0;34m=\u001b[0m\u001b[0mconvert_dtype\u001b[0m\u001b[0;34m)\u001b[0m\u001b[0;34m\u001b[0m\u001b[0m\n\u001b[0m\u001b[1;32m   3195\u001b[0m \u001b[0;34m\u001b[0m\u001b[0m\n\u001b[1;32m   3196\u001b[0m         \u001b[0;32mif\u001b[0m \u001b[0mlen\u001b[0m\u001b[0;34m(\u001b[0m\u001b[0mmapped\u001b[0m\u001b[0;34m)\u001b[0m \u001b[0;32mand\u001b[0m \u001b[0misinstance\u001b[0m\u001b[0;34m(\u001b[0m\u001b[0mmapped\u001b[0m\u001b[0;34m[\u001b[0m\u001b[0;36m0\u001b[0m\u001b[0;34m]\u001b[0m\u001b[0;34m,\u001b[0m \u001b[0mSeries\u001b[0m\u001b[0;34m)\u001b[0m\u001b[0;34m:\u001b[0m\u001b[0;34m\u001b[0m\u001b[0m\n",
      "\u001b[0;32mpandas/_libs/src/inference.pyx\u001b[0m in \u001b[0;36mpandas._libs.lib.map_infer\u001b[0;34m()\u001b[0m\n",
      "\u001b[0;32m<ipython-input-882-df76fa946fad>\u001b[0m in \u001b[0;36m<lambda>\u001b[0;34m(x)\u001b[0m\n\u001b[0;32m----> 1\u001b[0;31m \u001b[0mprofessioni\u001b[0m\u001b[0;34m.\u001b[0m\u001b[0mSubgroup\u001b[0m \u001b[0;34m=\u001b[0m \u001b[0mprofessioni\u001b[0m\u001b[0;34m.\u001b[0m\u001b[0mSubgroup\u001b[0m\u001b[0;34m.\u001b[0m\u001b[0mapply\u001b[0m\u001b[0;34m(\u001b[0m\u001b[0;32mlambda\u001b[0m \u001b[0mx\u001b[0m\u001b[0;34m:\u001b[0m \u001b[0mre\u001b[0m\u001b[0;34m.\u001b[0m\u001b[0msub\u001b[0m\u001b[0;34m(\u001b[0m\u001b[0;34mr'[^\\w\\s]'\u001b[0m\u001b[0;34m,\u001b[0m\u001b[0;34m''\u001b[0m\u001b[0;34m,\u001b[0m\u001b[0mx\u001b[0m\u001b[0;34m)\u001b[0m\u001b[0;34m)\u001b[0m\u001b[0;34m\u001b[0m\u001b[0m\n\u001b[0m\u001b[1;32m      2\u001b[0m \u001b[0mprofessioni\u001b[0m\u001b[0;34m.\u001b[0m\u001b[0mSubgroup\u001b[0m \u001b[0;34m=\u001b[0m \u001b[0mprofessioni\u001b[0m\u001b[0;34m.\u001b[0m\u001b[0mSubgroup\u001b[0m\u001b[0;34m.\u001b[0m\u001b[0mapply\u001b[0m\u001b[0;34m(\u001b[0m\u001b[0;32mlambda\u001b[0m \u001b[0mx\u001b[0m\u001b[0;34m:\u001b[0m \u001b[0mx\u001b[0m\u001b[0;34m.\u001b[0m\u001b[0mlower\u001b[0m\u001b[0;34m(\u001b[0m\u001b[0;34m)\u001b[0m\u001b[0;34m.\u001b[0m\u001b[0msplit\u001b[0m\u001b[0;34m(\u001b[0m\u001b[0;34m'\\n'\u001b[0m\u001b[0;34m)\u001b[0m\u001b[0;34m)\u001b[0m\u001b[0;34m\u001b[0m\u001b[0m\n\u001b[1;32m      3\u001b[0m \u001b[0mprofessioni\u001b[0m\u001b[0;34m.\u001b[0m\u001b[0msubgroup1\u001b[0m \u001b[0;34m=\u001b[0m \u001b[0mprofessioni\u001b[0m\u001b[0;34m.\u001b[0m\u001b[0msubgroup1\u001b[0m\u001b[0;34m.\u001b[0m\u001b[0mapply\u001b[0m\u001b[0;34m(\u001b[0m\u001b[0;32mlambda\u001b[0m \u001b[0mx\u001b[0m\u001b[0;34m:\u001b[0m \u001b[0mx\u001b[0m\u001b[0;34m.\u001b[0m\u001b[0mlower\u001b[0m\u001b[0;34m(\u001b[0m\u001b[0;34m)\u001b[0m\u001b[0;34m.\u001b[0m\u001b[0msplit\u001b[0m\u001b[0;34m(\u001b[0m\u001b[0;34m'\\n'\u001b[0m\u001b[0;34m)\u001b[0m\u001b[0;34m)\u001b[0m\u001b[0;34m\u001b[0m\u001b[0m\n\u001b[1;32m      4\u001b[0m \u001b[0mprofessioni\u001b[0m\u001b[0;34m.\u001b[0m\u001b[0msubgroup2\u001b[0m \u001b[0;34m=\u001b[0m \u001b[0mprofessioni\u001b[0m\u001b[0;34m.\u001b[0m\u001b[0msubgroup2\u001b[0m\u001b[0;34m.\u001b[0m\u001b[0mapply\u001b[0m\u001b[0;34m(\u001b[0m\u001b[0;32mlambda\u001b[0m \u001b[0mx\u001b[0m\u001b[0;34m:\u001b[0m \u001b[0mx\u001b[0m\u001b[0;34m.\u001b[0m\u001b[0mlower\u001b[0m\u001b[0;34m(\u001b[0m\u001b[0;34m)\u001b[0m\u001b[0;34m.\u001b[0m\u001b[0msplit\u001b[0m\u001b[0;34m(\u001b[0m\u001b[0;34m'\\n'\u001b[0m\u001b[0;34m)\u001b[0m\u001b[0;34m)\u001b[0m\u001b[0;34m\u001b[0m\u001b[0m\n\u001b[1;32m      5\u001b[0m \u001b[0;34m\u001b[0m\u001b[0m\n",
      "\u001b[0;32m/anaconda2/envs/nanodegree/lib/python3.6/re.py\u001b[0m in \u001b[0;36msub\u001b[0;34m(pattern, repl, string, count, flags)\u001b[0m\n\u001b[1;32m    189\u001b[0m     \u001b[0ma\u001b[0m \u001b[0mcallable\u001b[0m\u001b[0;34m,\u001b[0m \u001b[0mit\u001b[0m\u001b[0;31m'\u001b[0m\u001b[0ms\u001b[0m \u001b[0mpassed\u001b[0m \u001b[0mthe\u001b[0m \u001b[0mmatch\u001b[0m \u001b[0mobject\u001b[0m \u001b[0;32mand\u001b[0m \u001b[0mmust\u001b[0m \u001b[0;32mreturn\u001b[0m\u001b[0;34m\u001b[0m\u001b[0m\n\u001b[1;32m    190\u001b[0m     a replacement string to be used.\"\"\"\n\u001b[0;32m--> 191\u001b[0;31m     \u001b[0;32mreturn\u001b[0m \u001b[0m_compile\u001b[0m\u001b[0;34m(\u001b[0m\u001b[0mpattern\u001b[0m\u001b[0;34m,\u001b[0m \u001b[0mflags\u001b[0m\u001b[0;34m)\u001b[0m\u001b[0;34m.\u001b[0m\u001b[0msub\u001b[0m\u001b[0;34m(\u001b[0m\u001b[0mrepl\u001b[0m\u001b[0;34m,\u001b[0m \u001b[0mstring\u001b[0m\u001b[0;34m,\u001b[0m \u001b[0mcount\u001b[0m\u001b[0;34m)\u001b[0m\u001b[0;34m\u001b[0m\u001b[0m\n\u001b[0m\u001b[1;32m    192\u001b[0m \u001b[0;34m\u001b[0m\u001b[0m\n\u001b[1;32m    193\u001b[0m \u001b[0;32mdef\u001b[0m \u001b[0msubn\u001b[0m\u001b[0;34m(\u001b[0m\u001b[0mpattern\u001b[0m\u001b[0;34m,\u001b[0m \u001b[0mrepl\u001b[0m\u001b[0;34m,\u001b[0m \u001b[0mstring\u001b[0m\u001b[0;34m,\u001b[0m \u001b[0mcount\u001b[0m\u001b[0;34m=\u001b[0m\u001b[0;36m0\u001b[0m\u001b[0;34m,\u001b[0m \u001b[0mflags\u001b[0m\u001b[0;34m=\u001b[0m\u001b[0;36m0\u001b[0m\u001b[0;34m)\u001b[0m\u001b[0;34m:\u001b[0m\u001b[0;34m\u001b[0m\u001b[0m\n",
      "\u001b[0;31mTypeError\u001b[0m: expected string or bytes-like object"
     ]
    }
   ],
   "source": [
    "professioni.Subgroup = professioni.Subgroup.apply(lambda x: re.sub(r'[^\\w\\s]','',x))\n",
    "professioni.Subgroup = professioni.Subgroup.apply(lambda x: x.lower().split('\\n'))\n",
    "professioni.subgroup1 = professioni.subgroup1.apply(lambda x: x.lower().split('\\n'))\n",
    "professioni.subgroup2 = professioni.subgroup2.apply(lambda x: x.lower().split('\\n'))\n",
    "\n",
    "\n",
    "professioni.Subgroup = professioni.Subgroup + professioni.subgroup1 + professioni.subgroup2\n",
    "professioni.Subgroup = professioni.Subgroup.apply(lambda x: set(x))\n",
    "\n",
    "professioni.Subgroup = professioni.Subgroup.apply(lambda x: [word_tokenize(i) for i in x])\n",
    "professioni.Subgroup = professioni.Subgroup.apply(lambda x: set([i for t in x for i in t]))\n",
    "\n",
    "\n",
    "professioni_dictionary = pd.Series(professioni.Subgroup.values,index=professioni.Group).to_dict()"
   ]
  },
  {
   "cell_type": "code",
   "execution_count": 875,
   "metadata": {},
   "outputs": [
    {
     "data": {
      "text/plain": [
       "0    [esperto, ricerca, operativa, specialista, in,...\n",
       "1    [cuoco, privato, commis, di, cucina, aiuto, cu...\n",
       "2    [addetto, vendita, di, prodotti, caseari, comm...\n",
       "3    [aggiustatore, elettromeccanico, manutentore, ...\n",
       "Name: Subgroup, dtype: object"
      ]
     },
     "execution_count": 875,
     "metadata": {},
     "output_type": "execute_result"
    }
   ],
   "source": [
    "professioni.Subgroup_1 = professioni.Subgroup.apply(lambda x: [word_tokenize(i) for i in x])\n",
    "professioni.Subgroup_1 = professioni.Subgroup_1.apply(lambda x: [i for t in x for i in t])\n",
    "professioni.Subgroup_1"
   ]
  },
  {
   "cell_type": "code",
   "execution_count": 871,
   "metadata": {},
   "outputs": [
    {
     "data": {
      "text/plain": [
       "{'addetta',\n",
       " 'addetto',\n",
       " 'aiuto',\n",
       " 'al',\n",
       " 'alberghi',\n",
       " 'albergo',\n",
       " 'alimenti',\n",
       " 'alla',\n",
       " 'antipastiere',\n",
       " 'bordo',\n",
       " 'camera',\n",
       " 'capo',\n",
       " 'chef',\n",
       " 'commis',\n",
       " 'cucina',\n",
       " 'cuoca',\n",
       " 'cuoca-grigliera',\n",
       " 'cuochi',\n",
       " 'cuoco',\n",
       " 'cuoco-grigliere',\n",
       " 'degli',\n",
       " 'della',\n",
       " 'di',\n",
       " 'dietetica',\n",
       " 'e',\n",
       " 'esperta',\n",
       " 'esperto',\n",
       " 'fredda',\n",
       " 'frigorifero',\n",
       " 'gastronomo',\n",
       " 'gelatiere',\n",
       " 'griglia',\n",
       " 'grigliera',\n",
       " 'grigliere',\n",
       " 'in',\n",
       " 'legumi',\n",
       " 'partita',\n",
       " 'pasticcera',\n",
       " 'pasticcere',\n",
       " 'pasticciere',\n",
       " 'pesce',\n",
       " 'pizza',\n",
       " 'pizzaiola',\n",
       " 'pizzaiolo',\n",
       " 'preparazione',\n",
       " 'privata',\n",
       " 'privato',\n",
       " 'ristorante',\n",
       " 'ristoranti',\n",
       " 'rosticceria',\n",
       " 'salse',\n",
       " 'salsiere',\n",
       " 'specializzata',\n",
       " 'specializzato',\n",
       " 'zuppe'}"
      ]
     },
     "execution_count": 871,
     "metadata": {},
     "output_type": "execute_result"
    }
   ],
   "source": [
    "t = [word_tokenize(w) for w  in professioni.Subgroup.iloc[1]]\n",
    "set([i for x in t for i in x])"
   ]
  },
  {
   "cell_type": "code",
   "execution_count": 789,
   "metadata": {},
   "outputs": [
    {
     "data": {
      "text/plain": [
       "dict_keys(['Statistici', 'Cuochi in alberghi e ristoranti', 'Commessi alle vendite al minuto', 'Elettromeccanici'])"
      ]
     },
     "execution_count": 789,
     "metadata": {},
     "output_type": "execute_result"
    }
   ],
   "source": [
    "professioni_dictionary.keys()"
   ]
  },
  {
   "cell_type": "markdown",
   "metadata": {},
   "source": [
    "### Text Preprocessing on Job Descripion column"
   ]
  },
  {
   "cell_type": "markdown",
   "metadata": {},
   "source": [
    "##### Tokenization\n",
    "split the text into words"
   ]
  },
  {
   "cell_type": "code",
   "execution_count": 791,
   "metadata": {},
   "outputs": [
    {
     "name": "stdout",
     "output_type": "stream",
     "text": [
      "                 Fonte                                    Job_Description  \\\n",
      "0  Randstad Technical   [randstad, technical, di, vimercate, seleziona...   \n",
      "1              Monster  [ricerchiamo, n, 5, ricerca, addettie, vendita...   \n",
      "2              Monster  [quanta, spa, filiale, di, verona, seleziona, ...   \n",
      "3              Monster  [kelly, services, multinazionale, americana, l...   \n",
      "4              Monster  [adhr, filiale, di, torino, ricerca, per, azie...   \n",
      "\n",
      "                           Role  \n",
      "0  manutentore elettromeccanico  \n",
      "1                      commessa  \n",
      "2  manutentore elettromeccanico  \n",
      "3      tecnico elettromeccanico  \n",
      "4               data scientist   \n"
     ]
    }
   ],
   "source": [
    "# remove punctuation\n",
    "data.Job_Description = data.Job_Description.apply(lambda x: re.sub(r'[^\\w\\s]','',x))\n",
    "data.Role = data.Role.apply(lambda x: x.lower())\n",
    "data.Job_Description = data['Job_Description'].apply(lambda x: word_tokenize(x.lower())) # lowercase each word\n",
    "print(data.head())"
   ]
  },
  {
   "cell_type": "code",
   "execution_count": 814,
   "metadata": {},
   "outputs": [],
   "source": [
    "def mapRole(value, dictionary):\n",
    "    for keys, values in dictionary.items():\n",
    "#         print(values)\n",
    "        if value in values or value in word_tokenize(values):\n",
    "            return keys"
   ]
  },
  {
   "cell_type": "code",
   "execution_count": 833,
   "metadata": {},
   "outputs": [],
   "source": [
    "mapRole('pizzaiolo', professioni_dictionary)"
   ]
  },
  {
   "cell_type": "code",
   "execution_count": 831,
   "metadata": {},
   "outputs": [
    {
     "data": {
      "text/plain": [
       "0       manutentore elettromeccanico\n",
       "1                           commessa\n",
       "2       manutentore elettromeccanico\n",
       "3           tecnico elettromeccanico\n",
       "4                    data scientist \n",
       "5                    data scientist \n",
       "6                          pizzaiolo\n",
       "7     pizzaiolo pasticcere macellaio\n",
       "8                           commessa\n",
       "9                           commessa\n",
       "10      manutentore elettromeccanico\n",
       "11                   data scientist \n",
       "12                         pizzaiolo\n",
       "13                         pizzaiolo\n",
       "Name: Role, dtype: object"
      ]
     },
     "execution_count": 831,
     "metadata": {},
     "output_type": "execute_result"
    }
   ],
   "source": [
    "data.Role"
   ]
  },
  {
   "cell_type": "code",
   "execution_count": 830,
   "metadata": {},
   "outputs": [
    {
     "data": {
      "text/plain": [
       "['attuario',\n",
       " 'data scientist',\n",
       " 'esperto in ricerca operativa',\n",
       " 'esperto ricerca operativa',\n",
       " 'statistici',\n",
       " 'statistico',\n",
       " 'statistico applicato',\n",
       " 'statistico economico',\n",
       " 'statistico esperto in controlli di qualità',\n",
       " 'statistico metodologico',\n",
       " '']"
      ]
     },
     "execution_count": 830,
     "metadata": {},
     "output_type": "execute_result"
    }
   ],
   "source": [
    "list(professioni_dictionary.values())[0]"
   ]
  },
  {
   "cell_type": "code",
   "execution_count": 780,
   "metadata": {},
   "outputs": [
    {
     "data": {
      "text/plain": [
       "0     None\n",
       "1     None\n",
       "2     None\n",
       "3     None\n",
       "4     None\n",
       "5     None\n",
       "6     None\n",
       "7     None\n",
       "8     None\n",
       "9     None\n",
       "10    None\n",
       "11    None\n",
       "12    None\n",
       "13    None\n",
       "Name: Role, dtype: object"
      ]
     },
     "execution_count": 780,
     "metadata": {},
     "output_type": "execute_result"
    }
   ],
   "source": [
    "data.Role"
   ]
  },
  {
   "cell_type": "markdown",
   "metadata": {},
   "source": [
    "### Remove Noisy"
   ]
  },
  {
   "cell_type": "code",
   "execution_count": 576,
   "metadata": {},
   "outputs": [
    {
     "data": {
      "text/plain": [
       "{'infojob', 'monster', 'randstad', 'technical'}"
      ]
     },
     "execution_count": 576,
     "metadata": {},
     "output_type": "execute_result"
    }
   ],
   "source": [
    "##### remove in 'job_description' words from 'fonte'\n",
    "data.Fonte = data.Fonte.apply(lambda x: word_tokenize(x))\n",
    "source = set([i.lower() for x in data.Fonte for i in x])\n",
    "data = data.drop('Fonte', axis = 1)\n",
    "source"
   ]
  },
  {
   "cell_type": "code",
   "execution_count": 577,
   "metadata": {},
   "outputs": [
    {
     "data": {
      "text/plain": [
       "0    [di, vimercate, seleziona, un, manutentore, pe...\n",
       "1    [ricerchiamo, n, 5, ricerca, addettie, vendita...\n",
       "2    [quanta, spa, filiale, di, verona, seleziona, ...\n",
       "3    [kelly, services, multinazionale, americana, l...\n",
       "4    [adhr, filiale, di, torino, ricerca, per, azie...\n",
       "Name: Job_Description, dtype: object"
      ]
     },
     "execution_count": 577,
     "metadata": {},
     "output_type": "execute_result"
    }
   ],
   "source": [
    "data.Job_Description= data.Job_Description.apply(lambda x: [i for i in x if i not in source])\n",
    "data.Job_Description.head(5)"
   ]
  },
  {
   "cell_type": "markdown",
   "metadata": {},
   "source": [
    "##### Stopwords\n",
    "Stopwords are words generally not relevant to a text; thereby we get rid of them"
   ]
  },
  {
   "cell_type": "code",
   "execution_count": 578,
   "metadata": {},
   "outputs": [
    {
     "name": "stdout",
     "output_type": "stream",
     "text": [
      "Example of stopwords: ['sarà', 'avessi', 'eravamo', 'sarai', 'mia', 'avuti', 'allo', 'il', 'nei', 'fu', 'aveva', 'fanno', 'stiamo', 'dello', 'stavate', 'facevano', 'vi', 'eri', 'ci', 'fareste']\n",
      "%%%%%%%%%%\n",
      "lenth of stopwords: 279\n"
     ]
    }
   ],
   "source": [
    "list_stopwords = list(set(stopwords.words('italian')))\n",
    "print('Example of stopwords:',list_stopwords[:20])\n",
    "print(10 * '%')\n",
    "print('lenth of stopwords: {}'.format(len(list_stopwords)))"
   ]
  },
  {
   "cell_type": "code",
   "execution_count": 579,
   "metadata": {},
   "outputs": [
    {
     "data": {
      "text/plain": [
       "0    [vimercate, seleziona, manutentore, inseriment...\n",
       "1    [ricerchiamo, n, 5, ricerca, addettie, vendita...\n",
       "2    [spa, filiale, verona, seleziona, azienda, cli...\n",
       "3    [kelly, services, multinazionale, americana, l...\n",
       "4    [adhr, filiale, torino, ricerca, azienda, clie...\n",
       "Name: Job_Description, dtype: object"
      ]
     },
     "execution_count": 579,
     "metadata": {},
     "output_type": "execute_result"
    }
   ],
   "source": [
    "data.Job_Description = data.Job_Description.apply(lambda x: [i for i in x if i not in list_stopwords and i !='.'] )\n",
    "data.Job_Description.head(5)\n"
   ]
  },
  {
   "cell_type": "markdown",
   "metadata": {},
   "source": [
    "###### get a list of uniquewords"
   ]
  },
  {
   "cell_type": "code",
   "execution_count": 580,
   "metadata": {},
   "outputs": [],
   "source": [
    "words = []\n",
    "for i in data.Job_Description:\n",
    "    words.append(i)\n",
    "word_list = set([i for x in words for i in x])"
   ]
  },
  {
   "cell_type": "code",
   "execution_count": 581,
   "metadata": {},
   "outputs": [
    {
     "data": {
      "text/plain": [
       "[('1', 1),\n",
       " ('2', 1),\n",
       " ('3', 1),\n",
       " ('30', 1),\n",
       " ('300', 1),\n",
       " ('4', 1),\n",
       " ('5', 1),\n",
       " ('6', 1),\n",
       " ('60', 1),\n",
       " ('abbigliamento', 1),\n",
       " ('abruzzo', 1),\n",
       " ('accessori', 1),\n",
       " ('addettie', 1),\n",
       " ('adhr', 1),\n",
       " ('advanced', 1),\n",
       " ('affini', 1),\n",
       " ('agenzia', 1),\n",
       " ('aiutare', 1),\n",
       " ('aiuto', 1),\n",
       " ('alcune', 1)]"
      ]
     },
     "execution_count": 581,
     "metadata": {},
     "output_type": "execute_result"
    }
   ],
   "source": [
    "# check the frequence distribution of words\n",
    "fdist = nltk.FreqDist(word_list)\n",
    "sorted(fdist.items())[:20]"
   ]
  },
  {
   "cell_type": "markdown",
   "metadata": {},
   "source": [
    "In this case this step does not make sense since we have small data --> word frequency = 1"
   ]
  },
  {
   "cell_type": "markdown",
   "metadata": {},
   "source": [
    "##### remove words with lenght < 3 (e.g. numbers and not meaningful words)"
   ]
  },
  {
   "cell_type": "code",
   "execution_count": 582,
   "metadata": {},
   "outputs": [
    {
     "data": {
      "text/plain": [
       "0    [vimercate, seleziona, manutentore, inseriment...\n",
       "1    [ricerchiamo, ricerca, addettie, vendita, punt...\n",
       "2    [filiale, verona, seleziona, azienda, cliente,...\n",
       "3    [kelly, services, multinazionale, americana, l...\n",
       "4    [adhr, filiale, torino, ricerca, azienda, clie...\n",
       "Name: Job_Description, dtype: object"
      ]
     },
     "execution_count": 582,
     "metadata": {},
     "output_type": "execute_result"
    }
   ],
   "source": [
    "data.Job_Description = data.Job_Description.apply(lambda x: [i for i in x if len(i) >3])\n",
    "data.Job_Description.head()"
   ]
  },
  {
   "cell_type": "markdown",
   "metadata": {},
   "source": [
    "#### Remove words referring to: Comuni, Provincie, Regioni"
   ]
  },
  {
   "cell_type": "code",
   "execution_count": 583,
   "metadata": {},
   "outputs": [
    {
     "data": {
      "text/html": [
       "<div>\n",
       "<style scoped>\n",
       "    .dataframe tbody tr th:only-of-type {\n",
       "        vertical-align: middle;\n",
       "    }\n",
       "\n",
       "    .dataframe tbody tr th {\n",
       "        vertical-align: top;\n",
       "    }\n",
       "\n",
       "    .dataframe thead th {\n",
       "        text-align: right;\n",
       "    }\n",
       "</style>\n",
       "<table border=\"1\" class=\"dataframe\">\n",
       "  <thead>\n",
       "    <tr style=\"text-align: right;\">\n",
       "      <th></th>\n",
       "      <th>,Istat</th>\n",
       "      <th>Comune</th>\n",
       "      <th>Provincia</th>\n",
       "      <th>Regione</th>\n",
       "      <th>Prefisso</th>\n",
       "      <th>CAP</th>\n",
       "      <th>CodFisco</th>\n",
       "      <th>Abitanti</th>\n",
       "      <th>Link</th>\n",
       "    </tr>\n",
       "  </thead>\n",
       "  <tbody>\n",
       "    <tr>\n",
       "      <th>0</th>\n",
       "      <td>0,028001</td>\n",
       "      <td>Abano Terme</td>\n",
       "      <td>PD</td>\n",
       "      <td>VEN</td>\n",
       "      <td>49</td>\n",
       "      <td>35031</td>\n",
       "      <td>A001</td>\n",
       "      <td>19726</td>\n",
       "      <td>http://www.comuni-italiani.it/028/001/</td>\n",
       "    </tr>\n",
       "    <tr>\n",
       "      <th>1</th>\n",
       "      <td>1,098001</td>\n",
       "      <td>Abbadia Cerreto</td>\n",
       "      <td>LO</td>\n",
       "      <td>LOM</td>\n",
       "      <td>371</td>\n",
       "      <td>26834</td>\n",
       "      <td>A004</td>\n",
       "      <td>293</td>\n",
       "      <td>http://www.comuni-italiani.it/098/001/</td>\n",
       "    </tr>\n",
       "    <tr>\n",
       "      <th>2</th>\n",
       "      <td>2,097001</td>\n",
       "      <td>Abbadia Lariana</td>\n",
       "      <td>LC</td>\n",
       "      <td>LOM</td>\n",
       "      <td>341</td>\n",
       "      <td>23821</td>\n",
       "      <td>A005</td>\n",
       "      <td>3305</td>\n",
       "      <td>http://www.comuni-italiani.it/097/001/</td>\n",
       "    </tr>\n",
       "    <tr>\n",
       "      <th>3</th>\n",
       "      <td>3,052001</td>\n",
       "      <td>Abbadia San Salvatore</td>\n",
       "      <td>SI</td>\n",
       "      <td>TOS</td>\n",
       "      <td>577</td>\n",
       "      <td>53021</td>\n",
       "      <td>A006</td>\n",
       "      <td>6722</td>\n",
       "      <td>http://www.comuni-italiani.it/052/001/</td>\n",
       "    </tr>\n",
       "    <tr>\n",
       "      <th>4</th>\n",
       "      <td>4,095001</td>\n",
       "      <td>Abbasanta</td>\n",
       "      <td>OR</td>\n",
       "      <td>SAR</td>\n",
       "      <td>785</td>\n",
       "      <td>09071</td>\n",
       "      <td>A007</td>\n",
       "      <td>2872</td>\n",
       "      <td>http://www.comuni-italiani.it/095/001/</td>\n",
       "    </tr>\n",
       "  </tbody>\n",
       "</table>\n",
       "</div>"
      ],
      "text/plain": [
       "     ,Istat                 Comune Provincia Regione  Prefisso    CAP  \\\n",
       "0  0,028001            Abano Terme        PD     VEN        49  35031   \n",
       "1  1,098001        Abbadia Cerreto        LO     LOM       371  26834   \n",
       "2  2,097001        Abbadia Lariana        LC     LOM       341  23821   \n",
       "3  3,052001  Abbadia San Salvatore        SI     TOS       577  53021   \n",
       "4  4,095001              Abbasanta        OR     SAR       785  09071   \n",
       "\n",
       "  CodFisco  Abitanti                                    Link  \n",
       "0     A001     19726  http://www.comuni-italiani.it/028/001/  \n",
       "1     A004       293  http://www.comuni-italiani.it/098/001/  \n",
       "2     A005      3305  http://www.comuni-italiani.it/097/001/  \n",
       "3     A006      6722  http://www.comuni-italiani.it/052/001/  \n",
       "4     A007      2872  http://www.comuni-italiani.it/095/001/  "
      ]
     },
     "execution_count": 583,
     "metadata": {},
     "output_type": "execute_result"
    }
   ],
   "source": [
    "# load a text file containing a list of 'Comuni, Provincie, Regioni' italiane\n",
    "geo_data = pd.read_fwf('listacomuni.txt')\n",
    "geo_data.to_csv('listacomuni.csv')\n",
    "geo_data = pd.read_csv('listacomuni.csv', sep=';')\n",
    "geo_data.head()"
   ]
  },
  {
   "cell_type": "code",
   "execution_count": 584,
   "metadata": {},
   "outputs": [
    {
     "name": "stdout",
     "output_type": "stream",
     "text": [
      "Comuni samples: ['abano terme', 'abbadia cerreto', 'abbadia lariana', 'abbadia san salvatore', 'abbasanta', 'abbateggio', 'abbiategrasso', 'abetone', 'abriola', 'acate']\n",
      "%%%%%%%%%%%%%%%%%%%%\n",
      "Provincia samples: ['pd', 'lo', 'lc', 'si', 'or', 'pe', 'mi', 'pt', 'pz', 'rg']\n",
      "%%%%%%%%%%%%%%%%%%%%\n",
      "Regione samples: ['ven', 'lom', 'lom', 'tos', 'sar', 'abr', 'lom', 'tos', 'bas', 'sic']\n"
     ]
    }
   ],
   "source": [
    "comune = [i.lower() for i in df.Comune]\n",
    "df.Provincia = df.Provincia.apply(lambda x: str(x))\n",
    "provincia = [i.lower() for i in df.Provincia]\n",
    "regione = [i.lower() for i in df.Regione]\n",
    "print('Comuni samples:',comune[:10])\n",
    "print(20*'%')\n",
    "print('Provincia samples:',provincia[:10])\n",
    "print(20*'%')\n",
    "print('Regione samples:',regione[:10])"
   ]
  },
  {
   "cell_type": "code",
   "execution_count": 585,
   "metadata": {},
   "outputs": [
    {
     "name": "stdout",
     "output_type": "stream",
     "text": [
      "True\n",
      "True\n",
      "False\n"
     ]
    }
   ],
   "source": [
    "# example\n",
    "print('verona' in comune)\n",
    "print('trieste' in comune)\n",
    "print('dublino' in comune)"
   ]
  },
  {
   "cell_type": "markdown",
   "metadata": {},
   "source": [
    "##### wrap previous commands into below function"
   ]
  },
  {
   "cell_type": "code",
   "execution_count": 586,
   "metadata": {},
   "outputs": [],
   "source": [
    "def remove_comuni(data, column, geo_data):\n",
    "    ''' function to remove geographic noisy'''\n",
    "    comune = [i.lower() for i in geo_data.Comune]\n",
    "    geo_data.Provincia = geo_data.Provincia.apply(lambda x: str(x))\n",
    "    provincia = [i.lower() for i in geo_data.Provincia]\n",
    "    regione = [i.lower() for i in geo_data.Regione]\n",
    "    \n",
    "    data[column] = data[column].apply(lambda x: [i for i in x if i not in comune])\n",
    "    data[column] = data[column].apply(lambda x: [i for i in x if i not in provincia])\n",
    "    data[column] = data[column].apply(lambda x: [i for i in x if i not in regione])\n",
    "    \n",
    "    return data\n"
   ]
  },
  {
   "cell_type": "code",
   "execution_count": 587,
   "metadata": {},
   "outputs": [
    {
     "data": {
      "text/html": [
       "<div>\n",
       "<style scoped>\n",
       "    .dataframe tbody tr th:only-of-type {\n",
       "        vertical-align: middle;\n",
       "    }\n",
       "\n",
       "    .dataframe tbody tr th {\n",
       "        vertical-align: top;\n",
       "    }\n",
       "\n",
       "    .dataframe thead th {\n",
       "        text-align: right;\n",
       "    }\n",
       "</style>\n",
       "<table border=\"1\" class=\"dataframe\">\n",
       "  <thead>\n",
       "    <tr style=\"text-align: right;\">\n",
       "      <th></th>\n",
       "      <th>Job_Description</th>\n",
       "      <th>Role</th>\n",
       "    </tr>\n",
       "  </thead>\n",
       "  <tbody>\n",
       "    <tr>\n",
       "      <th>0</th>\n",
       "      <td>[seleziona, manutentore, inserimento, somminis...</td>\n",
       "      <td>manutentore elettromeccanico</td>\n",
       "    </tr>\n",
       "    <tr>\n",
       "      <th>1</th>\n",
       "      <td>[ricerchiamo, ricerca, addettie, vendita, punt...</td>\n",
       "      <td>commessa</td>\n",
       "    </tr>\n",
       "    <tr>\n",
       "      <th>2</th>\n",
       "      <td>[filiale, seleziona, azienda, cliente, settore...</td>\n",
       "      <td>manutentore elettromeccanico</td>\n",
       "    </tr>\n",
       "    <tr>\n",
       "      <th>3</th>\n",
       "      <td>[kelly, services, multinazionale, americana, l...</td>\n",
       "      <td>tecnico elettromeccanico</td>\n",
       "    </tr>\n",
       "    <tr>\n",
       "      <th>4</th>\n",
       "      <td>[adhr, filiale, ricerca, azienda, cliente, set...</td>\n",
       "      <td>data scientist</td>\n",
       "    </tr>\n",
       "  </tbody>\n",
       "</table>\n",
       "</div>"
      ],
      "text/plain": [
       "                                     Job_Description  \\\n",
       "0  [seleziona, manutentore, inserimento, somminis...   \n",
       "1  [ricerchiamo, ricerca, addettie, vendita, punt...   \n",
       "2  [filiale, seleziona, azienda, cliente, settore...   \n",
       "3  [kelly, services, multinazionale, americana, l...   \n",
       "4  [adhr, filiale, ricerca, azienda, cliente, set...   \n",
       "\n",
       "                           Role  \n",
       "0  manutentore elettromeccanico  \n",
       "1                      commessa  \n",
       "2  manutentore elettromeccanico  \n",
       "3      tecnico elettromeccanico  \n",
       "4               data scientist   "
      ]
     },
     "execution_count": 587,
     "metadata": {},
     "output_type": "execute_result"
    }
   ],
   "source": [
    "data = remove_comuni(data, 'Job_Description', geo_data)\n",
    "data.head(5)"
   ]
  },
  {
   "cell_type": "markdown",
   "metadata": {},
   "source": [
    "##### get rid of unusual_words : misspelled words - uncommon words¶"
   ]
  },
  {
   "cell_type": "code",
   "execution_count": 588,
   "metadata": {},
   "outputs": [],
   "source": [
    "italian_vocab = pd.read_fwf('660000_parole_italiane.txt', names = ['word'])\n",
    "italian_vocab = set(italian_vocab.word.tolist())\n",
    "english_vocab = sorted(set(w.lower() for w in nltk.corpus.words.words())) # english vocabulary"
   ]
  },
  {
   "cell_type": "code",
   "execution_count": 589,
   "metadata": {},
   "outputs": [],
   "source": [
    "def uncommon_words(data,column, italian_vocab, english_vocab = None):\n",
    "    data[column] = data[column].apply(lambda x: [i for i in x if i in italian_vocab])\n",
    "    return data"
   ]
  },
  {
   "cell_type": "code",
   "execution_count": 590,
   "metadata": {},
   "outputs": [
    {
     "data": {
      "text/html": [
       "<div>\n",
       "<style scoped>\n",
       "    .dataframe tbody tr th:only-of-type {\n",
       "        vertical-align: middle;\n",
       "    }\n",
       "\n",
       "    .dataframe tbody tr th {\n",
       "        vertical-align: top;\n",
       "    }\n",
       "\n",
       "    .dataframe thead th {\n",
       "        text-align: right;\n",
       "    }\n",
       "</style>\n",
       "<table border=\"1\" class=\"dataframe\">\n",
       "  <thead>\n",
       "    <tr style=\"text-align: right;\">\n",
       "      <th></th>\n",
       "      <th>Job_Description</th>\n",
       "      <th>Role</th>\n",
       "    </tr>\n",
       "  </thead>\n",
       "  <tbody>\n",
       "    <tr>\n",
       "      <th>0</th>\n",
       "      <td>[seleziona, manutentore, inserimento, presso, ...</td>\n",
       "      <td>manutentore elettromeccanico</td>\n",
       "    </tr>\n",
       "    <tr>\n",
       "      <th>1</th>\n",
       "      <td>[ricerchiamo, ricerca, vendita, punto, vendita...</td>\n",
       "      <td>commessa</td>\n",
       "    </tr>\n",
       "    <tr>\n",
       "      <th>2</th>\n",
       "      <td>[filiale, seleziona, azienda, cliente, settore...</td>\n",
       "      <td>manutentore elettromeccanico</td>\n",
       "    </tr>\n",
       "    <tr>\n",
       "      <th>3</th>\n",
       "      <td>[multinazionale, americana, leader, risorse, u...</td>\n",
       "      <td>tecnico elettromeccanico</td>\n",
       "    </tr>\n",
       "    <tr>\n",
       "      <th>4</th>\n",
       "      <td>[filiale, ricerca, azienda, cliente, settore, ...</td>\n",
       "      <td>data scientist</td>\n",
       "    </tr>\n",
       "    <tr>\n",
       "      <th>5</th>\n",
       "      <td>[cercando, data, esperto, appassionato, unisca...</td>\n",
       "      <td>data scientist</td>\n",
       "    </tr>\n",
       "    <tr>\n",
       "      <th>6</th>\n",
       "      <td>[elea, ricerca, azienda, cliente, figura, prof...</td>\n",
       "      <td>pizzaiolo</td>\n",
       "    </tr>\n",
       "    <tr>\n",
       "      <th>7</th>\n",
       "      <td>[ricerca, propri, resort, puglia, chef, cuoco,...</td>\n",
       "      <td>pizzaiolo pasticcere macellaio</td>\n",
       "    </tr>\n",
       "    <tr>\n",
       "      <th>8</th>\n",
       "      <td>[esclusiva, boutique, sita, isole, eolie, cerc...</td>\n",
       "      <td>commessa</td>\n",
       "    </tr>\n",
       "    <tr>\n",
       "      <th>9</th>\n",
       "      <td>[cliente, guelfo, ricerca, abbigliamento, sost...</td>\n",
       "      <td>commessa</td>\n",
       "    </tr>\n",
       "    <tr>\n",
       "      <th>10</th>\n",
       "      <td>[divisione, specializzata, ricerca, selezione,...</td>\n",
       "      <td>manutentore elettromeccanico</td>\n",
       "    </tr>\n",
       "    <tr>\n",
       "      <th>11</th>\n",
       "      <td>[agenzia, lavoro, ricerca, azienda, cliente, s...</td>\n",
       "      <td>data scientist</td>\n",
       "    </tr>\n",
       "    <tr>\n",
       "      <th>12</th>\n",
       "      <td>[descrizione, azienda, filiale, divisione, spe...</td>\n",
       "      <td>pizzaiolo</td>\n",
       "    </tr>\n",
       "    <tr>\n",
       "      <th>13</th>\n",
       "      <td>[filiale, crostolo, ricerca, aiuto, cliente, o...</td>\n",
       "      <td>pizzaiolo</td>\n",
       "    </tr>\n",
       "  </tbody>\n",
       "</table>\n",
       "</div>"
      ],
      "text/plain": [
       "                                      Job_Description  \\\n",
       "0   [seleziona, manutentore, inserimento, presso, ...   \n",
       "1   [ricerchiamo, ricerca, vendita, punto, vendita...   \n",
       "2   [filiale, seleziona, azienda, cliente, settore...   \n",
       "3   [multinazionale, americana, leader, risorse, u...   \n",
       "4   [filiale, ricerca, azienda, cliente, settore, ...   \n",
       "5   [cercando, data, esperto, appassionato, unisca...   \n",
       "6   [elea, ricerca, azienda, cliente, figura, prof...   \n",
       "7   [ricerca, propri, resort, puglia, chef, cuoco,...   \n",
       "8   [esclusiva, boutique, sita, isole, eolie, cerc...   \n",
       "9   [cliente, guelfo, ricerca, abbigliamento, sost...   \n",
       "10  [divisione, specializzata, ricerca, selezione,...   \n",
       "11  [agenzia, lavoro, ricerca, azienda, cliente, s...   \n",
       "12  [descrizione, azienda, filiale, divisione, spe...   \n",
       "13  [filiale, crostolo, ricerca, aiuto, cliente, o...   \n",
       "\n",
       "                              Role  \n",
       "0     manutentore elettromeccanico  \n",
       "1                         commessa  \n",
       "2     manutentore elettromeccanico  \n",
       "3         tecnico elettromeccanico  \n",
       "4                  data scientist   \n",
       "5                  data scientist   \n",
       "6                        pizzaiolo  \n",
       "7   pizzaiolo pasticcere macellaio  \n",
       "8                         commessa  \n",
       "9                         commessa  \n",
       "10    manutentore elettromeccanico  \n",
       "11                 data scientist   \n",
       "12                       pizzaiolo  \n",
       "13                       pizzaiolo  "
      ]
     },
     "execution_count": 590,
     "metadata": {},
     "output_type": "execute_result"
    }
   ],
   "source": [
    "data = uncommon_words(data, 'Job_Description', italian_vocab, english_vocab)\n",
    "data"
   ]
  },
  {
   "cell_type": "code",
   "execution_count": 591,
   "metadata": {
    "scrolled": true
   },
   "outputs": [
    {
     "name": "stdout",
     "output_type": "stream",
     "text": [
      "                              Frequency\n",
      "MANUTENTORE ELETTROMECCANICO           \n",
      "settore                               6\n",
      "manutentore                           5\n",
      "manutenzione                          5\n",
      "impianti                              4\n",
      "esperienza                            4\n",
      "%%%%%%%%%%%%%%%%%%%%%%%%%%%%%%%%%%%%%%%%%%%%%%%%%%%%%%%%%%%%%%%%%%%%%%%%%%%%%%%%%%%%%%%%%%%%%%%%%%%%\n",
      "               Frequency\n",
      "COMMESSA                \n",
      "vendita                4\n",
      "abbigliamento          3\n",
      "ricerca                2\n",
      "esperienza             2\n",
      "settore                2\n",
      "%%%%%%%%%%%%%%%%%%%%%%%%%%%%%%%%%%%%%%%%%%%%%%%%%%%%%%%%%%%%%%%%%%%%%%%%%%%%%%%%%%%%%%%%%%%%%%%%%%%%\n",
      "                          Frequency\n",
      "TECNICO ELETTROMECCANICO           \n",
      "anni                              3\n",
      "oltre                             2\n",
      "servizi                           2\n",
      "ricerca                           2\n",
      "almeno                            2\n",
      "%%%%%%%%%%%%%%%%%%%%%%%%%%%%%%%%%%%%%%%%%%%%%%%%%%%%%%%%%%%%%%%%%%%%%%%%%%%%%%%%%%%%%%%%%%%%%%%%%%%%\n",
      "                 Frequency\n",
      "DATA SCIENTIST            \n",
      "data                    10\n",
      "dati                    10\n",
      "principali               5\n",
      "lavoro                   5\n",
      "conoscenza               4\n",
      "%%%%%%%%%%%%%%%%%%%%%%%%%%%%%%%%%%%%%%%%%%%%%%%%%%%%%%%%%%%%%%%%%%%%%%%%%%%%%%%%%%%%%%%%%%%%%%%%%%%%\n",
      "              Frequency\n",
      "PIZZAIOLO              \n",
      "lavoro                6\n",
      "ricerca               4\n",
      "requisiti             4\n",
      "preparazione          4\n",
      "buona                 3\n",
      "%%%%%%%%%%%%%%%%%%%%%%%%%%%%%%%%%%%%%%%%%%%%%%%%%%%%%%%%%%%%%%%%%%%%%%%%%%%%%%%%%%%%%%%%%%%%%%%%%%%%\n",
      "                                Frequency\n",
      "PIZZAIOLO PASTICCERE MACELLAIO           \n",
      "chef                                    2\n",
      "ricerca                                 1\n",
      "propri                                  1\n",
      "resort                                  1\n",
      "puglia                                  1\n",
      "%%%%%%%%%%%%%%%%%%%%%%%%%%%%%%%%%%%%%%%%%%%%%%%%%%%%%%%%%%%%%%%%%%%%%%%%%%%%%%%%%%%%%%%%%%%%%%%%%%%%\n"
     ]
    },
    {
     "data": {
      "image/png": "[encoded data removed]",
      "text/plain": [
       "<Figure size 432x288 with 1 Axes>"
      ]
     },
     "metadata": {},
     "output_type": "display_data"
    },
    {
     "data": {
      "image/png": "[encoded data removed]",
      "text/plain": [
       "<Figure size 432x288 with 1 Axes>"
      ]
     },
     "metadata": {},
     "output_type": "display_data"
    },
    {
     "data": {
      "image/png": "[encoded data removed]",
      "text/plain": [
       "<Figure size 432x288 with 1 Axes>"
      ]
     },
     "metadata": {},
     "output_type": "display_data"
    },
    {
     "data": {
      "image/png": "[encoded data removed]",
      "text/plain": [
       "<Figure size 432x288 with 1 Axes>"
      ]
     },
     "metadata": {},
     "output_type": "display_data"
    },
    {
     "data": {
      "image/png": "[encoded data removed]",
      "text/plain": [
       "<Figure size 432x288 with 1 Axes>"
      ]
     },
     "metadata": {},
     "output_type": "display_data"
    },
    {
     "data": {
      "image/png": "[encoded data removed]",
      "text/plain": [
       "<Figure size 432x288 with 1 Axes>"
      ]
     },
     "metadata": {},
     "output_type": "display_data"
    }
   ],
   "source": [
    "field=\"Job_Description\"\n",
    "Role = list(data.Role.unique())\n",
    "for i in Role:\n",
    "    txt = train_df[train_df['Role']==i][field]\n",
    "    txt = [i for x in txt.tolist() for i in x]\n",
    "    words_except_stop_dist = nltk.FreqDist(w for w in txt) \n",
    "    words_except_stop_dist\n",
    "    rslt = pd.DataFrame(words_except_stop_dist.most_common(5),\n",
    "                            columns=[i.upper(), 'Frequency']).set_index(i.upper())\n",
    "    print(rslt)\n",
    "    matplotlib.style.use('ggplot')\n",
    "    rslt.plot.bar(rot=0)\n",
    "    print(100 *'%')"
   ]
  },
  {
   "cell_type": "markdown",
   "metadata": {},
   "source": [
    "##### Create Role dictionary and encode the column Role"
   ]
  },
  {
   "cell_type": "code",
   "execution_count": 595,
   "metadata": {},
   "outputs": [],
   "source": [
    "Role_dictionary = pd.Series(data['Role'].unique()).to_dict()\n",
    "Role_dictionary = dict([(value, key) for key, value in Role_dictionary.items()])"
   ]
  },
  {
   "cell_type": "code",
   "execution_count": 596,
   "metadata": {},
   "outputs": [
    {
     "data": {
      "text/plain": [
       "{'manutentore elettromeccanico': 0,\n",
       " 'commessa': 1,\n",
       " 'tecnico elettromeccanico': 2,\n",
       " 'data scientist ': 3,\n",
       " 'pizzaiolo': 4,\n",
       " 'pizzaiolo pasticcere macellaio': 5}"
      ]
     },
     "execution_count": 596,
     "metadata": {},
     "output_type": "execute_result"
    }
   ],
   "source": [
    "Role_dictionary"
   ]
  },
  {
   "cell_type": "code",
   "execution_count": 676,
   "metadata": {},
   "outputs": [],
   "source": [
    "# save role dictionary as picke file\n",
    "with open('Role_dictionary.pickle', 'wb') as handle:\n",
    "    pickle.dump(Role_dictionary, handle, protocol=pickle.HIGHEST_PROTOCOL)\n",
    "\n",
    "with open('Role_dictionary.pickle', 'rb') as handle:\n",
    "    b = pickle.load(handle)"
   ]
  },
  {
   "cell_type": "code",
   "execution_count": 597,
   "metadata": {},
   "outputs": [],
   "source": [
    "role_encoded = []\n",
    "for i in data.Role:\n",
    "    role_encoded.append(Role_dictionary.get(i, None))"
   ]
  },
  {
   "cell_type": "code",
   "execution_count": 598,
   "metadata": {},
   "outputs": [
    {
     "data": {
      "text/plain": [
       "[0, 1, 0, 2, 3, 3, 4, 5, 1, 1, 0, 3, 4, 4]"
      ]
     },
     "execution_count": 598,
     "metadata": {},
     "output_type": "execute_result"
    }
   ],
   "source": [
    "role_encoded"
   ]
  },
  {
   "cell_type": "code",
   "execution_count": 599,
   "metadata": {},
   "outputs": [
    {
     "name": "stdout",
     "output_type": "stream",
     "text": [
      "['manutentore elettromeccanico', 'commessa', 'manutentore elettromeccanico', 'tecnico elettromeccanico', 'data scientist ', 'data scientist ', 'pizzaiolo', 'pizzaiolo pasticcere macellaio', 'commessa', 'commessa', 'manutentore elettromeccanico', 'data scientist ', 'pizzaiolo', 'pizzaiolo']\n"
     ]
    }
   ],
   "source": [
    "print(data.Role.tolist())"
   ]
  },
  {
   "cell_type": "code",
   "execution_count": 600,
   "metadata": {},
   "outputs": [],
   "source": [
    "##### replace old role values with new values\n",
    "data.Role = role_encoded"
   ]
  },
  {
   "cell_type": "code",
   "execution_count": 601,
   "metadata": {},
   "outputs": [
    {
     "data": {
      "text/html": [
       "<div>\n",
       "<style scoped>\n",
       "    .dataframe tbody tr th:only-of-type {\n",
       "        vertical-align: middle;\n",
       "    }\n",
       "\n",
       "    .dataframe tbody tr th {\n",
       "        vertical-align: top;\n",
       "    }\n",
       "\n",
       "    .dataframe thead th {\n",
       "        text-align: right;\n",
       "    }\n",
       "</style>\n",
       "<table border=\"1\" class=\"dataframe\">\n",
       "  <thead>\n",
       "    <tr style=\"text-align: right;\">\n",
       "      <th></th>\n",
       "      <th>Job_Description</th>\n",
       "      <th>Role</th>\n",
       "    </tr>\n",
       "  </thead>\n",
       "  <tbody>\n",
       "    <tr>\n",
       "      <th>0</th>\n",
       "      <td>[seleziona, manutentore, inserimento, presso, ...</td>\n",
       "      <td>0</td>\n",
       "    </tr>\n",
       "    <tr>\n",
       "      <th>1</th>\n",
       "      <td>[ricerchiamo, ricerca, vendita, punto, vendita...</td>\n",
       "      <td>1</td>\n",
       "    </tr>\n",
       "    <tr>\n",
       "      <th>2</th>\n",
       "      <td>[filiale, seleziona, azienda, cliente, settore...</td>\n",
       "      <td>0</td>\n",
       "    </tr>\n",
       "    <tr>\n",
       "      <th>3</th>\n",
       "      <td>[multinazionale, americana, leader, risorse, u...</td>\n",
       "      <td>2</td>\n",
       "    </tr>\n",
       "    <tr>\n",
       "      <th>4</th>\n",
       "      <td>[filiale, ricerca, azienda, cliente, settore, ...</td>\n",
       "      <td>3</td>\n",
       "    </tr>\n",
       "  </tbody>\n",
       "</table>\n",
       "</div>"
      ],
      "text/plain": [
       "                                     Job_Description  Role\n",
       "0  [seleziona, manutentore, inserimento, presso, ...     0\n",
       "1  [ricerchiamo, ricerca, vendita, punto, vendita...     1\n",
       "2  [filiale, seleziona, azienda, cliente, settore...     0\n",
       "3  [multinazionale, americana, leader, risorse, u...     2\n",
       "4  [filiale, ricerca, azienda, cliente, settore, ...     3"
      ]
     },
     "execution_count": 601,
     "metadata": {},
     "output_type": "execute_result"
    }
   ],
   "source": [
    "data.head()"
   ]
  },
  {
   "cell_type": "markdown",
   "metadata": {},
   "source": [
    "##### convert each word tokenized into a string of words"
   ]
  },
  {
   "cell_type": "code",
   "execution_count": 602,
   "metadata": {},
   "outputs": [
    {
     "data": {
      "text/plain": [
       "0    seleziona manutentore inserimento presso azien...\n",
       "1    ricerchiamo ricerca vendita punto vendita abbi...\n",
       "2    filiale seleziona azienda cliente settore meta...\n",
       "3    multinazionale americana leader risorse umane ...\n",
       "4    filiale ricerca azienda cliente settore inform...\n",
       "Name: Job_Description, dtype: object"
      ]
     },
     "execution_count": 602,
     "metadata": {},
     "output_type": "execute_result"
    }
   ],
   "source": [
    "data.Job_Description = data.Job_Description.apply(lambda x: ' '.join(x))\n",
    "data.Job_Description.head()"
   ]
  },
  {
   "cell_type": "markdown",
   "metadata": {},
   "source": [
    "### Data Split "
   ]
  },
  {
   "cell_type": "code",
   "execution_count": 663,
   "metadata": {},
   "outputs": [
    {
     "name": "stdout",
     "output_type": "stream",
     "text": [
      "Number of rows in the total set: 14\n",
      "Number of rows in the training set: 10\n",
      "Number of rows in the test set: 4\n"
     ]
    }
   ],
   "source": [
    "X_train, X_test, y_train, y_test = train_test_split(data['Job_Description'], \n",
    "                                                    data['Role'])\n",
    "\n",
    "print('Number of rows in the total set: {}'.format(data.shape[0]))\n",
    "print('Number of rows in the training set: {}'.format(X_train.shape[0]))\n",
    "print('Number of rows in the test set: {}'.format(X_test.shape[0]))"
   ]
  },
  {
   "cell_type": "code",
   "execution_count": 677,
   "metadata": {},
   "outputs": [
    {
     "data": {
      "text/plain": [
       "3     multinazionale americana leader risorse umane ...\n",
       "8     esclusiva boutique sita isole eolie cerca comm...\n",
       "10    divisione specializzata ricerca selezione prof...\n",
       "7     ricerca propri resort puglia chef cuoco capo p...\n",
       "Name: Job_Description, dtype: object"
      ]
     },
     "execution_count": 677,
     "metadata": {},
     "output_type": "execute_result"
    }
   ],
   "source": [
    "X_test"
   ]
  },
  {
   "cell_type": "markdown",
   "metadata": {},
   "source": [
    "### Bag of Words processing to our dataset"
   ]
  },
  {
   "cell_type": "code",
   "execution_count": 664,
   "metadata": {},
   "outputs": [],
   "source": [
    "from sklearn.feature_extraction.text import CountVectorizer\n",
    "count_vector = CountVectorizer()\n",
    "\n",
    "# Fit the training data and then return the matrix\n",
    "training_data = count_vector.fit_transform(X_train)\n",
    "\n",
    "# Transform testing data and return the matrix. Note we are not fitting the testing data into the CountVectorizer()\n",
    "testing_data = count_vector.transform(X_test)"
   ]
  },
  {
   "cell_type": "code",
   "execution_count": 665,
   "metadata": {},
   "outputs": [
    {
     "data": {
      "text/plain": [
       "array([1, 1, 1, 1, 1, 1, 3, 2, 1, 1, 1, 1, 1, 1, 2, 2, 2, 2, 2, 3, 1, 1,\n",
       "       1, 1, 1, 1, 1, 1, 2, 1, 1, 1, 1, 1, 1, 1, 1, 3, 1, 1, 1, 1, 1, 1,\n",
       "       1, 1, 1, 1, 1, 1, 1, 1, 1, 1, 1, 1, 1, 1, 1, 1, 1, 1, 1, 1, 1, 1,\n",
       "       1, 1, 1, 1, 1, 1, 1, 1, 1, 1, 1, 1, 1, 1, 1, 1, 1, 1, 1, 1, 1, 1,\n",
       "       1, 1, 1, 1, 1, 1, 1, 1, 1, 1, 1, 1, 1, 1, 1, 1, 1, 1, 1, 1, 1, 1,\n",
       "       1, 1, 1, 1, 1, 1, 1, 1, 1, 1, 1, 1, 1, 1, 1, 1, 1, 1, 1, 1, 1, 1,\n",
       "       1, 1, 1, 2, 1, 1, 1, 1, 1, 1, 1, 1, 1, 1, 1, 1, 1, 1, 1, 1, 1, 1,\n",
       "       1, 1, 1, 1, 1, 3, 6, 1, 1, 1, 1, 1, 1, 1, 1, 1, 1, 1, 1, 1, 1, 1,\n",
       "       1, 1, 1, 1, 1, 3, 3, 1, 1, 1, 1, 1, 2, 1, 1, 1, 1, 1, 1, 1, 1, 1,\n",
       "       1, 1, 1, 2, 1, 1, 1, 1, 1, 1, 1, 1, 1, 1, 1, 1, 1, 1, 1, 2, 1, 1,\n",
       "       1, 1, 1, 1, 1, 1, 1, 1, 1, 1, 2, 1, 1, 1, 1, 1, 1, 1, 1, 1, 1, 1,\n",
       "       1, 1, 1, 1, 1, 1, 1, 1, 1, 1, 1, 1, 1, 1, 1, 2, 3, 1, 1, 1, 1, 1,\n",
       "       1, 1, 1, 1, 1, 1, 1, 2, 5, 1, 1, 3, 1, 1, 1, 1, 1, 1, 2, 1, 2, 1,\n",
       "       1, 1, 1, 1, 1, 2, 1, 1, 1, 1, 1, 1, 1, 1, 2, 1, 1, 1, 1, 1, 2, 1,\n",
       "       1, 1, 1, 1, 1, 1, 1, 1, 1, 2, 1, 1, 1, 1, 1, 1, 1, 2, 1, 1, 1, 1,\n",
       "       1, 1, 1, 2, 1, 1, 1, 2, 1, 1, 1, 1, 3, 1, 1, 1, 1, 1, 1, 1, 1, 1,\n",
       "       1, 1, 1, 4, 1, 2, 2, 1, 1, 2, 1, 1, 2, 1, 1, 2, 1, 1, 1, 1, 1, 1,\n",
       "       2, 1, 1, 1, 1, 1, 2, 1, 1, 1, 1, 1, 1, 3, 1, 1, 1, 2, 1, 1, 1, 1,\n",
       "       1, 1, 2, 1, 1, 1, 2, 1, 1, 1, 1, 1, 1, 3, 1, 1, 1, 2, 1, 1, 2, 1,\n",
       "       1, 1, 1, 1, 1, 1, 1, 1, 1, 2, 1, 1, 1, 1, 1, 1, 1, 1, 1, 1, 1, 1,\n",
       "       1, 1, 1, 1, 1, 1, 1, 1, 1, 1, 1, 1, 1, 1, 1, 1, 1, 1, 1, 1, 1, 1])"
      ]
     },
     "execution_count": 665,
     "metadata": {},
     "output_type": "execute_result"
    }
   ],
   "source": [
    "training_data.data"
   ]
  },
  {
   "cell_type": "code",
   "execution_count": 666,
   "metadata": {},
   "outputs": [
    {
     "name": "stdout",
     "output_type": "stream",
     "text": [
      "training data (10, 326)\n",
      "testing data (4, 326)\n"
     ]
    }
   ],
   "source": [
    "print('training data',training_data.shape)\n",
    "print('testing data',testing_data.shape)"
   ]
  },
  {
   "cell_type": "markdown",
   "metadata": {},
   "source": [
    "### Naive Bayes implementation"
   ]
  },
  {
   "cell_type": "code",
   "execution_count": 667,
   "metadata": {},
   "outputs": [
    {
     "data": {
      "text/plain": [
       "MultinomialNB(alpha=1.0, class_prior=None, fit_prior=True)"
      ]
     },
     "execution_count": 667,
     "metadata": {},
     "output_type": "execute_result"
    }
   ],
   "source": [
    "naive_bayes = MultinomialNB()\n",
    "naive_bayes.fit(training_data, y_train)"
   ]
  },
  {
   "cell_type": "code",
   "execution_count": 668,
   "metadata": {},
   "outputs": [],
   "source": [
    "def get_key(value, dictionary):\n",
    "    for k,v in dictionary.items():\n",
    "        if value == v:\n",
    "            return k"
   ]
  },
  {
   "cell_type": "code",
   "execution_count": 671,
   "metadata": {},
   "outputs": [
    {
     "name": "stdout",
     "output_type": "stream",
     "text": [
      "Prediction for rows [3, 8, 10, 7] are \n",
      " ['manutentore elettromeccanico', 'data scientist ', 'manutentore elettromeccanico', 'pizzaiolo']\n",
      "%%%%%%%%%%%%%%%%%%%%%%%%%%%%%%%%%%%%%%%%%%%%%%%%%%%%%%%%%%%%%%%%%%%%%%%%%%%%%%%%%%%%%%%%%%%%%%%%%%%%\n",
      "actual predictions are: \n",
      " ['tecnico elettromeccanico', 'commessa', 'manutentore elettromeccanico', 'pizzaiolo pasticcere macellaio']\n"
     ]
    }
   ],
   "source": [
    "predictions = naive_bayes.predict(testing_data)\n",
    "predictions_keys = []\n",
    "for i in predictions:\n",
    "    predictions_keys.append(get_key(i,Role_dictionary))\n",
    "print('Prediction for rows {} are \\n {}'.format(X_test.index.tolist(),predictions_keys))\n",
    "\n",
    "print(100*'%')\n",
    "actual_predictions = []\n",
    "for i in y_test.tolist():\n",
    "    actual_predictions.append(get_key(i,Role_dictionary))\n",
    "print('actual predictions are: \\n {}'.format(actual_predictions))"
   ]
  },
  {
   "cell_type": "code",
   "execution_count": 672,
   "metadata": {},
   "outputs": [
    {
     "name": "stdout",
     "output_type": "stream",
     "text": [
      "Accuracy score:  0.25\n"
     ]
    }
   ],
   "source": [
    "# check the accuracy of our model\n",
    "from sklearn.metrics import accuracy_score, precision_score, recall_score, f1_score\n",
    "print('Accuracy score: ', format(accuracy_score(y_test,predictions)))"
   ]
  },
  {
   "cell_type": "code",
   "execution_count": null,
   "metadata": {},
   "outputs": [],
   "source": []
  }
 ],
 "metadata": {
  "kernelspec": {
   "display_name": "Python 3",
   "language": "python",
   "name": "python3"
  },
  "language_info": {
   "codemirror_mode": {
    "name": "ipython",
    "version": 3
   },
   "file_extension": ".py",
   "mimetype": "text/x-python",
   "name": "python",
   "nbconvert_exporter": "python",
   "pygments_lexer": "ipython3",
   "version": "3.6.4"
  }
 },
 "nbformat": 4,
 "nbformat_minor": 2
}
