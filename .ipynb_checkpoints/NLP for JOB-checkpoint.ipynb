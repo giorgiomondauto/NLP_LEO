{
 "cells": [
  {
   "cell_type": "markdown",
   "metadata": {},
   "source": [
    "### Import/Install Libraries"
   ]
  },
  {
   "cell_type": "code",
   "execution_count": 482,
   "metadata": {},
   "outputs": [],
   "source": [
    "# !pip install -r requirements.txt"
   ]
  },
  {
   "cell_type": "code",
   "execution_count": 1,
   "metadata": {},
   "outputs": [
    {
     "name": "stderr",
     "output_type": "stream",
     "text": [
      "[nltk_data] Downloading package punkt to /Users/gmondaut/nltk_data...\n",
      "[nltk_data]   Package punkt is already up-to-date!\n",
      "[nltk_data] Downloading package stopwords to\n",
      "[nltk_data]     /Users/gmondaut/nltk_data...\n",
      "[nltk_data]   Package stopwords is already up-to-date!\n",
      "[nltk_data] Downloading package words to /Users/gmondaut/nltk_data...\n",
      "[nltk_data]   Package words is already up-to-date!\n"
     ]
    }
   ],
   "source": [
    "import pandas as pd\n",
    "import matplotlib.pyplot as plt\n",
    "from wordcloud import WordCloud, STOPWORDS\n",
    "import matplotlib\n",
    "import re\n",
    "import nltk\n",
    "nltk.download('punkt')\n",
    "nltk.download('stopwords')\n",
    "nltk.download('words')\n",
    "import pickle\n",
    "from nltk import word_tokenize\n",
    "from nltk.corpus import stopwords\n",
    "from sklearn.model_selection import train_test_split\n",
    "from sklearn.feature_extraction.text import CountVectorizer\n",
    "from sklearn.naive_bayes import MultinomialNB"
   ]
  },
  {
   "cell_type": "markdown",
   "metadata": {},
   "source": [
    "### Load the data"
   ]
  },
  {
   "cell_type": "code",
   "execution_count": 2,
   "metadata": {},
   "outputs": [],
   "source": [
    "data = pd.read_csv('train.csv')\n",
    "professioni = pd.read_csv('professioni.csv')"
   ]
  },
  {
   "cell_type": "code",
   "execution_count": 3,
   "metadata": {},
   "outputs": [
    {
     "name": "stdout",
     "output_type": "stream",
     "text": [
      "Job Vacancies\n"
     ]
    },
    {
     "data": {
      "text/html": [
       "<div>\n",
       "<style scoped>\n",
       "    .dataframe tbody tr th:only-of-type {\n",
       "        vertical-align: middle;\n",
       "    }\n",
       "\n",
       "    .dataframe tbody tr th {\n",
       "        vertical-align: top;\n",
       "    }\n",
       "\n",
       "    .dataframe thead th {\n",
       "        text-align: right;\n",
       "    }\n",
       "</style>\n",
       "<table border=\"1\" class=\"dataframe\">\n",
       "  <thead>\n",
       "    <tr style=\"text-align: right;\">\n",
       "      <th></th>\n",
       "      <th>Fonte</th>\n",
       "      <th>Job_Description</th>\n",
       "      <th>Role</th>\n",
       "    </tr>\n",
       "  </thead>\n",
       "  <tbody>\n",
       "    <tr>\n",
       "      <th>0</th>\n",
       "      <td>Randstad Technical</td>\n",
       "      <td>Randstad Technical di Vimercate seleziona un m...</td>\n",
       "      <td>Manutentore elettromeccanico</td>\n",
       "    </tr>\n",
       "    <tr>\n",
       "      <th>1</th>\n",
       "      <td>Monster</td>\n",
       "      <td>Ricerchiamo N. 5 ricerca ADDETTI/E VENDITA per...</td>\n",
       "      <td>commesso di vendita</td>\n",
       "    </tr>\n",
       "    <tr>\n",
       "      <th>2</th>\n",
       "      <td>Monster</td>\n",
       "      <td>Quanta SpA, Filiale di Verona, seleziona per a...</td>\n",
       "      <td>Manutentore elettromeccanico</td>\n",
       "    </tr>\n",
       "    <tr>\n",
       "      <th>3</th>\n",
       "      <td>Monster</td>\n",
       "      <td>Kelly Services, multinazionale americana leade...</td>\n",
       "      <td>Manutentore elettromeccanico</td>\n",
       "    </tr>\n",
       "    <tr>\n",
       "      <th>4</th>\n",
       "      <td>Monster</td>\n",
       "      <td>ADHR Filiale di Torino ricerca per azienda cli...</td>\n",
       "      <td>Data Scientist</td>\n",
       "    </tr>\n",
       "  </tbody>\n",
       "</table>\n",
       "</div>"
      ],
      "text/plain": [
       "                 Fonte                                    Job_Description  \\\n",
       "0  Randstad Technical   Randstad Technical di Vimercate seleziona un m...   \n",
       "1              Monster  Ricerchiamo N. 5 ricerca ADDETTI/E VENDITA per...   \n",
       "2              Monster  Quanta SpA, Filiale di Verona, seleziona per a...   \n",
       "3              Monster  Kelly Services, multinazionale americana leade...   \n",
       "4              Monster  ADHR Filiale di Torino ricerca per azienda cli...   \n",
       "\n",
       "                           Role  \n",
       "0  Manutentore elettromeccanico  \n",
       "1           commesso di vendita  \n",
       "2  Manutentore elettromeccanico  \n",
       "3  Manutentore elettromeccanico  \n",
       "4               Data Scientist   "
      ]
     },
     "execution_count": 3,
     "metadata": {},
     "output_type": "execute_result"
    }
   ],
   "source": [
    "print('Job Vacancies')\n",
    "data['Role'] = data['Role'].replace('Commessa','commesso di vendita')\n",
    "data['Role'] = data['Role'].replace('Tecnico elettromeccanico','Manutentore elettromeccanico')\n",
    "\n",
    "data.head()"
   ]
  },
  {
   "cell_type": "code",
   "execution_count": 4,
   "metadata": {},
   "outputs": [
    {
     "name": "stdout",
     "output_type": "stream",
     "text": [
      "Professioni\n"
     ]
    },
    {
     "data": {
      "text/html": [
       "<div>\n",
       "<style scoped>\n",
       "    .dataframe tbody tr th:only-of-type {\n",
       "        vertical-align: middle;\n",
       "    }\n",
       "\n",
       "    .dataframe tbody tr th {\n",
       "        vertical-align: top;\n",
       "    }\n",
       "\n",
       "    .dataframe thead th {\n",
       "        text-align: right;\n",
       "    }\n",
       "</style>\n",
       "<table border=\"1\" class=\"dataframe\">\n",
       "  <thead>\n",
       "    <tr style=\"text-align: right;\">\n",
       "      <th></th>\n",
       "      <th>Group</th>\n",
       "      <th>Subgroup</th>\n",
       "      <th>Descrizione_professione</th>\n",
       "      <th>Descrizione_professione2</th>\n",
       "      <th>subgroup1</th>\n",
       "      <th>subgroup2</th>\n",
       "      <th>Esco_Abilit_compet_essenz</th>\n",
       "      <th>Esco_conoscenze_essenz</th>\n",
       "      <th>Esco_Abilit_compet_opz</th>\n",
       "      <th>Conoscenze</th>\n",
       "    </tr>\n",
       "  </thead>\n",
       "  <tbody>\n",
       "    <tr>\n",
       "      <th>0</th>\n",
       "      <td>Statistici</td>\n",
       "      <td>Attuario\\nData scientist\\nEsperto in ricerca o...</td>\n",
       "      <td>Accertamenti tecnici per la valutazione delle ...</td>\n",
       "      <td>Elaborare piani tecnici per la trasformazione ...</td>\n",
       "      <td>consulente attuariale\\ndemografo demografa\\nsp...</td>\n",
       "      <td>consulente attuariale\\ndemografo demografa\\nsp...</td>\n",
       "      <td>correggere i dati\\ncostruire sistemi di raccom...</td>\n",
       "      <td>classificazione delle informazioni\\nelaborazio...</td>\n",
       "      <td>creare modelli di dati\\ndefinire criteri di qu...</td>\n",
       "      <td>LDAP\\nLINQ\\nMDX\\nN1QL\\nSPARQL\\nXQuery\\nbusines...</td>\n",
       "    </tr>\n",
       "    <tr>\n",
       "      <th>1</th>\n",
       "      <td>Cuochi in alberghi e ristoranti</td>\n",
       "      <td>Aiuto cuoco\\nAiuto cuoco di ristorante\\nAntipa...</td>\n",
       "      <td>Allestimento dei piatti\\nApplicazione delle pr...</td>\n",
       "      <td>Effettuare la preparazione dell'impasto da piz...</td>\n",
       "      <td>capo chef pasticcere capo chef pasticcera\\nche...</td>\n",
       "      <td>addetta alla preparazione degli alimenti\\ncuoc...</td>\n",
       "      <td>consegnare la zona di preparazione di alimenti...</td>\n",
       "      <td>legislazione in materia di salute, sicurezza e...</td>\n",
       "      <td>NaN</td>\n",
       "      <td>NaN</td>\n",
       "    </tr>\n",
       "    <tr>\n",
       "      <th>2</th>\n",
       "      <td>Commessi alle vendite al minuto</td>\n",
       "      <td>Addetto al banco vendita di macelleria\\nAddett...</td>\n",
       "      <td>Allestimento degli scaffali e delle isole prom...</td>\n",
       "      <td>Allestire e rifornire gli scaffali e le isole ...</td>\n",
       "      <td>commesso di negozio di abbigliamento commessa ...</td>\n",
       "      <td>commessa di negozio di abbigliamento uomo donn...</td>\n",
       "      <td>applicare le competenze matematiche\\nconsiglia...</td>\n",
       "      <td>argomentazione di vendita\\ncaratteristiche dei...</td>\n",
       "      <td>eseguire piccoli interventi di sartoria</td>\n",
       "      <td>industria dell'abbigliamento</td>\n",
       "    </tr>\n",
       "    <tr>\n",
       "      <th>3</th>\n",
       "      <td>Elettromeccanici</td>\n",
       "      <td>Aggiustatore elettromeccanico\\nAvvolgitore di ...</td>\n",
       "      <td>Cablatura dell'impianto elettrico\\nCollaudo de...</td>\n",
       "      <td>Effettuare la diagnosi tecnica (strumentale e ...</td>\n",
       "      <td>manutentore elettromeccanico manutentrice elet...</td>\n",
       "      <td>elettricista a bordo macchina\\nelettricista-me...</td>\n",
       "      <td>adattare le attrezzature meccanizzate\\napplica...</td>\n",
       "      <td>elettricità\\nelettromeccanica\\nelettronica\\nme...</td>\n",
       "      <td>applicare un rivestimento alle apparecchiature...</td>\n",
       "      <td>accessori per cavi elettrici\\ncomponenti di ba...</td>\n",
       "    </tr>\n",
       "  </tbody>\n",
       "</table>\n",
       "</div>"
      ],
      "text/plain": [
       "                             Group  \\\n",
       "0                       Statistici   \n",
       "1  Cuochi in alberghi e ristoranti   \n",
       "2  Commessi alle vendite al minuto   \n",
       "3                 Elettromeccanici   \n",
       "\n",
       "                                            Subgroup  \\\n",
       "0  Attuario\\nData scientist\\nEsperto in ricerca o...   \n",
       "1  Aiuto cuoco\\nAiuto cuoco di ristorante\\nAntipa...   \n",
       "2  Addetto al banco vendita di macelleria\\nAddett...   \n",
       "3  Aggiustatore elettromeccanico\\nAvvolgitore di ...   \n",
       "\n",
       "                             Descrizione_professione  \\\n",
       "0  Accertamenti tecnici per la valutazione delle ...   \n",
       "1  Allestimento dei piatti\\nApplicazione delle pr...   \n",
       "2  Allestimento degli scaffali e delle isole prom...   \n",
       "3  Cablatura dell'impianto elettrico\\nCollaudo de...   \n",
       "\n",
       "                            Descrizione_professione2  \\\n",
       "0  Elaborare piani tecnici per la trasformazione ...   \n",
       "1  Effettuare la preparazione dell'impasto da piz...   \n",
       "2  Allestire e rifornire gli scaffali e le isole ...   \n",
       "3  Effettuare la diagnosi tecnica (strumentale e ...   \n",
       "\n",
       "                                           subgroup1  \\\n",
       "0  consulente attuariale\\ndemografo demografa\\nsp...   \n",
       "1  capo chef pasticcere capo chef pasticcera\\nche...   \n",
       "2  commesso di negozio di abbigliamento commessa ...   \n",
       "3  manutentore elettromeccanico manutentrice elet...   \n",
       "\n",
       "                                           subgroup2  \\\n",
       "0  consulente attuariale\\ndemografo demografa\\nsp...   \n",
       "1  addetta alla preparazione degli alimenti\\ncuoc...   \n",
       "2  commessa di negozio di abbigliamento uomo donn...   \n",
       "3  elettricista a bordo macchina\\nelettricista-me...   \n",
       "\n",
       "                           Esco_Abilit_compet_essenz  \\\n",
       "0  correggere i dati\\ncostruire sistemi di raccom...   \n",
       "1  consegnare la zona di preparazione di alimenti...   \n",
       "2  applicare le competenze matematiche\\nconsiglia...   \n",
       "3  adattare le attrezzature meccanizzate\\napplica...   \n",
       "\n",
       "                              Esco_conoscenze_essenz  \\\n",
       "0  classificazione delle informazioni\\nelaborazio...   \n",
       "1  legislazione in materia di salute, sicurezza e...   \n",
       "2  argomentazione di vendita\\ncaratteristiche dei...   \n",
       "3  elettricità\\nelettromeccanica\\nelettronica\\nme...   \n",
       "\n",
       "                              Esco_Abilit_compet_opz  \\\n",
       "0  creare modelli di dati\\ndefinire criteri di qu...   \n",
       "1                                                NaN   \n",
       "2            eseguire piccoli interventi di sartoria   \n",
       "3  applicare un rivestimento alle apparecchiature...   \n",
       "\n",
       "                                          Conoscenze  \n",
       "0  LDAP\\nLINQ\\nMDX\\nN1QL\\nSPARQL\\nXQuery\\nbusines...  \n",
       "1                                                NaN  \n",
       "2                       industria dell'abbigliamento  \n",
       "3  accessori per cavi elettrici\\ncomponenti di ba...  "
      ]
     },
     "execution_count": 4,
     "metadata": {},
     "output_type": "execute_result"
    }
   ],
   "source": [
    "print('Professioni')\n",
    "professioni.head()"
   ]
  },
  {
   "cell_type": "markdown",
   "metadata": {},
   "source": [
    "### Text Preprocessing on Professioni csv"
   ]
  },
  {
   "cell_type": "code",
   "execution_count": 5,
   "metadata": {},
   "outputs": [],
   "source": [
    "# professoni.Subgroup = professioni.Subgroup.apply(lambda x: re.sub(\"[^a-zA-Z]\", \"\", x))\n",
    "# letters = re.sub(\"[^a-zA-Z]\", \"\", x)\n",
    "# letters = letters.lower()\n",
    "professioni.Subgroup = professioni.Subgroup.apply(lambda x: x.lower().split('\\n'))\n",
    "professioni.Subgroup = professioni.Subgroup.apply(lambda x: [i.split(\"'\") for i in x])\n",
    "\n",
    "professioni.subgroup1 = professioni.subgroup1.apply(lambda x: x.lower().split('\\n'))\n",
    "professioni.subgroup1 = professioni.subgroup1.apply(lambda x: [i.split(\"'\") for i in x])\n",
    "\n",
    "professioni.subgroup2 = professioni.subgroup2.apply(lambda x: x.lower().split('\\n'))\n",
    "professioni.subgroup2 = professioni.subgroup2.apply(lambda x: [i.split(\"'\") for i in x])\n",
    "\n",
    "professioni.Subgroup = professioni.Subgroup + professioni.subgroup1 + professioni.subgroup2\n",
    "professioni.Subgroup  = professioni.Subgroup.apply(lambda x: [ i for t in x for i in t])\n",
    "professioni.Subgroup = professioni.Subgroup.apply(lambda x: list(set(x)))\n",
    "\n",
    "# professioni.Subgroup_add_info = professioni.Subgroup.apply(lambda x: [word_tokenize(i) for i in x])\n",
    "# # professioni.Subgroup_add_info = professioni.Subgroup.apply(lambda x: set([i for t in x for i in t]))\n",
    "# professioni.Subgroup = professioni.Subgroup + professioni.Subgroup_add_info"
   ]
  },
  {
   "cell_type": "code",
   "execution_count": 6,
   "metadata": {},
   "outputs": [
    {
     "data": {
      "text/plain": [
       "['',\n",
       " 'specialista in biometria',\n",
       " 'attuario',\n",
       " 'statistico esperto in controlli di qualità',\n",
       " 'data scientist',\n",
       " 'esperto ricerca operativa',\n",
       " 'statistico metodologico',\n",
       " 'statistico',\n",
       " 'statistico applicato',\n",
       " 'statistico economico',\n",
       " 'consulente attuariale',\n",
       " 'esperto in ricerca operativa',\n",
       " 'statistici',\n",
       " 'statistico statistica',\n",
       " 'demografo demografa']"
      ]
     },
     "execution_count": 6,
     "metadata": {},
     "output_type": "execute_result"
    }
   ],
   "source": [
    "professioni.Subgroup.iloc[0]"
   ]
  },
  {
   "cell_type": "code",
   "execution_count": 7,
   "metadata": {},
   "outputs": [
    {
     "data": {
      "text/plain": [
       "['specialista in biometria',\n",
       " 'attuario',\n",
       " 'statistico esperto in controlli di qualità',\n",
       " 'data scientist',\n",
       " 'esperto ricerca operativa',\n",
       " 'statistico metodologico',\n",
       " 'statistico',\n",
       " 'statistico applicato',\n",
       " 'statistico economico',\n",
       " 'consulente attuariale',\n",
       " 'esperto in ricerca operativa',\n",
       " 'statistici',\n",
       " 'statistico statistica',\n",
       " 'demografo demografa']"
      ]
     },
     "execution_count": 7,
     "metadata": {},
     "output_type": "execute_result"
    }
   ],
   "source": [
    "# to remove empty space from the subgroup list of values\n",
    "for i in range(0,professioni.Subgroup.shape[0]):\n",
    "    while(\"\" in professioni.Subgroup.iloc[i]) : \n",
    "        professioni.Subgroup.iloc[i].remove(\"\") \n",
    "\n",
    "professioni.Subgroup.iloc[0]"
   ]
  },
  {
   "cell_type": "markdown",
   "metadata": {},
   "source": [
    "### Create a dictionary for professioni. e.g. \n",
    "{Statistici : ['attuario', 'data scientist', 'esperto in ricerca operativa',..... ]}"
   ]
  },
  {
   "cell_type": "code",
   "execution_count": 8,
   "metadata": {
    "scrolled": true
   },
   "outputs": [
    {
     "data": {
      "text/plain": [
       "{'Statistici': ['specialista in biometria',\n",
       "  'attuario',\n",
       "  'statistico esperto in controlli di qualità',\n",
       "  'data scientist',\n",
       "  'esperto ricerca operativa',\n",
       "  'statistico metodologico',\n",
       "  'statistico',\n",
       "  'statistico applicato',\n",
       "  'statistico economico',\n",
       "  'consulente attuariale',\n",
       "  'esperto in ricerca operativa',\n",
       "  'statistici',\n",
       "  'statistico statistica',\n",
       "  'demografo demografa'],\n",
       " 'Cuochi in alberghi e ristoranti': ['capo chef pasticcere capo chef pasticcera',\n",
       "  'chef privato chef privata',\n",
       "  'cuoco di partita di pesce cuoca di partita di pesce',\n",
       "  'chef',\n",
       "  'cuoco specializzato in cucina di pesce',\n",
       "  'grigliere',\n",
       "  ' cuoco gelatiere',\n",
       "  'capo pasticcera',\n",
       "  'addetto alla preparazione della pizza',\n",
       "  'cuoco',\n",
       "  'cuoco di partita di pesce',\n",
       "  'cuoco-grigliere cuoca-grigliera',\n",
       "  'cuoco pizzaiolo',\n",
       "  'cuoco esperto in pesce',\n",
       "  'addetto alla preparazione degli alimenti',\n",
       "  'cuoco capo partita',\n",
       "  'aiuto cuoco di ristorante',\n",
       "  'capo chef pasticcera',\n",
       "  'cuoco esperto in dietetica',\n",
       "  'chef privata',\n",
       "  'cuoco al frigorifero',\n",
       "  'cuoco privato',\n",
       "  'cuoco di ristorante',\n",
       "  'addetta alla preparazione degli alimenti',\n",
       "  'cuoco cuoca',\n",
       "  'cuochi in alberghi e ristoranti',\n",
       "  'capo chef pasticcere',\n",
       "  'aiuto cuoco',\n",
       "  'cuoco di albergo',\n",
       "  'cuoco gastronomo',\n",
       "  'cuoca',\n",
       "  'cuoco specializzato in cucina dietetica',\n",
       "  'cuoco di bordo',\n",
       "  'antipastiere',\n",
       "  ' salsiere',\n",
       "  'pizzaiolo pizzaiola',\n",
       "  'cuoco specializzato in cucina dietetica cuoca specializzata in cucina dietetica',\n",
       "  'chef privato',\n",
       "  'addetta alla preparazione della pizza',\n",
       "  'cuoco antipastiere',\n",
       "  'cuoco addetto alla griglia',\n",
       "  'cuoca specializzata in cucina dietetica',\n",
       "  'cuoca esperta in dietetica',\n",
       "  'cuoco pasticciere',\n",
       "  'cuoco di partita di zuppe',\n",
       "  'cuoco di partita di rosticceria',\n",
       "  'pizzaiola',\n",
       "  'cuoco-grigliere',\n",
       "  'pasticcere',\n",
       "  'commis di cucina',\n",
       "  'cuoco di partita di camera fredda',\n",
       "  'pasticcera',\n",
       "  'cuoca addetta alla griglia',\n",
       "  'cuoco di partita di salse',\n",
       "  'cuoca privata',\n",
       "  'cuoca-grigliera',\n",
       "  'cuoca di partita di pesce',\n",
       "  'capo pasticcere',\n",
       "  'cuoco in dietetica',\n",
       "  'grigliera',\n",
       "  'cuoca in dietetica',\n",
       "  'pizzaiolo',\n",
       "  'cuoca specializzata in cucina di pesce',\n",
       "  'cuoco di partita di legumi',\n",
       "  'cuoca esperta in pesce'],\n",
       " 'Commessi alle vendite al minuto': ['addetto alla vendita di prodotti informatici',\n",
       "  'addetto al banco vendita di panetteria',\n",
       "  'addetto al noleggio',\n",
       "  'commesso di negozio di abiti da sposa',\n",
       "  'commesso di negozio di abiti da cerimonia',\n",
       "  'addetto alla vendita di ricambi per auto e moto',\n",
       "  'aiuto commesso',\n",
       "  'commesso di gioielleria',\n",
       "  'commesso di vendita',\n",
       "  'addetto vendita di prodotti ittici',\n",
       "  'commesso di negozio',\n",
       "  'addetto alla vendita di frutta e verdura',\n",
       "  'commesso di negozio di moda',\n",
       "  'addetto alla applicazione dei prezzi',\n",
       "  'operatore di vendita',\n",
       "  'commesso di libreria',\n",
       "  'assistente alla vendita',\n",
       "  'addetto alle vendite nella grande distribuzione',\n",
       "  'venditore di cartelle del bingo',\n",
       "  'addetto vendita diretta (aziende agricole)',\n",
       "  'commessa di negozio di abbigliamento',\n",
       "  'commessa di negozio di abiti da cerimonia',\n",
       "  'commessa di negozio di abbigliamento uomo donna',\n",
       "  'addetto al banco vendita di salumi',\n",
       "  'commessa di negozio di moda',\n",
       "  'commessa di negozio di abbigliamento per bambini',\n",
       "  'addetto al rifornimento degli scaffali negli esercizi commerciali',\n",
       "  'commesso di negozio di abbigliamento sportivo',\n",
       "  'pratico di farmacia',\n",
       "  'commesso di negozio di abbigliamento commessa di negozio di abbigliamento',\n",
       "  'addetto vendita di prodotti caseari',\n",
       "  'addetto alle vendite nei banchi di mercato',\n",
       "  'commesso specializzato',\n",
       "  'commessi delle vendite al minuto',\n",
       "  'commessa di negozio di abiti da sposa',\n",
       "  'addetto al banco vendita di macelleria',\n",
       "  'commesso di negozio di abbigliamento per bambini',\n",
       "  'addetto vendita di prodotti gastronomici',\n",
       "  'addetto alla vendita di autoveicoli',\n",
       "  'addetto vendite al minuto negli spacci industriali',\n",
       "  'commesso di banco',\n",
       "  'commessa di negozio di abbigliamento sportivo',\n",
       "  'ausiliario di vendita',\n",
       "  'commesso di negozio di abbigliamento uomo donna',\n",
       "  'commesso di negozio di abbigliamento'],\n",
       " 'Elettromeccanici': ['manutentore elettromeccanico manutentrice elettromeccanica',\n",
       "  'elettricista-meccanico',\n",
       "  'collaudatore di apparecchi elettrici',\n",
       "  'elettromeccanici',\n",
       "  'elettromeccanico',\n",
       "  'installatore di impianti elettromeccanici ed elettronici nautici',\n",
       "  'elettromeccanico di bordo',\n",
       "  'riavvolgitore di motori elettrici',\n",
       "  'manutentore elettromeccanico',\n",
       "  'avvolgitore di trasformatori',\n",
       "  'aggiustatore elettromeccanico',\n",
       "  'elettricista a bordo macchina',\n",
       "  'manutentrice elettromeccanica',\n",
       "  'bobinatore di piccoli apparecchi elettrici',\n",
       "  'collettorista']}"
      ]
     },
     "execution_count": 8,
     "metadata": {},
     "output_type": "execute_result"
    }
   ],
   "source": [
    "professioni_dictionary = pd.Series(professioni.Subgroup.values,index=professioni.Group).to_dict()\n",
    "professioni_dictionary # prefessioni dictionary"
   ]
  },
  {
   "cell_type": "code",
   "execution_count": 9,
   "metadata": {},
   "outputs": [
    {
     "data": {
      "text/plain": [
       "{'specialista in biometria': 'Statistici',\n",
       " 'attuario': 'Statistici',\n",
       " 'statistico esperto in controlli di qualità': 'Statistici',\n",
       " 'data scientist': 'Statistici',\n",
       " 'esperto ricerca operativa': 'Statistici',\n",
       " 'statistico metodologico': 'Statistici',\n",
       " 'statistico': 'Statistici',\n",
       " 'statistico applicato': 'Statistici',\n",
       " 'statistico economico': 'Statistici',\n",
       " 'consulente attuariale': 'Statistici',\n",
       " 'esperto in ricerca operativa': 'Statistici',\n",
       " 'statistici': 'Statistici',\n",
       " 'statistico statistica': 'Statistici',\n",
       " 'demografo demografa': 'Statistici',\n",
       " 'capo chef pasticcere capo chef pasticcera': 'Cuochi in alberghi e ristoranti',\n",
       " 'chef privato chef privata': 'Cuochi in alberghi e ristoranti',\n",
       " 'cuoco di partita di pesce cuoca di partita di pesce': 'Cuochi in alberghi e ristoranti',\n",
       " 'chef': 'Cuochi in alberghi e ristoranti',\n",
       " 'cuoco specializzato in cucina di pesce': 'Cuochi in alberghi e ristoranti',\n",
       " 'grigliere': 'Cuochi in alberghi e ristoranti',\n",
       " ' cuoco gelatiere': 'Cuochi in alberghi e ristoranti',\n",
       " 'capo pasticcera': 'Cuochi in alberghi e ristoranti',\n",
       " 'addetto alla preparazione della pizza': 'Cuochi in alberghi e ristoranti',\n",
       " 'cuoco': 'Cuochi in alberghi e ristoranti',\n",
       " 'cuoco di partita di pesce': 'Cuochi in alberghi e ristoranti',\n",
       " 'cuoco-grigliere cuoca-grigliera': 'Cuochi in alberghi e ristoranti',\n",
       " 'cuoco pizzaiolo': 'Cuochi in alberghi e ristoranti',\n",
       " 'cuoco esperto in pesce': 'Cuochi in alberghi e ristoranti',\n",
       " 'addetto alla preparazione degli alimenti': 'Cuochi in alberghi e ristoranti',\n",
       " 'cuoco capo partita': 'Cuochi in alberghi e ristoranti',\n",
       " 'aiuto cuoco di ristorante': 'Cuochi in alberghi e ristoranti',\n",
       " 'capo chef pasticcera': 'Cuochi in alberghi e ristoranti',\n",
       " 'cuoco esperto in dietetica': 'Cuochi in alberghi e ristoranti',\n",
       " 'chef privata': 'Cuochi in alberghi e ristoranti',\n",
       " 'cuoco al frigorifero': 'Cuochi in alberghi e ristoranti',\n",
       " 'cuoco privato': 'Cuochi in alberghi e ristoranti',\n",
       " 'cuoco di ristorante': 'Cuochi in alberghi e ristoranti',\n",
       " 'addetta alla preparazione degli alimenti': 'Cuochi in alberghi e ristoranti',\n",
       " 'cuoco cuoca': 'Cuochi in alberghi e ristoranti',\n",
       " 'cuochi in alberghi e ristoranti': 'Cuochi in alberghi e ristoranti',\n",
       " 'capo chef pasticcere': 'Cuochi in alberghi e ristoranti',\n",
       " 'aiuto cuoco': 'Cuochi in alberghi e ristoranti',\n",
       " 'cuoco di albergo': 'Cuochi in alberghi e ristoranti',\n",
       " 'cuoco gastronomo': 'Cuochi in alberghi e ristoranti',\n",
       " 'cuoca': 'Cuochi in alberghi e ristoranti',\n",
       " 'cuoco specializzato in cucina dietetica': 'Cuochi in alberghi e ristoranti',\n",
       " 'cuoco di bordo': 'Cuochi in alberghi e ristoranti',\n",
       " 'antipastiere': 'Cuochi in alberghi e ristoranti',\n",
       " ' salsiere': 'Cuochi in alberghi e ristoranti',\n",
       " 'pizzaiolo pizzaiola': 'Cuochi in alberghi e ristoranti',\n",
       " 'cuoco specializzato in cucina dietetica cuoca specializzata in cucina dietetica': 'Cuochi in alberghi e ristoranti',\n",
       " 'chef privato': 'Cuochi in alberghi e ristoranti',\n",
       " 'addetta alla preparazione della pizza': 'Cuochi in alberghi e ristoranti',\n",
       " 'cuoco antipastiere': 'Cuochi in alberghi e ristoranti',\n",
       " 'cuoco addetto alla griglia': 'Cuochi in alberghi e ristoranti',\n",
       " 'cuoca specializzata in cucina dietetica': 'Cuochi in alberghi e ristoranti',\n",
       " 'cuoca esperta in dietetica': 'Cuochi in alberghi e ristoranti',\n",
       " 'cuoco pasticciere': 'Cuochi in alberghi e ristoranti',\n",
       " 'cuoco di partita di zuppe': 'Cuochi in alberghi e ristoranti',\n",
       " 'cuoco di partita di rosticceria': 'Cuochi in alberghi e ristoranti',\n",
       " 'pizzaiola': 'Cuochi in alberghi e ristoranti',\n",
       " 'cuoco-grigliere': 'Cuochi in alberghi e ristoranti',\n",
       " 'pasticcere': 'Cuochi in alberghi e ristoranti',\n",
       " 'commis di cucina': 'Cuochi in alberghi e ristoranti',\n",
       " 'cuoco di partita di camera fredda': 'Cuochi in alberghi e ristoranti',\n",
       " 'pasticcera': 'Cuochi in alberghi e ristoranti',\n",
       " 'cuoca addetta alla griglia': 'Cuochi in alberghi e ristoranti',\n",
       " 'cuoco di partita di salse': 'Cuochi in alberghi e ristoranti',\n",
       " 'cuoca privata': 'Cuochi in alberghi e ristoranti',\n",
       " 'cuoca-grigliera': 'Cuochi in alberghi e ristoranti',\n",
       " 'cuoca di partita di pesce': 'Cuochi in alberghi e ristoranti',\n",
       " 'capo pasticcere': 'Cuochi in alberghi e ristoranti',\n",
       " 'cuoco in dietetica': 'Cuochi in alberghi e ristoranti',\n",
       " 'grigliera': 'Cuochi in alberghi e ristoranti',\n",
       " 'cuoca in dietetica': 'Cuochi in alberghi e ristoranti',\n",
       " 'pizzaiolo': 'Cuochi in alberghi e ristoranti',\n",
       " 'cuoca specializzata in cucina di pesce': 'Cuochi in alberghi e ristoranti',\n",
       " 'cuoco di partita di legumi': 'Cuochi in alberghi e ristoranti',\n",
       " 'cuoca esperta in pesce': 'Cuochi in alberghi e ristoranti',\n",
       " 'addetto alla vendita di prodotti informatici': 'Commessi alle vendite al minuto',\n",
       " 'addetto al banco vendita di panetteria': 'Commessi alle vendite al minuto',\n",
       " 'addetto al noleggio': 'Commessi alle vendite al minuto',\n",
       " 'commesso di negozio di abiti da sposa': 'Commessi alle vendite al minuto',\n",
       " 'commesso di negozio di abiti da cerimonia': 'Commessi alle vendite al minuto',\n",
       " 'addetto alla vendita di ricambi per auto e moto': 'Commessi alle vendite al minuto',\n",
       " 'aiuto commesso': 'Commessi alle vendite al minuto',\n",
       " 'commesso di gioielleria': 'Commessi alle vendite al minuto',\n",
       " 'commesso di vendita': 'Commessi alle vendite al minuto',\n",
       " 'addetto vendita di prodotti ittici': 'Commessi alle vendite al minuto',\n",
       " 'commesso di negozio': 'Commessi alle vendite al minuto',\n",
       " 'addetto alla vendita di frutta e verdura': 'Commessi alle vendite al minuto',\n",
       " 'commesso di negozio di moda': 'Commessi alle vendite al minuto',\n",
       " 'addetto alla applicazione dei prezzi': 'Commessi alle vendite al minuto',\n",
       " 'operatore di vendita': 'Commessi alle vendite al minuto',\n",
       " 'commesso di libreria': 'Commessi alle vendite al minuto',\n",
       " 'assistente alla vendita': 'Commessi alle vendite al minuto',\n",
       " 'addetto alle vendite nella grande distribuzione': 'Commessi alle vendite al minuto',\n",
       " 'venditore di cartelle del bingo': 'Commessi alle vendite al minuto',\n",
       " 'addetto vendita diretta (aziende agricole)': 'Commessi alle vendite al minuto',\n",
       " 'commessa di negozio di abbigliamento': 'Commessi alle vendite al minuto',\n",
       " 'commessa di negozio di abiti da cerimonia': 'Commessi alle vendite al minuto',\n",
       " 'commessa di negozio di abbigliamento uomo donna': 'Commessi alle vendite al minuto',\n",
       " 'addetto al banco vendita di salumi': 'Commessi alle vendite al minuto',\n",
       " 'commessa di negozio di moda': 'Commessi alle vendite al minuto',\n",
       " 'commessa di negozio di abbigliamento per bambini': 'Commessi alle vendite al minuto',\n",
       " 'addetto al rifornimento degli scaffali negli esercizi commerciali': 'Commessi alle vendite al minuto',\n",
       " 'commesso di negozio di abbigliamento sportivo': 'Commessi alle vendite al minuto',\n",
       " 'pratico di farmacia': 'Commessi alle vendite al minuto',\n",
       " 'commesso di negozio di abbigliamento commessa di negozio di abbigliamento': 'Commessi alle vendite al minuto',\n",
       " 'addetto vendita di prodotti caseari': 'Commessi alle vendite al minuto',\n",
       " 'addetto alle vendite nei banchi di mercato': 'Commessi alle vendite al minuto',\n",
       " 'commesso specializzato': 'Commessi alle vendite al minuto',\n",
       " 'commessi delle vendite al minuto': 'Commessi alle vendite al minuto',\n",
       " 'commessa di negozio di abiti da sposa': 'Commessi alle vendite al minuto',\n",
       " 'addetto al banco vendita di macelleria': 'Commessi alle vendite al minuto',\n",
       " 'commesso di negozio di abbigliamento per bambini': 'Commessi alle vendite al minuto',\n",
       " 'addetto vendita di prodotti gastronomici': 'Commessi alle vendite al minuto',\n",
       " 'addetto alla vendita di autoveicoli': 'Commessi alle vendite al minuto',\n",
       " 'addetto vendite al minuto negli spacci industriali': 'Commessi alle vendite al minuto',\n",
       " 'commesso di banco': 'Commessi alle vendite al minuto',\n",
       " 'commessa di negozio di abbigliamento sportivo': 'Commessi alle vendite al minuto',\n",
       " 'ausiliario di vendita': 'Commessi alle vendite al minuto',\n",
       " 'commesso di negozio di abbigliamento uomo donna': 'Commessi alle vendite al minuto',\n",
       " 'commesso di negozio di abbigliamento': 'Commessi alle vendite al minuto',\n",
       " 'manutentore elettromeccanico manutentrice elettromeccanica': 'Elettromeccanici',\n",
       " 'elettricista-meccanico': 'Elettromeccanici',\n",
       " 'collaudatore di apparecchi elettrici': 'Elettromeccanici',\n",
       " 'elettromeccanici': 'Elettromeccanici',\n",
       " 'elettromeccanico': 'Elettromeccanici',\n",
       " 'installatore di impianti elettromeccanici ed elettronici nautici': 'Elettromeccanici',\n",
       " 'elettromeccanico di bordo': 'Elettromeccanici',\n",
       " 'riavvolgitore di motori elettrici': 'Elettromeccanici',\n",
       " 'manutentore elettromeccanico': 'Elettromeccanici',\n",
       " 'avvolgitore di trasformatori': 'Elettromeccanici',\n",
       " 'aggiustatore elettromeccanico': 'Elettromeccanici',\n",
       " 'elettricista a bordo macchina': 'Elettromeccanici',\n",
       " 'manutentrice elettromeccanica': 'Elettromeccanici',\n",
       " 'bobinatore di piccoli apparecchi elettrici': 'Elettromeccanici',\n",
       " 'collettorista': 'Elettromeccanici'}"
      ]
     },
     "execution_count": 9,
     "metadata": {},
     "output_type": "execute_result"
    }
   ],
   "source": [
    "# I need this step to convert back\n",
    "subgroup_dict = {}\n",
    "for group, subgroups in professioni_dictionary.items():\n",
    "    for subgroup in subgroups:\n",
    "        subgroup_dict[subgroup] = group\n",
    "subgroup_dict"
   ]
  },
  {
   "cell_type": "code",
   "execution_count": 10,
   "metadata": {},
   "outputs": [
    {
     "data": {
      "text/html": [
       "<div>\n",
       "<style scoped>\n",
       "    .dataframe tbody tr th:only-of-type {\n",
       "        vertical-align: middle;\n",
       "    }\n",
       "\n",
       "    .dataframe tbody tr th {\n",
       "        vertical-align: top;\n",
       "    }\n",
       "\n",
       "    .dataframe thead th {\n",
       "        text-align: right;\n",
       "    }\n",
       "</style>\n",
       "<table border=\"1\" class=\"dataframe\">\n",
       "  <thead>\n",
       "    <tr style=\"text-align: right;\">\n",
       "      <th></th>\n",
       "      <th>Group</th>\n",
       "      <th>Subgroup</th>\n",
       "      <th>Descrizione_professione</th>\n",
       "      <th>Descrizione_professione2</th>\n",
       "      <th>subgroup1</th>\n",
       "      <th>subgroup2</th>\n",
       "      <th>Esco_Abilit_compet_essenz</th>\n",
       "      <th>Esco_conoscenze_essenz</th>\n",
       "      <th>Esco_Abilit_compet_opz</th>\n",
       "      <th>Conoscenze</th>\n",
       "    </tr>\n",
       "  </thead>\n",
       "  <tbody>\n",
       "    <tr>\n",
       "      <th>0</th>\n",
       "      <td>Statistici</td>\n",
       "      <td>[specialista in biometria, attuario, statistic...</td>\n",
       "      <td>Accertamenti tecnici per la valutazione delle ...</td>\n",
       "      <td>Elaborare piani tecnici per la trasformazione ...</td>\n",
       "      <td>[[consulente attuariale], [demografo demografa...</td>\n",
       "      <td>[[consulente attuariale], [demografo demografa...</td>\n",
       "      <td>correggere i dati\\ncostruire sistemi di raccom...</td>\n",
       "      <td>classificazione delle informazioni\\nelaborazio...</td>\n",
       "      <td>creare modelli di dati\\ndefinire criteri di qu...</td>\n",
       "      <td>LDAP\\nLINQ\\nMDX\\nN1QL\\nSPARQL\\nXQuery\\nbusines...</td>\n",
       "    </tr>\n",
       "    <tr>\n",
       "      <th>1</th>\n",
       "      <td>Cuochi in alberghi e ristoranti</td>\n",
       "      <td>[capo chef pasticcere capo chef pasticcera, ch...</td>\n",
       "      <td>Allestimento dei piatti\\nApplicazione delle pr...</td>\n",
       "      <td>Effettuare la preparazione dell'impasto da piz...</td>\n",
       "      <td>[[capo chef pasticcere capo chef pasticcera], ...</td>\n",
       "      <td>[[addetta alla preparazione degli alimenti], [...</td>\n",
       "      <td>consegnare la zona di preparazione di alimenti...</td>\n",
       "      <td>legislazione in materia di salute, sicurezza e...</td>\n",
       "      <td>NaN</td>\n",
       "      <td>NaN</td>\n",
       "    </tr>\n",
       "    <tr>\n",
       "      <th>2</th>\n",
       "      <td>Commessi alle vendite al minuto</td>\n",
       "      <td>[addetto alla vendita di prodotti informatici,...</td>\n",
       "      <td>Allestimento degli scaffali e delle isole prom...</td>\n",
       "      <td>Allestire e rifornire gli scaffali e le isole ...</td>\n",
       "      <td>[[commesso di negozio di abbigliamento commess...</td>\n",
       "      <td>[[commessa di negozio di abbigliamento uomo do...</td>\n",
       "      <td>applicare le competenze matematiche\\nconsiglia...</td>\n",
       "      <td>argomentazione di vendita\\ncaratteristiche dei...</td>\n",
       "      <td>eseguire piccoli interventi di sartoria</td>\n",
       "      <td>industria dell'abbigliamento</td>\n",
       "    </tr>\n",
       "    <tr>\n",
       "      <th>3</th>\n",
       "      <td>Elettromeccanici</td>\n",
       "      <td>[manutentore elettromeccanico manutentrice ele...</td>\n",
       "      <td>Cablatura dell'impianto elettrico\\nCollaudo de...</td>\n",
       "      <td>Effettuare la diagnosi tecnica (strumentale e ...</td>\n",
       "      <td>[[manutentore elettromeccanico manutentrice el...</td>\n",
       "      <td>[[elettricista a bordo macchina], [elettricist...</td>\n",
       "      <td>adattare le attrezzature meccanizzate\\napplica...</td>\n",
       "      <td>elettricità\\nelettromeccanica\\nelettronica\\nme...</td>\n",
       "      <td>applicare un rivestimento alle apparecchiature...</td>\n",
       "      <td>accessori per cavi elettrici\\ncomponenti di ba...</td>\n",
       "    </tr>\n",
       "  </tbody>\n",
       "</table>\n",
       "</div>"
      ],
      "text/plain": [
       "                             Group  \\\n",
       "0                       Statistici   \n",
       "1  Cuochi in alberghi e ristoranti   \n",
       "2  Commessi alle vendite al minuto   \n",
       "3                 Elettromeccanici   \n",
       "\n",
       "                                            Subgroup  \\\n",
       "0  [specialista in biometria, attuario, statistic...   \n",
       "1  [capo chef pasticcere capo chef pasticcera, ch...   \n",
       "2  [addetto alla vendita di prodotti informatici,...   \n",
       "3  [manutentore elettromeccanico manutentrice ele...   \n",
       "\n",
       "                             Descrizione_professione  \\\n",
       "0  Accertamenti tecnici per la valutazione delle ...   \n",
       "1  Allestimento dei piatti\\nApplicazione delle pr...   \n",
       "2  Allestimento degli scaffali e delle isole prom...   \n",
       "3  Cablatura dell'impianto elettrico\\nCollaudo de...   \n",
       "\n",
       "                            Descrizione_professione2  \\\n",
       "0  Elaborare piani tecnici per la trasformazione ...   \n",
       "1  Effettuare la preparazione dell'impasto da piz...   \n",
       "2  Allestire e rifornire gli scaffali e le isole ...   \n",
       "3  Effettuare la diagnosi tecnica (strumentale e ...   \n",
       "\n",
       "                                           subgroup1  \\\n",
       "0  [[consulente attuariale], [demografo demografa...   \n",
       "1  [[capo chef pasticcere capo chef pasticcera], ...   \n",
       "2  [[commesso di negozio di abbigliamento commess...   \n",
       "3  [[manutentore elettromeccanico manutentrice el...   \n",
       "\n",
       "                                           subgroup2  \\\n",
       "0  [[consulente attuariale], [demografo demografa...   \n",
       "1  [[addetta alla preparazione degli alimenti], [...   \n",
       "2  [[commessa di negozio di abbigliamento uomo do...   \n",
       "3  [[elettricista a bordo macchina], [elettricist...   \n",
       "\n",
       "                           Esco_Abilit_compet_essenz  \\\n",
       "0  correggere i dati\\ncostruire sistemi di raccom...   \n",
       "1  consegnare la zona di preparazione di alimenti...   \n",
       "2  applicare le competenze matematiche\\nconsiglia...   \n",
       "3  adattare le attrezzature meccanizzate\\napplica...   \n",
       "\n",
       "                              Esco_conoscenze_essenz  \\\n",
       "0  classificazione delle informazioni\\nelaborazio...   \n",
       "1  legislazione in materia di salute, sicurezza e...   \n",
       "2  argomentazione di vendita\\ncaratteristiche dei...   \n",
       "3  elettricità\\nelettromeccanica\\nelettronica\\nme...   \n",
       "\n",
       "                              Esco_Abilit_compet_opz  \\\n",
       "0  creare modelli di dati\\ndefinire criteri di qu...   \n",
       "1                                                NaN   \n",
       "2            eseguire piccoli interventi di sartoria   \n",
       "3  applicare un rivestimento alle apparecchiature...   \n",
       "\n",
       "                                          Conoscenze  \n",
       "0  LDAP\\nLINQ\\nMDX\\nN1QL\\nSPARQL\\nXQuery\\nbusines...  \n",
       "1                                                NaN  \n",
       "2                       industria dell'abbigliamento  \n",
       "3  accessori per cavi elettrici\\ncomponenti di ba...  "
      ]
     },
     "execution_count": 10,
     "metadata": {},
     "output_type": "execute_result"
    }
   ],
   "source": [
    "# example of subgroup roles\n",
    "professioni"
   ]
  },
  {
   "cell_type": "code",
   "execution_count": 11,
   "metadata": {},
   "outputs": [
    {
     "data": {
      "text/html": [
       "<div>\n",
       "<style scoped>\n",
       "    .dataframe tbody tr th:only-of-type {\n",
       "        vertical-align: middle;\n",
       "    }\n",
       "\n",
       "    .dataframe tbody tr th {\n",
       "        vertical-align: top;\n",
       "    }\n",
       "\n",
       "    .dataframe thead th {\n",
       "        text-align: right;\n",
       "    }\n",
       "</style>\n",
       "<table border=\"1\" class=\"dataframe\">\n",
       "  <thead>\n",
       "    <tr style=\"text-align: right;\">\n",
       "      <th></th>\n",
       "      <th>Fonte</th>\n",
       "      <th>Job_Description</th>\n",
       "      <th>Role</th>\n",
       "      <th>Target</th>\n",
       "    </tr>\n",
       "  </thead>\n",
       "  <tbody>\n",
       "    <tr>\n",
       "      <th>0</th>\n",
       "      <td>Randstad Technical</td>\n",
       "      <td>Randstad Technical di Vimercate seleziona un m...</td>\n",
       "      <td>Manutentore elettromeccanico</td>\n",
       "      <td>Elettromeccanici</td>\n",
       "    </tr>\n",
       "    <tr>\n",
       "      <th>1</th>\n",
       "      <td>Monster</td>\n",
       "      <td>Ricerchiamo N. 5 ricerca ADDETTI/E VENDITA per...</td>\n",
       "      <td>commesso di vendita</td>\n",
       "      <td>Commessi alle vendite al minuto</td>\n",
       "    </tr>\n",
       "    <tr>\n",
       "      <th>2</th>\n",
       "      <td>Monster</td>\n",
       "      <td>Quanta SpA, Filiale di Verona, seleziona per a...</td>\n",
       "      <td>Manutentore elettromeccanico</td>\n",
       "      <td>Elettromeccanici</td>\n",
       "    </tr>\n",
       "    <tr>\n",
       "      <th>3</th>\n",
       "      <td>Monster</td>\n",
       "      <td>Kelly Services, multinazionale americana leade...</td>\n",
       "      <td>Manutentore elettromeccanico</td>\n",
       "      <td>Elettromeccanici</td>\n",
       "    </tr>\n",
       "    <tr>\n",
       "      <th>4</th>\n",
       "      <td>Monster</td>\n",
       "      <td>ADHR Filiale di Torino ricerca per azienda cli...</td>\n",
       "      <td>Data Scientist</td>\n",
       "      <td>Statistici</td>\n",
       "    </tr>\n",
       "  </tbody>\n",
       "</table>\n",
       "</div>"
      ],
      "text/plain": [
       "                 Fonte                                    Job_Description  \\\n",
       "0  Randstad Technical   Randstad Technical di Vimercate seleziona un m...   \n",
       "1              Monster  Ricerchiamo N. 5 ricerca ADDETTI/E VENDITA per...   \n",
       "2              Monster  Quanta SpA, Filiale di Verona, seleziona per a...   \n",
       "3              Monster  Kelly Services, multinazionale americana leade...   \n",
       "4              Monster  ADHR Filiale di Torino ricerca per azienda cli...   \n",
       "\n",
       "                           Role                           Target  \n",
       "0  Manutentore elettromeccanico                 Elettromeccanici  \n",
       "1           commesso di vendita  Commessi alle vendite al minuto  \n",
       "2  Manutentore elettromeccanico                 Elettromeccanici  \n",
       "3  Manutentore elettromeccanico                 Elettromeccanici  \n",
       "4               Data Scientist                        Statistici  "
      ]
     },
     "execution_count": 11,
     "metadata": {},
     "output_type": "execute_result"
    }
   ],
   "source": [
    "data['Target'] = data['Role'].apply(lambda x: subgroup_dict.get(x.lower().strip(),'Unknown'))\n",
    "data.head()"
   ]
  },
  {
   "cell_type": "markdown",
   "metadata": {},
   "source": [
    "### Text Preprocessing on Job Descripion column"
   ]
  },
  {
   "cell_type": "markdown",
   "metadata": {},
   "source": [
    "##### Tokenization\n",
    "split the text into words"
   ]
  },
  {
   "cell_type": "code",
   "execution_count": 12,
   "metadata": {},
   "outputs": [
    {
     "data": {
      "text/html": [
       "<div>\n",
       "<style scoped>\n",
       "    .dataframe tbody tr th:only-of-type {\n",
       "        vertical-align: middle;\n",
       "    }\n",
       "\n",
       "    .dataframe tbody tr th {\n",
       "        vertical-align: top;\n",
       "    }\n",
       "\n",
       "    .dataframe thead th {\n",
       "        text-align: right;\n",
       "    }\n",
       "</style>\n",
       "<table border=\"1\" class=\"dataframe\">\n",
       "  <thead>\n",
       "    <tr style=\"text-align: right;\">\n",
       "      <th></th>\n",
       "      <th>Fonte</th>\n",
       "      <th>Job_Description</th>\n",
       "      <th>Role</th>\n",
       "      <th>Target</th>\n",
       "    </tr>\n",
       "  </thead>\n",
       "  <tbody>\n",
       "    <tr>\n",
       "      <th>0</th>\n",
       "      <td>Randstad Technical</td>\n",
       "      <td>[randstad, technical, di, vimercate, seleziona...</td>\n",
       "      <td>Manutentore elettromeccanico</td>\n",
       "      <td>elettromeccanici</td>\n",
       "    </tr>\n",
       "    <tr>\n",
       "      <th>1</th>\n",
       "      <td>Monster</td>\n",
       "      <td>[ricerchiamo, n, ricerca, addetti, e, vendita,...</td>\n",
       "      <td>commesso di vendita</td>\n",
       "      <td>commessi alle vendite al minuto</td>\n",
       "    </tr>\n",
       "    <tr>\n",
       "      <th>2</th>\n",
       "      <td>Monster</td>\n",
       "      <td>[quanta, spa, filiale, di, verona, seleziona, ...</td>\n",
       "      <td>Manutentore elettromeccanico</td>\n",
       "      <td>elettromeccanici</td>\n",
       "    </tr>\n",
       "    <tr>\n",
       "      <th>3</th>\n",
       "      <td>Monster</td>\n",
       "      <td>[kelly, services, multinazionale, americana, l...</td>\n",
       "      <td>Manutentore elettromeccanico</td>\n",
       "      <td>elettromeccanici</td>\n",
       "    </tr>\n",
       "    <tr>\n",
       "      <th>4</th>\n",
       "      <td>Monster</td>\n",
       "      <td>[adhr, filiale, di, torino, ricerca, per, azie...</td>\n",
       "      <td>Data Scientist</td>\n",
       "      <td>statistici</td>\n",
       "    </tr>\n",
       "  </tbody>\n",
       "</table>\n",
       "</div>"
      ],
      "text/plain": [
       "                 Fonte                                    Job_Description  \\\n",
       "0  Randstad Technical   [randstad, technical, di, vimercate, seleziona...   \n",
       "1              Monster  [ricerchiamo, n, ricerca, addetti, e, vendita,...   \n",
       "2              Monster  [quanta, spa, filiale, di, verona, seleziona, ...   \n",
       "3              Monster  [kelly, services, multinazionale, americana, l...   \n",
       "4              Monster  [adhr, filiale, di, torino, ricerca, per, azie...   \n",
       "\n",
       "                           Role                           Target  \n",
       "0  Manutentore elettromeccanico                 elettromeccanici  \n",
       "1           commesso di vendita  commessi alle vendite al minuto  \n",
       "2  Manutentore elettromeccanico                 elettromeccanici  \n",
       "3  Manutentore elettromeccanico                 elettromeccanici  \n",
       "4               Data Scientist                        statistici  "
      ]
     },
     "execution_count": 12,
     "metadata": {},
     "output_type": "execute_result"
    }
   ],
   "source": [
    "# remove punctuation and tokenize\n",
    "data.Job_Description = data.Job_Description.apply(lambda x: re.sub('[^a-zA-Z]',' ',x))\n",
    "data.Target = data.Target.apply(lambda x: x.lower())\n",
    "data.Job_Description = data['Job_Description'].apply(lambda x: word_tokenize(x.lower())) # lowercase each word\n",
    "data.head()"
   ]
  },
  {
   "cell_type": "markdown",
   "metadata": {},
   "source": [
    "##### remove words with lenght < 3 (e.g. numbers and not meaningful words)"
   ]
  },
  {
   "cell_type": "code",
   "execution_count": 13,
   "metadata": {},
   "outputs": [
    {
     "data": {
      "text/plain": [
       "0    [randstad, technical, vimercate, seleziona, ma...\n",
       "1    [ricerchiamo, ricerca, addetti, vendita, punto...\n",
       "2    [quanta, filiale, verona, seleziona, azienda, ...\n",
       "3    [kelly, services, multinazionale, americana, l...\n",
       "4    [adhr, filiale, torino, ricerca, azienda, clie...\n",
       "Name: Job_Description, dtype: object"
      ]
     },
     "execution_count": 13,
     "metadata": {},
     "output_type": "execute_result"
    }
   ],
   "source": [
    "professioni.Conoscenze = professioni.Conoscenze.apply(lambda x: str(x).lower().split('\\n'))\n",
    "professioni.Conoscenze = professioni.Conoscenze.apply(lambda x: [i.split(\"'\") for i in x])\n",
    "professioni.Conoscenze = professioni.Conoscenze.apply(lambda x: [i for t in x for i in t])\n",
    "Conoscenze_lista = []\n",
    "for i in professioni.Conoscenze:\n",
    "    for item in i:\n",
    "        Conoscenze_lista.append(item)\n",
    "data.Job_Description= data.Job_Description.apply(lambda x: [i for i in x if (len(i) > 3 or i in Conoscenze_lista)])\n",
    "data.Job_Description.head() \n"
   ]
  },
  {
   "cell_type": "markdown",
   "metadata": {},
   "source": [
    "#### Stemming / Lemmatization \n",
    "\n",
    "Stemming: Stemming algorithms work by cutting off the end of the word, and in some cases also the beginning while looking for the root. This indiscriminate cutting can be successful in some occasions, but not always, that is why we affirm that this an approach that offers some limitations. ex) studying -> study, studied -> studi \n",
    "\n",
    "Lemmatization: Lemmatization is the process of converting the words of a sentence to its dictionary form. For example, given the words amusement, amusing, and amused, the lemma for each and all would be amuse. ex) studying -> study, studied -> study. Lemmatization also discerns the meaning of the word by understanding the context of a passage. For example, if a \"meet\" is used as a noun then it will print out a \"meeting\"; however, if it is used as a verb then it will print out \"meet\".\n"
   ]
  },
  {
   "cell_type": "code",
   "execution_count": 14,
   "metadata": {},
   "outputs": [],
   "source": [
    "# decide if to use this or not\n",
    "stemmer = nltk.stem.snowball.ItalianStemmer(ignore_stopwords=False)"
   ]
  },
  {
   "cell_type": "code",
   "execution_count": 15,
   "metadata": {},
   "outputs": [],
   "source": [
    "# example:\n",
    "# print('ricercare -->',stemmer.stem('ricercare'))\n",
    "# print('ricerca -->', stemmer.stem('ricerca'))"
   ]
  },
  {
   "cell_type": "code",
   "execution_count": 16,
   "metadata": {},
   "outputs": [],
   "source": [
    "# data.Job_Description = data.Job_Description.apply(lambda x: list(set([stemmer.stem(i) for i in x])))\n",
    "# data.Job_Description.head()"
   ]
  },
  {
   "cell_type": "markdown",
   "metadata": {},
   "source": [
    "### Remove Noisy"
   ]
  },
  {
   "cell_type": "code",
   "execution_count": 17,
   "metadata": {},
   "outputs": [
    {
     "data": {
      "text/plain": [
       "{'infojob', 'monster', 'randstad', 'technical'}"
      ]
     },
     "execution_count": 17,
     "metadata": {},
     "output_type": "execute_result"
    }
   ],
   "source": [
    "##### remove in 'job_description' words from 'fonte'\n",
    "data.Fonte = data.Fonte.apply(lambda x: word_tokenize(x))\n",
    "source = set([i.lower() for x in data.Fonte for i in x])\n",
    "data = data.drop('Fonte', axis = 1)\n",
    "source"
   ]
  },
  {
   "cell_type": "code",
   "execution_count": 18,
   "metadata": {},
   "outputs": [
    {
     "data": {
      "text/plain": [
       "0    [vimercate, seleziona, manutentore, inseriment...\n",
       "1    [ricerchiamo, ricerca, addetti, vendita, punto...\n",
       "2    [quanta, filiale, verona, seleziona, azienda, ...\n",
       "3    [kelly, services, multinazionale, americana, l...\n",
       "4    [adhr, filiale, torino, ricerca, azienda, clie...\n",
       "Name: Job_Description, dtype: object"
      ]
     },
     "execution_count": 18,
     "metadata": {},
     "output_type": "execute_result"
    }
   ],
   "source": [
    "data.Job_Description = data.Job_Description.apply(lambda x: [i for i in x if i not in source])\n",
    "data.Job_Description.head(5) # compare row 0 with previous row"
   ]
  },
  {
   "cell_type": "markdown",
   "metadata": {},
   "source": [
    "##### Stopwords\n",
    "Stopwords are words generally not relevant to a text; thereby we get rid of them"
   ]
  },
  {
   "cell_type": "code",
   "execution_count": 19,
   "metadata": {},
   "outputs": [
    {
     "name": "stdout",
     "output_type": "stream",
     "text": [
      "Example of stopwords: ['facevi', 'sono', 'avrò', 'starete', 'steste', 'quelli', 'fui', 'su', 'degl', 'per', 'vostra', 'e', 'avremmo', 'quelle', 'sta', 'stavamo', 'anche', 'questo', 'fai', 'fosse']\n",
      "%%%%%%%%%%\n",
      "lenth of stopwords: 279\n"
     ]
    }
   ],
   "source": [
    "list_stopwords = list(set(stopwords.words('italian')))\n",
    "print('Example of stopwords:',list_stopwords[:20])\n",
    "print(10 * '%')\n",
    "print('lenth of stopwords: {}'.format(len(list_stopwords)))"
   ]
  },
  {
   "cell_type": "code",
   "execution_count": 20,
   "metadata": {},
   "outputs": [
    {
     "data": {
      "text/plain": [
       "0    [vimercate, seleziona, manutentore, inseriment...\n",
       "1    [ricerchiamo, ricerca, addetti, vendita, punto...\n",
       "2    [filiale, verona, seleziona, azienda, cliente,...\n",
       "3    [kelly, services, multinazionale, americana, l...\n",
       "4    [adhr, filiale, torino, ricerca, azienda, clie...\n",
       "Name: Job_Description, dtype: object"
      ]
     },
     "execution_count": 20,
     "metadata": {},
     "output_type": "execute_result"
    }
   ],
   "source": [
    "data.Job_Description = data.Job_Description.apply(lambda x: [i for i in x if i not in list_stopwords] )\n",
    "data.Job_Description.head(5)\n"
   ]
  },
  {
   "cell_type": "markdown",
   "metadata": {},
   "source": [
    "###### Get a list of uniquewords"
   ]
  },
  {
   "cell_type": "code",
   "execution_count": 21,
   "metadata": {},
   "outputs": [],
   "source": [
    "words = []\n",
    "for i in data.Job_Description:\n",
    "    words.append(i)\n",
    "word_list = set([i for x in words for i in x])"
   ]
  },
  {
   "cell_type": "code",
   "execution_count": 22,
   "metadata": {},
   "outputs": [
    {
     "data": {
      "text/plain": [
       "[('abbigliamento', 1),\n",
       " ('abruzzo', 1),\n",
       " ('accessori', 1),\n",
       " ('acquisizione', 1),\n",
       " ('addetti', 1),\n",
       " ('adhr', 1),\n",
       " ('advanced', 1),\n",
       " ('affini', 1),\n",
       " ('agenzia', 1),\n",
       " ('aiutare', 1),\n",
       " ('aiuto', 1),\n",
       " ('alcune', 1),\n",
       " ('alcuni', 1),\n",
       " ('alimentare', 1),\n",
       " ('alloggio', 1),\n",
       " ('almeno', 1),\n",
       " ('ambito', 1),\n",
       " ('ambiziose', 1),\n",
       " ('americana', 1),\n",
       " ('analisi', 1)]"
      ]
     },
     "execution_count": 22,
     "metadata": {},
     "output_type": "execute_result"
    }
   ],
   "source": [
    "# check the frequence distribution of words\n",
    "fdist = nltk.FreqDist(word_list)\n",
    "sorted(fdist.items())[:20]"
   ]
  },
  {
   "cell_type": "code",
   "execution_count": 23,
   "metadata": {},
   "outputs": [],
   "source": [
    "# wordcloud of main words\n",
    "def cloud(data,backgroundcolor = 'white', width = 800, height = 600):\n",
    "    wordcloud = WordCloud(stopwords = STOPWORDS, background_color = backgroundcolor,\n",
    "                         width = width, height = height).generate(data)\n",
    "    plt.figure(figsize = (15, 10))\n",
    "    plt.imshow(wordcloud)\n",
    "    plt.axis(\"off\")\n",
    "    plt.show()"
   ]
  },
  {
   "cell_type": "code",
   "execution_count": 24,
   "metadata": {},
   "outputs": [
    {
     "data": {
      "text/plain": [
       "0    vimercate seleziona manutentore inserimento so...\n",
       "1    ricerchiamo ricerca addetti vendita punto vend...\n",
       "Name: Job_Description, dtype: object"
      ]
     },
     "execution_count": 24,
     "metadata": {},
     "output_type": "execute_result"
    }
   ],
   "source": [
    "job_description = data['Job_Description'].apply(lambda x: ' '.join(x))\n",
    "job_description.head(2)"
   ]
  },
  {
   "cell_type": "code",
   "execution_count": 25,
   "metadata": {},
   "outputs": [
    {
     "data": {
      "image/png": "[encoded data removed]",
      "text/plain": [
       "<Figure size 1080x720 with 1 Axes>"
      ]
     },
     "metadata": {
      "needs_background": "light"
     },
     "output_type": "display_data"
    }
   ],
   "source": [
    "cloud(' '.join(job_description)) # most common words"
   ]
  },
  {
   "cell_type": "markdown",
   "metadata": {},
   "source": [
    "#### Remove words referring to: Comuni, Provincie, Regioni"
   ]
  },
  {
   "cell_type": "code",
   "execution_count": 26,
   "metadata": {},
   "outputs": [
    {
     "data": {
      "text/html": [
       "<div>\n",
       "<style scoped>\n",
       "    .dataframe tbody tr th:only-of-type {\n",
       "        vertical-align: middle;\n",
       "    }\n",
       "\n",
       "    .dataframe tbody tr th {\n",
       "        vertical-align: top;\n",
       "    }\n",
       "\n",
       "    .dataframe thead th {\n",
       "        text-align: right;\n",
       "    }\n",
       "</style>\n",
       "<table border=\"1\" class=\"dataframe\">\n",
       "  <thead>\n",
       "    <tr style=\"text-align: right;\">\n",
       "      <th></th>\n",
       "      <th>,Istat</th>\n",
       "      <th>Comune</th>\n",
       "      <th>Provincia</th>\n",
       "      <th>Regione</th>\n",
       "      <th>Prefisso</th>\n",
       "      <th>CAP</th>\n",
       "      <th>CodFisco</th>\n",
       "      <th>Abitanti</th>\n",
       "      <th>Link</th>\n",
       "    </tr>\n",
       "  </thead>\n",
       "  <tbody>\n",
       "    <tr>\n",
       "      <th>0</th>\n",
       "      <td>0,028001</td>\n",
       "      <td>Abano Terme</td>\n",
       "      <td>PD</td>\n",
       "      <td>VEN</td>\n",
       "      <td>49</td>\n",
       "      <td>35031</td>\n",
       "      <td>A001</td>\n",
       "      <td>19726</td>\n",
       "      <td>http://www.comuni-italiani.it/028/001/</td>\n",
       "    </tr>\n",
       "    <tr>\n",
       "      <th>1</th>\n",
       "      <td>1,098001</td>\n",
       "      <td>Abbadia Cerreto</td>\n",
       "      <td>LO</td>\n",
       "      <td>LOM</td>\n",
       "      <td>371</td>\n",
       "      <td>26834</td>\n",
       "      <td>A004</td>\n",
       "      <td>293</td>\n",
       "      <td>http://www.comuni-italiani.it/098/001/</td>\n",
       "    </tr>\n",
       "    <tr>\n",
       "      <th>2</th>\n",
       "      <td>2,097001</td>\n",
       "      <td>Abbadia Lariana</td>\n",
       "      <td>LC</td>\n",
       "      <td>LOM</td>\n",
       "      <td>341</td>\n",
       "      <td>23821</td>\n",
       "      <td>A005</td>\n",
       "      <td>3305</td>\n",
       "      <td>http://www.comuni-italiani.it/097/001/</td>\n",
       "    </tr>\n",
       "    <tr>\n",
       "      <th>3</th>\n",
       "      <td>3,052001</td>\n",
       "      <td>Abbadia San Salvatore</td>\n",
       "      <td>SI</td>\n",
       "      <td>TOS</td>\n",
       "      <td>577</td>\n",
       "      <td>53021</td>\n",
       "      <td>A006</td>\n",
       "      <td>6722</td>\n",
       "      <td>http://www.comuni-italiani.it/052/001/</td>\n",
       "    </tr>\n",
       "    <tr>\n",
       "      <th>4</th>\n",
       "      <td>4,095001</td>\n",
       "      <td>Abbasanta</td>\n",
       "      <td>OR</td>\n",
       "      <td>SAR</td>\n",
       "      <td>785</td>\n",
       "      <td>09071</td>\n",
       "      <td>A007</td>\n",
       "      <td>2872</td>\n",
       "      <td>http://www.comuni-italiani.it/095/001/</td>\n",
       "    </tr>\n",
       "  </tbody>\n",
       "</table>\n",
       "</div>"
      ],
      "text/plain": [
       "     ,Istat                 Comune Provincia Regione  Prefisso    CAP  \\\n",
       "0  0,028001            Abano Terme        PD     VEN        49  35031   \n",
       "1  1,098001        Abbadia Cerreto        LO     LOM       371  26834   \n",
       "2  2,097001        Abbadia Lariana        LC     LOM       341  23821   \n",
       "3  3,052001  Abbadia San Salvatore        SI     TOS       577  53021   \n",
       "4  4,095001              Abbasanta        OR     SAR       785  09071   \n",
       "\n",
       "  CodFisco  Abitanti                                    Link  \n",
       "0     A001     19726  http://www.comuni-italiani.it/028/001/  \n",
       "1     A004       293  http://www.comuni-italiani.it/098/001/  \n",
       "2     A005      3305  http://www.comuni-italiani.it/097/001/  \n",
       "3     A006      6722  http://www.comuni-italiani.it/052/001/  \n",
       "4     A007      2872  http://www.comuni-italiani.it/095/001/  "
      ]
     },
     "execution_count": 26,
     "metadata": {},
     "output_type": "execute_result"
    }
   ],
   "source": [
    "# load a text file containing a list of 'Comuni, Provincie, Regioni' italiane\n",
    "geo_data = pd.read_fwf('listacomuni.txt')\n",
    "geo_data.to_csv('listacomuni.csv')\n",
    "geo_data = pd.read_csv('listacomuni.csv', sep=';')\n",
    "geo_data.head()"
   ]
  },
  {
   "cell_type": "code",
   "execution_count": 27,
   "metadata": {},
   "outputs": [
    {
     "name": "stdout",
     "output_type": "stream",
     "text": [
      "Comuni samples: ['abano terme', 'abbadia cerreto', 'abbadia lariana', 'abbadia san salvatore', 'abbasanta', 'abbateggio', 'abbiategrasso', 'abetone', 'abriola', 'acate']\n",
      "%%%%%%%%%%%%%%%%%%%%\n",
      "Provincia samples: ['pd', 'lo', 'lc', 'si', 'or', 'pe', 'mi', 'pt', 'pz', 'rg']\n",
      "%%%%%%%%%%%%%%%%%%%%\n",
      "Regione samples: ['ven', 'lom', 'lom', 'tos', 'sar', 'abr', 'lom', 'tos', 'bas', 'sic']\n"
     ]
    }
   ],
   "source": [
    "comune = [i.lower() for i in geo_data.Comune]\n",
    "geo_data.Provincia = geo_data.Provincia.apply(lambda x: str(x))\n",
    "provincia = [i.lower() for i in geo_data.Provincia]\n",
    "regione = [i.lower() for i in geo_data.Regione]\n",
    "print('Comuni samples:',comune[:10])\n",
    "print(20*'%')\n",
    "print('Provincia samples:',provincia[:10])\n",
    "print(20*'%')\n",
    "print('Regione samples:',regione[:10])"
   ]
  },
  {
   "cell_type": "code",
   "execution_count": 28,
   "metadata": {},
   "outputs": [
    {
     "name": "stdout",
     "output_type": "stream",
     "text": [
      "True\n",
      "True\n",
      "False\n"
     ]
    }
   ],
   "source": [
    "# example\n",
    "print('verona' in comune)\n",
    "print('trieste' in comune)\n",
    "print('dublino' in comune)"
   ]
  },
  {
   "cell_type": "markdown",
   "metadata": {},
   "source": [
    "##### Wrap previous commands into below function"
   ]
  },
  {
   "cell_type": "code",
   "execution_count": 29,
   "metadata": {},
   "outputs": [],
   "source": [
    "def remove_comuni(data, column, geo_data):\n",
    "    ''' function to remove geographic noisy'''\n",
    "    comune = [i.lower() for i in geo_data.Comune]\n",
    "    geo_data.Provincia = geo_data.Provincia.apply(lambda x: str(x))\n",
    "    provincia = [i.lower() for i in geo_data.Provincia]\n",
    "    regione = [i.lower() for i in geo_data.Regione]\n",
    "    \n",
    "    data[column] = data[column].apply(lambda x: [i for i in x if i not in comune])\n",
    "    data[column] = data[column].apply(lambda x: [i for i in x if i not in provincia])\n",
    "    data[column] = data[column].apply(lambda x: [i for i in x if i not in regione])\n",
    "    \n",
    "    return data"
   ]
  },
  {
   "cell_type": "code",
   "execution_count": 30,
   "metadata": {},
   "outputs": [
    {
     "data": {
      "text/html": [
       "<div>\n",
       "<style scoped>\n",
       "    .dataframe tbody tr th:only-of-type {\n",
       "        vertical-align: middle;\n",
       "    }\n",
       "\n",
       "    .dataframe tbody tr th {\n",
       "        vertical-align: top;\n",
       "    }\n",
       "\n",
       "    .dataframe thead th {\n",
       "        text-align: right;\n",
       "    }\n",
       "</style>\n",
       "<table border=\"1\" class=\"dataframe\">\n",
       "  <thead>\n",
       "    <tr style=\"text-align: right;\">\n",
       "      <th></th>\n",
       "      <th>Job_Description</th>\n",
       "      <th>Role</th>\n",
       "      <th>Target</th>\n",
       "    </tr>\n",
       "  </thead>\n",
       "  <tbody>\n",
       "    <tr>\n",
       "      <th>0</th>\n",
       "      <td>[seleziona, manutentore, inserimento, somminis...</td>\n",
       "      <td>Manutentore elettromeccanico</td>\n",
       "      <td>elettromeccanici</td>\n",
       "    </tr>\n",
       "    <tr>\n",
       "      <th>1</th>\n",
       "      <td>[ricerchiamo, ricerca, addetti, vendita, punto...</td>\n",
       "      <td>commesso di vendita</td>\n",
       "      <td>commessi alle vendite al minuto</td>\n",
       "    </tr>\n",
       "    <tr>\n",
       "      <th>2</th>\n",
       "      <td>[filiale, seleziona, azienda, cliente, settore...</td>\n",
       "      <td>Manutentore elettromeccanico</td>\n",
       "      <td>elettromeccanici</td>\n",
       "    </tr>\n",
       "    <tr>\n",
       "      <th>3</th>\n",
       "      <td>[kelly, services, multinazionale, americana, l...</td>\n",
       "      <td>Manutentore elettromeccanico</td>\n",
       "      <td>elettromeccanici</td>\n",
       "    </tr>\n",
       "    <tr>\n",
       "      <th>4</th>\n",
       "      <td>[adhr, filiale, ricerca, azienda, cliente, set...</td>\n",
       "      <td>Data Scientist</td>\n",
       "      <td>statistici</td>\n",
       "    </tr>\n",
       "  </tbody>\n",
       "</table>\n",
       "</div>"
      ],
      "text/plain": [
       "                                     Job_Description  \\\n",
       "0  [seleziona, manutentore, inserimento, somminis...   \n",
       "1  [ricerchiamo, ricerca, addetti, vendita, punto...   \n",
       "2  [filiale, seleziona, azienda, cliente, settore...   \n",
       "3  [kelly, services, multinazionale, americana, l...   \n",
       "4  [adhr, filiale, ricerca, azienda, cliente, set...   \n",
       "\n",
       "                           Role                           Target  \n",
       "0  Manutentore elettromeccanico                 elettromeccanici  \n",
       "1           commesso di vendita  commessi alle vendite al minuto  \n",
       "2  Manutentore elettromeccanico                 elettromeccanici  \n",
       "3  Manutentore elettromeccanico                 elettromeccanici  \n",
       "4               Data Scientist                        statistici  "
      ]
     },
     "execution_count": 30,
     "metadata": {},
     "output_type": "execute_result"
    }
   ],
   "source": [
    "data = remove_comuni(data, 'Job_Description', geo_data)\n",
    "data.head(5)"
   ]
  },
  {
   "cell_type": "markdown",
   "metadata": {},
   "source": [
    "##### Get rid of unusual_words : misspelled words - uncommon words¶"
   ]
  },
  {
   "cell_type": "code",
   "execution_count": 31,
   "metadata": {},
   "outputs": [],
   "source": [
    "# italian_vocab = pd.read_fwf('660000_parole_italiane.txt', names = ['word'])\n",
    "# italian_vocab = set(italian_vocab.word.tolist())\n",
    "# english_vocab = sorted(set(w.lower() for w in nltk.corpus.words.words())) # english vocabulary"
   ]
  },
  {
   "cell_type": "code",
   "execution_count": 32,
   "metadata": {},
   "outputs": [],
   "source": [
    "# def uncommon_words(data,column, italian_vocab, english_vocab = None):\n",
    "#     data[column] = data[column].apply(lambda x: [i for i in x if i in italian_vocab])\n",
    "#     return data"
   ]
  },
  {
   "cell_type": "code",
   "execution_count": 33,
   "metadata": {},
   "outputs": [],
   "source": [
    "# data = uncommon_words(data, 'Job_Description', italian_vocab, english_vocab)\n",
    "# data # note that the word 'vimercate' is not present anymore "
   ]
  },
  {
   "cell_type": "code",
   "execution_count": 34,
   "metadata": {
    "scrolled": true
   },
   "outputs": [
    {
     "name": "stdout",
     "output_type": "stream",
     "text": [
      "                              Frequency\n",
      "MANUTENTORE ELETTROMECCANICO           \n",
      "manutenzione                          7\n",
      "elettromeccanico                      7\n",
      "esperienza                            7\n",
      "settore                               6\n",
      "manutentore                           5\n",
      "%%%%%%%%%%%%%%%%%%%%%%%%%%%%%%%%%%%%%%%%%%%%%%%%%%%%%%%%%%%%%%%%%%%%%%%%%%%%%%%%%%%%%%%%%%%%%%%%%%%%\n",
      "                     Frequency\n",
      "COMMESSO DI VENDITA           \n",
      "vendita                      4\n",
      "abbigliamento                4\n",
      "ricerca                      2\n",
      "esperienza                   2\n",
      "settore                      2\n",
      "%%%%%%%%%%%%%%%%%%%%%%%%%%%%%%%%%%%%%%%%%%%%%%%%%%%%%%%%%%%%%%%%%%%%%%%%%%%%%%%%%%%%%%%%%%%%%%%%%%%%\n",
      "                 Frequency\n",
      "DATA SCIENTIST            \n",
      "data                    10\n",
      "dati                    10\n",
      "analisi                  6\n",
      "principali               5\n",
      "lavoro                   5\n",
      "%%%%%%%%%%%%%%%%%%%%%%%%%%%%%%%%%%%%%%%%%%%%%%%%%%%%%%%%%%%%%%%%%%%%%%%%%%%%%%%%%%%%%%%%%%%%%%%%%%%%\n",
      "              Frequency\n",
      "PIZZAIOLO              \n",
      "lavoro                6\n",
      "ricerca               4\n",
      "pizzaiolo             4\n",
      "requisiti             4\n",
      "preparazione          4\n",
      "%%%%%%%%%%%%%%%%%%%%%%%%%%%%%%%%%%%%%%%%%%%%%%%%%%%%%%%%%%%%%%%%%%%%%%%%%%%%%%%%%%%%%%%%%%%%%%%%%%%%\n",
      "                                Frequency\n",
      "PIZZAIOLO PASTICCERE MACELLAIO           \n",
      "chef                                    2\n",
      "bluserena                               1\n",
      "ricerca                                 1\n",
      "propri                                  1\n",
      "resort                                  1\n",
      "%%%%%%%%%%%%%%%%%%%%%%%%%%%%%%%%%%%%%%%%%%%%%%%%%%%%%%%%%%%%%%%%%%%%%%%%%%%%%%%%%%%%%%%%%%%%%%%%%%%%\n"
     ]
    },
    {
     "data": {
      "image/png": "[encoded data removed]",
      "text/plain": [
       "<Figure size 432x288 with 1 Axes>"
      ]
     },
     "metadata": {},
     "output_type": "display_data"
    },
    {
     "data": {
      "image/png": "[encoded data removed]",
      "text/plain": [
       "<Figure size 432x288 with 1 Axes>"
      ]
     },
     "metadata": {},
     "output_type": "display_data"
    },
    {
     "data": {
      "image/png": "[encoded data removed]",
      "text/plain": [
       "<Figure size 432x288 with 1 Axes>"
      ]
     },
     "metadata": {},
     "output_type": "display_data"
    },
    {
     "data": {
      "image/png": "[encoded data removed]",
      "text/plain": [
       "<Figure size 432x288 with 1 Axes>"
      ]
     },
     "metadata": {},
     "output_type": "display_data"
    },
    {
     "data": {
      "image/png": "[encoded data removed]",
      "text/plain": [
       "<Figure size 432x288 with 1 Axes>"
      ]
     },
     "metadata": {},
     "output_type": "display_data"
    }
   ],
   "source": [
    "%matplotlib inline\n",
    "matplotlib.style.use('ggplot')\n",
    "field = \"Job_Description\"\n",
    "Role = list(data.Role.unique())\n",
    "for i in Role:\n",
    "    txt = data[data['Role']==i][field]\n",
    "    txt = [i for x in txt.tolist() for i in x]\n",
    "    words_except_stop_dist = nltk.FreqDist(w for w in txt) \n",
    "    words_except_stop_dist\n",
    "    rslt = pd.DataFrame(words_except_stop_dist.most_common(5),\n",
    "                            columns=[i.upper(), 'Frequency']).set_index(i.upper())\n",
    "    print(rslt)\n",
    "    matplotlib.style.use('ggplot')\n",
    "    rslt.plot.bar(rot=0)\n",
    "    print(100 *'%')"
   ]
  },
  {
   "cell_type": "markdown",
   "metadata": {},
   "source": [
    "##### Create Role dictionary and encode the column Role"
   ]
  },
  {
   "cell_type": "code",
   "execution_count": 35,
   "metadata": {},
   "outputs": [],
   "source": [
    "Role_dictionary = pd.Series(data['Target'].unique()).to_dict()\n",
    "Role_dictionary = dict([(value, key) for key, value in Role_dictionary.items()])"
   ]
  },
  {
   "cell_type": "code",
   "execution_count": 36,
   "metadata": {},
   "outputs": [
    {
     "data": {
      "text/plain": [
       "{'elettromeccanici': 0,\n",
       " 'commessi alle vendite al minuto': 1,\n",
       " 'statistici': 2,\n",
       " 'cuochi in alberghi e ristoranti': 3,\n",
       " 'unknown': 4}"
      ]
     },
     "execution_count": 36,
     "metadata": {},
     "output_type": "execute_result"
    }
   ],
   "source": [
    "Role_dictionary"
   ]
  },
  {
   "cell_type": "code",
   "execution_count": 37,
   "metadata": {},
   "outputs": [],
   "source": [
    "# save role dictionary as picke file\n",
    "with open('Role_dictionary.pickle', 'wb') as handle:\n",
    "    pickle.dump(Role_dictionary, handle, protocol=pickle.HIGHEST_PROTOCOL)\n",
    "\n",
    "with open('Role_dictionary.pickle', 'rb') as handle:\n",
    "    b = pickle.load(handle)"
   ]
  },
  {
   "cell_type": "code",
   "execution_count": 38,
   "metadata": {},
   "outputs": [],
   "source": [
    "role_encoded = []\n",
    "for i in data.Target:\n",
    "    role_encoded.append(Role_dictionary.get(i, None))"
   ]
  },
  {
   "cell_type": "code",
   "execution_count": 39,
   "metadata": {},
   "outputs": [
    {
     "name": "stdout",
     "output_type": "stream",
     "text": [
      "[0, 1, 0, 0, 2, 2, 3, 4, 1, 1, 0, 2, 3, 3]\n",
      "%%%%%%%%%%\n",
      "['elettromeccanici', 'commessi alle vendite al minuto', 'elettromeccanici', 'elettromeccanici', 'statistici', 'statistici', 'cuochi in alberghi e ristoranti', 'unknown', 'commessi alle vendite al minuto', 'commessi alle vendite al minuto', 'elettromeccanici', 'statistici', 'cuochi in alberghi e ristoranti', 'cuochi in alberghi e ristoranti']\n"
     ]
    }
   ],
   "source": [
    "print(role_encoded)\n",
    "print(10 *'%')\n",
    "print(data.Target.tolist())"
   ]
  },
  {
   "cell_type": "code",
   "execution_count": 40,
   "metadata": {},
   "outputs": [],
   "source": [
    "##### replace old role values with new values\n",
    "data.Role = role_encoded"
   ]
  },
  {
   "cell_type": "code",
   "execution_count": 41,
   "metadata": {},
   "outputs": [
    {
     "data": {
      "text/html": [
       "<div>\n",
       "<style scoped>\n",
       "    .dataframe tbody tr th:only-of-type {\n",
       "        vertical-align: middle;\n",
       "    }\n",
       "\n",
       "    .dataframe tbody tr th {\n",
       "        vertical-align: top;\n",
       "    }\n",
       "\n",
       "    .dataframe thead th {\n",
       "        text-align: right;\n",
       "    }\n",
       "</style>\n",
       "<table border=\"1\" class=\"dataframe\">\n",
       "  <thead>\n",
       "    <tr style=\"text-align: right;\">\n",
       "      <th></th>\n",
       "      <th>Job_Description</th>\n",
       "      <th>Role</th>\n",
       "      <th>Target</th>\n",
       "    </tr>\n",
       "  </thead>\n",
       "  <tbody>\n",
       "    <tr>\n",
       "      <th>0</th>\n",
       "      <td>[seleziona, manutentore, inserimento, somminis...</td>\n",
       "      <td>0</td>\n",
       "      <td>elettromeccanici</td>\n",
       "    </tr>\n",
       "    <tr>\n",
       "      <th>1</th>\n",
       "      <td>[ricerchiamo, ricerca, addetti, vendita, punto...</td>\n",
       "      <td>1</td>\n",
       "      <td>commessi alle vendite al minuto</td>\n",
       "    </tr>\n",
       "    <tr>\n",
       "      <th>2</th>\n",
       "      <td>[filiale, seleziona, azienda, cliente, settore...</td>\n",
       "      <td>0</td>\n",
       "      <td>elettromeccanici</td>\n",
       "    </tr>\n",
       "    <tr>\n",
       "      <th>3</th>\n",
       "      <td>[kelly, services, multinazionale, americana, l...</td>\n",
       "      <td>0</td>\n",
       "      <td>elettromeccanici</td>\n",
       "    </tr>\n",
       "    <tr>\n",
       "      <th>4</th>\n",
       "      <td>[adhr, filiale, ricerca, azienda, cliente, set...</td>\n",
       "      <td>2</td>\n",
       "      <td>statistici</td>\n",
       "    </tr>\n",
       "  </tbody>\n",
       "</table>\n",
       "</div>"
      ],
      "text/plain": [
       "                                     Job_Description  Role  \\\n",
       "0  [seleziona, manutentore, inserimento, somminis...     0   \n",
       "1  [ricerchiamo, ricerca, addetti, vendita, punto...     1   \n",
       "2  [filiale, seleziona, azienda, cliente, settore...     0   \n",
       "3  [kelly, services, multinazionale, americana, l...     0   \n",
       "4  [adhr, filiale, ricerca, azienda, cliente, set...     2   \n",
       "\n",
       "                            Target  \n",
       "0                 elettromeccanici  \n",
       "1  commessi alle vendite al minuto  \n",
       "2                 elettromeccanici  \n",
       "3                 elettromeccanici  \n",
       "4                       statistici  "
      ]
     },
     "execution_count": 41,
     "metadata": {},
     "output_type": "execute_result"
    }
   ],
   "source": [
    "data.head()"
   ]
  },
  {
   "cell_type": "code",
   "execution_count": 42,
   "metadata": {},
   "outputs": [],
   "source": [
    "## remove words like dell, della, dello, sull, degl. etc.\n",
    "data.Job_Description = data.Job_Description.apply(lambda x: [i for i in x if not (i.startswith('dell') \\\n",
    "                                                                    or i.startswith('sull')\\\n",
    "                                                                     or i.startswith('degl')\n",
    "                                                                     or i.startswith('dall')\n",
    "                                                                     or i.startswith('all')\n",
    "                                                                   or i.strip().startswith('kell'))])"
   ]
  },
  {
   "cell_type": "code",
   "execution_count": 43,
   "metadata": {},
   "outputs": [
    {
     "data": {
      "text/plain": [
       "['services',\n",
       " 'multinazionale',\n",
       " 'americana',\n",
       " 'leader',\n",
       " 'risorse',\n",
       " 'umane',\n",
       " 'oltre',\n",
       " 'anni',\n",
       " 'societ',\n",
       " 'apprezzate',\n",
       " 'livello',\n",
       " 'mondiale',\n",
       " 'elevata',\n",
       " 'qualit',\n",
       " 'servizi',\n",
       " 'offerti',\n",
       " 'professionalit',\n",
       " 'personale',\n",
       " 'selezionato',\n",
       " 'offre',\n",
       " 'candidati',\n",
       " 'giovani',\n",
       " 'cerca',\n",
       " 'prima',\n",
       " 'occupazione',\n",
       " 'dirigenti',\n",
       " 'stimolanti',\n",
       " 'opportunit',\n",
       " 'lavoro',\n",
       " 'tempo',\n",
       " 'determinato',\n",
       " 'indeterminato',\n",
       " 'oltre',\n",
       " 'servizi',\n",
       " 'orientamento',\n",
       " 'formazione',\n",
       " 'maggiori',\n",
       " 'informazioni',\n",
       " 'consulta',\n",
       " 'sito',\n",
       " 'filiale',\n",
       " 'services',\n",
       " 'ricerca',\n",
       " 'azienda',\n",
       " 'cliente',\n",
       " 'operante',\n",
       " 'metalmeccanico',\n",
       " 'sede',\n",
       " 'provincia',\n",
       " 'tecnico',\n",
       " 'elettromeccanico',\n",
       " 'candidato',\n",
       " 'ideale',\n",
       " 'maturato',\n",
       " 'almeno',\n",
       " 'anni',\n",
       " 'esperienza',\n",
       " 'attivit',\n",
       " 'service',\n",
       " 'manutenzione',\n",
       " 'elettromeccanica',\n",
       " 'ruolo',\n",
       " 'prevedr',\n",
       " 'attivit',\n",
       " 'manutenzione',\n",
       " 'elettromeccanica',\n",
       " 'ordinaria',\n",
       " 'straordinaria',\n",
       " 'ricerca',\n",
       " 'guasti',\n",
       " 'interventi',\n",
       " 'sensori',\n",
       " 'telecamere',\n",
       " 'carrelli',\n",
       " 'scorrimento',\n",
       " 'interventi',\n",
       " 'effettuati',\n",
       " 'prevalentemente',\n",
       " 'nord',\n",
       " 'italia',\n",
       " 'reggio',\n",
       " 'emilia',\n",
       " 'tratter',\n",
       " 'trasferte',\n",
       " 'giornaliere',\n",
       " 'richiede',\n",
       " 'disponibilit',\n",
       " 'reperibilit',\n",
       " 'rotazione',\n",
       " 'sabato',\n",
       " 'requisiti',\n",
       " 'diploma',\n",
       " 'indirizzo',\n",
       " 'elettrico',\n",
       " 'elettromeccanico',\n",
       " 'esperienza',\n",
       " 'almeno',\n",
       " 'anni',\n",
       " 'analoga',\n",
       " 'mansione',\n",
       " 'buona',\n",
       " 'conoscenza',\n",
       " 'schemi',\n",
       " 'elettrici',\n",
       " 'buone',\n",
       " 'doti',\n",
       " 'comunicative',\n",
       " 'buono',\n",
       " 'standing',\n",
       " 'flessibilit',\n",
       " 'automunito']"
      ]
     },
     "execution_count": 43,
     "metadata": {},
     "output_type": "execute_result"
    }
   ],
   "source": [
    "data.Job_Description.iloc[3] # get rid of words starting with kell look at previous cell in row 3"
   ]
  },
  {
   "cell_type": "markdown",
   "metadata": {},
   "source": [
    "#### have a look at bigrams"
   ]
  },
  {
   "cell_type": "code",
   "execution_count": 44,
   "metadata": {},
   "outputs": [
    {
     "data": {
      "text/plain": [
       "0     [seleziona, manutentore, inserimento, somminis...\n",
       "1     [ricerchiamo, ricerca, addetti, vendita, punto...\n",
       "2     [filiale, seleziona, azienda, cliente, settore...\n",
       "3     [services, multinazionale, americana, leader, ...\n",
       "4     [adhr, filiale, ricerca, azienda, cliente, set...\n",
       "5     [cercando, data, scientist, esperto, appassion...\n",
       "6     [infor, elea, ricerca, azienda, cliente, figur...\n",
       "7     [bluserena, ricerca, propri, resort, abruzzo, ...\n",
       "8     [esclusiva, boutique, multibrand, sita, isola,...\n",
       "9     [cliente, castel, guelfo, ricerca, commesso, a...\n",
       "10    [lavoropi, everywhere, divisione, lavoropi, sp...\n",
       "11    [group, agenzia, lavoro, ricerca, azienda, cli...\n",
       "12    [descrizione, azienda, synergie, italia, filia...\n",
       "13    [lavoropi, filiale, crostolo, ricerca, aiuto, ...\n",
       "Name: Job_Description, dtype: object"
      ]
     },
     "execution_count": 44,
     "metadata": {},
     "output_type": "execute_result"
    }
   ],
   "source": [
    "data.Job_Description"
   ]
  },
  {
   "cell_type": "code",
   "execution_count": 45,
   "metadata": {},
   "outputs": [
    {
     "data": {
      "text/plain": [
       "[('ricerchiamo', 'ricerca'),\n",
       " ('ricerca', 'addetti'),\n",
       " ('addetti', 'vendita'),\n",
       " ('vendita', 'punto'),\n",
       " ('punto', 'vendita'),\n",
       " ('vendita', 'abbigliamento')]"
      ]
     },
     "execution_count": 45,
     "metadata": {},
     "output_type": "execute_result"
    }
   ],
   "source": [
    "from nltk import bigrams, collocations\n",
    "Text = data.Job_Description.iloc[1]\n",
    "bigrams_from_text = bigrams(Text)\n",
    "list(bigrams_from_text)[:6]"
   ]
  },
  {
   "cell_type": "code",
   "execution_count": 46,
   "metadata": {},
   "outputs": [
    {
     "data": {
      "text/plain": [
       "[(('ricerchiamo', 'ricerca'), 1),\n",
       " (('ricerca', 'addetti'), 1),\n",
       " (('addetti', 'vendita'), 1),\n",
       " (('vendita', 'punto'), 1),\n",
       " (('punto', 'vendita'), 1),\n",
       " (('vendita', 'abbigliamento'), 1)]"
      ]
     },
     "execution_count": 46,
     "metadata": {},
     "output_type": "execute_result"
    }
   ],
   "source": [
    "bigrams_from_text = bigrams(Text)\n",
    "list(iter(dict(nltk.FreqDist(i for i in list(bigrams_from_text))).items()))[:6]"
   ]
  },
  {
   "cell_type": "markdown",
   "metadata": {},
   "source": [
    "##### convert each word tokenized into a string of words"
   ]
  },
  {
   "cell_type": "code",
   "execution_count": 47,
   "metadata": {},
   "outputs": [
    {
     "data": {
      "text/plain": [
       "0    seleziona manutentore inserimento somministraz...\n",
       "1    ricerchiamo ricerca addetti vendita punto vend...\n",
       "2    filiale seleziona azienda cliente settore meta...\n",
       "3    services multinazionale americana leader risor...\n",
       "4    adhr filiale ricerca azienda cliente settore i...\n",
       "Name: Job_Description, dtype: object"
      ]
     },
     "execution_count": 47,
     "metadata": {},
     "output_type": "execute_result"
    }
   ],
   "source": [
    "data.Job_Description = data.Job_Description.apply(lambda x: ' '.join(x))\n",
    "data.Job_Description.head()"
   ]
  },
  {
   "cell_type": "markdown",
   "metadata": {},
   "source": [
    "## Incorporate additional information from  info/professioni dataset"
   ]
  },
  {
   "cell_type": "code",
   "execution_count": 48,
   "metadata": {},
   "outputs": [
    {
     "data": {
      "text/html": [
       "<div>\n",
       "<style scoped>\n",
       "    .dataframe tbody tr th:only-of-type {\n",
       "        vertical-align: middle;\n",
       "    }\n",
       "\n",
       "    .dataframe tbody tr th {\n",
       "        vertical-align: top;\n",
       "    }\n",
       "\n",
       "    .dataframe thead th {\n",
       "        text-align: right;\n",
       "    }\n",
       "</style>\n",
       "<table border=\"1\" class=\"dataframe\">\n",
       "  <thead>\n",
       "    <tr style=\"text-align: right;\">\n",
       "      <th></th>\n",
       "      <th>Subgroup</th>\n",
       "      <th>Info</th>\n",
       "    </tr>\n",
       "  </thead>\n",
       "  <tbody>\n",
       "    <tr>\n",
       "      <th>0</th>\n",
       "      <td>statistici</td>\n",
       "      <td>['vendite', 'misurare', 'partire', 'gestione',...</td>\n",
       "    </tr>\n",
       "    <tr>\n",
       "      <th>1</th>\n",
       "      <td>cuochi in alberghi e ristoranti</td>\n",
       "      <td>['tradizionalmente', 'preliminare', 'pizze', '...</td>\n",
       "    </tr>\n",
       "    <tr>\n",
       "      <th>2</th>\n",
       "      <td>commessi alle vendite al minuto</td>\n",
       "      <td>['scaffali', 'dessert', 'prodotto', 'esposizio...</td>\n",
       "    </tr>\n",
       "    <tr>\n",
       "      <th>3</th>\n",
       "      <td>elettromeccanici</td>\n",
       "      <td>['effettuati', 'predisporre', 'funzionali', 'p...</td>\n",
       "    </tr>\n",
       "  </tbody>\n",
       "</table>\n",
       "</div>"
      ],
      "text/plain": [
       "                          Subgroup  \\\n",
       "0                       statistici   \n",
       "1  cuochi in alberghi e ristoranti   \n",
       "2  commessi alle vendite al minuto   \n",
       "3                 elettromeccanici   \n",
       "\n",
       "                                                Info  \n",
       "0  ['vendite', 'misurare', 'partire', 'gestione',...  \n",
       "1  ['tradizionalmente', 'preliminare', 'pizze', '...  \n",
       "2  ['scaffali', 'dessert', 'prodotto', 'esposizio...  \n",
       "3  ['effettuati', 'predisporre', 'funzionali', 'p...  "
      ]
     },
     "execution_count": 48,
     "metadata": {},
     "output_type": "execute_result"
    }
   ],
   "source": [
    "info_data = pd.read_csv('info_data.csv',names = ['Subgroup','Info'], skiprows=1)\n",
    "info_data['Subgroup'] = info_data['Subgroup'] .apply(lambda x: x.lower())\n",
    "info_data"
   ]
  },
  {
   "cell_type": "code",
   "execution_count": 49,
   "metadata": {},
   "outputs": [
    {
     "data": {
      "text/html": [
       "<div>\n",
       "<style scoped>\n",
       "    .dataframe tbody tr th:only-of-type {\n",
       "        vertical-align: middle;\n",
       "    }\n",
       "\n",
       "    .dataframe tbody tr th {\n",
       "        vertical-align: top;\n",
       "    }\n",
       "\n",
       "    .dataframe thead th {\n",
       "        text-align: right;\n",
       "    }\n",
       "</style>\n",
       "<table border=\"1\" class=\"dataframe\">\n",
       "  <thead>\n",
       "    <tr style=\"text-align: right;\">\n",
       "      <th></th>\n",
       "      <th>Subgroup</th>\n",
       "      <th>Info</th>\n",
       "    </tr>\n",
       "  </thead>\n",
       "  <tbody>\n",
       "    <tr>\n",
       "      <th>0</th>\n",
       "      <td>statistici</td>\n",
       "      <td>[vendite, misurare, partire, gestione, supervi...</td>\n",
       "    </tr>\n",
       "    <tr>\n",
       "      <th>1</th>\n",
       "      <td>cuochi in alberghi e ristoranti</td>\n",
       "      <td>[tradizionalmente, preliminare, pizze, gestion...</td>\n",
       "    </tr>\n",
       "    <tr>\n",
       "      <th>2</th>\n",
       "      <td>commessi alle vendite al minuto</td>\n",
       "      <td>[scaffali, dessert, prodotto, esposizione, ven...</td>\n",
       "    </tr>\n",
       "    <tr>\n",
       "      <th>3</th>\n",
       "      <td>elettromeccanici</td>\n",
       "      <td>[effettuati, predisporre, funzionali, partire,...</td>\n",
       "    </tr>\n",
       "  </tbody>\n",
       "</table>\n",
       "</div>"
      ],
      "text/plain": [
       "                          Subgroup  \\\n",
       "0                       statistici   \n",
       "1  cuochi in alberghi e ristoranti   \n",
       "2  commessi alle vendite al minuto   \n",
       "3                 elettromeccanici   \n",
       "\n",
       "                                                Info  \n",
       "0  [vendite, misurare, partire, gestione, supervi...  \n",
       "1  [tradizionalmente, preliminare, pizze, gestion...  \n",
       "2  [scaffali, dessert, prodotto, esposizione, ven...  \n",
       "3  [effettuati, predisporre, funzionali, partire,...  "
      ]
     },
     "execution_count": 49,
     "metadata": {},
     "output_type": "execute_result"
    }
   ],
   "source": [
    "import ast\n",
    "info_data['Info'] = info_data['Info'].apply(lambda x: ast.literal_eval(x))\n",
    "info_data\n",
    "# ast.literal_eval(info_data['info'].iloc[0])"
   ]
  },
  {
   "cell_type": "code",
   "execution_count": 50,
   "metadata": {},
   "outputs": [
    {
     "data": {
      "text/plain": [
       "'tradizionalmente preliminare pizze gestione previste applicazione elettrico decorativi rapporti distribuire effettuando buffet provvedendo porzionare manipolazione opportune lavoro pietanze larghezza secchino pasta diversi menù valorizzazione farcitura ricette stesso agli programmazione focacce elementi selezionando flussi cucina cotto presidiando originalità precedentemente operativo alimenti materie prima crudo disco coordinamento disposizione offerti dolci rispetto condimenti utilizzando estetiche ristorazione comporre controllo prestabilendo pani sviluppo luoghi conservazione impasti impiego evitare conservando avendo alimentari materiale servizio applicando garantire senso ordinativi corretta metodi fase preparazione impasto prodotti rispettando necessari dimensioni piatti imprevisti effettuare esporre artistica servizi spessore pizza vista conferimento personale proposte necessario dolciarie stabilendo operazioni ricevute attribuendo lavorando seguendo preparare igienizzazione contenuto autocontrollo modalità standard artistico procedure tenendo conto ideazione preparato vassoi presentare approvvigionamenti piatto legna indicazioni idonei piano proposizioni lievitazione risorse adeguata fini compiere igiene base semilavorati decorazione attraverso farciture componenti pulendo alimento immagazzinamento cottura approvvigionamento preparati attrezzature sicurezza tipo elaborazione nuove tempi prime stato tempo progettare esigenze ruoli esterni compiti innovando cura ricevuto condimento fornitori successivo forno gestire assegnati regole stessi composizione'"
      ]
     },
     "execution_count": 50,
     "metadata": {},
     "output_type": "execute_result"
    }
   ],
   "source": [
    "' '.join(info_data['Info'].iloc[1])"
   ]
  },
  {
   "cell_type": "markdown",
   "metadata": {},
   "source": [
    "##### One Approach: take the most common words in 'Info' and use those to create one hot encoded vectors."
   ]
  },
  {
   "cell_type": "code",
   "execution_count": 51,
   "metadata": {},
   "outputs": [
    {
     "name": "stdout",
     "output_type": "stream",
     "text": [
      "              Frequency\n",
      "STATISTICI             \n",
      "dati                  3\n",
      "intelligence          2\n",
      "mdx                   2\n",
      "sparql                2\n",
      "ldap                  2\n",
      "%%%%%%%%%%%%%%%%%%%%%%%%%%%%%%%%%%%%%%%%%%%%%%%%%%%%%%%%%%%%%%%%%%%%%%%%%%%%%%%%%%%%%%%%%%%%%%%%%%%%\n",
      "                                 Frequency\n",
      "CUOCHI IN ALBERGHI E RISTORANTI           \n",
      "tradizionalmente                         1\n",
      "preliminare                              1\n",
      "pizze                                    1\n",
      "gestione                                 1\n",
      "previste                                 1\n",
      "%%%%%%%%%%%%%%%%%%%%%%%%%%%%%%%%%%%%%%%%%%%%%%%%%%%%%%%%%%%%%%%%%%%%%%%%%%%%%%%%%%%%%%%%%%%%%%%%%%%%\n",
      "                                 Frequency\n",
      "COMMESSI ALLE VENDITE AL MINUTO           \n",
      "industria                                2\n",
      "abbigliamento                            2\n",
      "scaffali                                 1\n",
      "dessert                                  1\n",
      "prodotto                                 1\n",
      "%%%%%%%%%%%%%%%%%%%%%%%%%%%%%%%%%%%%%%%%%%%%%%%%%%%%%%%%%%%%%%%%%%%%%%%%%%%%%%%%%%%%%%%%%%%%%%%%%%%%\n",
      "                  Frequency\n",
      "ELETTROMECCANICI           \n",
      "elettrico                 3\n",
      "elettrici                 3\n",
      "cavi                      2\n",
      "accessori                 2\n",
      "cablaggio                 2\n",
      "%%%%%%%%%%%%%%%%%%%%%%%%%%%%%%%%%%%%%%%%%%%%%%%%%%%%%%%%%%%%%%%%%%%%%%%%%%%%%%%%%%%%%%%%%%%%%%%%%%%%\n"
     ]
    },
    {
     "data": {
      "image/png": "[encoded data removed]",
      "text/plain": [
       "<Figure size 432x288 with 1 Axes>"
      ]
     },
     "metadata": {},
     "output_type": "display_data"
    },
    {
     "data": {
      "image/png": "[encoded data removed]",
      "text/plain": [
       "<Figure size 432x288 with 1 Axes>"
      ]
     },
     "metadata": {},
     "output_type": "display_data"
    },
    {
     "data": {
      "image/png": "[encoded data removed]",
      "text/plain": [
       "<Figure size 432x288 with 1 Axes>"
      ]
     },
     "metadata": {},
     "output_type": "display_data"
    },
    {
     "data": {
      "image/png": "[encoded data removed]",
      "text/plain": [
       "<Figure size 432x288 with 1 Axes>"
      ]
     },
     "metadata": {},
     "output_type": "display_data"
    }
   ],
   "source": [
    "%matplotlib inline\n",
    "matplotlib.style.use('ggplot')\n",
    "field = \"Info\"\n",
    "Role = list(info_data.Subgroup.unique())\n",
    "info_data['Info'] = info_data['Info'].apply(lambda x: ' '.join(x))\n",
    "info_data.Info = info_data.Info.apply(lambda x: word_tokenize(x))\n",
    "for i in Role:\n",
    "    txt = info_data[info_data['Subgroup']==i][field]\n",
    "    txt = [i for x in txt.tolist() for i in x]\n",
    "    words_except_stop_dist = nltk.FreqDist(w for w in txt) \n",
    "    words_except_stop_dist\n",
    "    rslt = pd.DataFrame(words_except_stop_dist.most_common(5),\n",
    "                            columns=[i.upper(), 'Frequency']).set_index(i.upper())\n",
    "    print(rslt)\n",
    "    matplotlib.style.use('ggplot')\n",
    "    rslt.plot.bar(rot=0)\n",
    "    print(100 *'%')"
   ]
  },
  {
   "cell_type": "markdown",
   "metadata": {},
   "source": [
    "## Stemming / Lemmatization\n",
    "##### Stemming:\n",
    "Stemming algorithms work by cutting off the end of the word, and in some cases also the beginning while looking for the root. This indiscriminate cutting can be successful in some occasions, but not always, that is why we affirm that this an approach that offers some limitations. ex) studying -> study, studied -> studi\n",
    "\n",
    "##### Lemmatization:\n",
    "Lemmatization is the process of converting the words of a sentence to its dictionary form. For example, given the words amusement, amusing, and amused, the lemma for each and all would be amuse. ex) studying -> study, studied -> study. Lemmatization also discerns the meaning of the word by understanding the context of a passage. For example, if a \"meet\" is used as a noun then it will print out a \"meeting\"; however, if it is used as a verb then it will print out \"meet\".\n",
    "\n",
    "We go for stemming"
   ]
  },
  {
   "cell_type": "code",
   "execution_count": 52,
   "metadata": {},
   "outputs": [],
   "source": [
    "# # decide if to use this or not\n",
    "# stemmer = nltk.stem.snowball.ItalianStemmer(ignore_stopwords=False)\n",
    "# # example:\n",
    "# print('ricercare -->',stemmer.stem('ricercare'))\n",
    "# print('ricerca -->', stemmer.stem('ricerca'))\n",
    "# data.Job_Description = data.Job_Description.apply(lambda x: list(set([stemmer.stem(i) for i in x])))\n",
    "# data.Job_Description.head()"
   ]
  },
  {
   "cell_type": "code",
   "execution_count": 53,
   "metadata": {},
   "outputs": [],
   "source": [
    "stemmer = nltk.stem.snowball.ItalianStemmer(ignore_stopwords=False)"
   ]
  },
  {
   "cell_type": "code",
   "execution_count": 54,
   "metadata": {},
   "outputs": [
    {
     "data": {
      "text/html": [
       "<div>\n",
       "<style scoped>\n",
       "    .dataframe tbody tr th:only-of-type {\n",
       "        vertical-align: middle;\n",
       "    }\n",
       "\n",
       "    .dataframe tbody tr th {\n",
       "        vertical-align: top;\n",
       "    }\n",
       "\n",
       "    .dataframe thead th {\n",
       "        text-align: right;\n",
       "    }\n",
       "</style>\n",
       "<table border=\"1\" class=\"dataframe\">\n",
       "  <thead>\n",
       "    <tr style=\"text-align: right;\">\n",
       "      <th></th>\n",
       "      <th>Job_Description</th>\n",
       "      <th>Role</th>\n",
       "      <th>Target</th>\n",
       "    </tr>\n",
       "  </thead>\n",
       "  <tbody>\n",
       "    <tr>\n",
       "      <th>0</th>\n",
       "      <td>[selezion, manutentor, inser, somministr, pres...</td>\n",
       "      <td>0</td>\n",
       "      <td>elettromeccanici</td>\n",
       "    </tr>\n",
       "    <tr>\n",
       "      <th>1</th>\n",
       "      <td>[ricerc, ricerc, addett, vend, punt, vend, abb...</td>\n",
       "      <td>1</td>\n",
       "      <td>commessi alle vendite al minuto</td>\n",
       "    </tr>\n",
       "    <tr>\n",
       "      <th>2</th>\n",
       "      <td>[filial, selezion, azi, client, settor, metalm...</td>\n",
       "      <td>0</td>\n",
       "      <td>elettromeccanici</td>\n",
       "    </tr>\n",
       "    <tr>\n",
       "      <th>3</th>\n",
       "      <td>[services, multinazional, american, leader, ri...</td>\n",
       "      <td>0</td>\n",
       "      <td>elettromeccanici</td>\n",
       "    </tr>\n",
       "    <tr>\n",
       "      <th>4</th>\n",
       "      <td>[adhr, filial, ricerc, azi, client, settor, in...</td>\n",
       "      <td>2</td>\n",
       "      <td>statistici</td>\n",
       "    </tr>\n",
       "  </tbody>\n",
       "</table>\n",
       "</div>"
      ],
      "text/plain": [
       "                                     Job_Description  Role  \\\n",
       "0  [selezion, manutentor, inser, somministr, pres...     0   \n",
       "1  [ricerc, ricerc, addett, vend, punt, vend, abb...     1   \n",
       "2  [filial, selezion, azi, client, settor, metalm...     0   \n",
       "3  [services, multinazional, american, leader, ri...     0   \n",
       "4  [adhr, filial, ricerc, azi, client, settor, in...     2   \n",
       "\n",
       "                            Target  \n",
       "0                 elettromeccanici  \n",
       "1  commessi alle vendite al minuto  \n",
       "2                 elettromeccanici  \n",
       "3                 elettromeccanici  \n",
       "4                       statistici  "
      ]
     },
     "execution_count": 54,
     "metadata": {},
     "output_type": "execute_result"
    }
   ],
   "source": [
    "data['Job_Description'] = data['Job_Description'].apply(lambda x: [stemmer.stem(i) for i in word_tokenize(x)])\n",
    "data.head()"
   ]
  },
  {
   "cell_type": "code",
   "execution_count": 55,
   "metadata": {},
   "outputs": [
    {
     "data": {
      "text/html": [
       "<div>\n",
       "<style scoped>\n",
       "    .dataframe tbody tr th:only-of-type {\n",
       "        vertical-align: middle;\n",
       "    }\n",
       "\n",
       "    .dataframe tbody tr th {\n",
       "        vertical-align: top;\n",
       "    }\n",
       "\n",
       "    .dataframe thead th {\n",
       "        text-align: right;\n",
       "    }\n",
       "</style>\n",
       "<table border=\"1\" class=\"dataframe\">\n",
       "  <thead>\n",
       "    <tr style=\"text-align: right;\">\n",
       "      <th></th>\n",
       "      <th>Subgroup</th>\n",
       "      <th>Info</th>\n",
       "    </tr>\n",
       "  </thead>\n",
       "  <tbody>\n",
       "    <tr>\n",
       "      <th>0</th>\n",
       "      <td>statistici</td>\n",
       "      <td>[vend, misur, part, gestion, supervision, impr...</td>\n",
       "    </tr>\n",
       "    <tr>\n",
       "      <th>1</th>\n",
       "      <td>cuochi in alberghi e ristoranti</td>\n",
       "      <td>[tradizional, prelimin, pizz, gestion, previst...</td>\n",
       "    </tr>\n",
       "    <tr>\n",
       "      <th>2</th>\n",
       "      <td>commessi alle vendite al minuto</td>\n",
       "      <td>[scaffal, dessert, prodott, esposizion, vend, ...</td>\n",
       "    </tr>\n",
       "    <tr>\n",
       "      <th>3</th>\n",
       "      <td>elettromeccanici</td>\n",
       "      <td>[effettu, predisporr, funzional, part, appar, ...</td>\n",
       "    </tr>\n",
       "  </tbody>\n",
       "</table>\n",
       "</div>"
      ],
      "text/plain": [
       "                          Subgroup  \\\n",
       "0                       statistici   \n",
       "1  cuochi in alberghi e ristoranti   \n",
       "2  commessi alle vendite al minuto   \n",
       "3                 elettromeccanici   \n",
       "\n",
       "                                                Info  \n",
       "0  [vend, misur, part, gestion, supervision, impr...  \n",
       "1  [tradizional, prelimin, pizz, gestion, previst...  \n",
       "2  [scaffal, dessert, prodott, esposizion, vend, ...  \n",
       "3  [effettu, predisporr, funzional, part, appar, ...  "
      ]
     },
     "execution_count": 55,
     "metadata": {},
     "output_type": "execute_result"
    }
   ],
   "source": [
    "info_data['Info'] = info_data['Info'].apply(lambda x: [stemmer.stem(i) for i in x])\n",
    "info_data.head()"
   ]
  },
  {
   "cell_type": "markdown",
   "metadata": {},
   "source": [
    "#### Create one hot encoded columns for each word in info_data.Info"
   ]
  },
  {
   "cell_type": "code",
   "execution_count": 56,
   "metadata": {},
   "outputs": [],
   "source": [
    "all_words = []\n",
    "for i in info_data['Info']:\n",
    "    all_words.append(i)\n",
    "lista_info_words = list(set([i for x in all_words for i in x]))"
   ]
  },
  {
   "cell_type": "code",
   "execution_count": 57,
   "metadata": {},
   "outputs": [],
   "source": [
    "for i in lista_info_words:\n",
    "    data[i] = data['Job_Description'].apply(lambda x:  1 if i in x else 0)"
   ]
  },
  {
   "cell_type": "code",
   "execution_count": 58,
   "metadata": {},
   "outputs": [
    {
     "name": "stdout",
     "output_type": "stream",
     "text": [
      "(14, 434)\n"
     ]
    },
    {
     "data": {
      "text/html": [
       "<div>\n",
       "<style scoped>\n",
       "    .dataframe tbody tr th:only-of-type {\n",
       "        vertical-align: middle;\n",
       "    }\n",
       "\n",
       "    .dataframe tbody tr th {\n",
       "        vertical-align: top;\n",
       "    }\n",
       "\n",
       "    .dataframe thead th {\n",
       "        text-align: right;\n",
       "    }\n",
       "</style>\n",
       "<table border=\"1\" class=\"dataframe\">\n",
       "  <thead>\n",
       "    <tr style=\"text-align: right;\">\n",
       "      <th></th>\n",
       "      <th>Job_Description</th>\n",
       "      <th>Role</th>\n",
       "      <th>Target</th>\n",
       "      <th>confezion</th>\n",
       "      <th>dolciar</th>\n",
       "      <th>domot</th>\n",
       "      <th>comporr</th>\n",
       "      <th>assiem</th>\n",
       "      <th>stess</th>\n",
       "      <th>funzion</th>\n",
       "      <th>...</th>\n",
       "      <th>impres</th>\n",
       "      <th>attravers</th>\n",
       "      <th>assist</th>\n",
       "      <th>piccol</th>\n",
       "      <th>fenomen</th>\n",
       "      <th>modell</th>\n",
       "      <th>scaf</th>\n",
       "      <th>costruzion</th>\n",
       "      <th>sparql</th>\n",
       "      <th>supervision</th>\n",
       "    </tr>\n",
       "  </thead>\n",
       "  <tbody>\n",
       "    <tr>\n",
       "      <th>0</th>\n",
       "      <td>[selezion, manutentor, inser, somministr, pres...</td>\n",
       "      <td>0</td>\n",
       "      <td>elettromeccanici</td>\n",
       "      <td>0</td>\n",
       "      <td>0</td>\n",
       "      <td>0</td>\n",
       "      <td>0</td>\n",
       "      <td>0</td>\n",
       "      <td>0</td>\n",
       "      <td>0</td>\n",
       "      <td>...</td>\n",
       "      <td>0</td>\n",
       "      <td>0</td>\n",
       "      <td>0</td>\n",
       "      <td>0</td>\n",
       "      <td>0</td>\n",
       "      <td>0</td>\n",
       "      <td>0</td>\n",
       "      <td>0</td>\n",
       "      <td>0</td>\n",
       "      <td>0</td>\n",
       "    </tr>\n",
       "    <tr>\n",
       "      <th>1</th>\n",
       "      <td>[ricerc, ricerc, addett, vend, punt, vend, abb...</td>\n",
       "      <td>1</td>\n",
       "      <td>commessi alle vendite al minuto</td>\n",
       "      <td>0</td>\n",
       "      <td>0</td>\n",
       "      <td>0</td>\n",
       "      <td>0</td>\n",
       "      <td>0</td>\n",
       "      <td>0</td>\n",
       "      <td>0</td>\n",
       "      <td>...</td>\n",
       "      <td>0</td>\n",
       "      <td>0</td>\n",
       "      <td>0</td>\n",
       "      <td>0</td>\n",
       "      <td>0</td>\n",
       "      <td>0</td>\n",
       "      <td>0</td>\n",
       "      <td>0</td>\n",
       "      <td>0</td>\n",
       "      <td>0</td>\n",
       "    </tr>\n",
       "    <tr>\n",
       "      <th>2</th>\n",
       "      <td>[filial, selezion, azi, client, settor, metalm...</td>\n",
       "      <td>0</td>\n",
       "      <td>elettromeccanici</td>\n",
       "      <td>0</td>\n",
       "      <td>0</td>\n",
       "      <td>0</td>\n",
       "      <td>0</td>\n",
       "      <td>0</td>\n",
       "      <td>0</td>\n",
       "      <td>0</td>\n",
       "      <td>...</td>\n",
       "      <td>0</td>\n",
       "      <td>0</td>\n",
       "      <td>0</td>\n",
       "      <td>0</td>\n",
       "      <td>0</td>\n",
       "      <td>0</td>\n",
       "      <td>0</td>\n",
       "      <td>0</td>\n",
       "      <td>0</td>\n",
       "      <td>0</td>\n",
       "    </tr>\n",
       "    <tr>\n",
       "      <th>3</th>\n",
       "      <td>[services, multinazional, american, leader, ri...</td>\n",
       "      <td>0</td>\n",
       "      <td>elettromeccanici</td>\n",
       "      <td>0</td>\n",
       "      <td>0</td>\n",
       "      <td>0</td>\n",
       "      <td>0</td>\n",
       "      <td>0</td>\n",
       "      <td>0</td>\n",
       "      <td>0</td>\n",
       "      <td>...</td>\n",
       "      <td>0</td>\n",
       "      <td>0</td>\n",
       "      <td>0</td>\n",
       "      <td>0</td>\n",
       "      <td>0</td>\n",
       "      <td>0</td>\n",
       "      <td>0</td>\n",
       "      <td>0</td>\n",
       "      <td>0</td>\n",
       "      <td>0</td>\n",
       "    </tr>\n",
       "    <tr>\n",
       "      <th>4</th>\n",
       "      <td>[adhr, filial, ricerc, azi, client, settor, in...</td>\n",
       "      <td>2</td>\n",
       "      <td>statistici</td>\n",
       "      <td>0</td>\n",
       "      <td>0</td>\n",
       "      <td>0</td>\n",
       "      <td>0</td>\n",
       "      <td>0</td>\n",
       "      <td>0</td>\n",
       "      <td>0</td>\n",
       "      <td>...</td>\n",
       "      <td>0</td>\n",
       "      <td>0</td>\n",
       "      <td>0</td>\n",
       "      <td>0</td>\n",
       "      <td>0</td>\n",
       "      <td>0</td>\n",
       "      <td>0</td>\n",
       "      <td>0</td>\n",
       "      <td>0</td>\n",
       "      <td>0</td>\n",
       "    </tr>\n",
       "    <tr>\n",
       "      <th>5</th>\n",
       "      <td>[cerc, dat, scientist, espert, appassion, unis...</td>\n",
       "      <td>2</td>\n",
       "      <td>statistici</td>\n",
       "      <td>0</td>\n",
       "      <td>0</td>\n",
       "      <td>0</td>\n",
       "      <td>0</td>\n",
       "      <td>0</td>\n",
       "      <td>0</td>\n",
       "      <td>0</td>\n",
       "      <td>...</td>\n",
       "      <td>0</td>\n",
       "      <td>0</td>\n",
       "      <td>0</td>\n",
       "      <td>0</td>\n",
       "      <td>0</td>\n",
       "      <td>0</td>\n",
       "      <td>0</td>\n",
       "      <td>0</td>\n",
       "      <td>0</td>\n",
       "      <td>0</td>\n",
       "    </tr>\n",
       "    <tr>\n",
       "      <th>6</th>\n",
       "      <td>[infor, ele, ricerc, azi, client, figur, profe...</td>\n",
       "      <td>3</td>\n",
       "      <td>cuochi in alberghi e ristoranti</td>\n",
       "      <td>0</td>\n",
       "      <td>0</td>\n",
       "      <td>0</td>\n",
       "      <td>0</td>\n",
       "      <td>0</td>\n",
       "      <td>0</td>\n",
       "      <td>0</td>\n",
       "      <td>...</td>\n",
       "      <td>0</td>\n",
       "      <td>0</td>\n",
       "      <td>0</td>\n",
       "      <td>0</td>\n",
       "      <td>0</td>\n",
       "      <td>0</td>\n",
       "      <td>0</td>\n",
       "      <td>0</td>\n",
       "      <td>0</td>\n",
       "      <td>0</td>\n",
       "    </tr>\n",
       "    <tr>\n",
       "      <th>7</th>\n",
       "      <td>[bluseren, ricerc, propr, resort, abruzz, pugl...</td>\n",
       "      <td>4</td>\n",
       "      <td>unknown</td>\n",
       "      <td>0</td>\n",
       "      <td>0</td>\n",
       "      <td>0</td>\n",
       "      <td>0</td>\n",
       "      <td>0</td>\n",
       "      <td>0</td>\n",
       "      <td>0</td>\n",
       "      <td>...</td>\n",
       "      <td>0</td>\n",
       "      <td>0</td>\n",
       "      <td>0</td>\n",
       "      <td>0</td>\n",
       "      <td>0</td>\n",
       "      <td>0</td>\n",
       "      <td>0</td>\n",
       "      <td>0</td>\n",
       "      <td>0</td>\n",
       "      <td>0</td>\n",
       "    </tr>\n",
       "    <tr>\n",
       "      <th>8</th>\n",
       "      <td>[esclus, boutiqu, multibrand, sit, isol, panar...</td>\n",
       "      <td>1</td>\n",
       "      <td>commessi alle vendite al minuto</td>\n",
       "      <td>0</td>\n",
       "      <td>0</td>\n",
       "      <td>0</td>\n",
       "      <td>0</td>\n",
       "      <td>0</td>\n",
       "      <td>0</td>\n",
       "      <td>0</td>\n",
       "      <td>...</td>\n",
       "      <td>0</td>\n",
       "      <td>0</td>\n",
       "      <td>0</td>\n",
       "      <td>0</td>\n",
       "      <td>0</td>\n",
       "      <td>0</td>\n",
       "      <td>0</td>\n",
       "      <td>0</td>\n",
       "      <td>0</td>\n",
       "      <td>0</td>\n",
       "    </tr>\n",
       "    <tr>\n",
       "      <th>9</th>\n",
       "      <td>[client, castel, guelf, ricerc, commess, abbig...</td>\n",
       "      <td>1</td>\n",
       "      <td>commessi alle vendite al minuto</td>\n",
       "      <td>0</td>\n",
       "      <td>0</td>\n",
       "      <td>0</td>\n",
       "      <td>0</td>\n",
       "      <td>0</td>\n",
       "      <td>0</td>\n",
       "      <td>0</td>\n",
       "      <td>...</td>\n",
       "      <td>0</td>\n",
       "      <td>0</td>\n",
       "      <td>0</td>\n",
       "      <td>0</td>\n",
       "      <td>0</td>\n",
       "      <td>0</td>\n",
       "      <td>0</td>\n",
       "      <td>0</td>\n",
       "      <td>0</td>\n",
       "      <td>0</td>\n",
       "    </tr>\n",
       "    <tr>\n",
       "      <th>10</th>\n",
       "      <td>[lavorop, everywh, division, lavorop, speciali...</td>\n",
       "      <td>0</td>\n",
       "      <td>elettromeccanici</td>\n",
       "      <td>0</td>\n",
       "      <td>0</td>\n",
       "      <td>0</td>\n",
       "      <td>0</td>\n",
       "      <td>0</td>\n",
       "      <td>0</td>\n",
       "      <td>0</td>\n",
       "      <td>...</td>\n",
       "      <td>0</td>\n",
       "      <td>0</td>\n",
       "      <td>0</td>\n",
       "      <td>0</td>\n",
       "      <td>0</td>\n",
       "      <td>0</td>\n",
       "      <td>0</td>\n",
       "      <td>0</td>\n",
       "      <td>0</td>\n",
       "      <td>0</td>\n",
       "    </tr>\n",
       "    <tr>\n",
       "      <th>11</th>\n",
       "      <td>[group, agenz, lavor, ricerc, azi, client, spe...</td>\n",
       "      <td>2</td>\n",
       "      <td>statistici</td>\n",
       "      <td>0</td>\n",
       "      <td>0</td>\n",
       "      <td>0</td>\n",
       "      <td>0</td>\n",
       "      <td>0</td>\n",
       "      <td>0</td>\n",
       "      <td>0</td>\n",
       "      <td>...</td>\n",
       "      <td>1</td>\n",
       "      <td>0</td>\n",
       "      <td>0</td>\n",
       "      <td>0</td>\n",
       "      <td>0</td>\n",
       "      <td>0</td>\n",
       "      <td>0</td>\n",
       "      <td>1</td>\n",
       "      <td>0</td>\n",
       "      <td>0</td>\n",
       "    </tr>\n",
       "    <tr>\n",
       "      <th>12</th>\n",
       "      <td>[descrizion, azi, synerg, ital, filial, divisi...</td>\n",
       "      <td>3</td>\n",
       "      <td>cuochi in alberghi e ristoranti</td>\n",
       "      <td>0</td>\n",
       "      <td>0</td>\n",
       "      <td>0</td>\n",
       "      <td>0</td>\n",
       "      <td>0</td>\n",
       "      <td>0</td>\n",
       "      <td>0</td>\n",
       "      <td>...</td>\n",
       "      <td>0</td>\n",
       "      <td>0</td>\n",
       "      <td>0</td>\n",
       "      <td>0</td>\n",
       "      <td>0</td>\n",
       "      <td>0</td>\n",
       "      <td>0</td>\n",
       "      <td>0</td>\n",
       "      <td>0</td>\n",
       "      <td>0</td>\n",
       "    </tr>\n",
       "    <tr>\n",
       "      <th>13</th>\n",
       "      <td>[lavorop, filial, crostol, ricerc, aiut, pizza...</td>\n",
       "      <td>3</td>\n",
       "      <td>cuochi in alberghi e ristoranti</td>\n",
       "      <td>0</td>\n",
       "      <td>0</td>\n",
       "      <td>0</td>\n",
       "      <td>0</td>\n",
       "      <td>0</td>\n",
       "      <td>0</td>\n",
       "      <td>0</td>\n",
       "      <td>...</td>\n",
       "      <td>0</td>\n",
       "      <td>0</td>\n",
       "      <td>0</td>\n",
       "      <td>0</td>\n",
       "      <td>0</td>\n",
       "      <td>0</td>\n",
       "      <td>0</td>\n",
       "      <td>0</td>\n",
       "      <td>0</td>\n",
       "      <td>0</td>\n",
       "    </tr>\n",
       "  </tbody>\n",
       "</table>\n",
       "<p>14 rows × 434 columns</p>\n",
       "</div>"
      ],
      "text/plain": [
       "                                      Job_Description  Role  \\\n",
       "0   [selezion, manutentor, inser, somministr, pres...     0   \n",
       "1   [ricerc, ricerc, addett, vend, punt, vend, abb...     1   \n",
       "2   [filial, selezion, azi, client, settor, metalm...     0   \n",
       "3   [services, multinazional, american, leader, ri...     0   \n",
       "4   [adhr, filial, ricerc, azi, client, settor, in...     2   \n",
       "5   [cerc, dat, scientist, espert, appassion, unis...     2   \n",
       "6   [infor, ele, ricerc, azi, client, figur, profe...     3   \n",
       "7   [bluseren, ricerc, propr, resort, abruzz, pugl...     4   \n",
       "8   [esclus, boutiqu, multibrand, sit, isol, panar...     1   \n",
       "9   [client, castel, guelf, ricerc, commess, abbig...     1   \n",
       "10  [lavorop, everywh, division, lavorop, speciali...     0   \n",
       "11  [group, agenz, lavor, ricerc, azi, client, spe...     2   \n",
       "12  [descrizion, azi, synerg, ital, filial, divisi...     3   \n",
       "13  [lavorop, filial, crostol, ricerc, aiut, pizza...     3   \n",
       "\n",
       "                             Target  confezion  dolciar  domot  comporr  \\\n",
       "0                  elettromeccanici          0        0      0        0   \n",
       "1   commessi alle vendite al minuto          0        0      0        0   \n",
       "2                  elettromeccanici          0        0      0        0   \n",
       "3                  elettromeccanici          0        0      0        0   \n",
       "4                        statistici          0        0      0        0   \n",
       "5                        statistici          0        0      0        0   \n",
       "6   cuochi in alberghi e ristoranti          0        0      0        0   \n",
       "7                           unknown          0        0      0        0   \n",
       "8   commessi alle vendite al minuto          0        0      0        0   \n",
       "9   commessi alle vendite al minuto          0        0      0        0   \n",
       "10                 elettromeccanici          0        0      0        0   \n",
       "11                       statistici          0        0      0        0   \n",
       "12  cuochi in alberghi e ristoranti          0        0      0        0   \n",
       "13  cuochi in alberghi e ristoranti          0        0      0        0   \n",
       "\n",
       "    assiem  stess  funzion  ...  impres  attravers  assist  piccol  fenomen  \\\n",
       "0        0      0        0  ...       0          0       0       0        0   \n",
       "1        0      0        0  ...       0          0       0       0        0   \n",
       "2        0      0        0  ...       0          0       0       0        0   \n",
       "3        0      0        0  ...       0          0       0       0        0   \n",
       "4        0      0        0  ...       0          0       0       0        0   \n",
       "5        0      0        0  ...       0          0       0       0        0   \n",
       "6        0      0        0  ...       0          0       0       0        0   \n",
       "7        0      0        0  ...       0          0       0       0        0   \n",
       "8        0      0        0  ...       0          0       0       0        0   \n",
       "9        0      0        0  ...       0          0       0       0        0   \n",
       "10       0      0        0  ...       0          0       0       0        0   \n",
       "11       0      0        0  ...       1          0       0       0        0   \n",
       "12       0      0        0  ...       0          0       0       0        0   \n",
       "13       0      0        0  ...       0          0       0       0        0   \n",
       "\n",
       "    modell  scaf  costruzion  sparql  supervision  \n",
       "0        0     0           0       0            0  \n",
       "1        0     0           0       0            0  \n",
       "2        0     0           0       0            0  \n",
       "3        0     0           0       0            0  \n",
       "4        0     0           0       0            0  \n",
       "5        0     0           0       0            0  \n",
       "6        0     0           0       0            0  \n",
       "7        0     0           0       0            0  \n",
       "8        0     0           0       0            0  \n",
       "9        0     0           0       0            0  \n",
       "10       0     0           0       0            0  \n",
       "11       0     0           1       0            0  \n",
       "12       0     0           0       0            0  \n",
       "13       0     0           0       0            0  \n",
       "\n",
       "[14 rows x 434 columns]"
      ]
     },
     "execution_count": 58,
     "metadata": {},
     "output_type": "execute_result"
    }
   ],
   "source": [
    "print(data.shape)\n",
    "data"
   ]
  },
  {
   "cell_type": "markdown",
   "metadata": {},
   "source": [
    "### Data Split "
   ]
  },
  {
   "cell_type": "code",
   "execution_count": 59,
   "metadata": {},
   "outputs": [
    {
     "data": {
      "text/plain": [
       "0     selezion manutentor inser somministr press azi...\n",
       "1     ricerc ricerc addett vend punt vend abbigl fas...\n",
       "2     filial selezion azi client settor metalmeccan ...\n",
       "3     services multinazional american leader risors ...\n",
       "4     adhr filial ricerc azi client settor informat ...\n",
       "5     cerc dat scientist espert appassion unisc team...\n",
       "6     infor ele ricerc azi client figur professional...\n",
       "7     bluseren ricerc propr resort abruzz pugl calab...\n",
       "8     esclus boutiqu multibrand sit isol panare isol...\n",
       "9     client castel guelf ricerc commess abbigl part...\n",
       "10    lavorop everywh division lavorop specializz ri...\n",
       "11    group agenz lavor ricerc azi client specializz...\n",
       "12    descrizion azi synerg ital filial division spe...\n",
       "13    lavorop filial crostol ricerc aiut pizzaiol ca...\n",
       "Name: Job_Description, dtype: object"
      ]
     },
     "execution_count": 59,
     "metadata": {},
     "output_type": "execute_result"
    }
   ],
   "source": [
    "data['Job_Description'] = data.Job_Description.apply(lambda x: ' '.join(x))\n",
    "data['Job_Description'] "
   ]
  },
  {
   "cell_type": "code",
   "execution_count": 60,
   "metadata": {},
   "outputs": [
    {
     "data": {
      "text/html": [
       "<div>\n",
       "<style scoped>\n",
       "    .dataframe tbody tr th:only-of-type {\n",
       "        vertical-align: middle;\n",
       "    }\n",
       "\n",
       "    .dataframe tbody tr th {\n",
       "        vertical-align: top;\n",
       "    }\n",
       "\n",
       "    .dataframe thead th {\n",
       "        text-align: right;\n",
       "    }\n",
       "</style>\n",
       "<table border=\"1\" class=\"dataframe\">\n",
       "  <thead>\n",
       "    <tr style=\"text-align: right;\">\n",
       "      <th></th>\n",
       "      <th>Job_Description</th>\n",
       "      <th>confezion</th>\n",
       "      <th>dolciar</th>\n",
       "      <th>domot</th>\n",
       "      <th>comporr</th>\n",
       "      <th>assiem</th>\n",
       "      <th>stess</th>\n",
       "      <th>funzion</th>\n",
       "      <th>mdx</th>\n",
       "      <th>propriet</th>\n",
       "      <th>...</th>\n",
       "      <th>impres</th>\n",
       "      <th>attravers</th>\n",
       "      <th>assist</th>\n",
       "      <th>piccol</th>\n",
       "      <th>fenomen</th>\n",
       "      <th>modell</th>\n",
       "      <th>scaf</th>\n",
       "      <th>costruzion</th>\n",
       "      <th>sparql</th>\n",
       "      <th>supervision</th>\n",
       "    </tr>\n",
       "  </thead>\n",
       "  <tbody>\n",
       "    <tr>\n",
       "      <th>0</th>\n",
       "      <td>selezion manutentor inser somministr press azi...</td>\n",
       "      <td>0</td>\n",
       "      <td>0</td>\n",
       "      <td>0</td>\n",
       "      <td>0</td>\n",
       "      <td>0</td>\n",
       "      <td>0</td>\n",
       "      <td>0</td>\n",
       "      <td>0</td>\n",
       "      <td>0</td>\n",
       "      <td>...</td>\n",
       "      <td>0</td>\n",
       "      <td>0</td>\n",
       "      <td>0</td>\n",
       "      <td>0</td>\n",
       "      <td>0</td>\n",
       "      <td>0</td>\n",
       "      <td>0</td>\n",
       "      <td>0</td>\n",
       "      <td>0</td>\n",
       "      <td>0</td>\n",
       "    </tr>\n",
       "    <tr>\n",
       "      <th>1</th>\n",
       "      <td>ricerc ricerc addett vend punt vend abbigl fas...</td>\n",
       "      <td>0</td>\n",
       "      <td>0</td>\n",
       "      <td>0</td>\n",
       "      <td>0</td>\n",
       "      <td>0</td>\n",
       "      <td>0</td>\n",
       "      <td>0</td>\n",
       "      <td>0</td>\n",
       "      <td>0</td>\n",
       "      <td>...</td>\n",
       "      <td>0</td>\n",
       "      <td>0</td>\n",
       "      <td>0</td>\n",
       "      <td>0</td>\n",
       "      <td>0</td>\n",
       "      <td>0</td>\n",
       "      <td>0</td>\n",
       "      <td>0</td>\n",
       "      <td>0</td>\n",
       "      <td>0</td>\n",
       "    </tr>\n",
       "    <tr>\n",
       "      <th>2</th>\n",
       "      <td>filial selezion azi client settor metalmeccan ...</td>\n",
       "      <td>0</td>\n",
       "      <td>0</td>\n",
       "      <td>0</td>\n",
       "      <td>0</td>\n",
       "      <td>0</td>\n",
       "      <td>0</td>\n",
       "      <td>0</td>\n",
       "      <td>0</td>\n",
       "      <td>0</td>\n",
       "      <td>...</td>\n",
       "      <td>0</td>\n",
       "      <td>0</td>\n",
       "      <td>0</td>\n",
       "      <td>0</td>\n",
       "      <td>0</td>\n",
       "      <td>0</td>\n",
       "      <td>0</td>\n",
       "      <td>0</td>\n",
       "      <td>0</td>\n",
       "      <td>0</td>\n",
       "    </tr>\n",
       "    <tr>\n",
       "      <th>3</th>\n",
       "      <td>services multinazional american leader risors ...</td>\n",
       "      <td>0</td>\n",
       "      <td>0</td>\n",
       "      <td>0</td>\n",
       "      <td>0</td>\n",
       "      <td>0</td>\n",
       "      <td>0</td>\n",
       "      <td>0</td>\n",
       "      <td>0</td>\n",
       "      <td>0</td>\n",
       "      <td>...</td>\n",
       "      <td>0</td>\n",
       "      <td>0</td>\n",
       "      <td>0</td>\n",
       "      <td>0</td>\n",
       "      <td>0</td>\n",
       "      <td>0</td>\n",
       "      <td>0</td>\n",
       "      <td>0</td>\n",
       "      <td>0</td>\n",
       "      <td>0</td>\n",
       "    </tr>\n",
       "    <tr>\n",
       "      <th>4</th>\n",
       "      <td>adhr filial ricerc azi client settor informat ...</td>\n",
       "      <td>0</td>\n",
       "      <td>0</td>\n",
       "      <td>0</td>\n",
       "      <td>0</td>\n",
       "      <td>0</td>\n",
       "      <td>0</td>\n",
       "      <td>0</td>\n",
       "      <td>0</td>\n",
       "      <td>0</td>\n",
       "      <td>...</td>\n",
       "      <td>0</td>\n",
       "      <td>0</td>\n",
       "      <td>0</td>\n",
       "      <td>0</td>\n",
       "      <td>0</td>\n",
       "      <td>0</td>\n",
       "      <td>0</td>\n",
       "      <td>0</td>\n",
       "      <td>0</td>\n",
       "      <td>0</td>\n",
       "    </tr>\n",
       "  </tbody>\n",
       "</table>\n",
       "<p>5 rows × 432 columns</p>\n",
       "</div>"
      ],
      "text/plain": [
       "                                     Job_Description  confezion  dolciar  \\\n",
       "0  selezion manutentor inser somministr press azi...          0        0   \n",
       "1  ricerc ricerc addett vend punt vend abbigl fas...          0        0   \n",
       "2  filial selezion azi client settor metalmeccan ...          0        0   \n",
       "3  services multinazional american leader risors ...          0        0   \n",
       "4  adhr filial ricerc azi client settor informat ...          0        0   \n",
       "\n",
       "   domot  comporr  assiem  stess  funzion  mdx  propriet  ...  impres  \\\n",
       "0      0        0       0      0        0    0         0  ...       0   \n",
       "1      0        0       0      0        0    0         0  ...       0   \n",
       "2      0        0       0      0        0    0         0  ...       0   \n",
       "3      0        0       0      0        0    0         0  ...       0   \n",
       "4      0        0       0      0        0    0         0  ...       0   \n",
       "\n",
       "   attravers  assist  piccol  fenomen  modell  scaf  costruzion  sparql  \\\n",
       "0          0       0       0        0       0     0           0       0   \n",
       "1          0       0       0        0       0     0           0       0   \n",
       "2          0       0       0        0       0     0           0       0   \n",
       "3          0       0       0        0       0     0           0       0   \n",
       "4          0       0       0        0       0     0           0       0   \n",
       "\n",
       "   supervision  \n",
       "0            0  \n",
       "1            0  \n",
       "2            0  \n",
       "3            0  \n",
       "4            0  \n",
       "\n",
       "[5 rows x 432 columns]"
      ]
     },
     "execution_count": 60,
     "metadata": {},
     "output_type": "execute_result"
    }
   ],
   "source": [
    "X = data.copy()\n",
    "X.drop(['Role', 'Target'], axis = 1, inplace = True)\n",
    "y = data['Role']\n",
    "X.head()"
   ]
  },
  {
   "cell_type": "code",
   "execution_count": 61,
   "metadata": {},
   "outputs": [
    {
     "name": "stdout",
     "output_type": "stream",
     "text": [
      "Number of rows in the total set: (14, 434)\n",
      "Number of rows in the training set: (10, 432)\n",
      "Number of rows in the test set: (4, 432)\n"
     ]
    }
   ],
   "source": [
    "X_train, X_test, y_train, y_test = train_test_split(X, \n",
    "                                                    y)\n",
    "#data.iloc[:,3:]\n",
    "print('Number of rows in the total set: {}'.format(data.shape))\n",
    "print('Number of rows in the training set: {}'.format(X_train.shape))\n",
    "print('Number of rows in the test set: {}'.format(X_test.shape))"
   ]
  },
  {
   "cell_type": "markdown",
   "metadata": {},
   "source": [
    "### Bag of Words processing to our dataset"
   ]
  },
  {
   "cell_type": "markdown",
   "metadata": {},
   "source": [
    "cv=CountVectorizer(max_df=0.8,stop_words=stop_words, max_features=10000, ngram_range=(1,3))\n",
    "\n",
    "##### max_df:\n",
    "When building the vocabulary ignore terms that have a document frequency strictly higher than the given threshold (corpus-specific stop words). This is to ensure that we only have words relevant to the context and not commonly used words.\n",
    "\n",
    "##### max_features:\n",
    "determines the number of columns in the matrix.\n",
    "\n",
    "##### n-gram\n",
    "range: we would want to look at a list of single words, two words (bi-grams) and three words (tri-gram) combinations."
   ]
  },
  {
   "cell_type": "code",
   "execution_count": 62,
   "metadata": {},
   "outputs": [
    {
     "data": {
      "text/plain": [
       "(10, 1735)"
      ]
     },
     "execution_count": 62,
     "metadata": {},
     "output_type": "execute_result"
    }
   ],
   "source": [
    "count_vector = CountVectorizer(max_df = 0.8, ngram_range=(1,3))\n",
    "\n",
    "# Fit the training data and then return the matrix\n",
    "training_data = count_vector.fit_transform(X_train['Job_Description']).toarray()\n",
    "\n",
    "# Transform testing data and return the matrix. Note we are not fitting the testing data into the CountVectorizer()\n",
    "testing_data = count_vector.transform(X_test['Job_Description']).toarray()\n",
    "\n",
    "training_data.shape"
   ]
  },
  {
   "cell_type": "code",
   "execution_count": 63,
   "metadata": {},
   "outputs": [
    {
     "data": {
      "text/plain": [
       "(10, 431)"
      ]
     },
     "execution_count": 63,
     "metadata": {},
     "output_type": "execute_result"
    }
   ],
   "source": [
    "s = X_train.iloc[:,1:].to_numpy()\n",
    "s.shape"
   ]
  },
  {
   "cell_type": "code",
   "execution_count": 64,
   "metadata": {},
   "outputs": [
    {
     "ename": "NameError",
     "evalue": "name 'numpy' is not defined",
     "output_type": "error",
     "traceback": [
      "\u001b[0;31m---------------------------------------------------------------------------\u001b[0m",
      "\u001b[0;31mNameError\u001b[0m                                 Traceback (most recent call last)",
      "\u001b[0;32m<ipython-input-64-89a65b8ba34a>\u001b[0m in \u001b[0;36m<module>\u001b[0;34m\u001b[0m\n\u001b[0;32m----> 1\u001b[0;31m \u001b[0mtraining_data\u001b[0m \u001b[0;34m=\u001b[0m \u001b[0mnumpy\u001b[0m\u001b[0;34m.\u001b[0m\u001b[0mconcatenate\u001b[0m\u001b[0;34m(\u001b[0m\u001b[0;34m(\u001b[0m\u001b[0mtraining_data\u001b[0m\u001b[0;34m,\u001b[0m \u001b[0mX_train\u001b[0m\u001b[0;34m.\u001b[0m\u001b[0miloc\u001b[0m\u001b[0;34m[\u001b[0m\u001b[0;34m:\u001b[0m\u001b[0;34m,\u001b[0m\u001b[0;36m1\u001b[0m\u001b[0;34m:\u001b[0m\u001b[0;34m]\u001b[0m\u001b[0;34m.\u001b[0m\u001b[0mto_numpy\u001b[0m\u001b[0;34m(\u001b[0m\u001b[0;34m)\u001b[0m\u001b[0;34m)\u001b[0m\u001b[0;34m,\u001b[0m \u001b[0maxis\u001b[0m \u001b[0;34m=\u001b[0m \u001b[0;36m1\u001b[0m\u001b[0;34m)\u001b[0m\u001b[0;34m\u001b[0m\u001b[0;34m\u001b[0m\u001b[0m\n\u001b[0m\u001b[1;32m      2\u001b[0m \u001b[0mtesting_data\u001b[0m \u001b[0;34m=\u001b[0m \u001b[0mnumpy\u001b[0m\u001b[0;34m.\u001b[0m\u001b[0mconcatenate\u001b[0m\u001b[0;34m(\u001b[0m\u001b[0;34m(\u001b[0m\u001b[0mtesting_data\u001b[0m\u001b[0;34m,\u001b[0m \u001b[0mX_test\u001b[0m\u001b[0;34m.\u001b[0m\u001b[0miloc\u001b[0m\u001b[0;34m[\u001b[0m\u001b[0;34m:\u001b[0m\u001b[0;34m,\u001b[0m\u001b[0;36m1\u001b[0m\u001b[0;34m:\u001b[0m\u001b[0;34m]\u001b[0m\u001b[0;34m.\u001b[0m\u001b[0mto_numpy\u001b[0m\u001b[0;34m(\u001b[0m\u001b[0;34m)\u001b[0m\u001b[0;34m)\u001b[0m\u001b[0;34m,\u001b[0m \u001b[0maxis\u001b[0m \u001b[0;34m=\u001b[0m \u001b[0;36m1\u001b[0m\u001b[0;34m)\u001b[0m\u001b[0;34m\u001b[0m\u001b[0;34m\u001b[0m\u001b[0m\n",
      "\u001b[0;31mNameError\u001b[0m: name 'numpy' is not defined"
     ]
    }
   ],
   "source": [
    "training_data = numpy.concatenate((training_data, X_train.iloc[:,1:].to_numpy()), axis = 1)\n",
    "testing_data = numpy.concatenate((testing_data, X_test.iloc[:,1:].to_numpy()), axis = 1)"
   ]
  },
  {
   "cell_type": "code",
   "execution_count": 65,
   "metadata": {},
   "outputs": [
    {
     "data": {
      "text/plain": [
       "['cerc',\n",
       " 'dat',\n",
       " 'scientist',\n",
       " 'espert',\n",
       " 'appassion',\n",
       " 'unisc',\n",
       " 'team',\n",
       " 'precis',\n",
       " 'buon',\n",
       " 'capacit']"
      ]
     },
     "execution_count": 65,
     "metadata": {},
     "output_type": "execute_result"
    }
   ],
   "source": [
    "list(count_vector.vocabulary_.keys())[:10] #1-gram"
   ]
  },
  {
   "cell_type": "code",
   "execution_count": 66,
   "metadata": {},
   "outputs": [
    {
     "data": {
      "text/plain": [
       "['medesim settor dispon',\n",
       " 'settor dispon sub',\n",
       " 'dispon sub domicil',\n",
       " 'sub domicil zon',\n",
       " 'domicil zon mont',\n",
       " 'zon mont settimanal',\n",
       " 'mont settimanal distribu',\n",
       " 'settimanal distribu second',\n",
       " 'distribu second esigt',\n",
       " 'second esigt aziendal']"
      ]
     },
     "execution_count": 66,
     "metadata": {},
     "output_type": "execute_result"
    }
   ],
   "source": [
    "list(count_vector.vocabulary_.keys())[-10:] # need to remove oppure and other not meaningfull words 3-grams"
   ]
  },
  {
   "cell_type": "code",
   "execution_count": 67,
   "metadata": {},
   "outputs": [
    {
     "name": "stdout",
     "output_type": "stream",
     "text": [
      "training data (10, 1735)\n",
      "testing data (4, 1735)\n"
     ]
    }
   ],
   "source": [
    "print('training data',training_data.shape)\n",
    "print('testing data',testing_data.shape)"
   ]
  },
  {
   "cell_type": "markdown",
   "metadata": {},
   "source": [
    "### Naive Bayes implementation"
   ]
  },
  {
   "cell_type": "code",
   "execution_count": 68,
   "metadata": {},
   "outputs": [
    {
     "data": {
      "text/plain": [
       "MultinomialNB(alpha=1.0, class_prior=None, fit_prior=True)"
      ]
     },
     "execution_count": 68,
     "metadata": {},
     "output_type": "execute_result"
    }
   ],
   "source": [
    "naive_bayes = MultinomialNB()\n",
    "naive_bayes.fit(training_data, y_train)"
   ]
  },
  {
   "cell_type": "code",
   "execution_count": 69,
   "metadata": {},
   "outputs": [],
   "source": [
    "def get_key(value, dictionary):\n",
    "    for k,v in dictionary.items():\n",
    "        if value == v:\n",
    "            return k"
   ]
  },
  {
   "cell_type": "code",
   "execution_count": 70,
   "metadata": {},
   "outputs": [
    {
     "name": "stdout",
     "output_type": "stream",
     "text": [
      "[2 2 0 3]\n",
      "Prediction for rows [6, 7, 0, 1] are \n",
      " ['statistici', 'statistici', 'elettromeccanici', 'cuochi in alberghi e ristoranti']\n",
      "%%%%%%%%%%%%%%%%%%%%%%%%%%%%%%%%%%%%%%%%%%%%%%%%%%%%%%%%%%%%%%%%%%%%%%%%%%%%%%%%%%%%%%%%%%%%%%%%%%%%\n",
      "actual predictions are: \n",
      " ['cuochi in alberghi e ristoranti', 'unknown', 'elettromeccanici', 'commessi alle vendite al minuto']\n"
     ]
    }
   ],
   "source": [
    "predictions = naive_bayes.predict(testing_data)\n",
    "print(predictions)\n",
    "predictions_keys = []\n",
    "for i in predictions:\n",
    "    predictions_keys.append(get_key(i,Role_dictionary))\n",
    "print('Prediction for rows {} are \\n {}'.format(X_test.index.tolist(),predictions_keys))\n",
    "\n",
    "print(100*'%')\n",
    "actual_predictions = []\n",
    "for i in y_test.tolist():\n",
    "    actual_predictions.append(get_key(i,Role_dictionary))\n",
    "print('actual predictions are: \\n {}'.format(actual_predictions))"
   ]
  },
  {
   "cell_type": "code",
   "execution_count": 71,
   "metadata": {},
   "outputs": [
    {
     "name": "stdout",
     "output_type": "stream",
     "text": [
      "Accuracy score:  0.25\n"
     ]
    }
   ],
   "source": [
    "# check the accuracy of our model\n",
    "from sklearn.metrics import accuracy_score, precision_score, recall_score, f1_score\n",
    "print('Accuracy score: ', format(accuracy_score(y_test,predictions)))"
   ]
  },
  {
   "cell_type": "code",
   "execution_count": 72,
   "metadata": {},
   "outputs": [],
   "source": [
    "from sklearn import svm"
   ]
  },
  {
   "cell_type": "code",
   "execution_count": 84,
   "metadata": {},
   "outputs": [],
   "source": [
    "clf = svm.SVC(decision_function_shape='ovo', probability=True)"
   ]
  },
  {
   "cell_type": "code",
   "execution_count": 85,
   "metadata": {},
   "outputs": [
    {
     "data": {
      "text/plain": [
       "SVC(C=1.0, break_ties=False, cache_size=200, class_weight=None, coef0=0.0,\n",
       "    decision_function_shape='ovo', degree=3, gamma='scale', kernel='rbf',\n",
       "    max_iter=-1, probability=True, random_state=None, shrinking=True, tol=0.001,\n",
       "    verbose=False)"
      ]
     },
     "execution_count": 85,
     "metadata": {},
     "output_type": "execute_result"
    }
   ],
   "source": [
    "clf.fit(training_data, y_train)"
   ]
  },
  {
   "cell_type": "code",
   "execution_count": 88,
   "metadata": {},
   "outputs": [],
   "source": [
    "dec = clf.predict_proba(testing_data)"
   ]
  },
  {
   "cell_type": "code",
   "execution_count": 106,
   "metadata": {},
   "outputs": [
    {
     "data": {
      "text/plain": [
       "array([0, 0, 0, 0])"
      ]
     },
     "execution_count": 106,
     "metadata": {},
     "output_type": "execute_result"
    }
   ],
   "source": [
    "clf.predict(testing_data)"
   ]
  },
  {
   "cell_type": "code",
   "execution_count": 101,
   "metadata": {},
   "outputs": [],
   "source": [
    "svm_predictions = []\n",
    "for i in range(0,dec.shape[0]):\n",
    "    svm_predictions.append(dec[i].tolist().index(max(dec[i].tolist())))"
   ]
  },
  {
   "cell_type": "code",
   "execution_count": 103,
   "metadata": {},
   "outputs": [],
   "source": [
    "svm_predictions_labels = []\n",
    "for i in svm_predictions:\n",
    "    svm_predictions_labels.append(get_key(i,Role_dictionary))"
   ]
  },
  {
   "cell_type": "code",
   "execution_count": 104,
   "metadata": {},
   "outputs": [
    {
     "data": {
      "text/plain": [
       "['statistici', 'statistici', 'statistici', 'statistici']"
      ]
     },
     "execution_count": 104,
     "metadata": {},
     "output_type": "execute_result"
    }
   ],
   "source": [
    "svm_predictions_labels"
   ]
  },
  {
   "cell_type": "code",
   "execution_count": 107,
   "metadata": {},
   "outputs": [
    {
     "data": {
      "text/plain": [
       "{'elettromeccanici': 0,\n",
       " 'commessi alle vendite al minuto': 1,\n",
       " 'statistici': 2,\n",
       " 'cuochi in alberghi e ristoranti': 3,\n",
       " 'unknown': 4}"
      ]
     },
     "execution_count": 107,
     "metadata": {},
     "output_type": "execute_result"
    }
   ],
   "source": [
    "Role_dictionary"
   ]
  },
  {
   "cell_type": "code",
   "execution_count": null,
   "metadata": {},
   "outputs": [],
   "source": []
  }
 ],
 "metadata": {
  "kernelspec": {
   "display_name": "Python 3",
   "language": "python",
   "name": "python3"
  },
  "language_info": {
   "codemirror_mode": {
    "name": "ipython",
    "version": 3
   },
   "file_extension": ".py",
   "mimetype": "text/x-python",
   "name": "python",
   "nbconvert_exporter": "python",
   "pygments_lexer": "ipython3",
   "version": "3.6.10"
  }
 },
 "nbformat": 4,
 "nbformat_minor": 2
}
