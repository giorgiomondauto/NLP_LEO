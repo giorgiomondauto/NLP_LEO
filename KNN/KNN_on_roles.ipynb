{
 "cells": [
  {
   "cell_type": "code",
   "execution_count": 268,
   "metadata": {},
   "outputs": [
    {
     "data": {
      "text/html": [
       "<div>\n",
       "<style scoped>\n",
       "    .dataframe tbody tr th:only-of-type {\n",
       "        vertical-align: middle;\n",
       "    }\n",
       "\n",
       "    .dataframe tbody tr th {\n",
       "        vertical-align: top;\n",
       "    }\n",
       "\n",
       "    .dataframe thead th {\n",
       "        text-align: right;\n",
       "    }\n",
       "</style>\n",
       "<table border=\"1\" class=\"dataframe\">\n",
       "  <thead>\n",
       "    <tr style=\"text-align: right;\">\n",
       "      <th></th>\n",
       "      <th>Target</th>\n",
       "      <th>Description</th>\n",
       "      <th>Description1</th>\n",
       "      <th>Description2</th>\n",
       "      <th>Description3</th>\n",
       "      <th>Description4</th>\n",
       "    </tr>\n",
       "  </thead>\n",
       "  <tbody>\n",
       "    <tr>\n",
       "      <th>0</th>\n",
       "      <td>Membri di organismi di governo e di assemblee ...</td>\n",
       "      <td>Membri di organismi di governo e di assemblee ...</td>\n",
       "      <td>NaN</td>\n",
       "      <td>NaN</td>\n",
       "      <td>deputato/deputata\\nministro/ministra\\nsenatore...</td>\n",
       "      <td>deputata del Parlamento europeo\\nmembro del Pa...</td>\n",
       "    </tr>\n",
       "    <tr>\n",
       "      <th>1</th>\n",
       "      <td>Membri di organismi di governo e di assemblee ...</td>\n",
       "      <td>Membri di organismi di governo e di assemblee ...</td>\n",
       "      <td>NaN</td>\n",
       "      <td>NaN</td>\n",
       "      <td>presidente di regione</td>\n",
       "      <td>presidente di giunta regionale\\ngovernatore di...</td>\n",
       "    </tr>\n",
       "    <tr>\n",
       "      <th>2</th>\n",
       "      <td>Membri di organismi di governo e di assemblee ...</td>\n",
       "      <td>Membri di organismi di governo e di assemblee ...</td>\n",
       "      <td>NaN</td>\n",
       "      <td>NaN</td>\n",
       "      <td>NaN</td>\n",
       "      <td>NaN</td>\n",
       "    </tr>\n",
       "    <tr>\n",
       "      <th>3</th>\n",
       "      <td>Membri di organismi di governo e di assemblee ...</td>\n",
       "      <td>Membri di organismi di governo e di assemblee ...</td>\n",
       "      <td>NaN</td>\n",
       "      <td>NaN</td>\n",
       "      <td>assessore comunale/assessora comunale\\nsindaco...</td>\n",
       "      <td>membro del consiglio comunale\\nconsigliera com...</td>\n",
       "    </tr>\n",
       "    <tr>\n",
       "      <th>4</th>\n",
       "      <td>Ambasciatori, ministri plenipotenziari ed alti...</td>\n",
       "      <td>Ambasciatore\\nAmbasciatori, ministri plenipote...</td>\n",
       "      <td>NaN</td>\n",
       "      <td>NaN</td>\n",
       "      <td>ambasciatore/ambasciatrice\\nconsigliere di amb...</td>\n",
       "      <td>addetto diplomatico\\naddetta diplomatica\\ncons...</td>\n",
       "    </tr>\n",
       "  </tbody>\n",
       "</table>\n",
       "</div>"
      ],
      "text/plain": [
       "                                              Target  \\\n",
       "0  Membri di organismi di governo e di assemblee ...   \n",
       "1  Membri di organismi di governo e di assemblee ...   \n",
       "2  Membri di organismi di governo e di assemblee ...   \n",
       "3  Membri di organismi di governo e di assemblee ...   \n",
       "4  Ambasciatori, ministri plenipotenziari ed alti...   \n",
       "\n",
       "                                         Description Description1  \\\n",
       "0  Membri di organismi di governo e di assemblee ...          NaN   \n",
       "1  Membri di organismi di governo e di assemblee ...          NaN   \n",
       "2  Membri di organismi di governo e di assemblee ...          NaN   \n",
       "3  Membri di organismi di governo e di assemblee ...          NaN   \n",
       "4  Ambasciatore\\nAmbasciatori, ministri plenipote...          NaN   \n",
       "\n",
       "  Description2                                       Description3  \\\n",
       "0          NaN  deputato/deputata\\nministro/ministra\\nsenatore...   \n",
       "1          NaN                              presidente di regione   \n",
       "2          NaN                                                NaN   \n",
       "3          NaN  assessore comunale/assessora comunale\\nsindaco...   \n",
       "4          NaN  ambasciatore/ambasciatrice\\nconsigliere di amb...   \n",
       "\n",
       "                                        Description4  \n",
       "0  deputata del Parlamento europeo\\nmembro del Pa...  \n",
       "1  presidente di giunta regionale\\ngovernatore di...  \n",
       "2                                                NaN  \n",
       "3  membro del consiglio comunale\\nconsigliera com...  \n",
       "4  addetto diplomatico\\naddetta diplomatica\\ncons...  "
      ]
     },
     "execution_count": 268,
     "metadata": {},
     "output_type": "execute_result"
    }
   ],
   "source": [
    "import pandas as pd\n",
    "import numpy as np\n",
    "import nltk\n",
    "import sklearn\n",
    "from nltk import word_tokenize\n",
    "from sklearn.feature_extraction.text import CountVectorizer\n",
    "from sklearn.feature_extraction.text import TfidfTransformer\n",
    "from sklearn.neighbors import KNeighborsClassifier\n",
    "from sklearn.pipeline import Pipeline\n",
    "import re\n",
    "\n",
    "data = pd.read_csv('train_test.csv')\n",
    "data.head()"
   ]
  },
  {
   "cell_type": "code",
   "execution_count": 269,
   "metadata": {},
   "outputs": [
    {
     "data": {
      "text/plain": [
       "['Target',\n",
       " 'Description',\n",
       " 'Description1',\n",
       " 'Description2',\n",
       " 'Description3',\n",
       " 'Description4']"
      ]
     },
     "execution_count": 269,
     "metadata": {},
     "output_type": "execute_result"
    }
   ],
   "source": [
    "columns = data.columns.tolist()\n",
    "columns"
   ]
  },
  {
   "cell_type": "code",
   "execution_count": 270,
   "metadata": {},
   "outputs": [],
   "source": [
    "for i in columns:\n",
    "    data[i] = data[i].apply(lambda x: str(x))"
   ]
  },
  {
   "cell_type": "code",
   "execution_count": 271,
   "metadata": {},
   "outputs": [],
   "source": [
    "data['descrizione_completa'] = data['Description'] + data['Description1'] + data['Description2'] + \\\n",
    "                                data['Description3'] + data['Description4']"
   ]
  },
  {
   "cell_type": "code",
   "execution_count": 272,
   "metadata": {},
   "outputs": [
    {
     "data": {
      "text/html": [
       "<div>\n",
       "<style scoped>\n",
       "    .dataframe tbody tr th:only-of-type {\n",
       "        vertical-align: middle;\n",
       "    }\n",
       "\n",
       "    .dataframe tbody tr th {\n",
       "        vertical-align: top;\n",
       "    }\n",
       "\n",
       "    .dataframe thead th {\n",
       "        text-align: right;\n",
       "    }\n",
       "</style>\n",
       "<table border=\"1\" class=\"dataframe\">\n",
       "  <thead>\n",
       "    <tr style=\"text-align: right;\">\n",
       "      <th></th>\n",
       "      <th>Target</th>\n",
       "      <th>descrizione_completa</th>\n",
       "    </tr>\n",
       "  </thead>\n",
       "  <tbody>\n",
       "    <tr>\n",
       "      <th>0</th>\n",
       "      <td>Membri di organismi di governo e di assemblee ...</td>\n",
       "      <td>Membri di organismi di governo e di assemblee ...</td>\n",
       "    </tr>\n",
       "    <tr>\n",
       "      <th>1</th>\n",
       "      <td>Membri di organismi di governo e di assemblee ...</td>\n",
       "      <td>Membri di organismi di governo e di assemblee ...</td>\n",
       "    </tr>\n",
       "    <tr>\n",
       "      <th>2</th>\n",
       "      <td>Membri di organismi di governo e di assemblee ...</td>\n",
       "      <td>Membri di organismi di governo e di assemblee ...</td>\n",
       "    </tr>\n",
       "    <tr>\n",
       "      <th>3</th>\n",
       "      <td>Membri di organismi di governo e di assemblee ...</td>\n",
       "      <td>Membri di organismi di governo e di assemblee ...</td>\n",
       "    </tr>\n",
       "    <tr>\n",
       "      <th>4</th>\n",
       "      <td>Ambasciatori, ministri plenipotenziari ed alti...</td>\n",
       "      <td>Ambasciatore\\nAmbasciatori, ministri plenipote...</td>\n",
       "    </tr>\n",
       "  </tbody>\n",
       "</table>\n",
       "</div>"
      ],
      "text/plain": [
       "                                              Target  \\\n",
       "0  Membri di organismi di governo e di assemblee ...   \n",
       "1  Membri di organismi di governo e di assemblee ...   \n",
       "2  Membri di organismi di governo e di assemblee ...   \n",
       "3  Membri di organismi di governo e di assemblee ...   \n",
       "4  Ambasciatori, ministri plenipotenziari ed alti...   \n",
       "\n",
       "                                descrizione_completa  \n",
       "0  Membri di organismi di governo e di assemblee ...  \n",
       "1  Membri di organismi di governo e di assemblee ...  \n",
       "2  Membri di organismi di governo e di assemblee ...  \n",
       "3  Membri di organismi di governo e di assemblee ...  \n",
       "4  Ambasciatore\\nAmbasciatori, ministri plenipote...  "
      ]
     },
     "execution_count": 272,
     "metadata": {},
     "output_type": "execute_result"
    }
   ],
   "source": [
    "data = data.drop(columns[1:],axis = 1)\n",
    "data.head()"
   ]
  },
  {
   "cell_type": "code",
   "execution_count": 273,
   "metadata": {},
   "outputs": [
    {
     "data": {
      "text/plain": [
       "'Membri di organismi di governo e di assemblee nazionali con potestà legislativa e regolamentare Membro del consiglio dei ministri Membro del senato Membro della camera dei deputatinannandeputato deputata ministro ministra senatore senatricedeputata del Parlamento europeo membro del Parlamento europeo membro del parlamento deputato deputata deputato del Parlamento europeo membro della camera dei deputati ministra del governo ministro ministra ministro del governo senatrice senatore'"
      ]
     },
     "execution_count": 273,
     "metadata": {},
     "output_type": "execute_result"
    }
   ],
   "source": [
    "data.descrizione_completa = data.descrizione_completa.apply(lambda x: re.split('; |, |\\*|\\n|/',x))\n",
    "data.descrizione_completa = data.descrizione_completa.apply(lambda x: ' '.join(x))\n",
    "data.descrizione_completa.iloc[0]"
   ]
  },
  {
   "cell_type": "code",
   "execution_count": 274,
   "metadata": {},
   "outputs": [
    {
     "data": {
      "text/plain": [
       "['Membri',\n",
       " 'di',\n",
       " 'organismi',\n",
       " 'di',\n",
       " 'governo',\n",
       " 'e',\n",
       " 'di',\n",
       " 'assemblee',\n",
       " 'nazionali',\n",
       " 'con']"
      ]
     },
     "execution_count": 274,
     "metadata": {},
     "output_type": "execute_result"
    }
   ],
   "source": [
    "data.descrizione_completa = data.descrizione_completa.apply(lambda x: word_tokenize(x))\n",
    "data.descrizione_completa.iloc[0][:10]"
   ]
  },
  {
   "cell_type": "code",
   "execution_count": 275,
   "metadata": {},
   "outputs": [
    {
     "data": {
      "text/plain": [
       "['Membri',\n",
       " 'organismi',\n",
       " 'governo',\n",
       " 'e',\n",
       " 'assemblee',\n",
       " 'nazionali',\n",
       " 'con',\n",
       " 'potestà',\n",
       " 'legislativa',\n",
       " 'e']"
      ]
     },
     "execution_count": 275,
     "metadata": {},
     "output_type": "execute_result"
    }
   ],
   "source": [
    "prefixes = ['di','dal','nan','del','sug','nan','dei']\n",
    "data.descrizione_completa = data.descrizione_completa.apply(lambda x: [i for i in x if not i.startswith(tuple(prefixes))])\n",
    "data.descrizione_completa.iloc[0][:10]"
   ]
  },
  {
   "cell_type": "code",
   "execution_count": 276,
   "metadata": {},
   "outputs": [
    {
     "data": {
      "text/plain": [
       "'Membri organismi governo e assemblee nazionali con potestà legislativa e regolamentare Membro consiglio ministri Membro senato Membro camera deputatinannandeputato deputata ministro ministra senatore senatricedeputata Parlamento europeo membro Parlamento europeo membro parlamento deputato deputata deputato Parlamento europeo membro camera deputati ministra governo ministro ministra ministro governo senatrice senatore'"
      ]
     },
     "execution_count": 276,
     "metadata": {},
     "output_type": "execute_result"
    }
   ],
   "source": [
    "data.descrizione_completa = data.descrizione_completa.apply(lambda x: ' '.join(x))\n",
    "data.descrizione_completa.iloc[0]"
   ]
  },
  {
   "cell_type": "code",
   "execution_count": 277,
   "metadata": {},
   "outputs": [],
   "source": [
    "train_set = data.iloc[:500,:]\n",
    "test_set = data.iloc[500:,:]"
   ]
  },
  {
   "cell_type": "code",
   "execution_count": 296,
   "metadata": {},
   "outputs": [
    {
     "data": {
      "text/plain": [
       "800"
      ]
     },
     "execution_count": 296,
     "metadata": {},
     "output_type": "execute_result"
    }
   ],
   "source": [
    "len(data.Target.unique())"
   ]
  },
  {
   "cell_type": "code",
   "execution_count": 278,
   "metadata": {},
   "outputs": [],
   "source": [
    "count_vect = CountVectorizer()\n",
    "X_train_counts = count_vect.fit_transform(train_set.descrizione_completa)\n"
   ]
  },
  {
   "cell_type": "code",
   "execution_count": 279,
   "metadata": {},
   "outputs": [
    {
     "data": {
      "text/plain": [
       "<500x10450 sparse matrix of type '<class 'numpy.int64'>'\n",
       "\twith 53711 stored elements in Compressed Sparse Row format>"
      ]
     },
     "execution_count": 279,
     "metadata": {},
     "output_type": "execute_result"
    }
   ],
   "source": [
    "X_train_counts"
   ]
  },
  {
   "cell_type": "code",
   "execution_count": 280,
   "metadata": {},
   "outputs": [],
   "source": [
    "# transform a count matrix to a normalized tf-idf representation (tf-idf transformer)\n",
    "tfidf_transformer = TfidfTransformer()\n",
    "X_train_tfidf = tfidf_transformer.fit_transform(X_train_counts)"
   ]
  },
  {
   "cell_type": "code",
   "execution_count": 281,
   "metadata": {},
   "outputs": [
    {
     "data": {
      "text/plain": [
       "<500x10450 sparse matrix of type '<class 'numpy.float64'>'\n",
       "\twith 53711 stored elements in Compressed Sparse Row format>"
      ]
     },
     "execution_count": 281,
     "metadata": {},
     "output_type": "execute_result"
    }
   ],
   "source": [
    "X_train_tfidf"
   ]
  },
  {
   "cell_type": "code",
   "execution_count": 286,
   "metadata": {},
   "outputs": [],
   "source": [
    "knn = KNeighborsClassifier(n_neighbors=10)\n",
    "# training our classifier ; train_data.target will be having numbers assigned for each category in train data\n",
    "clf = knn.fit(X_train_tfidf, train_set.Target)\n"
   ]
  },
  {
   "cell_type": "code",
   "execution_count": 287,
   "metadata": {},
   "outputs": [
    {
     "data": {
      "text/plain": [
       "KNeighborsClassifier(algorithm='auto', leaf_size=30, metric='minkowski',\n",
       "                     metric_params=None, n_jobs=None, n_neighbors=10, p=2,\n",
       "                     weights='uniform')"
      ]
     },
     "execution_count": 287,
     "metadata": {},
     "output_type": "execute_result"
    }
   ],
   "source": [
    "clf"
   ]
  },
  {
   "cell_type": "code",
   "execution_count": 288,
   "metadata": {},
   "outputs": [
    {
     "name": "stdout",
     "output_type": "stream",
     "text": [
      "We got an accuracy of 0.0 % over the test data.\n"
     ]
    }
   ],
   "source": [
    "text_clf = Pipeline([\n",
    "    ('vect', CountVectorizer()),\n",
    "    ('tfidf', TfidfTransformer()),\n",
    "    ('clf', knn),\n",
    "])\n",
    "# Fitting our train data to the pipeline\n",
    "text_clf.fit(train_set.descrizione_completa, train_set.Target)\n",
    "\n",
    "# Test data \n",
    "docs_test = test_set.descrizione_completa\n",
    "# Predicting our test data\n",
    "predicted = text_clf.predict(docs_test)\n",
    "print('We got an accuracy of',np.mean(predicted == test_set.Target)*100, '% over the test data.')"
   ]
  },
  {
   "cell_type": "code",
   "execution_count": 290,
   "metadata": {},
   "outputs": [
    {
     "data": {
      "text/plain": [
       "500                         Muratori in pietra e mattoni\n",
       "501                              Casseronisti/cassonisti\n",
       "502                 Muratori e formatori in calcestruzzo\n",
       "503                        Carpentieri e falegnami edili\n",
       "504                                        Ponteggiatori\n",
       "                             ...                        \n",
       "795    Manovali ed altro personale non qualificato de...\n",
       "796    Manovali e personale non qualificato dell’edil...\n",
       "797    Manovali e personale non qualificato della cos...\n",
       "798    Personale non qualificato delle attività indus...\n",
       "799                         Ufficiali delle forze armate\n",
       "Name: Target, Length: 300, dtype: object"
      ]
     },
     "execution_count": 290,
     "metadata": {},
     "output_type": "execute_result"
    }
   ],
   "source": [
    "test_set.Target"
   ]
  },
  {
   "cell_type": "code",
   "execution_count": 289,
   "metadata": {},
   "outputs": [
    {
     "data": {
      "text/plain": [
       "array(['Agronomi e forestali', 'Agronomi e forestali',\n",
       "       'Agronomi e forestali', 'Agronomi e forestali',\n",
       "       \"Addetti all'immissione dati\", 'Agronomi e forestali',\n",
       "       'Brillatori e artificieri in cave e miniere',\n",
       "       'Agenti del corpo forestale', 'Agenti del corpo forestale',\n",
       "       'Agronomi e forestali',\n",
       "       'Addetti alla preparazione e alla cottura di cibi in imprese per la ristorazione collettiva',\n",
       "       'Addetti alla preparazione e alla cottura di cibi in imprese per la ristorazione collettiva',\n",
       "       'Addetti alla preparazione e alla cottura di cibi in imprese per la ristorazione collettiva',\n",
       "       'Addetti alla preparazione e alla cottura di cibi in imprese per la ristorazione collettiva',\n",
       "       'Addetti alla preparazione e alla cottura di cibi in imprese per la ristorazione collettiva',\n",
       "       'Addetti alla preparazione e alla cottura di cibi in imprese per la ristorazione collettiva',\n",
       "       'Disegnatori tecnici',\n",
       "       \"Addetti all'informazione e all'assistenza dei clienti\",\n",
       "       'Elettrotecnici', 'Disegnatori tecnici', 'Disegnatori tecnici',\n",
       "       'Agronomi e forestali',\n",
       "       'Direttori e dirigenti generali di aziende nel settore dei trasporti e magazzinaggio',\n",
       "       'Addetti alla preparazione e alla cottura di cibi in imprese per la ristorazione collettiva',\n",
       "       'Addetti ai distributori di carburanti ed assimilati',\n",
       "       'Addetti ad archivi, schedari e professioni assimilate',\n",
       "       'Docenti universitari in scienze biologiche',\n",
       "       'Addetti alla gestione amministrativa dei trasporti merci',\n",
       "       'Addetti alla gestione amministrativa dei trasporti merci',\n",
       "       \"Addetti all'immissione dati\", 'Agronomi e forestali',\n",
       "       'Agronomi e forestali', 'Agronomi e forestali',\n",
       "       'Addetti alla gestione amministrativa dei trasporti merci',\n",
       "       'Disegnatori tecnici', 'Agronomi e forestali',\n",
       "       'Addetti alla gestione amministrativa dei trasporti merci',\n",
       "       \"Addetti all'informazione nei call center (senza funzioni di vendita)\",\n",
       "       'Agronomi e forestali',\n",
       "       'Addetti agli sportelli assicurativi, bancari e di altri intermediari finanziari',\n",
       "       'Agronomi e forestali', \"Addetti all'immissione dati\",\n",
       "       'Disegnatori tecnici',\n",
       "       'Addetti alla gestione amministrativa dei trasporti merci',\n",
       "       'Addetti alla gestione amministrativa dei trasporti merci',\n",
       "       'Commessi delle vendite al minuto', 'Disegnatori tecnici',\n",
       "       'Disegnatori tecnici',\n",
       "       'Addetti alla gestione amministrativa dei trasporti merci',\n",
       "       'Creatori artistici a fini commerciali (esclusa la moda)',\n",
       "       'Disegnatori tecnici', 'Elettrotecnici', 'Disegnatori tecnici',\n",
       "       'Agenti concessionari',\n",
       "       'Addetti alla gestione amministrativa dei trasporti merci',\n",
       "       'Assistenti di viaggio e crociera',\n",
       "       'Assistenti di viaggio e crociera', 'Disegnatori tecnici',\n",
       "       'Disegnatori tecnici', 'Disegnatori tecnici', 'Elettrotecnici',\n",
       "       'Agenti concessionari', 'Disegnatori tecnici',\n",
       "       'Disegnatori tecnici', 'Disegnatori tecnici', 'Elettrotecnici',\n",
       "       'Amministratori di sistemi', 'Agronomi e forestali',\n",
       "       'Fisioterapisti', 'Compositori',\n",
       "       'Annunciatori della radio e della televisione',\n",
       "       'Addetti alla gestione dei magazzini e professioni assimilate',\n",
       "       'Addetti agli sportelli assicurativi, bancari e di altri intermediari finanziari',\n",
       "       'Direttori artistici', 'Agronomi e forestali',\n",
       "       'Addetti agli sportelli assicurativi, bancari e di altri intermediari finanziari',\n",
       "       'Agronomi e forestali',\n",
       "       'Addetti alla preparazione e alla cottura di cibi in imprese per la ristorazione collettiva',\n",
       "       'Addetti alla preparazione e alla cottura di cibi in imprese per la ristorazione collettiva',\n",
       "       'Agronomi e forestali', 'Agronomi e forestali',\n",
       "       'Addetti alla preparazione e alla cottura di cibi in imprese per la ristorazione collettiva',\n",
       "       'Addetti alla preparazione e alla cottura di cibi in imprese per la ristorazione collettiva',\n",
       "       'Agronomi e forestali', 'Agronomi e forestali',\n",
       "       'Agronomi e forestali',\n",
       "       'Addetti ai distributori di carburanti ed assimilati',\n",
       "       'Addetti a funzioni di segreteria',\n",
       "       'Addetti a funzioni di segreteria', 'Disegnatori tecnici',\n",
       "       \"Consiglieri dell'orientamento\",\n",
       "       'Addetti a funzioni di segreteria', 'Agronomi e forestali',\n",
       "       'Addetti alla gestione amministrativa dei trasporti merci',\n",
       "       'Agronomi e forestali',\n",
       "       'Addetti alla gestione amministrativa dei trasporti merci',\n",
       "       'Agronomi e forestali',\n",
       "       'Addetti alla gestione amministrativa dei trasporti merci',\n",
       "       'Addestratori di animali',\n",
       "       'Addetti alla preparazione e alla cottura di cibi in imprese per la ristorazione collettiva',\n",
       "       'Addetti alla preparazione e alla cottura di cibi in imprese per la ristorazione collettiva',\n",
       "       'Addetti alla preparazione e alla cottura di cibi in imprese per la ristorazione collettiva',\n",
       "       'Addetti alla preparazione e alla cottura di cibi in imprese per la ristorazione collettiva',\n",
       "       'Addetti alla preparazione e alla cottura di cibi in imprese per la ristorazione collettiva',\n",
       "       'Addetti alla preparazione e alla cottura di cibi in imprese per la ristorazione collettiva',\n",
       "       'Addetti alla preparazione e alla cottura di cibi in imprese per la ristorazione collettiva',\n",
       "       'Addetti alla gestione amministrativa dei trasporti merci',\n",
       "       'Agronomi e forestali',\n",
       "       \"Addetti all'informazione nei call center (senza funzioni di vendita)\",\n",
       "       'Agronomi e forestali', 'Agronomi e forestali',\n",
       "       \"Direttori e dirigenti generali di aziende che operano nell'agricoltura, nell'allevamento, nella silvicoltura, nella caccia e nella pesca\",\n",
       "       'Addetti ai distributori di carburanti ed assimilati',\n",
       "       'Addetti alla preparazione e alla cottura di cibi in imprese per la ristorazione collettiva',\n",
       "       'Addetti alla preparazione e alla cottura di cibi in imprese per la ristorazione collettiva',\n",
       "       'Addetti alla preparazione e alla cottura di cibi in imprese per la ristorazione collettiva',\n",
       "       'Addetti alla preparazione e alla cottura di cibi in imprese per la ristorazione collettiva',\n",
       "       'Addetti alla preparazione e alla cottura di cibi in imprese per la ristorazione collettiva',\n",
       "       'Addetti alla preparazione e alla cottura di cibi in imprese per la ristorazione collettiva',\n",
       "       'Addetti alla preparazione e alla cottura di cibi in imprese per la ristorazione collettiva',\n",
       "       'Agronomi e forestali',\n",
       "       'Addetti ad attività organizzative delle vendite',\n",
       "       'Agronomi e forestali',\n",
       "       'Addetti ad archivi, schedari e professioni assimilate',\n",
       "       'Addetti alla gestione amministrativa dei trasporti merci',\n",
       "       'Agronomi e forestali', 'Agronomi e forestali',\n",
       "       'Agronomi e forestali',\n",
       "       \"Addetti all'accoglienza e all'informazione nelle imprese e negli enti pubblici\",\n",
       "       'Agronomi e forestali', 'Agronomi e forestali',\n",
       "       'Agronomi e forestali',\n",
       "       'Addetti alla gestione dei magazzini e professioni assimilate',\n",
       "       'Addetti alla gestione amministrativa dei trasporti merci',\n",
       "       'Agronomi e forestali', 'Agronomi e forestali',\n",
       "       'Agronomi e forestali', 'Analisti e progettisti di software',\n",
       "       'Creatori artistici a fini commerciali (esclusa la moda)',\n",
       "       'Addetti al banco nei servizi di ristorazione',\n",
       "       'Agronomi e forestali',\n",
       "       'Addetti alla preparazione e alla cottura di cibi in imprese per la ristorazione collettiva',\n",
       "       'Addetti alla gestione dei magazzini e professioni assimilate',\n",
       "       'Camerieri di albergo',\n",
       "       'Addetti ad archivi, schedari e professioni assimilate',\n",
       "       'Agronomi e forestali', 'Agronomi e forestali',\n",
       "       'Agronomi e forestali',\n",
       "       'Addetti ai distributori di carburanti ed assimilati',\n",
       "       'Agronomi e forestali',\n",
       "       \"Addetti all'accoglienza e all'informazione nelle imprese e negli enti pubblici\",\n",
       "       'Agronomi e forestali', \"Addetti all'assistenza personale\",\n",
       "       'Acconciatori', 'Agenti concessionari',\n",
       "       'Addetti alla gestione dei magazzini e professioni assimilate',\n",
       "       'Addetti agli sportelli assicurativi, bancari e di altri intermediari finanziari',\n",
       "       'Addetti alla gestione amministrativa dei trasporti merci',\n",
       "       'Agronomi e forestali', 'Agronomi e forestali',\n",
       "       'Addetti alla gestione dei magazzini e professioni assimilate',\n",
       "       'Agronomi e forestali',\n",
       "       'Addetti alla gestione dei magazzini e professioni assimilate',\n",
       "       'Addetti ai distributori di carburanti ed assimilati',\n",
       "       'Addetti ai distributori di carburanti ed assimilati',\n",
       "       'Addetti alla gestione dei magazzini e professioni assimilate',\n",
       "       'Addetti alla gestione amministrativa dei trasporti merci',\n",
       "       'Addetti alla gestione amministrativa dei trasporti merci',\n",
       "       'Addetti alla gestione amministrativa dei trasporti merci',\n",
       "       'Addetti alla gestione amministrativa dei trasporti merci',\n",
       "       'Agronomi e forestali',\n",
       "       'Addetti alla gestione amministrativa dei trasporti merci',\n",
       "       'Addetti alla gestione amministrativa dei trasporti merci',\n",
       "       'Addetti alla gestione amministrativa dei trasporti merci',\n",
       "       'Addetti agli sportelli assicurativi, bancari e di altri intermediari finanziari',\n",
       "       'Addetti agli sportelli assicurativi, bancari e di altri intermediari finanziari',\n",
       "       'Agronomi e forestali', \"Addetti all'immissione dati\",\n",
       "       \"Direttori e dirigenti generali di aziende che operano nella manifattura, nell'estrazione dei minerali, nella produzione e distribuzione di energia elettrica, gas, acqua e nelle attività di gestione dei rifiuti\",\n",
       "       'Agronomi e forestali',\n",
       "       'Addetti alla preparazione e alla cottura di cibi in imprese per la ristorazione collettiva',\n",
       "       'Agronomi e forestali', 'Agronomi e forestali',\n",
       "       'Addetti alla preparazione e alla cottura di cibi in imprese per la ristorazione collettiva',\n",
       "       'Addetti alla preparazione e alla cottura di cibi in imprese per la ristorazione collettiva',\n",
       "       'Addetti alla gestione dei magazzini e professioni assimilate',\n",
       "       'Addetti agli sportelli assicurativi, bancari e di altri intermediari finanziari',\n",
       "       'Agronomi e forestali',\n",
       "       \"Addetti all'accoglienza e all'informazione nelle imprese e negli enti pubblici\",\n",
       "       \"Addetti alle operazioni finanziarie per conto dell'impresa o dell'organizzazione\",\n",
       "       'Elettrotecnici',\n",
       "       'Addetti allo smistamento e al recapito della posta',\n",
       "       'Chimici e professioni assimilate', 'Agronomi e forestali',\n",
       "       'Disegnatori tecnici', 'Disegnatori tecnici',\n",
       "       'Disegnatori tecnici', 'Disegnatori tecnici',\n",
       "       \"Direttori e dirigenti generali di aziende che operano nella manifattura, nell'estrazione dei minerali, nella produzione e distribuzione di energia elettrica, gas, acqua e nelle attività di gestione dei rifiuti\",\n",
       "       'Addetti alla gestione dei magazzini e professioni assimilate',\n",
       "       'Addetti ad attività organizzative delle vendite',\n",
       "       'Addetti agli sportelli assicurativi, bancari e di altri intermediari finanziari',\n",
       "       'Agronomi e forestali',\n",
       "       'Addetti alla preparazione e alla cottura di cibi in imprese per la ristorazione collettiva',\n",
       "       'Addetti agli sportelli assicurativi, bancari e di altri intermediari finanziari',\n",
       "       'Agronomi e forestali', 'Agronomi e forestali',\n",
       "       'Addetti alla gestione amministrativa dei trasporti merci',\n",
       "       'Addetti agli sportelli assicurativi, bancari e di altri intermediari finanziari',\n",
       "       'Addetti agli sportelli assicurativi, bancari e di altri intermediari finanziari',\n",
       "       'Agronomi e forestali', \"Addetti all'immissione dati\",\n",
       "       'Agronomi e forestali',\n",
       "       'Addetti ad archivi, schedari e professioni assimilate',\n",
       "       'Agronomi e forestali', 'Agronomi e forestali',\n",
       "       \"Addetti alle operazioni finanziarie per conto dell'impresa o dell'organizzazione\",\n",
       "       'Addetti di agenzie per il disbrigo di pratiche e professioni assimilate',\n",
       "       'Addetti alla gestione amministrativa dei trasporti merci',\n",
       "       'Addetti ai distributori di carburanti ed assimilati',\n",
       "       'Addetti ai distributori di carburanti ed assimilati',\n",
       "       'Agronomi e forestali', 'Agenti concessionari',\n",
       "       'Disegnatori tecnici', 'Disegnatori tecnici',\n",
       "       'Agronomi e forestali', 'Agronomi e forestali',\n",
       "       'Direttori e dirigenti generali di aziende nei servizi editoriali, di produzione cinematografica, radiofonica e televisiva',\n",
       "       'Disegnatori tecnici',\n",
       "       'Addetti agli sportelli assicurativi, bancari e di altri intermediari finanziari',\n",
       "       'Addetti alla preparazione e alla cottura di cibi in imprese per la ristorazione collettiva',\n",
       "       'Addetti alla gestione amministrativa dei trasporti merci',\n",
       "       'Addetti alla gestione dei magazzini e professioni assimilate',\n",
       "       'Addetti alla preparazione e alla cottura di cibi in imprese per la ristorazione collettiva',\n",
       "       'Agronomi e forestali', 'Agronomi e forestali',\n",
       "       \"Addetti all'accoglienza e all'informazione nelle imprese e negli enti pubblici\",\n",
       "       'Addetti alla preparazione e alla cottura di cibi in imprese per la ristorazione collettiva',\n",
       "       'Agronomi e forestali',\n",
       "       'Addetti alla preparazione e alla cottura di cibi in imprese per la ristorazione collettiva',\n",
       "       'Agronomi e forestali', 'Agronomi e forestali',\n",
       "       'Agronomi e forestali',\n",
       "       'Addetti agli sportelli assicurativi, bancari e di altri intermediari finanziari',\n",
       "       'Addetti alla preparazione e alla cottura di cibi in imprese per la ristorazione collettiva',\n",
       "       'Addetti ai distributori di carburanti ed assimilati',\n",
       "       'Addetti agli sportelli assicurativi, bancari e di altri intermediari finanziari',\n",
       "       'Addetti alla preparazione e alla cottura di cibi in imprese per la ristorazione collettiva',\n",
       "       'Addetti agli sportelli assicurativi, bancari e di altri intermediari finanziari',\n",
       "       'Agronomi e forestali',\n",
       "       'Addetti alla preparazione e alla cottura di cibi in imprese per la ristorazione collettiva',\n",
       "       'Addetti al controllo della documentazione di viaggio',\n",
       "       'Addetti alla gestione amministrativa dei trasporti merci',\n",
       "       'Disegnatori tecnici',\n",
       "       \"Addetti all'accoglienza e all'informazione nelle imprese e negli enti pubblici\",\n",
       "       'Addetti al controllo della documentazione di viaggio',\n",
       "       'Addetti alla gestione amministrativa dei trasporti merci',\n",
       "       'Addestratori di animali', 'Agronomi e forestali',\n",
       "       'Agronomi e forestali', 'Agronomi e forestali',\n",
       "       'Agronomi e forestali',\n",
       "       'Addetti alla gestione amministrativa dei trasporti merci',\n",
       "       'Agronomi e forestali', 'Agronomi e forestali',\n",
       "       'Brillatori e artificieri in cave e miniere',\n",
       "       \"Addetti all'immissione dati\",\n",
       "       'Addetti alla gestione amministrativa dei trasporti merci',\n",
       "       'Addetti alla gestione amministrativa dei trasporti merci',\n",
       "       'Addetti alla gestione amministrativa dei trasporti merci',\n",
       "       'Addetti alla gestione amministrativa dei trasporti merci',\n",
       "       'Addetti alla preparazione, alla cottura e alla vendita di cibi in fast food, tavole calde, rosticcerie ed esercizi assimilati',\n",
       "       'Addetti alla preparazione, alla cottura e alla vendita di cibi in fast food, tavole calde, rosticcerie ed esercizi assimilati',\n",
       "       'Addetti agli sportelli assicurativi, bancari e di altri intermediari finanziari',\n",
       "       'Addetti agli sportelli assicurativi, bancari e di altri intermediari finanziari',\n",
       "       \"Addetti all'accoglienza e all'informazione nelle imprese e negli enti pubblici\",\n",
       "       'Addetti ad archivi, schedari e professioni assimilate',\n",
       "       'Addetti ad archivi, schedari e professioni assimilate',\n",
       "       'Addetti ai distributori di carburanti ed assimilati',\n",
       "       'Addetti al banco nei servizi di ristorazione',\n",
       "       'Addetti ad archivi, schedari e professioni assimilate',\n",
       "       \"Addetti all'accoglienza e all'informazione nelle imprese e negli enti pubblici\",\n",
       "       'Addetti agli sportelli assicurativi, bancari e di altri intermediari finanziari',\n",
       "       \"Consiglieri dell'orientamento\",\n",
       "       \"Addetti all'assistenza personale\",\n",
       "       'Addetti agli sportelli assicurativi, bancari e di altri intermediari finanziari',\n",
       "       \"Addetti alle operazioni finanziarie per conto dell'impresa o dell'organizzazione\",\n",
       "       'Addetti ad archivi, schedari e professioni assimilate',\n",
       "       'Addetti agli sportelli assicurativi, bancari e di altri intermediari finanziari',\n",
       "       'Agronomi e forestali',\n",
       "       'Addetti alla preparazione e alla cottura di cibi in imprese per la ristorazione collettiva',\n",
       "       'Addetti alla preparazione e alla cottura di cibi in imprese per la ristorazione collettiva',\n",
       "       'Addetti alla gestione amministrativa dei trasporti merci',\n",
       "       'Agronomi e forestali',\n",
       "       'Addetti alla gestione amministrativa dei trasporti merci',\n",
       "       'Addetti alla gestione amministrativa dei trasporti merci',\n",
       "       'Direttori e dirigenti generali di aziende nelle costruzioni',\n",
       "       'Agronomi e forestali',\n",
       "       'Addetti ad archivi, schedari e professioni assimilate',\n",
       "       'Comandanti navali'], dtype=object)"
      ]
     },
     "execution_count": 289,
     "metadata": {},
     "output_type": "execute_result"
    }
   ],
   "source": [
    "text_clf.predict(docs_test)"
   ]
  },
  {
   "cell_type": "code",
   "execution_count": null,
   "metadata": {},
   "outputs": [],
   "source": []
  }
 ],
 "metadata": {
  "kernelspec": {
   "display_name": "Python 3",
   "language": "python",
   "name": "python3"
  },
  "language_info": {
   "codemirror_mode": {
    "name": "ipython",
    "version": 3
   },
   "file_extension": ".py",
   "mimetype": "text/x-python",
   "name": "python",
   "nbconvert_exporter": "python",
   "pygments_lexer": "ipython3",
   "version": "3.7.6"
  }
 },
 "nbformat": 4,
 "nbformat_minor": 4
}
