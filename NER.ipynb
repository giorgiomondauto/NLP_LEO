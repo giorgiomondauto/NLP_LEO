{
 "cells": [
  {
   "cell_type": "markdown",
   "metadata": {},
   "source": [
    "#### TYPE\tDESCRIPTION\n",
    "#### PER\tNamed person or family.\n",
    "#### LOC\tName of politically or geographically defined location (cities, provinces, countries, international regions, bodies of water, mountains).\n",
    "#### ORG\tNamed corporate, governmental, or other organizational entity.\n",
    "#### MISC\tMiscellaneous entities, e.g. events, nationalities, products or works of art."
   ]
  },
  {
   "cell_type": "code",
   "execution_count": 88,
   "metadata": {},
   "outputs": [],
   "source": [
    "import spacy\n",
    "from spacy import displacy\n",
    "from collections import Counter\n",
    "import en_core_web_sm\n",
    "nlp = en_core_web_sm.load()"
   ]
  },
  {
   "cell_type": "code",
   "execution_count": 8,
   "metadata": {},
   "outputs": [
    {
     "name": "stdout",
     "output_type": "stream",
     "text": [
      "[('European', 'NORP'), ('Google', 'ORG'), ('$5.1 billion', 'MONEY'), ('Wednesday', 'DATE')]\n"
     ]
    }
   ],
   "source": [
    "doc = nlp('European authorities fined Google a record $5.1 billion on Wednesday JAVA for abusing its power in the mobile phone market and ordered the company to alter its practices')\n",
    "print([(X.text, X.label_) for X in doc.ents])"
   ]
  },
  {
   "cell_type": "code",
   "execution_count": 12,
   "metadata": {},
   "outputs": [],
   "source": [
    "# !python -m spacy download it_core_news_sm\n",
    "import it_core_news_sm\n",
    "nlp_ita = it_core_news_sm.load()"
   ]
  },
  {
   "cell_type": "code",
   "execution_count": 22,
   "metadata": {},
   "outputs": [
    {
     "name": "stdout",
     "output_type": "stream",
     "text": [
      "[('Giorgio', 'PER'), ('Napoli', 'LOC'), ('Python', 'MISC'), ('Java', 'MISC')]\n"
     ]
    }
   ],
   "source": [
    "doc = nlp_ita('Io sono Giorgio. Io vivo a Napoli. Python è un linguaggio di programmazione. Java. ')\n",
    "print([(X.text, X.label_) for X in doc.ents])"
   ]
  },
  {
   "cell_type": "code",
   "execution_count": 43,
   "metadata": {},
   "outputs": [
    {
     "name": "stdout",
     "output_type": "stream",
     "text": [
      "Giorgio\n",
      "Napoli\n"
     ]
    }
   ],
   "source": [
    "for i,j in dict([(X.text, X.label_) for X in doc.ents]).items():\n",
    "    if j!='MISC':\n",
    "        print(i)"
   ]
  },
  {
   "cell_type": "code",
   "execution_count": 55,
   "metadata": {},
   "outputs": [
    {
     "name": "stdout",
     "output_type": "stream",
     "text": [
      "[('Java', 'MISC'), ('Python', 'MISC'), ('R', 'MISC')]\n"
     ]
    }
   ],
   "source": [
    "text = nlp_ita('io so usare bene Java e Python. ho qualche esperienza con R e ho fatto progetti di machine learning')\n",
    "print([(X.text, X.label_) for X in text.ents])"
   ]
  },
  {
   "cell_type": "markdown",
   "metadata": {},
   "source": [
    "## Test on the vacancies"
   ]
  },
  {
   "cell_type": "code",
   "execution_count": 57,
   "metadata": {},
   "outputs": [],
   "source": [
    "# !pip install -r requirements.txt\n",
    "import pandas as pd\n",
    "import matplotlib.pyplot as plt\n",
    "from wordcloud import WordCloud, STOPWORDS\n",
    "import matplotlib\n",
    "import re\n",
    "import nltk\n",
    "import numpy as np\n",
    "from IPython.display import Image\n",
    "import pickle\n",
    "from nltk import word_tokenize\n",
    "from nltk.corpus import stopwords\n",
    "from sklearn.model_selection import train_test_split\n",
    "from sklearn.feature_extraction.text import CountVectorizer\n",
    "from sklearn.naive_bayes import MultinomialNB\n",
    "# nltk.download('punkt')\n",
    "# nltk.download('stopwords')\n",
    "# nltk.download('words')"
   ]
  },
  {
   "cell_type": "code",
   "execution_count": 86,
   "metadata": {},
   "outputs": [
    {
     "data": {
      "text/plain": [
       "['LDAP',\n",
       " 'LINQ',\n",
       " 'MDX',\n",
       " 'N1QL',\n",
       " 'SPARQL',\n",
       " 'XQuery',\n",
       " 'business intelligence',\n",
       " 'dati non strutturati',\n",
       " 'valutazione della qualità dei dati']"
      ]
     },
     "execution_count": 86,
     "metadata": {},
     "output_type": "execute_result"
    }
   ],
   "source": [
    "professioni = pd.read_csv('data/professioni.csv')\n",
    "Conoscenze = professioni.Conoscenze.apply(lambda x: str(x).split('\\n'))\n",
    "Conoscenze.iloc[0]"
   ]
  },
  {
   "cell_type": "code",
   "execution_count": 98,
   "metadata": {},
   "outputs": [
    {
     "name": "stdout",
     "output_type": "stream",
     "text": [
      "[('SPARQL', 'MISC')]\n"
     ]
    }
   ],
   "source": [
    "text = nlp_ita(' '.join(Conoscenze.iloc[0]))\n",
    "print([(X.text, X.label_) for X in text.ents])"
   ]
  },
  {
   "cell_type": "code",
   "execution_count": 101,
   "metadata": {},
   "outputs": [
    {
     "data": {
      "text/plain": [
       "['Attuario',\n",
       " 'Data scientist',\n",
       " 'Esperto in ricerca operativa',\n",
       " 'Esperto ricerca operativa',\n",
       " 'Statistici',\n",
       " 'Statistico',\n",
       " 'Statistico applicato',\n",
       " 'Statistico economico',\n",
       " 'Statistico esperto in controlli di qualità',\n",
       " 'Statistico metodologico',\n",
       " '']"
      ]
     },
     "execution_count": 101,
     "metadata": {},
     "output_type": "execute_result"
    }
   ],
   "source": [
    "subgroup = professioni.Subgroup.apply(lambda x: x.split('\\n'))\n",
    "subgroup.iloc[0]"
   ]
  },
  {
   "cell_type": "code",
   "execution_count": 102,
   "metadata": {},
   "outputs": [
    {
     "name": "stdout",
     "output_type": "stream",
     "text": [
      "[('Data scientist Esperto', 'ORG'), ('Esperto', 'LOC'), ('Statistici Statistico Statistico', 'ORG'), ('Statistico economico Statistico', 'LOC'), ('Statistico', 'LOC')]\n"
     ]
    }
   ],
   "source": [
    "text = nlp_ita(' '.join(subgroup.iloc[0]))\n",
    "print([(X.text, X.label_) for X in text.ents])"
   ]
  },
  {
   "cell_type": "markdown",
   "metadata": {},
   "source": [
    "#### Does not work properly. Let's try something else"
   ]
  }
 ],
 "metadata": {
  "kernelspec": {
   "display_name": "Python 3",
   "language": "python",
   "name": "python3"
  },
  "language_info": {
   "codemirror_mode": {
    "name": "ipython",
    "version": 3
   },
   "file_extension": ".py",
   "mimetype": "text/x-python",
   "name": "python",
   "nbconvert_exporter": "python",
   "pygments_lexer": "ipython3",
   "version": "3.8.2"
  }
 },
 "nbformat": 4,
 "nbformat_minor": 4
}
